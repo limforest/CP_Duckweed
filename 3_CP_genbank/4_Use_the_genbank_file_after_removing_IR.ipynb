{
 "cells": [
  {
   "cell_type": "markdown",
   "metadata": {},
   "source": [
    "# Genbank file - matrix - make fasta file - phylogenetic tree(prank) (with definition fuction) (remove IR ver.)\n",
    "\n",
    "## From genbank file,  make dataframe and fasta file after remove Inverted Repeat(IR) with definition fuction \n",
    "\n",
    "https://warwick.ac.uk/fac/sci/moac/people/students/peter_cock/python/genbank/"
   ]
  },
  {
   "cell_type": "code",
   "execution_count": 1,
   "metadata": {},
   "outputs": [],
   "source": [
    "#genbank file 불러올때 사용\n",
    "from Bio import SeqIO\n",
    "#fasta file만들때 사용\n",
    "from Bio.Seq import Seq\n",
    "from Bio.SeqRecord import SeqRecord\n",
    "import pandas as pd\n",
    "#dataframe merge\n",
    "from functools import reduce\n",
    "#그림 그릴때 사용\n",
    "from Bio import Phylo\n",
    "import matplotlib # pip3 install matplotlib\n",
    "import matplotlib.pyplot as plt"
   ]
  },
  {
   "cell_type": "code",
   "execution_count": 2,
   "metadata": {},
   "outputs": [],
   "source": [
    "# get all sequence records for the specified genbank file\n",
    "t_gb_parse = [t_file for t_file in SeqIO.parse(\"gb file/tomato.gb\", \"genbank\")]"
   ]
  },
  {
   "cell_type": "code",
   "execution_count": 3,
   "metadata": {},
   "outputs": [
    {
     "name": "stdout",
     "output_type": "stream",
     "text": [
      "[SeqFeature(FeatureLocation(ExactPosition(0), ExactPosition(155461), strand=1), type='source'), SeqFeature(CompoundLocation([FeatureLocation(ExactPosition(71635), ExactPosition(71749), strand=-1), FeatureLocation(ExactPosition(99238), ExactPosition(100032), strand=-1)], 'join'), type='gene', location_operator='join'), SeqFeature(CompoundLocation([FeatureLocation(ExactPosition(71635), ExactPosition(71749), strand=-1), FeatureLocation(ExactPosition(99800), ExactPosition(100032), strand=-1), FeatureLocation(ExactPosition(99238), ExactPosition(99264), strand=-1)], 'join'), type='CDS', location_operator='join'), SeqFeature(FeatureLocation(ExactPosition(2), ExactPosition(77), strand=-1), type='gene'), SeqFeature(FeatureLocation(ExactPosition(2), ExactPosition(77), strand=-1), type='tRNA')]\n"
     ]
    }
   ],
   "source": [
    "for t_gb in t_gb_parse:\n",
    "    print(t_gb.features[0:5])"
   ]
  },
  {
   "cell_type": "code",
   "execution_count": 4,
   "metadata": {},
   "outputs": [],
   "source": [
    "# 응용할 코드\n",
    "\n",
    "def index_genbank_features(gb_record, feature_type, qualifier) :\n",
    "    answer = dict()\n",
    "    for (index, feature) in enumerate(gb_record.features) :\n",
    "        if feature.type==feature_type :\n",
    "            if qualifier in feature.qualifiers :\n",
    "                #There should only be one locus_tag per feature, but there\n",
    "                #are usually several db_xref entries\n",
    "                for value in feature.qualifiers[qualifier] :\n",
    "                    if value in answer :\n",
    "                        print(\"WARNING - Duplicate key %s for %s features %i and %i\" \\\n",
    "                           % (value, feature_type, answer[value], index))\n",
    "                    else :\n",
    "                        answer[value] = index\n",
    "    return answer"
   ]
  },
  {
   "cell_type": "code",
   "execution_count": 5,
   "metadata": {},
   "outputs": [
    {
     "name": "stdout",
     "output_type": "stream",
     "text": [
      "WARNING - Duplicate key rps12 for CDS features 2 and 153\n",
      "WARNING - Duplicate key rps7 for CDS features 216 and 287\n",
      "WARNING - Duplicate key ndhB for CDS features 212 and 289\n",
      "WARNING - Duplicate key ycf15 for CDS features 208 and 295\n",
      "WARNING - Duplicate key ycf2 for CDS features 206 and 297\n",
      "WARNING - Duplicate key rpl23 for CDS features 202 and 301\n",
      "WARNING - Duplicate key rpl2 for CDS features 198 and 303\n"
     ]
    },
    {
     "data": {
      "text/plain": [
       "{'rps12': 2,\n",
       " 'psbA': 6,\n",
       " 'matK': 10,\n",
       " 'rps16': 14,\n",
       " 'psbK': 20,\n",
       " 'psbI': 22,\n",
       " 'atpA': 32,\n",
       " 'atpF': 34,\n",
       " 'atpH': 38,\n",
       " 'atpI': 40,\n",
       " 'rps2': 42,\n",
       " 'rpoC2': 44,\n",
       " 'rpoC1': 46,\n",
       " 'rpoB': 50,\n",
       " 'petN': 54,\n",
       " 'psbM': 56,\n",
       " 'psbD': 66,\n",
       " 'psbC': 68,\n",
       " 'psbZ': 72,\n",
       " 'rps14': 78,\n",
       " 'psaB': 80,\n",
       " 'psaA': 82,\n",
       " 'ycf3': 84,\n",
       " 'rps4': 91,\n",
       " 'ndhJ': 101,\n",
       " 'ndhK': 103,\n",
       " 'ndhC': 105,\n",
       " 'atpE': 113,\n",
       " 'atpB': 115,\n",
       " 'rbcL': 117,\n",
       " 'accD': 119,\n",
       " 'psaI': 121,\n",
       " 'ycf4': 123,\n",
       " 'cemA': 125,\n",
       " 'petA': 127,\n",
       " 'psbJ': 129,\n",
       " 'psbL': 131,\n",
       " 'psbF': 133,\n",
       " 'psbE': 135,\n",
       " 'petL': 137,\n",
       " 'petG': 139,\n",
       " 'psaJ': 145,\n",
       " 'rpl33': 147,\n",
       " 'rps18': 149,\n",
       " 'rpl20': 151,\n",
       " 'clpP': 155,\n",
       " 'psbB': 160,\n",
       " 'psbT': 162,\n",
       " 'psbN': 164,\n",
       " 'psbH': 166,\n",
       " 'petB': 168,\n",
       " 'petD': 172,\n",
       " 'rpoA': 176,\n",
       " 'rps11': 178,\n",
       " 'rpl36': 180,\n",
       " 'infA': 182,\n",
       " 'rps8': 184,\n",
       " 'rpl14': 186,\n",
       " 'rpl16': 188,\n",
       " 'rps3': 192,\n",
       " 'rpl22': 194,\n",
       " 'rps19': 196,\n",
       " 'rpl2': 198,\n",
       " 'rpl23': 202,\n",
       " 'ycf2': 206,\n",
       " 'ycf15': 208,\n",
       " 'ndhB': 212,\n",
       " 'rps7': 216,\n",
       " 'ndhF': 239,\n",
       " 'rpl32': 241,\n",
       " 'ccsA': 245,\n",
       " 'ndhD': 247,\n",
       " 'psaC': 249,\n",
       " 'ndhE': 251,\n",
       " 'ndhG': 253,\n",
       " 'ndhI': 255,\n",
       " 'ndhA': 257,\n",
       " 'ndhH': 261,\n",
       " 'rps15': 263,\n",
       " 'ycf1': 265}"
      ]
     },
     "execution_count": 5,
     "metadata": {},
     "output_type": "execute_result"
    }
   ],
   "source": [
    "index_genbank_features(t_gb, 'CDS', 'gene')\n",
    "\n",
    "# WARNING 부분이 IR을 나타내어 줌 (어떤 gene이 어느 feature index에 위치하는지)"
   ]
  },
  {
   "cell_type": "code",
   "execution_count": 6,
   "metadata": {},
   "outputs": [
    {
     "name": "stdout",
     "output_type": "stream",
     "text": [
      "['rps12']\n",
      "['rps12']\n"
     ]
    }
   ],
   "source": [
    "print(t_gb.features[2].qualifiers['gene'])\n",
    "print(t_gb.features[153].qualifiers['gene'])\n",
    "\n",
    "# WARNING의 index를 참조해 gene name을 보니 동일한 gene이 맞다"
   ]
  },
  {
   "cell_type": "code",
   "execution_count": 7,
   "metadata": {},
   "outputs": [
    {
     "name": "stdout",
     "output_type": "stream",
     "text": [
      "type: CDS\n",
      "location: join{[71635:71749](-), [99800:100032](-), [99238:99264](-)}\n",
      "qualifiers:\n",
      "    Key: codon_start, Value: ['1']\n",
      "    Key: gene, Value: ['rps12']\n",
      "    Key: product, Value: ['ribosomal protein S12']\n",
      "    Key: protein_id, Value: ['ABC56347.1']\n",
      "    Key: trans_splicing, Value: ['']\n",
      "    Key: transl_table, Value: ['11']\n",
      "    Key: translation, Value: ['MPTIKQLIRNTRQPIRNVTKSPALRGCPQRRGTCTRVYTITPKKPNSALRKVARVRLTSGFEITAYIPGIGHNSQEHSVVLVRGGRVKDLPGVRYHIVRGTLDAVGVKDRQQGRSKYGVKKPK']\n",
      "\n",
      "type: CDS\n",
      "location: join{[71635:71749](-), [141305:141537](+), [142073:142099](+)}\n",
      "qualifiers:\n",
      "    Key: codon_start, Value: ['1']\n",
      "    Key: gene, Value: ['rps12']\n",
      "    Key: product, Value: ['ribosomal protein S12']\n",
      "    Key: protein_id, Value: ['ABC56360.1']\n",
      "    Key: trans_splicing, Value: ['']\n",
      "    Key: transl_table, Value: ['11']\n",
      "    Key: translation, Value: ['MPTIKQLIRNTRQPIRNVTKSPALRGCPQRRGTCTRVYTITPKKPNSALRKVARVRLTSGFEITAYIPGIGHNSQEHSVVLVRGGRVKDLPGVRYHIVRGTLDAVGVKDRQQGRSKYGVKKPK']\n",
      "\n"
     ]
    }
   ],
   "source": [
    "print(t_gb.features[2])\n",
    "print(t_gb.features[153])\n",
    "\n",
    "# 동일한 gene의 feature를 print해보니 동일한 sequence가 각각 다른 위치에 존재함을 볼 수 있음"
   ]
  },
  {
   "cell_type": "code",
   "execution_count": 8,
   "metadata": {},
   "outputs": [],
   "source": [
    "# 위의 def 코드 응용\n",
    "\n",
    "CDS_dic = {}\n",
    "IR_list = []\n",
    "\n",
    "for t_gb in t_gb_parse :\n",
    "    for (index, feature) in enumerate(t_gb.features) :\n",
    "        if feature.type == 'CDS' :\n",
    "            for value in feature.qualifiers['gene'] :\n",
    "                if value in CDS_dic :\n",
    "                    IR_list.append(value)\n",
    "                else :\n",
    "                    CDS_dic[value] = index"
   ]
  },
  {
   "cell_type": "code",
   "execution_count": 9,
   "metadata": {},
   "outputs": [
    {
     "data": {
      "text/plain": [
       "['rps12', 'rps7', 'ndhB', 'ycf15', 'ycf2', 'rpl23', 'rpl2']"
      ]
     },
     "execution_count": 9,
     "metadata": {},
     "output_type": "execute_result"
    }
   ],
   "source": [
    "IR_list\n",
    "\n",
    "# 위의 def 코드에서 print결과값에 있던 warning 부분의 gene들이 모두 모임"
   ]
  },
  {
   "cell_type": "code",
   "execution_count": 10,
   "metadata": {},
   "outputs": [
    {
     "name": "stdout",
     "output_type": "stream",
     "text": [
      "0 type: source\n",
      "location: [0:155461](+)\n",
      "qualifiers:\n",
      "    Key: cultivar, Value: ['LA3023']\n",
      "    Key: db_xref, Value: ['taxon:4081']\n",
      "    Key: mol_type, Value: ['genomic DNA']\n",
      "    Key: note, Value: ['common: tomato; authority: Lycopersicon esculentum (L.)']\n",
      "    Key: organelle, Value: ['plastid:chloroplast']\n",
      "    Key: organism, Value: ['Solanum lycopersicum']\n",
      "    Key: specimen_voucher, Value: ['Clemson University Genomics Institute']\n",
      "\n",
      "1 type: gene\n",
      "location: join{[71635:71749](-), [99238:100032](-)}\n",
      "qualifiers:\n",
      "    Key: gene, Value: ['rps12']\n",
      "    Key: trans_splicing, Value: ['']\n",
      "\n",
      "2 type: CDS\n",
      "location: join{[71635:71749](-), [99800:100032](-), [99238:99264](-)}\n",
      "qualifiers:\n",
      "    Key: codon_start, Value: ['1']\n",
      "    Key: gene, Value: ['rps12']\n",
      "    Key: product, Value: ['ribosomal protein S12']\n",
      "    Key: protein_id, Value: ['ABC56347.1']\n",
      "    Key: trans_splicing, Value: ['']\n",
      "    Key: transl_table, Value: ['11']\n",
      "    Key: translation, Value: ['MPTIKQLIRNTRQPIRNVTKSPALRGCPQRRGTCTRVYTITPKKPNSALRKVARVRLTSGFEITAYIPGIGHNSQEHSVVLVRGGRVKDLPGVRYHIVRGTLDAVGVKDRQQGRSKYGVKKPK']\n",
      "\n",
      "3 type: gene\n",
      "location: [2:77](-)\n",
      "qualifiers:\n",
      "    Key: gene, Value: ['trnH-GUG']\n",
      "\n",
      "4 type: tRNA\n",
      "location: [2:77](-)\n",
      "qualifiers:\n",
      "    Key: gene, Value: ['trnH-GUG']\n",
      "    Key: note, Value: ['anticodon:GUG']\n",
      "    Key: product, Value: ['tRNA-His']\n",
      "\n"
     ]
    }
   ],
   "source": [
    "for t_gb in t_gb_parse :\n",
    "    for (index, feature) in enumerate(t_gb.features[0:5]) :\n",
    "        print(index, feature)\n",
    "        \n",
    "# type 앞에 index 숫자가 붙었고, feature 들이 나열되어 짐\n",
    "# 이 feature들 중 type이 CDS인 것만 거르고 CDS_dic에 gene이 key, index가 value의 쌍을 갖도록 하고, 이미 dictionary에 있는 gene이면 IR임을 이용해 IR을 찾아내는 것"
   ]
  },
  {
   "cell_type": "code",
   "execution_count": 11,
   "metadata": {},
   "outputs": [
    {
     "data": {
      "text/plain": [
       "{'rps12': 2,\n",
       " 'psbA': 6,\n",
       " 'matK': 10,\n",
       " 'rps16': 14,\n",
       " 'psbK': 20,\n",
       " 'psbI': 22,\n",
       " 'atpA': 32,\n",
       " 'atpF': 34,\n",
       " 'atpH': 38,\n",
       " 'atpI': 40,\n",
       " 'rps2': 42,\n",
       " 'rpoC2': 44,\n",
       " 'rpoC1': 46,\n",
       " 'rpoB': 50,\n",
       " 'petN': 54,\n",
       " 'psbM': 56,\n",
       " 'psbD': 66,\n",
       " 'psbC': 68,\n",
       " 'psbZ': 72,\n",
       " 'rps14': 78,\n",
       " 'psaB': 80,\n",
       " 'psaA': 82,\n",
       " 'ycf3': 84,\n",
       " 'rps4': 91,\n",
       " 'ndhJ': 101,\n",
       " 'ndhK': 103,\n",
       " 'ndhC': 105,\n",
       " 'atpE': 113,\n",
       " 'atpB': 115,\n",
       " 'rbcL': 117,\n",
       " 'accD': 119,\n",
       " 'psaI': 121,\n",
       " 'ycf4': 123,\n",
       " 'cemA': 125,\n",
       " 'petA': 127,\n",
       " 'psbJ': 129,\n",
       " 'psbL': 131,\n",
       " 'psbF': 133,\n",
       " 'psbE': 135,\n",
       " 'petL': 137,\n",
       " 'petG': 139,\n",
       " 'psaJ': 145,\n",
       " 'rpl33': 147,\n",
       " 'rps18': 149,\n",
       " 'rpl20': 151,\n",
       " 'clpP': 155,\n",
       " 'psbB': 160,\n",
       " 'psbT': 162,\n",
       " 'psbN': 164,\n",
       " 'psbH': 166,\n",
       " 'petB': 168,\n",
       " 'petD': 172,\n",
       " 'rpoA': 176,\n",
       " 'rps11': 178,\n",
       " 'rpl36': 180,\n",
       " 'infA': 182,\n",
       " 'rps8': 184,\n",
       " 'rpl14': 186,\n",
       " 'rpl16': 188,\n",
       " 'rps3': 192,\n",
       " 'rpl22': 194,\n",
       " 'rps19': 196,\n",
       " 'rpl2': 198,\n",
       " 'rpl23': 202,\n",
       " 'ycf2': 206,\n",
       " 'ycf15': 208,\n",
       " 'ndhB': 212,\n",
       " 'rps7': 216,\n",
       " 'ndhF': 239,\n",
       " 'rpl32': 241,\n",
       " 'ccsA': 245,\n",
       " 'ndhD': 247,\n",
       " 'psaC': 249,\n",
       " 'ndhE': 251,\n",
       " 'ndhG': 253,\n",
       " 'ndhI': 255,\n",
       " 'ndhA': 257,\n",
       " 'ndhH': 261,\n",
       " 'rps15': 263,\n",
       " 'ycf1': 265}"
      ]
     },
     "execution_count": 11,
     "metadata": {},
     "output_type": "execute_result"
    }
   ],
   "source": [
    "CDS_dic \n",
    "\n",
    "#위의 def 코드의 answer dictionary 결과값과 비교해보니 동일, IR은 index값이 빠른 한 쌍만 존재"
   ]
  },
  {
   "cell_type": "code",
   "execution_count": 12,
   "metadata": {},
   "outputs": [],
   "source": [
    "# del dic['']\n",
    "# dictionary의 지우고싶은 key와 value 쌍을 key값 입력시 지워주는 기능을 이용해 IR을 없앨 계획"
   ]
  },
  {
   "cell_type": "code",
   "execution_count": 13,
   "metadata": {},
   "outputs": [],
   "source": [
    "# 어떤 흐름으로 할지 틀을 짜봄\n",
    "\n",
    "def make_df_without_IR_test(genbank_file_root) :\n",
    "    gb_parse = [file for file in SeqIO.parse(genbank_file_root, \"genbank\")]\n",
    "    \n",
    "    index_dic = {}\n",
    "    CDS_dic = {}\n",
    "    IR_list = []\n",
    "    \n",
    "    name = genbank_file_root.split('/')[-1].split('.gb')[0]\n",
    "    for gb in gb_parse :\n",
    "        for (index, feature) in enumerate(gb.features) :\n",
    "            if feature.type == 'CDS' :\n",
    "                for value in feature.qualifiers['gene'] :\n",
    "                    if value in index_dic :\n",
    "                        IR_list.append(value)\n",
    "                    else :\n",
    "                        index_dic[value] = index\n",
    "                        \n",
    "        feats = [feat for feat in gb.features if feat.type == \"CDS\"]\n",
    "        for feat in feats :\n",
    "            try :\n",
    "                key = feat.qualifiers['gene'][0]\n",
    "                value = str(feat.location.extract(parent_sequence = gb.seq).translate(table=11, to_stop=True))\n",
    "                CDS_dic[key] = value\n",
    "            except KeyError :\n",
    "                pass\n",
    "    \n",
    "    for IR in IR_list :\n",
    "        del CDS_dic[IR]\n",
    "            \n",
    "    df_CDS = pd.DataFrame(list(CDS_dic.items()), columns=['Gene name', '%s'%name])\n",
    "    return(df_CDS)"
   ]
  },
  {
   "cell_type": "code",
   "execution_count": 14,
   "metadata": {},
   "outputs": [],
   "source": [
    "df_t_CDS_test = make_df_without_IR_test('./gb file/tomato.gb')"
   ]
  },
  {
   "cell_type": "code",
   "execution_count": 15,
   "metadata": {},
   "outputs": [
    {
     "data": {
      "text/html": [
       "<div>\n",
       "<style scoped>\n",
       "    .dataframe tbody tr th:only-of-type {\n",
       "        vertical-align: middle;\n",
       "    }\n",
       "\n",
       "    .dataframe tbody tr th {\n",
       "        vertical-align: top;\n",
       "    }\n",
       "\n",
       "    .dataframe thead th {\n",
       "        text-align: right;\n",
       "    }\n",
       "</style>\n",
       "<table border=\"1\" class=\"dataframe\">\n",
       "  <thead>\n",
       "    <tr style=\"text-align: right;\">\n",
       "      <th></th>\n",
       "      <th>Gene name</th>\n",
       "      <th>tomato</th>\n",
       "    </tr>\n",
       "  </thead>\n",
       "  <tbody>\n",
       "    <tr>\n",
       "      <th>0</th>\n",
       "      <td>psbA</td>\n",
       "      <td>MTAILERRESESLWGRFCNWITSTENRLYIGWFGVLMIPTLLTATS...</td>\n",
       "    </tr>\n",
       "    <tr>\n",
       "      <th>1</th>\n",
       "      <td>matK</td>\n",
       "      <td>MEEIHRYLQPDSSQQHNFLYPLIFQEYIYALAQDHGLNRNRSILLE...</td>\n",
       "    </tr>\n",
       "    <tr>\n",
       "      <th>2</th>\n",
       "      <td>rps16</td>\n",
       "      <td>MVKLRLKRCGRKQRAVYRIVAIDVRSRREGKDLQKVGFYDPIKNQT...</td>\n",
       "    </tr>\n",
       "    <tr>\n",
       "      <th>3</th>\n",
       "      <td>psbK</td>\n",
       "      <td>MLNTFSLIGICLNSTLYSSSFFFGKLPEAYAFLNPIVDIMPVIPLF...</td>\n",
       "    </tr>\n",
       "    <tr>\n",
       "      <th>4</th>\n",
       "      <td>psbI</td>\n",
       "      <td>MLTLKLFVYTVVIFFVSLFIFGFLSNDPGRNPGREE</td>\n",
       "    </tr>\n",
       "  </tbody>\n",
       "</table>\n",
       "</div>"
      ],
      "text/plain": [
       "  Gene name                                             tomato\n",
       "0      psbA  MTAILERRESESLWGRFCNWITSTENRLYIGWFGVLMIPTLLTATS...\n",
       "1      matK  MEEIHRYLQPDSSQQHNFLYPLIFQEYIYALAQDHGLNRNRSILLE...\n",
       "2     rps16  MVKLRLKRCGRKQRAVYRIVAIDVRSRREGKDLQKVGFYDPIKNQT...\n",
       "3      psbK  MLNTFSLIGICLNSTLYSSSFFFGKLPEAYAFLNPIVDIMPVIPLF...\n",
       "4      psbI               MLTLKLFVYTVVIFFVSLFIFGFLSNDPGRNPGREE"
      ]
     },
     "execution_count": 15,
     "metadata": {},
     "output_type": "execute_result"
    }
   ],
   "source": [
    "df_t_CDS_test.head()"
   ]
  },
  {
   "cell_type": "code",
   "execution_count": 16,
   "metadata": {},
   "outputs": [
    {
     "data": {
      "text/plain": [
       "(73, 2)"
      ]
     },
     "execution_count": 16,
     "metadata": {},
     "output_type": "execute_result"
    }
   ],
   "source": [
    "df_t_CDS_test.shape\n",
    "\n",
    "# 3_Use_the_genbank_file_with_def 편을 참조하면, IR을 없애기전 tomato의 dataframe shape는 (80, 2)이었음\n",
    "# IR_list의 7개 모두가 삭제되었다고 예상해볼 수 있음"
   ]
  },
  {
   "cell_type": "code",
   "execution_count": 17,
   "metadata": {},
   "outputs": [],
   "source": [
    "test_m_IR = df_t_CDS_test['Gene name'] == 'rps12'"
   ]
  },
  {
   "cell_type": "code",
   "execution_count": 18,
   "metadata": {},
   "outputs": [
    {
     "data": {
      "text/plain": [
       "Series([], Name: Gene name, dtype: object)"
      ]
     },
     "execution_count": 18,
     "metadata": {},
     "output_type": "execute_result"
    }
   ],
   "source": [
    "df_t_CDS_test['Gene name'][test_m_IR]"
   ]
  },
  {
   "cell_type": "code",
   "execution_count": 19,
   "metadata": {},
   "outputs": [],
   "source": [
    "test_m_gene = df_t_CDS_test['Gene name'] == 'psbA'"
   ]
  },
  {
   "cell_type": "code",
   "execution_count": 20,
   "metadata": {},
   "outputs": [
    {
     "data": {
      "text/plain": [
       "0    psbA\n",
       "Name: Gene name, dtype: object"
      ]
     },
     "execution_count": 20,
     "metadata": {},
     "output_type": "execute_result"
    }
   ],
   "source": [
    "df_t_CDS_test['Gene name'][test_m_gene]"
   ]
  },
  {
   "cell_type": "code",
   "execution_count": 21,
   "metadata": {},
   "outputs": [],
   "source": [
    "# IR이 성공적으로 지워졌음을 볼 수 있다"
   ]
  },
  {
   "cell_type": "code",
   "execution_count": 22,
   "metadata": {},
   "outputs": [],
   "source": [
    "# 코드 다듬기\n",
    "\n",
    "def make_df_without_IR(genbank_file_root) :\n",
    "    gb_parse = [file for file in SeqIO.parse(genbank_file_root, \"genbank\")]\n",
    "    \n",
    "    CDS_dic = {}\n",
    "    IR_list = []\n",
    "    \n",
    "    name = genbank_file_root.split('/')[-1].split('.gb')[0]\n",
    "    for gb in gb_parse :\n",
    "        for feature in gb.features :\n",
    "            if feature.type == 'CDS' :\n",
    "                for gene in feature.qualifiers['gene'] :\n",
    "                    if gene in CDS_dic :\n",
    "                        IR_list.append(gene)\n",
    "                    else :\n",
    "                        try :\n",
    "                            CDS_dic[gene] = str(feature.location.extract(parent_sequence = gb.seq).translate(table=11, to_stop=True))\n",
    "                        except KeyError :\n",
    "                            pass\n",
    "                        \n",
    "    for IR in IR_list :\n",
    "        del CDS_dic[IR]\n",
    "        \n",
    "    df_CDS = pd.DataFrame(list(CDS_dic.items()), columns=['Gene name', '%s'%name])\n",
    "    return(df_CDS)"
   ]
  },
  {
   "cell_type": "code",
   "execution_count": 23,
   "metadata": {},
   "outputs": [],
   "source": [
    "df_t_CDS = make_df_without_IR('./gb file/tomato.gb')"
   ]
  },
  {
   "cell_type": "code",
   "execution_count": 24,
   "metadata": {},
   "outputs": [
    {
     "data": {
      "text/html": [
       "<div>\n",
       "<style scoped>\n",
       "    .dataframe tbody tr th:only-of-type {\n",
       "        vertical-align: middle;\n",
       "    }\n",
       "\n",
       "    .dataframe tbody tr th {\n",
       "        vertical-align: top;\n",
       "    }\n",
       "\n",
       "    .dataframe thead th {\n",
       "        text-align: right;\n",
       "    }\n",
       "</style>\n",
       "<table border=\"1\" class=\"dataframe\">\n",
       "  <thead>\n",
       "    <tr style=\"text-align: right;\">\n",
       "      <th></th>\n",
       "      <th>Gene name</th>\n",
       "      <th>tomato</th>\n",
       "    </tr>\n",
       "  </thead>\n",
       "  <tbody>\n",
       "    <tr>\n",
       "      <th>0</th>\n",
       "      <td>psbA</td>\n",
       "      <td>MTAILERRESESLWGRFCNWITSTENRLYIGWFGVLMIPTLLTATS...</td>\n",
       "    </tr>\n",
       "    <tr>\n",
       "      <th>1</th>\n",
       "      <td>matK</td>\n",
       "      <td>MEEIHRYLQPDSSQQHNFLYPLIFQEYIYALAQDHGLNRNRSILLE...</td>\n",
       "    </tr>\n",
       "    <tr>\n",
       "      <th>2</th>\n",
       "      <td>rps16</td>\n",
       "      <td>MVKLRLKRCGRKQRAVYRIVAIDVRSRREGKDLQKVGFYDPIKNQT...</td>\n",
       "    </tr>\n",
       "    <tr>\n",
       "      <th>3</th>\n",
       "      <td>psbK</td>\n",
       "      <td>MLNTFSLIGICLNSTLYSSSFFFGKLPEAYAFLNPIVDIMPVIPLF...</td>\n",
       "    </tr>\n",
       "    <tr>\n",
       "      <th>4</th>\n",
       "      <td>psbI</td>\n",
       "      <td>MLTLKLFVYTVVIFFVSLFIFGFLSNDPGRNPGREE</td>\n",
       "    </tr>\n",
       "  </tbody>\n",
       "</table>\n",
       "</div>"
      ],
      "text/plain": [
       "  Gene name                                             tomato\n",
       "0      psbA  MTAILERRESESLWGRFCNWITSTENRLYIGWFGVLMIPTLLTATS...\n",
       "1      matK  MEEIHRYLQPDSSQQHNFLYPLIFQEYIYALAQDHGLNRNRSILLE...\n",
       "2     rps16  MVKLRLKRCGRKQRAVYRIVAIDVRSRREGKDLQKVGFYDPIKNQT...\n",
       "3      psbK  MLNTFSLIGICLNSTLYSSSFFFGKLPEAYAFLNPIVDIMPVIPLF...\n",
       "4      psbI               MLTLKLFVYTVVIFFVSLFIFGFLSNDPGRNPGREE"
      ]
     },
     "execution_count": 24,
     "metadata": {},
     "output_type": "execute_result"
    }
   ],
   "source": [
    "df_t_CDS.head()"
   ]
  },
  {
   "cell_type": "code",
   "execution_count": 25,
   "metadata": {},
   "outputs": [
    {
     "data": {
      "text/plain": [
       "(73, 2)"
      ]
     },
     "execution_count": 25,
     "metadata": {},
     "output_type": "execute_result"
    }
   ],
   "source": [
    "df_t_CDS.shape"
   ]
  },
  {
   "cell_type": "code",
   "execution_count": 26,
   "metadata": {},
   "outputs": [],
   "source": [
    "m_IR = df_t_CDS['Gene name'] == 'rps12'"
   ]
  },
  {
   "cell_type": "code",
   "execution_count": 27,
   "metadata": {},
   "outputs": [
    {
     "data": {
      "text/plain": [
       "Series([], Name: Gene name, dtype: object)"
      ]
     },
     "execution_count": 27,
     "metadata": {},
     "output_type": "execute_result"
    }
   ],
   "source": [
    "df_t_CDS['Gene name'][m_IR]"
   ]
  },
  {
   "cell_type": "code",
   "execution_count": 28,
   "metadata": {},
   "outputs": [],
   "source": [
    "m_gene = df_t_CDS['Gene name'] == 'psbA'"
   ]
  },
  {
   "cell_type": "code",
   "execution_count": 29,
   "metadata": {},
   "outputs": [
    {
     "data": {
      "text/plain": [
       "0    psbA\n",
       "Name: Gene name, dtype: object"
      ]
     },
     "execution_count": 29,
     "metadata": {},
     "output_type": "execute_result"
    }
   ],
   "source": [
    "df_t_CDS['Gene name'][m_gene]"
   ]
  },
  {
   "cell_type": "code",
   "execution_count": 30,
   "metadata": {},
   "outputs": [],
   "source": [
    "# IR 지우기 성공!"
   ]
  },
  {
   "cell_type": "code",
   "execution_count": 33,
   "metadata": {},
   "outputs": [
    {
     "ename": "KeyError",
     "evalue": "'gene'",
     "output_type": "error",
     "traceback": [
      "\u001b[0;31m---------------------------------------------------------------------------\u001b[0m",
      "\u001b[0;31mKeyError\u001b[0m                                  Traceback (most recent call last)",
      "\u001b[0;32m<ipython-input-33-aba6ef517a5b>\u001b[0m in \u001b[0;36m<module>\u001b[0;34m\u001b[0m\n\u001b[0;32m----> 1\u001b[0;31m \u001b[0mdf_CDS\u001b[0m \u001b[0;34m=\u001b[0m \u001b[0mmake_df_without_IR\u001b[0m\u001b[0;34m(\u001b[0m\u001b[0;34m'./gb file/P.patens.gb'\u001b[0m\u001b[0;34m)\u001b[0m\u001b[0;34m\u001b[0m\u001b[0;34m\u001b[0m\u001b[0m\n\u001b[0m",
      "\u001b[0;32m<ipython-input-22-58407f52f227>\u001b[0m in \u001b[0;36mmake_df_without_IR\u001b[0;34m(genbank_file_root)\u001b[0m\n\u001b[1;32m     11\u001b[0m         \u001b[0;32mfor\u001b[0m \u001b[0mfeature\u001b[0m \u001b[0;32min\u001b[0m \u001b[0mgb\u001b[0m\u001b[0;34m.\u001b[0m\u001b[0mfeatures\u001b[0m \u001b[0;34m:\u001b[0m\u001b[0;34m\u001b[0m\u001b[0;34m\u001b[0m\u001b[0m\n\u001b[1;32m     12\u001b[0m             \u001b[0;32mif\u001b[0m \u001b[0mfeature\u001b[0m\u001b[0;34m.\u001b[0m\u001b[0mtype\u001b[0m \u001b[0;34m==\u001b[0m \u001b[0;34m'CDS'\u001b[0m \u001b[0;34m:\u001b[0m\u001b[0;34m\u001b[0m\u001b[0;34m\u001b[0m\u001b[0m\n\u001b[0;32m---> 13\u001b[0;31m                 \u001b[0;32mfor\u001b[0m \u001b[0mgene\u001b[0m \u001b[0;32min\u001b[0m \u001b[0mfeature\u001b[0m\u001b[0;34m.\u001b[0m\u001b[0mqualifiers\u001b[0m\u001b[0;34m[\u001b[0m\u001b[0;34m'gene'\u001b[0m\u001b[0;34m]\u001b[0m \u001b[0;34m:\u001b[0m\u001b[0;34m\u001b[0m\u001b[0;34m\u001b[0m\u001b[0m\n\u001b[0m\u001b[1;32m     14\u001b[0m                     \u001b[0;32mif\u001b[0m \u001b[0mgene\u001b[0m \u001b[0;32min\u001b[0m \u001b[0mCDS_dic\u001b[0m \u001b[0;34m:\u001b[0m\u001b[0;34m\u001b[0m\u001b[0;34m\u001b[0m\u001b[0m\n\u001b[1;32m     15\u001b[0m                         \u001b[0mIR_list\u001b[0m\u001b[0;34m.\u001b[0m\u001b[0mappend\u001b[0m\u001b[0;34m(\u001b[0m\u001b[0mgene\u001b[0m\u001b[0;34m)\u001b[0m\u001b[0;34m\u001b[0m\u001b[0;34m\u001b[0m\u001b[0m\n",
      "\u001b[0;31mKeyError\u001b[0m: 'gene'"
     ]
    }
   ],
   "source": [
    "df_p_CDS = make_df_without_IR('./gb file/P.patens.gb')\n",
    "\n",
    "# 2_Use_the_genbank_file에서 보았듯이, '/gene=\"rps7\"'과 같이 표기되어 있는 것이 아닌 '/note=\"trans splicing 5'rps12 and 3'rps12\"' 로 표기되어 있는 것도 있음, 이러한 부분때문에 error 발생"
   ]
  },
  {
   "cell_type": "code",
   "execution_count": 34,
   "metadata": {},
   "outputs": [],
   "source": [
    "# 코드 다시 다듬기\n",
    "def make_df_without_IR(genbank_file_root) :\n",
    "    gb_parse = [file for file in SeqIO.parse(genbank_file_root, \"genbank\")]\n",
    "    \n",
    "    CDS_dic = {}\n",
    "    IR_list = []\n",
    "    \n",
    "    name = genbank_file_root.split('/')[-1].split('.gb')[0]\n",
    "    for gb in gb_parse :\n",
    "        for feature in gb.features :\n",
    "            if feature.type == 'CDS' :\n",
    "                try :\n",
    "                    for gene in feature.qualifiers['gene'] :\n",
    "                        if gene in CDS_dic :\n",
    "                            IR_list.append(gene)\n",
    "                        else :\n",
    "                            CDS_dic[gene] = str(feature.location.extract(parent_sequence = gb.seq).translate(table=11, to_stop=True))\n",
    "                except KeyError :\n",
    "                    pass\n",
    "                        \n",
    "    for IR in IR_list :\n",
    "        del CDS_dic[IR]\n",
    "        \n",
    "    df_CDS = pd.DataFrame(list(CDS_dic.items()), columns=['Gene name', '%s'%name])\n",
    "    return(df_CDS)"
   ]
  },
  {
   "cell_type": "code",
   "execution_count": 35,
   "metadata": {},
   "outputs": [],
   "source": [
    "df_p_CDS = make_df_without_IR('./gb file/P.patens.gb')\n",
    "\n",
    "# error 없이 잘 작동!"
   ]
  },
  {
   "cell_type": "code",
   "execution_count": 69,
   "metadata": {},
   "outputs": [],
   "source": [
    "# 3_Use_the_genbank_file_with_def 편에 만들었던 dataframe shape와 IR이 없어진 dataframe shape를 비교해보고 싶어 IR_list의 gene 이름과 gene 갯수도 print도 하게 해줌\n",
    "\n",
    "def make_df_without_IR_print(genbank_file_root) :\n",
    "    gb_parse = [file for file in SeqIO.parse(genbank_file_root, \"genbank\")]\n",
    "    \n",
    "    CDS_dic = {}\n",
    "    IR_list = []\n",
    "    \n",
    "    name = genbank_file_root.split('/')[-1].split('.gb')[0]\n",
    "    for gb in gb_parse :\n",
    "        for feature in gb.features :\n",
    "            if feature.type == 'CDS' :\n",
    "                try :\n",
    "                    for gene in feature.qualifiers['gene'] :\n",
    "                        if gene in CDS_dic :\n",
    "                            IR_list.append(gene)\n",
    "                        else :\n",
    "                            CDS_dic[gene] = str(feature.location.extract(parent_sequence = gb.seq).translate(table=11, to_stop=True))\n",
    "                except KeyError :\n",
    "                    pass\n",
    "    \n",
    "    print('IR list : %s'%(IR_list))\n",
    "    print('The number of IR : %i'%(len(IR_list)))\n",
    "    \n",
    "    for IR in IR_list :\n",
    "        del CDS_dic[IR]\n",
    "        \n",
    "    df_CDS = pd.DataFrame(list(CDS_dic.items()), columns=['Gene name', '%s'%name])\n",
    "    return(df_CDS)"
   ]
  },
  {
   "cell_type": "code",
   "execution_count": 70,
   "metadata": {},
   "outputs": [
    {
     "name": "stdout",
     "output_type": "stream",
     "text": [
      "IR list : ['rps12', 'rps7', 'ndhB', 'ycf15', 'ycf2', 'rpl23', 'rpl2']\n",
      "The number of IR : 7\n"
     ]
    }
   ],
   "source": [
    "df_t_CDS = make_df_without_IR_print('./gb file/tomato.gb')"
   ]
  },
  {
   "cell_type": "code",
   "execution_count": 71,
   "metadata": {},
   "outputs": [
    {
     "data": {
      "text/html": [
       "<div>\n",
       "<style scoped>\n",
       "    .dataframe tbody tr th:only-of-type {\n",
       "        vertical-align: middle;\n",
       "    }\n",
       "\n",
       "    .dataframe tbody tr th {\n",
       "        vertical-align: top;\n",
       "    }\n",
       "\n",
       "    .dataframe thead th {\n",
       "        text-align: right;\n",
       "    }\n",
       "</style>\n",
       "<table border=\"1\" class=\"dataframe\">\n",
       "  <thead>\n",
       "    <tr style=\"text-align: right;\">\n",
       "      <th></th>\n",
       "      <th>Gene name</th>\n",
       "      <th>tomato</th>\n",
       "    </tr>\n",
       "  </thead>\n",
       "  <tbody>\n",
       "    <tr>\n",
       "      <th>0</th>\n",
       "      <td>psbA</td>\n",
       "      <td>MTAILERRESESLWGRFCNWITSTENRLYIGWFGVLMIPTLLTATS...</td>\n",
       "    </tr>\n",
       "    <tr>\n",
       "      <th>1</th>\n",
       "      <td>matK</td>\n",
       "      <td>MEEIHRYLQPDSSQQHNFLYPLIFQEYIYALAQDHGLNRNRSILLE...</td>\n",
       "    </tr>\n",
       "    <tr>\n",
       "      <th>2</th>\n",
       "      <td>rps16</td>\n",
       "      <td>MVKLRLKRCGRKQRAVYRIVAIDVRSRREGKDLQKVGFYDPIKNQT...</td>\n",
       "    </tr>\n",
       "    <tr>\n",
       "      <th>3</th>\n",
       "      <td>psbK</td>\n",
       "      <td>MLNTFSLIGICLNSTLYSSSFFFGKLPEAYAFLNPIVDIMPVIPLF...</td>\n",
       "    </tr>\n",
       "    <tr>\n",
       "      <th>4</th>\n",
       "      <td>psbI</td>\n",
       "      <td>MLTLKLFVYTVVIFFVSLFIFGFLSNDPGRNPGREE</td>\n",
       "    </tr>\n",
       "  </tbody>\n",
       "</table>\n",
       "</div>"
      ],
      "text/plain": [
       "  Gene name                                             tomato\n",
       "0      psbA  MTAILERRESESLWGRFCNWITSTENRLYIGWFGVLMIPTLLTATS...\n",
       "1      matK  MEEIHRYLQPDSSQQHNFLYPLIFQEYIYALAQDHGLNRNRSILLE...\n",
       "2     rps16  MVKLRLKRCGRKQRAVYRIVAIDVRSRREGKDLQKVGFYDPIKNQT...\n",
       "3      psbK  MLNTFSLIGICLNSTLYSSSFFFGKLPEAYAFLNPIVDIMPVIPLF...\n",
       "4      psbI               MLTLKLFVYTVVIFFVSLFIFGFLSNDPGRNPGREE"
      ]
     },
     "execution_count": 71,
     "metadata": {},
     "output_type": "execute_result"
    }
   ],
   "source": [
    "df_t_CDS.head()\n",
    "\n",
    "# IR_list의 gene 이름과 갯수는 print만 해준 것이고 def의 return값은 df이므로, 변수에 지정된건 df뿐임을 알 수 있음"
   ]
  },
  {
   "cell_type": "code",
   "execution_count": 72,
   "metadata": {},
   "outputs": [
    {
     "data": {
      "text/plain": [
       "(73, 2)"
      ]
     },
     "execution_count": 72,
     "metadata": {},
     "output_type": "execute_result"
    }
   ],
   "source": [
    "df_t_CDS.shape\n",
    "\n",
    "# 3편의 df_t_CDS.shape = (80, 2)"
   ]
  },
  {
   "cell_type": "code",
   "execution_count": 73,
   "metadata": {},
   "outputs": [
    {
     "name": "stdout",
     "output_type": "stream",
     "text": [
      "IR list : ['rps12', 'rps7', 'ndhB', 'ycf2', 'rpl23', 'rpl2']\n",
      "The number of IR : 6\n"
     ]
    }
   ],
   "source": [
    "df_a_CDS = make_df_without_IR_print('./gb file/A.thaliana.gb')"
   ]
  },
  {
   "cell_type": "code",
   "execution_count": 74,
   "metadata": {},
   "outputs": [
    {
     "data": {
      "text/plain": [
       "(71, 2)"
      ]
     },
     "execution_count": 74,
     "metadata": {},
     "output_type": "execute_result"
    }
   ],
   "source": [
    "df_a_CDS.shape\n",
    "\n",
    "# 3편의 df_a_CDS.shape = (77, 2)"
   ]
  },
  {
   "cell_type": "code",
   "execution_count": 75,
   "metadata": {},
   "outputs": [
    {
     "name": "stdout",
     "output_type": "stream",
     "text": [
      "IR list : []\n",
      "The number of IR : 0\n"
     ]
    }
   ],
   "source": [
    "df_p_CDS = make_df_without_IR_print('./gb file/P.patens.gb')"
   ]
  },
  {
   "cell_type": "code",
   "execution_count": 76,
   "metadata": {},
   "outputs": [
    {
     "data": {
      "text/plain": [
       "(84, 2)"
      ]
     },
     "execution_count": 76,
     "metadata": {},
     "output_type": "execute_result"
    }
   ],
   "source": [
    "df_p_CDS.shape\n",
    "\n",
    "# 3편의 df_p_CDS.shape = (84, 2) : IR이 없었음을 알 수 있음"
   ]
  },
  {
   "cell_type": "code",
   "execution_count": 77,
   "metadata": {},
   "outputs": [
    {
     "name": "stdout",
     "output_type": "stream",
     "text": [
      "IR list : ['ycf1', 'rps7', 'ndhB', 'ycf2', 'rpl23', 'rpl2']\n",
      "The number of IR : 6\n"
     ]
    }
   ],
   "source": [
    "df_g_CDS = make_df_without_IR_print('./gb file/G.max.gb')"
   ]
  },
  {
   "cell_type": "code",
   "execution_count": 78,
   "metadata": {},
   "outputs": [
    {
     "data": {
      "text/plain": [
       "(70, 2)"
      ]
     },
     "execution_count": 78,
     "metadata": {},
     "output_type": "execute_result"
    }
   ],
   "source": [
    "df_g_CDS.shape\n",
    "\n",
    "# 3편의 df_g_CDS.shape = (76, 2)"
   ]
  },
  {
   "cell_type": "code",
   "execution_count": 79,
   "metadata": {},
   "outputs": [
    {
     "name": "stdout",
     "output_type": "stream",
     "text": [
      "IR list : ['ndhH', 'rps15', 'orf63', 'orf39', 'orf23', 'rps7', 'ndhB', 'orf222', 'orf64', 'orf28', 'orf34', 'orf46', 'rpl23', 'rpl2', 'rps19']\n",
      "The number of IR : 15\n"
     ]
    }
   ],
   "source": [
    "df_o_CDS = make_df_without_IR_print('./gb file/oryza sativa.gb')"
   ]
  },
  {
   "cell_type": "code",
   "execution_count": 80,
   "metadata": {},
   "outputs": [
    {
     "data": {
      "text/plain": [
       "(70, 2)"
      ]
     },
     "execution_count": 80,
     "metadata": {},
     "output_type": "execute_result"
    }
   ],
   "source": [
    "df_o_CDS.shape\n",
    "\n",
    "# 3편의 df_o_CDS.shape = (85, 2)"
   ]
  },
  {
   "cell_type": "code",
   "execution_count": 81,
   "metadata": {},
   "outputs": [
    {
     "name": "stdout",
     "output_type": "stream",
     "text": [
      "IR list : ['rps15', 'ycf1', 'rps7', 'ndhB', 'ycf2', 'rpl23', 'rpl2']\n",
      "The number of IR : 7\n"
     ]
    }
   ],
   "source": [
    "df_s_CDS = make_df_without_IR_print('./gb file/S.polyrhiza.gb')"
   ]
  },
  {
   "cell_type": "code",
   "execution_count": 82,
   "metadata": {},
   "outputs": [
    {
     "data": {
      "text/plain": [
       "(71, 2)"
      ]
     },
     "execution_count": 82,
     "metadata": {},
     "output_type": "execute_result"
    }
   ],
   "source": [
    "df_s_CDS.shape\n",
    "\n",
    "# 3편의 df_s_CDS.shape = (78, 2)"
   ]
  },
  {
   "cell_type": "code",
   "execution_count": 83,
   "metadata": {},
   "outputs": [
    {
     "name": "stdout",
     "output_type": "stream",
     "text": [
      "IR list : ['rps12', 'rps15', 'ycf68', 'rps7', 'ndhB', 'rpl23', 'rpl2', 'rps19']\n",
      "The number of IR : 8\n"
     ]
    }
   ],
   "source": [
    "df_sv_CDS = make_df_without_IR_print('./gb file/S.viridis.gb')"
   ]
  },
  {
   "cell_type": "code",
   "execution_count": 84,
   "metadata": {},
   "outputs": [
    {
     "data": {
      "text/plain": [
       "(69, 2)"
      ]
     },
     "execution_count": 84,
     "metadata": {},
     "output_type": "execute_result"
    }
   ],
   "source": [
    "df_sv_CDS.shape\n",
    "\n",
    "# 3편의 df_sv_CDS.shape = (77, 2)"
   ]
  },
  {
   "cell_type": "code",
   "execution_count": 85,
   "metadata": {},
   "outputs": [
    {
     "name": "stdout",
     "output_type": "stream",
     "text": [
      "IR list : ['rps12', 'rps7', 'ndhB', 'ycf2', 'rpl23', 'rpl2']\n",
      "The number of IR : 6\n"
     ]
    }
   ],
   "source": [
    "df_l_CDS = make_df_without_IR_print('./gb file/L.sativa.gb')"
   ]
  },
  {
   "cell_type": "code",
   "execution_count": 86,
   "metadata": {},
   "outputs": [
    {
     "data": {
      "text/plain": [
       "(72, 2)"
      ]
     },
     "execution_count": 86,
     "metadata": {},
     "output_type": "execute_result"
    }
   ],
   "source": [
    "df_l_CDS.shape\n",
    "\n",
    "# 3편의 df_l_CDS.shape = (78, 2)"
   ]
  },
  {
   "cell_type": "code",
   "execution_count": 87,
   "metadata": {},
   "outputs": [
    {
     "name": "stdout",
     "output_type": "stream",
     "text": [
      "IR list : ['rps12', 'rps15', 'rps7', 'ndhB', 'rpl23', 'rpl2', 'rps19']\n",
      "The number of IR : 7\n"
     ]
    }
   ],
   "source": [
    "df_b_CDS = make_df_without_IR_print('./gb file/B.distachyon.gb')"
   ]
  },
  {
   "cell_type": "code",
   "execution_count": 88,
   "metadata": {},
   "outputs": [
    {
     "data": {
      "text/plain": [
       "(69, 2)"
      ]
     },
     "execution_count": 88,
     "metadata": {},
     "output_type": "execute_result"
    }
   ],
   "source": [
    "df_b_CDS.shape\n",
    "\n",
    "# 3편의 df_b_CDS.shape = (76, 2)"
   ]
  },
  {
   "cell_type": "code",
   "execution_count": 89,
   "metadata": {},
   "outputs": [
    {
     "name": "stdout",
     "output_type": "stream",
     "text": [
      "IR list : ['rps12', 'rps7', 'ndhB', 'ycf2', 'rpl23', 'rpl2']\n",
      "The number of IR : 6\n"
     ]
    }
   ],
   "source": [
    "df_d_CDS = make_df_without_IR_print('./gb file/D.carota.gb')"
   ]
  },
  {
   "cell_type": "code",
   "execution_count": 90,
   "metadata": {},
   "outputs": [
    {
     "data": {
      "text/plain": [
       "(73, 2)"
      ]
     },
     "execution_count": 90,
     "metadata": {},
     "output_type": "execute_result"
    }
   ],
   "source": [
    "df_d_CDS.shape\n",
    "\n",
    "# 3편의 df_d_CDS.shape = (79, 2)"
   ]
  },
  {
   "cell_type": "code",
   "execution_count": 91,
   "metadata": {},
   "outputs": [],
   "source": [
    "def merge_df(x):\n",
    "    df_final = reduce(lambda left,right: pd.merge(left,right,on='Gene name'), x)\n",
    "    return(df_final)"
   ]
  },
  {
   "cell_type": "code",
   "execution_count": 92,
   "metadata": {},
   "outputs": [],
   "source": [
    "df_CDS = merge_df([df_t_CDS, df_a_CDS, df_p_CDS, df_g_CDS, df_o_CDS, df_s_CDS, df_sv_CDS, df_l_CDS, df_b_CDS, df_d_CDS])"
   ]
  },
  {
   "cell_type": "code",
   "execution_count": 95,
   "metadata": {},
   "outputs": [
    {
     "data": {
      "text/html": [
       "<div>\n",
       "<style scoped>\n",
       "    .dataframe tbody tr th:only-of-type {\n",
       "        vertical-align: middle;\n",
       "    }\n",
       "\n",
       "    .dataframe tbody tr th {\n",
       "        vertical-align: top;\n",
       "    }\n",
       "\n",
       "    .dataframe thead th {\n",
       "        text-align: right;\n",
       "    }\n",
       "</style>\n",
       "<table border=\"1\" class=\"dataframe\">\n",
       "  <thead>\n",
       "    <tr style=\"text-align: right;\">\n",
       "      <th></th>\n",
       "      <th>Gene name</th>\n",
       "      <th>tomato</th>\n",
       "      <th>A.thaliana</th>\n",
       "      <th>P.patens</th>\n",
       "      <th>G.max</th>\n",
       "      <th>oryza sativa</th>\n",
       "      <th>S.polyrhiza</th>\n",
       "      <th>S.viridis</th>\n",
       "      <th>L.sativa</th>\n",
       "      <th>B.distachyon</th>\n",
       "      <th>D.carota</th>\n",
       "    </tr>\n",
       "  </thead>\n",
       "  <tbody>\n",
       "    <tr>\n",
       "      <th>0</th>\n",
       "      <td>psbA</td>\n",
       "      <td>MTAILERRESESLWGRFCNWITSTENRLYIGWFGVLMIPTLLTATS...</td>\n",
       "      <td>MTAILERRESESLWGRFCNWITSTENRLYIGWFGVLMIPTLLTATS...</td>\n",
       "      <td>MTATLERRESASLWGRFCDWVTSTENRLYIGWFGVLMIPTLLTATS...</td>\n",
       "      <td>MTAILERRESESLWGRFCNWITSTENRLYIGWFGVLMIPTLLTATS...</td>\n",
       "      <td>MTAILERRESTSLWGRFCNWITSTENRLYIGWFGVLMIPTLLTATS...</td>\n",
       "      <td>MTAILERRESTSLWGRFCNWVTSTENRLYIGWFGVLMIPTLLTATS...</td>\n",
       "      <td>MTAILERRESTSLWGRFCNWITSTENRLYIGWFGVLMIPTLLTATS...</td>\n",
       "      <td>MTAILERRESESLWGRFCNWITSTENRLYIGWFGVLMIPTLLTATS...</td>\n",
       "      <td>MTAILERRESTSLWGRFCNWITSTENRLYIGWFGVLMIPTLLTATS...</td>\n",
       "      <td>MTAILERRESESLWGRFCNWITSTENRLYIGWFGVLMIPTLLTATS...</td>\n",
       "    </tr>\n",
       "    <tr>\n",
       "      <th>1</th>\n",
       "      <td>matK</td>\n",
       "      <td>MEEIHRYLQPDSSQQHNFLYPLIFQEYIYALAQDHGLNRNRSILLE...</td>\n",
       "      <td>MDKFQGYLEFDGARQQSFLYPLFFREYIYVLAYDHGLNRLNRNRYI...</td>\n",
       "      <td>MEKLKKNKKKLIWQQRFLYPLLFQNDFYALAYNHSLNKFNLKKIEN...</td>\n",
       "      <td>MEESRAYLELHRSRHQDTLYPLFFRESIYGLACGHGSIFVENVGYN...</td>\n",
       "      <td>MEKFEGYSEKLKFPRQYFVYPLLFQEYIYVFAHDYGLNGSELVEII...</td>\n",
       "      <td>MEEFKGYLQKGGFKQQHFLYPLLFQEYIYVLAHDHGLNVNASTFNE...</td>\n",
       "      <td>MEKFEGYSEKQKSRQQYFVYPLLFQEYIYAFAHDYGLNGAEPVEIF...</td>\n",
       "      <td>MEKFQSYLGLDRSQQHHFLYPLIFQEYIYVLAHDHGLTRSILLENA...</td>\n",
       "      <td>MEKFEEISEKHKSRQQYFVYPLLFQEFLYAFAHDYGLNDSEPVEIV...</td>\n",
       "      <td>MEEFQRYLKLNRSQQHYFLYPLIFQEYIYALAHDHGLNRNRSIFLE...</td>\n",
       "    </tr>\n",
       "    <tr>\n",
       "      <th>2</th>\n",
       "      <td>psbK</td>\n",
       "      <td>MLNTFSLIGICLNSTLYSSSFFFGKLPEAYAFLNPIVDIMPVIPLF...</td>\n",
       "      <td>MLNIFNLICIFFNSTLFSSTFLVAKLPEAYAFLNPIVDVMPVIPLF...</td>\n",
       "      <td>MLAIFNIYLDNAFHLNGIILAKLPEAYAIFDPIVDVMPIIPVFFFL...</td>\n",
       "      <td>MLNIFNLVCICIHSVLYSSSFFSAKLPEAYAFLNPIVDIMPVIPLL...</td>\n",
       "      <td>MPNILSLTCICFNSVIYPTSFFFAKLPEAYAIFNPIVDFMPVIPVL...</td>\n",
       "      <td>MLNIFLNLICICLNSVLSSSSFFFGKLPEAYAIFNPIVDIMPVIPL...</td>\n",
       "      <td>MPNILSLTCICFNSVLCPTSFFFAKLPEAYAIFNPIVDVMPVIPVL...</td>\n",
       "      <td>MLNIFSLICLNSALYPSSLFFAKLPEAYAFLNPIVDVMPVIPLFFF...</td>\n",
       "      <td>MPNILSLTCICFNCVLYPTSFFFAKLPEAYAIFNPIVDFMPVIPLF...</td>\n",
       "      <td>MLNIFSLICICLNSAFYSSSLFFAKLPEAYAFLNPIVDLMPVIPLF...</td>\n",
       "    </tr>\n",
       "    <tr>\n",
       "      <th>3</th>\n",
       "      <td>psbI</td>\n",
       "      <td>MLTLKLFVYTVVIFFVSLFIFGFLSNDPGRNPGREE</td>\n",
       "      <td>MLTLKLFVYTVVIFFVSLFIFGFLSNDPGRNPGREE</td>\n",
       "      <td>MLTLKLFVYTVVIFFVSLFVFGFLSNDPGRNPGRKE</td>\n",
       "      <td>MLTLKLFVYTVVIFFVSLFIFGFLSNDPGRNPGREE</td>\n",
       "      <td>MLTLKLFVYTVVIFFVSLFIFGFLSNDPGRNPGRDE</td>\n",
       "      <td>MLTLKLFVYTVVIFFVSLFIFGFLSNDPGRNPGREE</td>\n",
       "      <td>MLTLKLFVYTVVIFFVSLFIFGFLSNDPGRNPGREE</td>\n",
       "      <td>MLTLKLFVYTVVIFFVSLFIFGFLSNDPGRNPGREE</td>\n",
       "      <td>MLTLKLFVYTVVIFFVSLFIFGFLSNDPGRNPGREE</td>\n",
       "      <td>MLTLKLFVYTVVIFFVSLFIFGFLSNDPGRNPGREE</td>\n",
       "    </tr>\n",
       "    <tr>\n",
       "      <th>4</th>\n",
       "      <td>atpA</td>\n",
       "      <td>MVTIRADEISNIIRERIEQYNREVKIVNTGTVLQVGDGIARIHGLD...</td>\n",
       "      <td>MVTIRADEISNIIRERIEQYNREVTIVNTGTVLQVGDGIARIYGLD...</td>\n",
       "      <td>MVKIRPDEISSIIRKQIEDYSQEIKVVNVGTVLQVGDGIARIYGLD...</td>\n",
       "      <td>MVTIRADEISKIIRERIEQYNTEVKIVNTGTVLQVGDGIARIYGLD...</td>\n",
       "      <td>MATLRVDEIHKILRERIEQYNRKVGIENIGRVVQVGDGIARIIGLG...</td>\n",
       "      <td>MVTIRADEISNIIRERIEQYNREVKVVNTGTVLQVGDGIARVHGLD...</td>\n",
       "      <td>MATLRVDEINKILRERIEQYNRKVGIENIGRVVQVGDGIARIIGLG...</td>\n",
       "      <td>MVTIQADEISNIIRERIEQYNREVKIVNTGTVLQVGDGIARIHGLD...</td>\n",
       "      <td>MATLRVDEIHKILRERIEQYNRKIGIENIGRVVQVGDGIARIIGLG...</td>\n",
       "      <td>MVTIRADEISKIIRERIEEYNREVKIVNTGTVLQVGDGIARIHGLD...</td>\n",
       "    </tr>\n",
       "  </tbody>\n",
       "</table>\n",
       "</div>"
      ],
      "text/plain": [
       "  Gene name                                             tomato  \\\n",
       "0      psbA  MTAILERRESESLWGRFCNWITSTENRLYIGWFGVLMIPTLLTATS...   \n",
       "1      matK  MEEIHRYLQPDSSQQHNFLYPLIFQEYIYALAQDHGLNRNRSILLE...   \n",
       "2      psbK  MLNTFSLIGICLNSTLYSSSFFFGKLPEAYAFLNPIVDIMPVIPLF...   \n",
       "3      psbI               MLTLKLFVYTVVIFFVSLFIFGFLSNDPGRNPGREE   \n",
       "4      atpA  MVTIRADEISNIIRERIEQYNREVKIVNTGTVLQVGDGIARIHGLD...   \n",
       "\n",
       "                                          A.thaliana  \\\n",
       "0  MTAILERRESESLWGRFCNWITSTENRLYIGWFGVLMIPTLLTATS...   \n",
       "1  MDKFQGYLEFDGARQQSFLYPLFFREYIYVLAYDHGLNRLNRNRYI...   \n",
       "2  MLNIFNLICIFFNSTLFSSTFLVAKLPEAYAFLNPIVDVMPVIPLF...   \n",
       "3               MLTLKLFVYTVVIFFVSLFIFGFLSNDPGRNPGREE   \n",
       "4  MVTIRADEISNIIRERIEQYNREVTIVNTGTVLQVGDGIARIYGLD...   \n",
       "\n",
       "                                            P.patens  \\\n",
       "0  MTATLERRESASLWGRFCDWVTSTENRLYIGWFGVLMIPTLLTATS...   \n",
       "1  MEKLKKNKKKLIWQQRFLYPLLFQNDFYALAYNHSLNKFNLKKIEN...   \n",
       "2  MLAIFNIYLDNAFHLNGIILAKLPEAYAIFDPIVDVMPIIPVFFFL...   \n",
       "3               MLTLKLFVYTVVIFFVSLFVFGFLSNDPGRNPGRKE   \n",
       "4  MVKIRPDEISSIIRKQIEDYSQEIKVVNVGTVLQVGDGIARIYGLD...   \n",
       "\n",
       "                                               G.max  \\\n",
       "0  MTAILERRESESLWGRFCNWITSTENRLYIGWFGVLMIPTLLTATS...   \n",
       "1  MEESRAYLELHRSRHQDTLYPLFFRESIYGLACGHGSIFVENVGYN...   \n",
       "2  MLNIFNLVCICIHSVLYSSSFFSAKLPEAYAFLNPIVDIMPVIPLL...   \n",
       "3               MLTLKLFVYTVVIFFVSLFIFGFLSNDPGRNPGREE   \n",
       "4  MVTIRADEISKIIRERIEQYNTEVKIVNTGTVLQVGDGIARIYGLD...   \n",
       "\n",
       "                                        oryza sativa  \\\n",
       "0  MTAILERRESTSLWGRFCNWITSTENRLYIGWFGVLMIPTLLTATS...   \n",
       "1  MEKFEGYSEKLKFPRQYFVYPLLFQEYIYVFAHDYGLNGSELVEII...   \n",
       "2  MPNILSLTCICFNSVIYPTSFFFAKLPEAYAIFNPIVDFMPVIPVL...   \n",
       "3               MLTLKLFVYTVVIFFVSLFIFGFLSNDPGRNPGRDE   \n",
       "4  MATLRVDEIHKILRERIEQYNRKVGIENIGRVVQVGDGIARIIGLG...   \n",
       "\n",
       "                                         S.polyrhiza  \\\n",
       "0  MTAILERRESTSLWGRFCNWVTSTENRLYIGWFGVLMIPTLLTATS...   \n",
       "1  MEEFKGYLQKGGFKQQHFLYPLLFQEYIYVLAHDHGLNVNASTFNE...   \n",
       "2  MLNIFLNLICICLNSVLSSSSFFFGKLPEAYAIFNPIVDIMPVIPL...   \n",
       "3               MLTLKLFVYTVVIFFVSLFIFGFLSNDPGRNPGREE   \n",
       "4  MVTIRADEISNIIRERIEQYNREVKVVNTGTVLQVGDGIARVHGLD...   \n",
       "\n",
       "                                           S.viridis  \\\n",
       "0  MTAILERRESTSLWGRFCNWITSTENRLYIGWFGVLMIPTLLTATS...   \n",
       "1  MEKFEGYSEKQKSRQQYFVYPLLFQEYIYAFAHDYGLNGAEPVEIF...   \n",
       "2  MPNILSLTCICFNSVLCPTSFFFAKLPEAYAIFNPIVDVMPVIPVL...   \n",
       "3               MLTLKLFVYTVVIFFVSLFIFGFLSNDPGRNPGREE   \n",
       "4  MATLRVDEINKILRERIEQYNRKVGIENIGRVVQVGDGIARIIGLG...   \n",
       "\n",
       "                                            L.sativa  \\\n",
       "0  MTAILERRESESLWGRFCNWITSTENRLYIGWFGVLMIPTLLTATS...   \n",
       "1  MEKFQSYLGLDRSQQHHFLYPLIFQEYIYVLAHDHGLTRSILLENA...   \n",
       "2  MLNIFSLICLNSALYPSSLFFAKLPEAYAFLNPIVDVMPVIPLFFF...   \n",
       "3               MLTLKLFVYTVVIFFVSLFIFGFLSNDPGRNPGREE   \n",
       "4  MVTIQADEISNIIRERIEQYNREVKIVNTGTVLQVGDGIARIHGLD...   \n",
       "\n",
       "                                        B.distachyon  \\\n",
       "0  MTAILERRESTSLWGRFCNWITSTENRLYIGWFGVLMIPTLLTATS...   \n",
       "1  MEKFEEISEKHKSRQQYFVYPLLFQEFLYAFAHDYGLNDSEPVEIV...   \n",
       "2  MPNILSLTCICFNCVLYPTSFFFAKLPEAYAIFNPIVDFMPVIPLF...   \n",
       "3               MLTLKLFVYTVVIFFVSLFIFGFLSNDPGRNPGREE   \n",
       "4  MATLRVDEIHKILRERIEQYNRKIGIENIGRVVQVGDGIARIIGLG...   \n",
       "\n",
       "                                            D.carota  \n",
       "0  MTAILERRESESLWGRFCNWITSTENRLYIGWFGVLMIPTLLTATS...  \n",
       "1  MEEFQRYLKLNRSQQHYFLYPLIFQEYIYALAHDHGLNRNRSIFLE...  \n",
       "2  MLNIFSLICICLNSAFYSSSLFFAKLPEAYAFLNPIVDLMPVIPLF...  \n",
       "3               MLTLKLFVYTVVIFFVSLFIFGFLSNDPGRNPGREE  \n",
       "4  MVTIRADEISKIIRERIEEYNREVKIVNTGTVLQVGDGIARIHGLD...  "
      ]
     },
     "execution_count": 95,
     "metadata": {},
     "output_type": "execute_result"
    }
   ],
   "source": [
    "df_CDS.head()"
   ]
  },
  {
   "cell_type": "code",
   "execution_count": 94,
   "metadata": {},
   "outputs": [
    {
     "data": {
      "text/plain": [
       "(59, 11)"
      ]
     },
     "execution_count": 94,
     "metadata": {},
     "output_type": "execute_result"
    }
   ],
   "source": [
    "df_CDS.shape"
   ]
  },
  {
   "cell_type": "code",
   "execution_count": 96,
   "metadata": {},
   "outputs": [],
   "source": [
    "# G.max에 대한 paper 내용 중, G.max의 IR 중 가장 길이가 긴 IR은 ycf2 라는 것이 생각나 모든 df를 merge한 df_CDS에서 잘 없어져있는지 확인\n",
    "\n",
    "m_IR_ycf2 = df_CDS['Gene name'] == 'ycf2'"
   ]
  },
  {
   "cell_type": "code",
   "execution_count": 97,
   "metadata": {},
   "outputs": [
    {
     "data": {
      "text/plain": [
       "Series([], Name: Gene name, dtype: object)"
      ]
     },
     "execution_count": 97,
     "metadata": {},
     "output_type": "execute_result"
    }
   ],
   "source": [
    "df_CDS['Gene name'][m_IR_ycf2]\n",
    "\n",
    "# 잘 삭제되어 있음"
   ]
  },
  {
   "cell_type": "code",
   "execution_count": 98,
   "metadata": {},
   "outputs": [],
   "source": [
    "df_CDS_ix = df_CDS.set_index('Gene name')"
   ]
  },
  {
   "cell_type": "code",
   "execution_count": 99,
   "metadata": {},
   "outputs": [
    {
     "data": {
      "text/html": [
       "<div>\n",
       "<style scoped>\n",
       "    .dataframe tbody tr th:only-of-type {\n",
       "        vertical-align: middle;\n",
       "    }\n",
       "\n",
       "    .dataframe tbody tr th {\n",
       "        vertical-align: top;\n",
       "    }\n",
       "\n",
       "    .dataframe thead th {\n",
       "        text-align: right;\n",
       "    }\n",
       "</style>\n",
       "<table border=\"1\" class=\"dataframe\">\n",
       "  <thead>\n",
       "    <tr style=\"text-align: right;\">\n",
       "      <th></th>\n",
       "      <th>tomato</th>\n",
       "      <th>A.thaliana</th>\n",
       "      <th>P.patens</th>\n",
       "      <th>G.max</th>\n",
       "      <th>oryza sativa</th>\n",
       "      <th>S.polyrhiza</th>\n",
       "      <th>S.viridis</th>\n",
       "      <th>L.sativa</th>\n",
       "      <th>B.distachyon</th>\n",
       "      <th>D.carota</th>\n",
       "    </tr>\n",
       "    <tr>\n",
       "      <th>Gene name</th>\n",
       "      <th></th>\n",
       "      <th></th>\n",
       "      <th></th>\n",
       "      <th></th>\n",
       "      <th></th>\n",
       "      <th></th>\n",
       "      <th></th>\n",
       "      <th></th>\n",
       "      <th></th>\n",
       "      <th></th>\n",
       "    </tr>\n",
       "  </thead>\n",
       "  <tbody>\n",
       "    <tr>\n",
       "      <th>psbA</th>\n",
       "      <td>MTAILERRESESLWGRFCNWITSTENRLYIGWFGVLMIPTLLTATS...</td>\n",
       "      <td>MTAILERRESESLWGRFCNWITSTENRLYIGWFGVLMIPTLLTATS...</td>\n",
       "      <td>MTATLERRESASLWGRFCDWVTSTENRLYIGWFGVLMIPTLLTATS...</td>\n",
       "      <td>MTAILERRESESLWGRFCNWITSTENRLYIGWFGVLMIPTLLTATS...</td>\n",
       "      <td>MTAILERRESTSLWGRFCNWITSTENRLYIGWFGVLMIPTLLTATS...</td>\n",
       "      <td>MTAILERRESTSLWGRFCNWVTSTENRLYIGWFGVLMIPTLLTATS...</td>\n",
       "      <td>MTAILERRESTSLWGRFCNWITSTENRLYIGWFGVLMIPTLLTATS...</td>\n",
       "      <td>MTAILERRESESLWGRFCNWITSTENRLYIGWFGVLMIPTLLTATS...</td>\n",
       "      <td>MTAILERRESTSLWGRFCNWITSTENRLYIGWFGVLMIPTLLTATS...</td>\n",
       "      <td>MTAILERRESESLWGRFCNWITSTENRLYIGWFGVLMIPTLLTATS...</td>\n",
       "    </tr>\n",
       "    <tr>\n",
       "      <th>matK</th>\n",
       "      <td>MEEIHRYLQPDSSQQHNFLYPLIFQEYIYALAQDHGLNRNRSILLE...</td>\n",
       "      <td>MDKFQGYLEFDGARQQSFLYPLFFREYIYVLAYDHGLNRLNRNRYI...</td>\n",
       "      <td>MEKLKKNKKKLIWQQRFLYPLLFQNDFYALAYNHSLNKFNLKKIEN...</td>\n",
       "      <td>MEESRAYLELHRSRHQDTLYPLFFRESIYGLACGHGSIFVENVGYN...</td>\n",
       "      <td>MEKFEGYSEKLKFPRQYFVYPLLFQEYIYVFAHDYGLNGSELVEII...</td>\n",
       "      <td>MEEFKGYLQKGGFKQQHFLYPLLFQEYIYVLAHDHGLNVNASTFNE...</td>\n",
       "      <td>MEKFEGYSEKQKSRQQYFVYPLLFQEYIYAFAHDYGLNGAEPVEIF...</td>\n",
       "      <td>MEKFQSYLGLDRSQQHHFLYPLIFQEYIYVLAHDHGLTRSILLENA...</td>\n",
       "      <td>MEKFEEISEKHKSRQQYFVYPLLFQEFLYAFAHDYGLNDSEPVEIV...</td>\n",
       "      <td>MEEFQRYLKLNRSQQHYFLYPLIFQEYIYALAHDHGLNRNRSIFLE...</td>\n",
       "    </tr>\n",
       "    <tr>\n",
       "      <th>psbK</th>\n",
       "      <td>MLNTFSLIGICLNSTLYSSSFFFGKLPEAYAFLNPIVDIMPVIPLF...</td>\n",
       "      <td>MLNIFNLICIFFNSTLFSSTFLVAKLPEAYAFLNPIVDVMPVIPLF...</td>\n",
       "      <td>MLAIFNIYLDNAFHLNGIILAKLPEAYAIFDPIVDVMPIIPVFFFL...</td>\n",
       "      <td>MLNIFNLVCICIHSVLYSSSFFSAKLPEAYAFLNPIVDIMPVIPLL...</td>\n",
       "      <td>MPNILSLTCICFNSVIYPTSFFFAKLPEAYAIFNPIVDFMPVIPVL...</td>\n",
       "      <td>MLNIFLNLICICLNSVLSSSSFFFGKLPEAYAIFNPIVDIMPVIPL...</td>\n",
       "      <td>MPNILSLTCICFNSVLCPTSFFFAKLPEAYAIFNPIVDVMPVIPVL...</td>\n",
       "      <td>MLNIFSLICLNSALYPSSLFFAKLPEAYAFLNPIVDVMPVIPLFFF...</td>\n",
       "      <td>MPNILSLTCICFNCVLYPTSFFFAKLPEAYAIFNPIVDFMPVIPLF...</td>\n",
       "      <td>MLNIFSLICICLNSAFYSSSLFFAKLPEAYAFLNPIVDLMPVIPLF...</td>\n",
       "    </tr>\n",
       "    <tr>\n",
       "      <th>psbI</th>\n",
       "      <td>MLTLKLFVYTVVIFFVSLFIFGFLSNDPGRNPGREE</td>\n",
       "      <td>MLTLKLFVYTVVIFFVSLFIFGFLSNDPGRNPGREE</td>\n",
       "      <td>MLTLKLFVYTVVIFFVSLFVFGFLSNDPGRNPGRKE</td>\n",
       "      <td>MLTLKLFVYTVVIFFVSLFIFGFLSNDPGRNPGREE</td>\n",
       "      <td>MLTLKLFVYTVVIFFVSLFIFGFLSNDPGRNPGRDE</td>\n",
       "      <td>MLTLKLFVYTVVIFFVSLFIFGFLSNDPGRNPGREE</td>\n",
       "      <td>MLTLKLFVYTVVIFFVSLFIFGFLSNDPGRNPGREE</td>\n",
       "      <td>MLTLKLFVYTVVIFFVSLFIFGFLSNDPGRNPGREE</td>\n",
       "      <td>MLTLKLFVYTVVIFFVSLFIFGFLSNDPGRNPGREE</td>\n",
       "      <td>MLTLKLFVYTVVIFFVSLFIFGFLSNDPGRNPGREE</td>\n",
       "    </tr>\n",
       "    <tr>\n",
       "      <th>atpA</th>\n",
       "      <td>MVTIRADEISNIIRERIEQYNREVKIVNTGTVLQVGDGIARIHGLD...</td>\n",
       "      <td>MVTIRADEISNIIRERIEQYNREVTIVNTGTVLQVGDGIARIYGLD...</td>\n",
       "      <td>MVKIRPDEISSIIRKQIEDYSQEIKVVNVGTVLQVGDGIARIYGLD...</td>\n",
       "      <td>MVTIRADEISKIIRERIEQYNTEVKIVNTGTVLQVGDGIARIYGLD...</td>\n",
       "      <td>MATLRVDEIHKILRERIEQYNRKVGIENIGRVVQVGDGIARIIGLG...</td>\n",
       "      <td>MVTIRADEISNIIRERIEQYNREVKVVNTGTVLQVGDGIARVHGLD...</td>\n",
       "      <td>MATLRVDEINKILRERIEQYNRKVGIENIGRVVQVGDGIARIIGLG...</td>\n",
       "      <td>MVTIQADEISNIIRERIEQYNREVKIVNTGTVLQVGDGIARIHGLD...</td>\n",
       "      <td>MATLRVDEIHKILRERIEQYNRKIGIENIGRVVQVGDGIARIIGLG...</td>\n",
       "      <td>MVTIRADEISKIIRERIEEYNREVKIVNTGTVLQVGDGIARIHGLD...</td>\n",
       "    </tr>\n",
       "  </tbody>\n",
       "</table>\n",
       "</div>"
      ],
      "text/plain": [
       "                                                      tomato  \\\n",
       "Gene name                                                      \n",
       "psbA       MTAILERRESESLWGRFCNWITSTENRLYIGWFGVLMIPTLLTATS...   \n",
       "matK       MEEIHRYLQPDSSQQHNFLYPLIFQEYIYALAQDHGLNRNRSILLE...   \n",
       "psbK       MLNTFSLIGICLNSTLYSSSFFFGKLPEAYAFLNPIVDIMPVIPLF...   \n",
       "psbI                    MLTLKLFVYTVVIFFVSLFIFGFLSNDPGRNPGREE   \n",
       "atpA       MVTIRADEISNIIRERIEQYNREVKIVNTGTVLQVGDGIARIHGLD...   \n",
       "\n",
       "                                                  A.thaliana  \\\n",
       "Gene name                                                      \n",
       "psbA       MTAILERRESESLWGRFCNWITSTENRLYIGWFGVLMIPTLLTATS...   \n",
       "matK       MDKFQGYLEFDGARQQSFLYPLFFREYIYVLAYDHGLNRLNRNRYI...   \n",
       "psbK       MLNIFNLICIFFNSTLFSSTFLVAKLPEAYAFLNPIVDVMPVIPLF...   \n",
       "psbI                    MLTLKLFVYTVVIFFVSLFIFGFLSNDPGRNPGREE   \n",
       "atpA       MVTIRADEISNIIRERIEQYNREVTIVNTGTVLQVGDGIARIYGLD...   \n",
       "\n",
       "                                                    P.patens  \\\n",
       "Gene name                                                      \n",
       "psbA       MTATLERRESASLWGRFCDWVTSTENRLYIGWFGVLMIPTLLTATS...   \n",
       "matK       MEKLKKNKKKLIWQQRFLYPLLFQNDFYALAYNHSLNKFNLKKIEN...   \n",
       "psbK       MLAIFNIYLDNAFHLNGIILAKLPEAYAIFDPIVDVMPIIPVFFFL...   \n",
       "psbI                    MLTLKLFVYTVVIFFVSLFVFGFLSNDPGRNPGRKE   \n",
       "atpA       MVKIRPDEISSIIRKQIEDYSQEIKVVNVGTVLQVGDGIARIYGLD...   \n",
       "\n",
       "                                                       G.max  \\\n",
       "Gene name                                                      \n",
       "psbA       MTAILERRESESLWGRFCNWITSTENRLYIGWFGVLMIPTLLTATS...   \n",
       "matK       MEESRAYLELHRSRHQDTLYPLFFRESIYGLACGHGSIFVENVGYN...   \n",
       "psbK       MLNIFNLVCICIHSVLYSSSFFSAKLPEAYAFLNPIVDIMPVIPLL...   \n",
       "psbI                    MLTLKLFVYTVVIFFVSLFIFGFLSNDPGRNPGREE   \n",
       "atpA       MVTIRADEISKIIRERIEQYNTEVKIVNTGTVLQVGDGIARIYGLD...   \n",
       "\n",
       "                                                oryza sativa  \\\n",
       "Gene name                                                      \n",
       "psbA       MTAILERRESTSLWGRFCNWITSTENRLYIGWFGVLMIPTLLTATS...   \n",
       "matK       MEKFEGYSEKLKFPRQYFVYPLLFQEYIYVFAHDYGLNGSELVEII...   \n",
       "psbK       MPNILSLTCICFNSVIYPTSFFFAKLPEAYAIFNPIVDFMPVIPVL...   \n",
       "psbI                    MLTLKLFVYTVVIFFVSLFIFGFLSNDPGRNPGRDE   \n",
       "atpA       MATLRVDEIHKILRERIEQYNRKVGIENIGRVVQVGDGIARIIGLG...   \n",
       "\n",
       "                                                 S.polyrhiza  \\\n",
       "Gene name                                                      \n",
       "psbA       MTAILERRESTSLWGRFCNWVTSTENRLYIGWFGVLMIPTLLTATS...   \n",
       "matK       MEEFKGYLQKGGFKQQHFLYPLLFQEYIYVLAHDHGLNVNASTFNE...   \n",
       "psbK       MLNIFLNLICICLNSVLSSSSFFFGKLPEAYAIFNPIVDIMPVIPL...   \n",
       "psbI                    MLTLKLFVYTVVIFFVSLFIFGFLSNDPGRNPGREE   \n",
       "atpA       MVTIRADEISNIIRERIEQYNREVKVVNTGTVLQVGDGIARVHGLD...   \n",
       "\n",
       "                                                   S.viridis  \\\n",
       "Gene name                                                      \n",
       "psbA       MTAILERRESTSLWGRFCNWITSTENRLYIGWFGVLMIPTLLTATS...   \n",
       "matK       MEKFEGYSEKQKSRQQYFVYPLLFQEYIYAFAHDYGLNGAEPVEIF...   \n",
       "psbK       MPNILSLTCICFNSVLCPTSFFFAKLPEAYAIFNPIVDVMPVIPVL...   \n",
       "psbI                    MLTLKLFVYTVVIFFVSLFIFGFLSNDPGRNPGREE   \n",
       "atpA       MATLRVDEINKILRERIEQYNRKVGIENIGRVVQVGDGIARIIGLG...   \n",
       "\n",
       "                                                    L.sativa  \\\n",
       "Gene name                                                      \n",
       "psbA       MTAILERRESESLWGRFCNWITSTENRLYIGWFGVLMIPTLLTATS...   \n",
       "matK       MEKFQSYLGLDRSQQHHFLYPLIFQEYIYVLAHDHGLTRSILLENA...   \n",
       "psbK       MLNIFSLICLNSALYPSSLFFAKLPEAYAFLNPIVDVMPVIPLFFF...   \n",
       "psbI                    MLTLKLFVYTVVIFFVSLFIFGFLSNDPGRNPGREE   \n",
       "atpA       MVTIQADEISNIIRERIEQYNREVKIVNTGTVLQVGDGIARIHGLD...   \n",
       "\n",
       "                                                B.distachyon  \\\n",
       "Gene name                                                      \n",
       "psbA       MTAILERRESTSLWGRFCNWITSTENRLYIGWFGVLMIPTLLTATS...   \n",
       "matK       MEKFEEISEKHKSRQQYFVYPLLFQEFLYAFAHDYGLNDSEPVEIV...   \n",
       "psbK       MPNILSLTCICFNCVLYPTSFFFAKLPEAYAIFNPIVDFMPVIPLF...   \n",
       "psbI                    MLTLKLFVYTVVIFFVSLFIFGFLSNDPGRNPGREE   \n",
       "atpA       MATLRVDEIHKILRERIEQYNRKIGIENIGRVVQVGDGIARIIGLG...   \n",
       "\n",
       "                                                    D.carota  \n",
       "Gene name                                                     \n",
       "psbA       MTAILERRESESLWGRFCNWITSTENRLYIGWFGVLMIPTLLTATS...  \n",
       "matK       MEEFQRYLKLNRSQQHYFLYPLIFQEYIYALAHDHGLNRNRSIFLE...  \n",
       "psbK       MLNIFSLICICLNSAFYSSSLFFAKLPEAYAFLNPIVDLMPVIPLF...  \n",
       "psbI                    MLTLKLFVYTVVIFFVSLFIFGFLSNDPGRNPGREE  \n",
       "atpA       MVTIRADEISKIIRERIEEYNREVKIVNTGTVLQVGDGIARIHGLD...  "
      ]
     },
     "execution_count": 99,
     "metadata": {},
     "output_type": "execute_result"
    }
   ],
   "source": [
    "df_CDS_ix.head()"
   ]
  },
  {
   "cell_type": "code",
   "execution_count": 100,
   "metadata": {},
   "outputs": [
    {
     "name": "stdout",
     "output_type": "stream",
     "text": [
      "tomato\n",
      "A.thaliana\n",
      "P.patens\n",
      "G.max\n",
      "oryza sativa\n",
      "S.polyrhiza\n",
      "S.viridis\n",
      "L.sativa\n",
      "B.distachyon\n",
      "D.carota\n"
     ]
    }
   ],
   "source": [
    "# column만 뽑아오기\n",
    "for ix in df_CDS_ix :\n",
    "    print(ix)"
   ]
  },
  {
   "cell_type": "code",
   "execution_count": 101,
   "metadata": {},
   "outputs": [
    {
     "data": {
      "text/plain": [
       "'MTAILERRESESLWGRFCNWITSTENRLYIGWFGVLMIPTLLTATSVFIIAFIAAPPVDIDGIREPVSGSLLYGNNIISGAIIPTSAAIGLHFYPIWEAASVDEWLYNGGPYELIVLHFLLGVACYMGREWELSFRLGMRPWIAVAYSAPVAAATAVFLIYPIGQGSFSDGMPLGISGTFNFMIVFQAEHNILMHPFHMLGVAGVFGGSLFSAMHGSLVTSSLIRETTENESANEGYRFGQEEETYNIVAAHGYFGRLIFQYASFNNSRSLHFFLAAWPVVGIWFTALGISTMAFNLNGFNFNQSVVDSQGRVINTWADIINRANLGMEVMHERNAHNFPLDLAAIEAPSTNG'"
      ]
     },
     "execution_count": 101,
     "metadata": {},
     "output_type": "execute_result"
    }
   ],
   "source": [
    "# 해당 gene의 서열만 뽑아오기\n",
    "df_CDS_ix['tomato'].loc['psbA']"
   ]
  },
  {
   "cell_type": "code",
   "execution_count": 102,
   "metadata": {},
   "outputs": [],
   "source": [
    "# '10_species_fasta_del_IR'라는 이름의 folder를 만들어 주고, 아래의 코드로 fasta file을 만듦\n",
    "for ix in list(df_CDS_ix.index) :\n",
    "    proteins = (SeqRecord(Seq(df_CDS_ix[i].loc[ix]), i) for i in df_CDS_ix)\n",
    "    SeqIO.write(proteins, './10_species_fasta_del_IR/%s_fasta.fasta'%ix, 'fasta')"
   ]
  },
  {
   "cell_type": "code",
   "execution_count": 103,
   "metadata": {},
   "outputs": [
    {
     "data": {
      "text/plain": [
       "59"
      ]
     },
     "execution_count": 103,
     "metadata": {},
     "output_type": "execute_result"
    }
   ],
   "source": [
    "len(set(df_CDS['Gene name']))\n",
    "\n",
    "# 10_species_fasta_del_IR folder에 만들어진 fasta file 갯수와 동일"
   ]
  },
  {
   "cell_type": "markdown",
   "metadata": {},
   "source": [
    "## Phylogenetic tree (with prank)\n",
    "\n",
    "http://wasabiapp.org/software/prank/"
   ]
  },
  {
   "cell_type": "markdown",
   "metadata": {},
   "source": [
    "### terminal\n",
    "\n",
    "++설치방법++ <br />\n",
    "\n",
    "2_Phylogenetic_Tree의 1_Clustalw&Prank편을 참조하여 설치하려 했으나 error 발생, 다른 방법으로 설치 시도 <br />\n",
    "http://wasabiapp.org/software/prank/prank_installation/\n",
    "\n",
    "**lim@DESKTOP-2MLAHVA:/mnt/c/PGL/limforest/Genomics/3_CP_genbank$ git clone https://github.com/ariloytynoja/prank-msa.git** <br />\n",
    "```\n",
    "Cloning into 'prank-msa'...\n",
    "remote: Enumerating objects: 964, done.\n",
    "remote: Total 964 (delta 0), reused 0 (delta 0), pack-reused 964\n",
    "Receiving objects: 100% (964/964), 327.09 KiB | 602.00 KiB/s, done.\n",
    "Resolving deltas: 100% (682/682), done.\n",
    "```\n",
    "\n",
    "**lim@DESKTOP-2MLAHVA:/mnt/c/PGL/limforest/Genomics/3_CP_genbank$ cd prank-msa/src**\n",
    "\n",
    "**lim@DESKTOP-2MLAHVA:/mnt/c/PGL/limforest/Genomics/3_CP_genbank/prank-msa/src$ make**\n",
    "```\n",
    "g++ -c -m64 -pipe -O3  -I. -I/usr/include -o writefile.o writefile.cpp\n",
    "g++ -c -m64 -pipe -O3  -I. -I/usr/include -o treenode.o treenode.cpp\n",
    "g++ -c -m64 -pipe -O3  -I. -I/usr/include -o translatesequences.o translatesequences.cpp\n",
    "g++ -c -m64 -pipe -O3  -I. -I/usr/include -o terminalsequence.o terminalsequence.cpp\n",
    "g++ -c -m64 -pipe -O3  -I. -I/usr/include -o terminalnode.o terminalnode.cpp\n",
    "g++ -c -m64 -pipe -O3  -I. -I/usr/include -o site.o site.cpp\n",
    "g++ -c -m64 -pipe -O3  -I. -I/usr/include -o sequence.o sequence.cpp\n",
    "g++ -c -m64 -pipe -O3  -I. -I/usr/include -o readnewick.o readnewick.cpp\n",
    "g++ -c -m64 -pipe -O3  -I. -I/usr/include -o readfile.o readfile.cpp\n",
    "g++ -c -m64 -pipe -O3  -I. -I/usr/include -o readalignment.o readalignment.cpp\n",
    "g++ -c -m64 -pipe -O3  -I. -I/usr/include -o pwsite.o pwsite.cpp\n",
    "g++ -c -m64 -pipe -O3  -I. -I/usr/include -o pwhirschberg.o pwhirschberg.cpp\n",
    "g++ -c -m64 -pipe -O3  -I. -I/usr/include -o progressivealignment.o progressivealignment.cpp\n",
    "g++ -c -m64 -pipe -O3  -I. -I/usr/include -o prank.o prank.cpp\n",
    "g++ -c -m64 -pipe -O3  -I. -I/usr/include -o postprobability.o postprobability.cpp\n",
    "g++ -c -m64 -pipe -O3  -I. -I/usr/include -o phylomatchscore.o phylomatchscore.cpp\n",
    "g++ -c -m64 -pipe -O3  -I. -I/usr/include -o node.o node.cpp\n",
    "g++ -c -m64 -pipe -O3  -I. -I/usr/include -o intmatrix.o intmatrix.cpp\n",
    "g++ -c -m64 -pipe -O3  -I. -I/usr/include -o hmmodel.o hmmodel.cpp\n",
    "g++ -c -m64 -pipe -O3  -I. -I/usr/include -o hirschberg.o hirschberg.cpp\n",
    "g++ -c -m64 -pipe -O3  -I. -I/usr/include -o guidetree.o guidetree.cpp\n",
    "guidetree.cpp: In member function ‘void GuideTree::computeTree(std::vector<std::__cxx11::basic_string<char> >*, std::vector<std::__cxx11::basic_string<char> >*, IntMatrix*)’:\n",
    "guidetree.cpp:31:6: warning: ‘%i’ directive writing between 1 and 10 bytes into a region of size between 6 and 15 [-Wformat-overflow=]\n",
    " void GuideTree::computeTree(vector<string>* sequences,vector<string>* names,IntMatrix* substScores)\n",
    "      ^~~~~~~~~\n",
    "guidetree.cpp:31:6: note: directive argument in the range [1, 2147483647]\n",
    "In file included from /usr/include/stdio.h:862:0,\n",
    "                 from /usr/include/c++/7/cstdio:42,\n",
    "                 from guidetree.cpp:21:\n",
    "/usr/include/x86_64-linux-gnu/bits/stdio2.h:34:43: note: ‘__builtin___sprintf_chk’ output between 7 and 25 bytes into a destination of size 20\n",
    "       __bos (__s), __fmt, __va_arg_pack ());\n",
    "                                           ^\n",
    "g++ -c -m64 -pipe -O3  -I. -I/usr/include -o fullprobability.o fullprobability.cpp\n",
    "g++ -c -m64 -pipe -O3  -I. -I/usr/include -o flmatrix.o flmatrix.cpp\n",
    "g++ -c -m64 -pipe -O3  -I. -I/usr/include -o eigen.o eigen.cpp\n",
    "g++ -c -m64 -pipe -O3  -I. -I/usr/include -o dbmatrix.o dbmatrix.cpp\n",
    "g++ -c -m64 -pipe -O3  -I. -I/usr/include -o characterprobability.o characterprobability.cpp\n",
    "g++ -c -m64 -pipe -O3  -I. -I/usr/include -o boolmatrix.o boolmatrix.cpp\n",
    "g++ -c -m64 -pipe -O3  -I. -I/usr/include -o ancestralsequence.o ancestralsequence.cpp\n",
    "g++ -c -m64 -pipe -O3  -I. -I/usr/include -o ancestralnode.o ancestralnode.cpp\n",
    "g++ -c -m64 -pipe -O3  -I. -I/usr/include -o check_version.o check_version.cpp\n",
    "g++ -c -m64 -pipe -O3  -I. -I/usr/include -o exonerate_reads.o exonerate_reads.cpp\n",
    "g++ -c -m64 -pipe -O3  -I. -I/usr/include -o mafft_alignment.o mafft_alignment.cpp\n",
    "g++ -c -m64 -pipe -O3  -I. -I/usr/include -o bppancestors.o bppancestors.cpp\n",
    "g++ -m64 -o prank writefile.o treenode.o translatesequences.o terminalsequence.o terminalnode.o site.o sequence.o readnewick.o readfile.o readalignment.o pwsite.o pwhirschberg.o progressivealignment.o prank.o postprobability.o phylomatchscore.o node.o intmatrix.o hmmodel.o hirschberg.o guidetree.o fullprobability.o flmatrix.o eigen.o dbmatrix.o characterprobability.o boolmatrix.o ancestralsequence.o ancestralnode.o check_version.o exonerate_reads.o mafft_alignment.o bppancestors.o\n",
    "```\n",
    "\n",
    "**lim@DESKTOP-2MLAHVA:/mnt/c/PGL/limforest/Genomics/3_CP_genbank/prank-msa/src$ ./prank**\n",
    "```\n",
    "prank v.170427. Minimal usage: 'prank sequence_file'\n",
    "\n",
    "Advanced usage: 'prank [optional parameters] -d=sequence_file [optional parameters]'\n",
    "\n",
    " input/output parameters:\n",
    "  -d=sequence_file (in FASTA format)\n",
    "  -t=tree_file [default: no tree, generate approximate NJ tree]\n",
    "  -o=output_file [default: 'output']\n",
    "  -f=output_format ['fasta' (default), 'phylipi', 'phylips', 'paml', 'nexus']\n",
    "  -showxml [output xml-files]\n",
    "  -showtree [output dnd-files]\n",
    "  -showanc [output ancestral sequences]\n",
    "  -showevents [output evolutioanry events]\n",
    "  -showall [output all of these]\n",
    "  -support [compute posterior support]\n",
    "  -njtree [estimate tree from input alignment (and realign)]\n",
    "  -treeonly [estimate tree only]\n",
    "  -quiet\n",
    "\n",
    " model parameters:\n",
    "  +F or -F [force insertions to be always skipped]\n",
    "  -gaprate=# [gap opening rate; default: dna 0.025 / prot 0.005]\n",
    "  -gapext=# [gap extension probability; default: dna 0.75 / prot 0.5]\n",
    "  -codon [for coding DNA: use empirical codon model]\n",
    "  -DNA / -protein [no autodetection: use dna or protein model]\n",
    "  -termgap [penalise terminal gaps normally]\n",
    "  -nomissing [no missing data, use -F for terminal gaps ]\n",
    "\n",
    " other parameters:\n",
    "  -keep [keep alignment \"as is\" (e.g. for ancestor inference)]\n",
    "  -iterate=# [rounds of re-alignment iteration]\n",
    "  -once [run only once; same as -iterate=1]\n",
    "  -prunetree [prune guide tree branches with no sequence data]\n",
    "  -prunedata [prune sequence data with no guide tree leaves]\n",
    "  -uselogs [slower but should work for a greater number of sequences]\n",
    "  -translate [translate to protein]\n",
    "  -mttranslate [translate to protein using mt table]\n",
    "\n",
    " other:\n",
    "  -convert [no alignment, just convert to another format]\n",
    "  -version [check for updates]\n",
    "  -verbose [print progress etc. during runtime]\n",
    "\n",
    "  -help [show more options]\n",
    "```\n",
    "\n",
    "**lim@DESKTOP-2MLAHVA:/mnt/c/PGL/limforest/Genomics/3_CP_genbank/prank-msa/src$ sudo cp prank /bin** <br />\n",
    "```\n",
    "[sudo] password for lim:\n",
    "```\n",
    "\n",
    "--설치방법-- <br />\n",
    "\n",
    "**lim@DESKTOP-2MLAHVA:/mnt/c/PGL/limforest/Genomics/3_CP_genbank/prank-msa/src$ cd ../..**\n",
    "\n",
    "**lim@DESKTOP-2MLAHVA:/mnt/c/PGL/limforest/Genomics/3_CP_genbank$ prank -d=atpA_fasta.fasta -o=atpA -showxml -showtree**\n",
    "```\n",
    "-----------------\n",
    " PRANK v.170427:\n",
    "-----------------\n",
    "\n",
    "Input for the analysis\n",
    " - aligning sequences in 'atpA_fasta.fasta'\n",
    " - using inferred alignment guide tree\n",
    " - option '+F' is not used; it can be enabled with '+F'\n",
    "\n",
    "Warning: sequence names changed.\n",
    "\n",
    "Generating approximate guide tree.\n",
    "Correcting (arbitrarily) for multifurcating nodes.\n",
    "Correcting (arbitrarily) for multifurcating nodes.\n",
    "\n",
    "Generating multiple alignment: iteration 1.\n",
    "\n",
    "Alignment score: 351\n",
    "Correcting (arbitrarily) for multifurcating nodes.\n",
    "\n",
    "Generating multiple alignment: iteration 2.\n",
    "\n",
    "Alignment score: 369\n",
    "Correcting (arbitrarily) for multifurcating nodes.\n",
    "\n",
    "Generating multiple alignment: iteration 3.\n",
    "\n",
    "Alignment score: 369\n",
    "Correcting (arbitrarily) for multifurcating nodes.\n",
    "\n",
    "Generating multiple alignment: iteration 4.\n",
    "\n",
    "Alignment score: 369\n",
    "Correcting (arbitrarily) for multifurcating nodes.\n",
    "\n",
    "Generating multiple alignment: iteration 5.\n",
    "\n",
    "Alignment score: 369\n",
    "\n",
    "\n",
    "Writing\n",
    " - alignment guide tree to 'atpA.best.dnd'\n",
    " - alignment to 'atpA.best.fas' and 'atpA.best.xml'\n",
    "\n",
    "Analysis done. Total time 21s\n",
    "```\n",
    "\n",
    "atpA.best.dnd, atpA.best.fas, atpA.best.xml 생성 완료 <br /><br />\n",
    "\n",
    "\n",
    "input file을 폴더내에 있는것으로 주고싶다면 input file 부분을.. <br />\n",
    "\n",
    "**lim@DESKTOP-2MLAHVA:/mnt/c/PGL/limforest/Genomics/3_CP_genbank$ prank -d=10_species_fasta_del_IR/atpA_fasta.fasta -o=prank/atpA -showxml -showtree** <br /><br />\n",
    "\n",
    "output을 다른 폴더로 모으고 싶다면.. <br />\n",
    "ex) <br />\n",
    "**lim@DESKTOP-2MLAHVA:/mnt/c/PGL/limforest/Genomics/3_CP_genbank$ mkdir alignment_prank_result**\n",
    "\n",
    "**lim@DESKTOP-2MLAHVA:/mnt/c/PGL/limforest/Genomics/3_CP_genbank$ cd alignment_prank_result**\n",
    "\n",
    "**lim@DESKTOP-2MLAHVA:/mnt/c/PGL/limforest/Genomics/3_CP_genbank/alignment_prank_result$ prank -d=../10_species_fasta_del_IR/atpA_fasta.fasta -o=atpA -showxml -showtree**"
   ]
  },
  {
   "cell_type": "code",
   "execution_count": 140,
   "metadata": {},
   "outputs": [],
   "source": [
    "def draw_tree(root) :\n",
    "    tree = Phylo.read(root, 'newick')\n",
    "    matplotlib.rc('font', size = 6)\n",
    "    fig = plt.figure(figsize=(5, 5), dpi=100)\n",
    "    axes = fig.add_subplot(1, 1, 1)\n",
    "    return(Phylo.draw(tree, axes=axes))"
   ]
  },
  {
   "cell_type": "code",
   "execution_count": 141,
   "metadata": {},
   "outputs": [
    {
     "data": {
      "image/png": "[encoded data removed]",
      "text/plain": [
       "<Figure size 500x500 with 1 Axes>"
      ]
     },
     "metadata": {
      "needs_background": "light"
     },
     "output_type": "display_data"
    }
   ],
   "source": [
    "draw_tree('./alignment_prank_result/atpA.best.dnd')"
   ]
  },
  {
   "cell_type": "code",
   "execution_count": 142,
   "metadata": {},
   "outputs": [
    {
     "data": {
      "image/png": "[encoded data removed]",
      "text/plain": [
       "<Figure size 500x500 with 1 Axes>"
      ]
     },
     "metadata": {
      "needs_background": "light"
     },
     "output_type": "display_data"
    }
   ],
   "source": [
    "draw_tree('./alignment_prank_result/atpB.best.dnd')"
   ]
  },
  {
   "cell_type": "code",
   "execution_count": 143,
   "metadata": {},
   "outputs": [
    {
     "data": {
      "image/png": "[encoded data removed]",
      "text/plain": [
       "<Figure size 500x500 with 1 Axes>"
      ]
     },
     "metadata": {
      "needs_background": "light"
     },
     "output_type": "display_data"
    }
   ],
   "source": [
    "draw_tree('./alignment_prank_result/clpP.best.dnd')"
   ]
  },
  {
   "cell_type": "code",
   "execution_count": 144,
   "metadata": {},
   "outputs": [
    {
     "data": {
      "image/png": "[encoded data removed]",
      "text/plain": [
       "<Figure size 500x500 with 1 Axes>"
      ]
     },
     "metadata": {
      "needs_background": "light"
     },
     "output_type": "display_data"
    }
   ],
   "source": [
    "draw_tree('./alignment_prank_result/matK.best.dnd')"
   ]
  },
  {
   "cell_type": "code",
   "execution_count": 145,
   "metadata": {},
   "outputs": [
    {
     "data": {
      "image/png": "[encoded data removed]",
      "text/plain": [
       "<Figure size 500x500 with 1 Axes>"
      ]
     },
     "metadata": {
      "needs_background": "light"
     },
     "output_type": "display_data"
    }
   ],
   "source": [
    "draw_tree('./alignment_prank_result/ndhD.best.dnd')"
   ]
  },
  {
   "cell_type": "code",
   "execution_count": 146,
   "metadata": {},
   "outputs": [
    {
     "data": {
      "image/png": "[encoded data removed]",
      "text/plain": [
       "<Figure size 500x500 with 1 Axes>"
      ]
     },
     "metadata": {
      "needs_background": "light"
     },
     "output_type": "display_data"
    }
   ],
   "source": [
    "draw_tree('./alignment_prank_result/psbK.best.dnd')"
   ]
  },
  {
   "cell_type": "markdown",
   "metadata": {},
   "source": [
    "---"
   ]
  }
 ],
 "metadata": {
  "kernelspec": {
   "display_name": "Python 3",
   "language": "python",
   "name": "python3"
  },
  "language_info": {
   "codemirror_mode": {
    "name": "ipython",
    "version": 3
   },
   "file_extension": ".py",
   "mimetype": "text/x-python",
   "name": "python",
   "nbconvert_exporter": "python",
   "pygments_lexer": "ipython3",
   "version": "3.6.7"
  }
 },
 "nbformat": 4,
 "nbformat_minor": 2
}
