{
 "cells": [
  {
   "cell_type": "markdown",
   "metadata": {},
   "source": [
    "# Genbank file based chloroplast analysis\n",
    "\n",
    "### genbank file download\n",
    "\n",
    "* Google에 genbank라고 검색\n",
    "\n",
    "* NCBI genbank 페이지에 접속 (https://www.ncbi.nlm.nih.gov/genbank/)\n",
    "\n",
    "> ![genbank_site](./photo/1_genbank_site.PNG)\n",
    "\n",
    "* 상단의 검색창 부분에 Nucleotide라고 선택한 후, chloroplast complete genome라고 입력\n",
    "\n",
    "> ![genbank](./photo/2_genbank.PNG)\n",
    "\n",
    "> ![genbank](./photo/3_genbank.PNG)\n",
    "\n",
    "* 우측의 선택이 가능한 메뉴들이 있는데, Species는 Plant, Source databases는 INSDC (GenBank), Genetic compartments는 Chloroplast를 선택\n",
    "\n",
    "> ![genbank](./photo/4_genbank.PNG)\n",
    "\n",
    "* 검색창에 다시 원하는 종을 입력하여 검색 <br />\n",
    "&nbsp;(본인은 tomato를 검색)\n",
    "\n",
    "> ![genbank](./photo/5_genbank.PNG)\n",
    ">\n",
    "> ![genbank](./photo/5_genbank2.PNG)\n",
    "\n",
    "* 원하는 자료를 클릭\n",
    "\n",
    "> ![genbank](./photo/6_genbank.PNG)\n",
    "\n",
    "* 본문 우측상단에 있는 Send to를 눌러 genbank format으로 file을 download <br />\n",
    "&nbsp; Send to를 누름 <br />\n",
    "&nbsp; Complete Record를 선택 <br />\n",
    "&nbsp; Destination엔 file을 선택 <br />\n",
    "&nbsp; Format은 GenBank로 지정 <br />\n",
    "&nbsp; Create File을 누름\n",
    "\n",
    "> ![download](./photo/7_download.PNG) <br />\n",
    "> sequence.db라는 이름으로 download 완료"
   ]
  },
  {
   "cell_type": "markdown",
   "metadata": {},
   "source": [
    "### about genbank file\n",
    "\n",
    "* Google에 parse genbank file python라고 검색 <br />\n",
    "&nbsp; https://gist.github.com/peterk87/5422267"
   ]
  },
  {
   "cell_type": "code",
   "execution_count": 1,
   "metadata": {},
   "outputs": [],
   "source": [
    "#import os\n",
    "from Bio.Seq import Seq #pip3 install biopython\n",
    "from Bio.SeqRecord import SeqRecord\n",
    "#from Bio.SeqFeature import SeqFeature, FeatureLocation\n",
    "from Bio import SeqIO"
   ]
  },
  {
   "cell_type": "code",
   "execution_count": 2,
   "metadata": {},
   "outputs": [],
   "source": [
    "# get all sequence records for the specified genbank file\n",
    "t_gb_parse = [t_file for t_file in SeqIO.parse(\"gb file/tomato.gb\", \"genbank\")]"
   ]
  },
  {
   "cell_type": "code",
   "execution_count": 3,
   "metadata": {},
   "outputs": [
    {
     "name": "stdout",
     "output_type": "stream",
     "text": [
      "1\n"
     ]
    }
   ],
   "source": [
    "# print the number of sequence records that were extracted\n",
    "print(len(t_gb_parse))"
   ]
  },
  {
   "cell_type": "code",
   "execution_count": 4,
   "metadata": {},
   "outputs": [
    {
     "name": "stdout",
     "output_type": "stream",
     "text": [
      "[SeqRecord(seq=Seq('TGGGCGAACGACGGGAATTGAACCCGCGCATGGTGGATTCACAATCCACTGCCT...TAA', IUPACAmbiguousDNA()), id='DQ347959.1', name='DQ347959', description='Solanum lycopersicum cultivar LA3023 chloroplast, complete genome', dbxrefs=[])]\n"
     ]
    }
   ],
   "source": [
    "print(t_gb_parse)"
   ]
  },
  {
   "cell_type": "code",
   "execution_count": 5,
   "metadata": {},
   "outputs": [
    {
     "name": "stdout",
     "output_type": "stream",
     "text": [
      "{'molecule_type': 'DNA', 'topology': 'circular', 'data_file_division': 'PLN', 'date': '13-JAN-2014', 'accessions': ['DQ347959'], 'sequence_version': 1, 'keywords': [''], 'source': 'chloroplast Solanum lycopersicum (tomato)', 'organism': 'Solanum lycopersicum', 'taxonomy': ['Eukaryota', 'Viridiplantae', 'Streptophyta', 'Embryophyta', 'Tracheophyta', 'Spermatophyta', 'Magnoliophyta', 'eudicotyledons', 'Gunneridae', 'Pentapetalae', 'asterids', 'lamiids', 'Solanales', 'Solanaceae', 'Solanoideae', 'Solaneae', 'Solanum', 'Lycopersicon'], 'references': [Reference(title='Complete chloroplast genome sequences of Solanum tuberosum, Solanum lycopersicum and comparative analyses with other Solanaceae genomes', ...), Reference(title='Direct Submission', ...)]}\n"
     ]
    }
   ],
   "source": [
    "# print annotations for each sequence record\n",
    "for t_gb in t_gb_parse:\n",
    "    print(t_gb.annotations)"
   ]
  },
  {
   "cell_type": "code",
   "execution_count": 6,
   "metadata": {},
   "outputs": [
    {
     "name": "stdout",
     "output_type": "stream",
     "text": [
      "type: CDS\n",
      "location: join{[71635:71749](-), [99800:100032](-), [99238:99264](-)}\n",
      "qualifiers:\n",
      "    Key: codon_start, Value: ['1']\n",
      "    Key: gene, Value: ['rps12']\n",
      "    Key: product, Value: ['ribosomal protein S12']\n",
      "    Key: protein_id, Value: ['ABC56347.1']\n",
      "    Key: trans_splicing, Value: ['']\n",
      "    Key: transl_table, Value: ['11']\n",
      "    Key: translation, Value: ['MPTIKQLIRNTRQPIRNVTKSPALRGCPQRRGTCTRVYTITPKKPNSALRKVARVRLTSGFEITAYIPGIGHNSQEHSVVLVRGGRVKDLPGVRYHIVRGTLDAVGVKDRQQGRSKYGVKKPK']\n",
      "\n",
      "type: CDS\n",
      "location: [536:1598](-)\n",
      "qualifiers:\n",
      "    Key: codon_start, Value: ['1']\n",
      "    Key: gene, Value: ['psbA']\n",
      "    Key: product, Value: ['photosystem II protein D1']\n",
      "    Key: protein_id, Value: ['ABC56280.1']\n",
      "    Key: transl_table, Value: ['11']\n",
      "    Key: translation, Value: ['MTAILERRESESLWGRFCNWITSTENRLYIGWFGVLMIPTLLTATSVFIIAFIAAPPVDIDGIREPVSGSLLYGNNIISGAIIPTSAAIGLHFYPIWEAASVDEWLYNGGPYELIVLHFLLGVACYMGREWELSFRLGMRPWIAVAYSAPVAAATAVFLIYPIGQGSFSDGMPLGISGTFNFMIVFQAEHNILMHPFHMLGVAGVFGGSLFSAMHGSLVTSSLIRETTENESANEGYRFGQEEETYNIVAAHGYFGRLIFQYASFNNSRSLHFFLAAWPVVGIWFTALGISTMAFNLNGFNFNQSVVDSQGRVINTWADIINRANLGMEVMHERNAHNFPLDLAAIEAPSTNG']\n",
      "\n",
      "type: CDS\n",
      "location: [2123:3653](-)\n",
      "qualifiers:\n",
      "    Key: codon_start, Value: ['1']\n",
      "    Key: gene, Value: ['matK']\n",
      "    Key: product, Value: ['maturase K']\n",
      "    Key: protein_id, Value: ['ABC56281.1']\n",
      "    Key: transl_table, Value: ['11']\n",
      "    Key: translation, Value: ['MEEIHRYLQPDSSQQHNFLYPLIFQEYIYALAQDHGLNRNRSILLENSGYNNKFSFLIVKRLITRMDQQNHLIISTNDSNKNPFLGCNKSLYSQMISEGFACIVEIPFSIRLISSLSSFEGKKIFKSHNLRSIHSTFPFLEDNFSHLNYVLDILIPYPVHLEILVQTLRYWVKDASSLHLLRFFLHEYCNLNSLITSKKPGYSFSKKNQRFFFFLYNSYVYECESTFVFLRNQSSHLRSTSFGALLERIYFYGKIERLVEAFAKDFQVTLWLFKDPVMHYVRYEGKSILASKGTFPWMNKWKFYLVNFWQCHFSMYFNTGRIHINQLSNHSRDFMGYLSSVRLNHSMVRSQMLENSFLINNPIKKFDTLVPIIPLIGSLAKAHFCTGLGHPISKPVWSDLSDSDIIDRFGRICRNLFHYYSGSSKKKTLYRIKYILRLSCARTLARKHKSTVRTFLKRSGSELLEEFLTSEEEVLSLTFPRASSSLWGVYRSRIWYLDIFCINDLANSQ']\n",
      "\n",
      "type: CDS\n",
      "location: join{[6024:6064](-), [4933:5160](-)}\n",
      "qualifiers:\n",
      "    Key: codon_start, Value: ['1']\n",
      "    Key: gene, Value: ['rps16']\n",
      "    Key: product, Value: ['ribosomal protein S16']\n",
      "    Key: protein_id, Value: ['ABC56282.1']\n",
      "    Key: transl_table, Value: ['11']\n",
      "    Key: translation, Value: ['MVKLRLKRCGRKQRAVYRIVAIDVRSRREGKDLQKVGFYDPIKNQTYLNVPAILYFLEKGAQPTETVQDILKKAEVFKELRLNQPKFN']\n",
      "\n",
      "type: CDS\n",
      "location: [7583:7769](+)\n",
      "qualifiers:\n",
      "    Key: codon_start, Value: ['1']\n",
      "    Key: gene, Value: ['psbK']\n",
      "    Key: product, Value: ['photosystem II protein K']\n",
      "    Key: protein_id, Value: ['ABC56283.1']\n",
      "    Key: transl_table, Value: ['11']\n",
      "    Key: translation, Value: ['MLNTFSLIGICLNSTLYSSSFFFGKLPEAYAFLNPIVDIMPVIPLFFFLLAFVWQAAVSFR']\n",
      "\n",
      "type: CDS\n",
      "location: [8130:8241](+)\n",
      "qualifiers:\n",
      "    Key: codon_start, Value: ['1']\n",
      "    Key: gene, Value: ['psbI']\n",
      "    Key: product, Value: ['photosystem II protein I']\n",
      "    Key: protein_id, Value: ['ABC56284.1']\n",
      "    Key: transl_table, Value: ['11']\n",
      "    Key: translation, Value: ['MLTLKLFVYTVVIFFVSLFIFGFLSNDPGRNPGREE']\n",
      "\n",
      "type: CDS\n",
      "location: [10220:11744](-)\n",
      "qualifiers:\n",
      "    Key: codon_start, Value: ['1']\n",
      "    Key: gene, Value: ['atpA']\n",
      "    Key: product, Value: ['ATP synthase CF1 alpha subunit']\n",
      "    Key: protein_id, Value: ['ABC56285.1']\n",
      "    Key: transl_table, Value: ['11']\n",
      "    Key: translation, Value: ['MVTIRADEISNIIRERIEQYNREVKIVNTGTVLQVGDGIARIHGLDEVMAGELVEFEEGTIGIALNLESNNVGVVLMGDGLLIQEGSSVKATGRIAQIPVSEAYLGRVVNALAKPIDGRGEISASEFRLIESAAPGIISRRSVYEPLQTGLIAIDSMIPIGRGQRELIIGDRQTGKTAVATDTILNQQGQNVICVYVAIGQKASSVAQVVTTLQERGAMEYTIVVAETADSPATLQYLAPYTGAALAEYFMYRERHTLIIYDDLSKQAQAYRQMSLLLRRPPGREAYPGDVFYLHSRLLERAAKLSSSLGEGSMTALPIVETQSGDVSAYIPTNVISITDGQIFLSADLFNSGIRPAINVGISVSRVGSAAQIKAMKQVAGKLKLELAQFAELEAFAQFASDLDKATQNQLARGQRLRELLKQSQSAPLTVEEQIMTIYTGTNGYLDSLEVGQVRKFLVELRTYLKTTKPQFQEIISSTKTFTEEAEALLKEAIQEQMDRFILQEQA']\n",
      "\n",
      "type: CDS\n",
      "location: join{[12896:13040](-), [11799:12210](-)}\n",
      "qualifiers:\n",
      "    Key: codon_start, Value: ['1']\n",
      "    Key: gene, Value: ['atpF']\n",
      "    Key: product, Value: ['ATP synthase CF0 subunit I']\n",
      "    Key: protein_id, Value: ['ABC56286.1']\n",
      "    Key: transl_table, Value: ['11']\n",
      "    Key: translation, Value: ['MKNVTDSFVSLGHWPSAGSFGFNTDILATNPINLSVVLGVLIFFGKGVLSDLLDNRKQRILNTIRNSEELRGGAIEQLEKARSRLRKVETEAEQFRVNGYSEIEREKLNLINSTYKTLEQLENYKNETIQFEQQRAINQVRQRVFQQALRGALGTLNSCLNNELHLRTISANIGMLGTMKEITD']\n",
      "\n",
      "type: CDS\n",
      "location: [13438:13684](-)\n",
      "qualifiers:\n",
      "    Key: codon_start, Value: ['1']\n",
      "    Key: gene, Value: ['atpH']\n",
      "    Key: product, Value: ['ATP synthase CF0 subunit III']\n",
      "    Key: protein_id, Value: ['ABC56287.1']\n",
      "    Key: transl_table, Value: ['11']\n",
      "    Key: translation, Value: ['MNPLISAASVIAAGLAVGLASIGPGVGQGTAAGQAVEGIARQPEAEGKIRGTLLLSLAFMEALTIYGLVVALALLFANPFV']\n",
      "\n",
      "type: CDS\n",
      "location: [14841:15585](-)\n",
      "qualifiers:\n",
      "    Key: codon_start, Value: ['1']\n",
      "    Key: gene, Value: ['atpI']\n",
      "    Key: product, Value: ['ATP synthase CF0 subunit IV']\n",
      "    Key: protein_id, Value: ['ABC56288.1']\n",
      "    Key: transl_table, Value: ['11']\n",
      "    Key: translation, Value: ['MNVLSCSINTLKGLYDISGVEVGQHFYWQIGGFQVHGQVLITSWVVIAILLGSATIAVRNPQTIPTGGQNFFEYVLEFIRDVSKTQIGEEYGPWVPFIGTMFLFIFVSNWSGALLPWKIIQLPHGELAAPTNDINTTVALALLTSVAYFYAGLTKRGLGYFGKYIQPTPILLPINILEDFTKPLSLSFRLFGNILADELVVVVLVSLVPLVVPIPVMLLGLFTSGIQALIFATLAAAYIGESMEGHH']\n",
      "\n",
      "type: CDS\n",
      "location: [15821:16532](-)\n",
      "qualifiers:\n",
      "    Key: codon_start, Value: ['1']\n",
      "    Key: gene, Value: ['rps2']\n",
      "    Key: product, Value: ['ribosomal protein S2']\n",
      "    Key: protein_id, Value: ['ABC56289.1']\n",
      "    Key: transl_table, Value: ['11']\n",
      "    Key: translation, Value: ['MTRRYWNINLEEMMEAGVHFGHGTRKWNPKMAPYISAKRKGIHITNLTRTARFLSEACDLVFDAASRGKQFLIVGTKNKAADSVEWAAIRARCHYVNKKWLGGMLTNWSTTETRLHKFRDLRMEQKTGRLNRLPKRDAAMLKRQLSRLQTYLGGIKYMTGVPDIVIIVDQHEEYTALRECITLGIPTICLTDTNCDPDLADISIPANDDAISSIRLILNKLVFAICEGRSSYIRNP']\n",
      "\n",
      "type: CDS\n",
      "location: [16757:20936](-)\n",
      "qualifiers:\n",
      "    Key: codon_start, Value: ['1']\n",
      "    Key: gene, Value: ['rpoC2']\n",
      "    Key: product, Value: [\"RNA polymerase beta' subunit\"]\n",
      "    Key: protein_id, Value: ['ABC56290.1']\n",
      "    Key: transl_table, Value: ['11']\n",
      "    Key: translation, Value: ['MEVLMAERANLVFHNKAIDGTAMKRLISRLIEHFGMAYTSHILDQVKTLGFQQATATSISLGIDDLLTIPSKGWLVQDAEQQSLILEKHHQYGNVHAVEKLRQSIEIWYATSEYLRQEMNPNFRMTDPFNPVHIMSFSGARGNASQVHQLVGMRGLMSDPQGQMIDLPIQSNLREGLSLTEYIISCYGARKGVVDTAVRTSDAGYLTRRLVEVVQHIVVRRTDCGTARGISVSPRNGIMPERIFSQTLIGRVLADDIYMGSRCIATRNQAIGIGLVNRFITFRAQPISIRTPFTCRSTSWICRLCYGRSPTHGDLVELGEAVGIIAGQSIGEPGTQLTLRTFHTGGVFTGGTAEHVRAPSNGKIKFNEDLVHPTRTRHGHPAFLCSIDLYVTIESEDILHNVNIPPKSLLLVQNDQYVESEQVIAEIRAGISTLNFKEKVRKHIYSDSDGEMHWSTDVYHAPEFTYGNVHLLPKTSHLWILLGGPCRSSLVYLSIHKDQDQMNAHSLSGKRRYTSNLSVTNDQARQKLFSSDFYGQKEDRIPDYSDLNRIICTGQYNLVYSPILHGNSALLSKRRRNKFIIPLHSIQELENELMPCSGISIEIPVNGIFRRNSILAYFDDPRYRRKSSGIIKYGTIETHSVIKKEDLIEYRGVKEFRPKYQMKVDRFFFIPEEVHILPGSSSLMVRNNSIVGVDTQITLNLRSRVGGLVRVERKKKRIELKIFSGDIHFPGETDKISRHTGVLIPPGTGKRNSKEYKKVQNWIYVQRITPSKKRFFVLVRPVVTYEITDGINLGTLFPPDPLQERDNVQLRIVNYILYGNGKPIRGISDTSIQLVRTCLVLNWNQDKKSSSCEEARASFVEIRTNGLIRHFLKINLVKSPISYIGKRNDPSGSGLLSDNGSDCTNINPFSAIYSYSKAKIQQSLNQPQGTIHTLLNRNKECQSLIILSAANCSRMEPFKDVKYHSVIKESIKKDPLIPIRNSLGPLGTCLPIENFYSSYHLITHNQILVTKYLQLDNLKQTFQVIKLKYYLMDENGKIFNPDPCRNIILNPFNLNWSFLHHYYCAETSKIISLGQFICENVCIAKNGPPLKSGQVILVQVDSIVIRSAKPYLATPGATVHGHYGETLYEGDTLVTFIYEKSRSGDITQGLPKVEQVLEVRSIDSISMNLEKRVEGWNKCIPRILGIPWGFLIGAELTIAQSRISLVNKIQQVYRSQGVQIHNRHIEIIVRQITSKVLISEDGMSNVFSPGELIGLLRAERMGRALEEAICYRVVLLGITRASLNTQSFISEASFQETARVLAKAALRGRIDWLKGLKENVVLGGVIPVGTGFKGLVHPSKQHNNIPLETKKTNLFEGEMRDILFHHRKLFDSCLSKKFHDIPEQSFIGFNDS']\n",
      "\n",
      "type: CDS\n",
      "location: join{[23427:23880](-), [21076:22690](-)}\n",
      "qualifiers:\n",
      "    Key: codon_start, Value: ['1']\n",
      "    Key: gene, Value: ['rpoC1']\n",
      "    Key: product, Value: ['RNA polymerase beta subunit']\n",
      "    Key: protein_id, Value: ['ABC56291.1']\n",
      "    Key: transl_table, Value: ['11']\n",
      "    Key: translation, Value: ['MNNNFSSMIDRYKHQQLRIGSVSPQQISAWATKILPNGEIVGEVTKPYTFHYKTNKPEKDGLFCERIFGPIKSGICACGNYRVIGDEKEDPKFCEQCGVEFVDSRIRRYQMGYIKLACPVTHVWYLKRLPSYIANLLDKPLKELEGLVYCDFSFARPITKKPTFLRLRGLFEYEIQSWKYSIPLFFTTQGFDTFRNREISTGAGAIREQLADLDLRIIIENSLVEWEELGEEGHTGNEWEDRKVGRRKDFLVRRVELAKHFIRTNIEPEWMVLCLLPVLPPELRPIIQIDGGKLMSSDINELYRRVIYRNNTLTDLLTTSRSTPGELVMCQEKLVQEAVDTLLDNGIRGQPMRDGHNKVYKSFSDVIEGKEGRFRETLLGKRVDYSGRSVIVVGPSLSLHRCGLPREIAIELFQTFVIRGLIRQHLASNIGVAKSKIREKEPIVWEILQEVMQGHPVLLNRAPTLHRLGIQAFQPVLVEGRAICLHPLVCKGFNADFDGDQMAVHVPLSLEAQVEARLLMFSHMNLLSPAIGDPISVPTQDMLIGLYVLTSGNHRGICVNRYNPCNRRNYQNQKRSDNSYYKYTKEPFFSNSYDAIGAYRQKRINLDSPLWLRWRLDQRVIASRETPIEVHYESLGTFYEIYGHYLIVRSLKKKILFIYIRTTVGHIALYREIEEAIQGFSRAYSYAT']\n",
      "\n",
      "type: CDS\n",
      "location: [23885:27098](-)\n",
      "qualifiers:\n",
      "    Key: codon_start, Value: ['1']\n",
      "    Key: gene, Value: ['rpoB']\n",
      "    Key: product, Value: ['RNA polymerase beta subunit']\n",
      "    Key: protein_id, Value: ['ABC56292.1']\n",
      "    Key: transl_table, Value: ['11']\n",
      "    Key: translation, Value: ['MLGDGNEGISTIPGFNQIQFEGFCRFIDQGLTEELYKFPKIEDTDQEIEFQLFVETYQLVEPLIKERDAVYESLTYSSELYVSAGLIWKNSRDMQEQTIFIGNIPLMNSLGTSIVNGIYRIVINQILQSPGIYYRSELDHNGISVYTGTIISDWGGRSELEIDRKARIWARVSRKQKISILVLSSAMGLNLREILENVCYPEIFLSFLNDKERKKIGSKENSILEFYQQFACVGGDPVFSESLCKELQKKFFQQRCELGRIGRRNMNRKLNLDIPQNNTFLLPRDILAAADHLIGLKFGMGALDDMNHLKNKRIRSVADLLQDQFGLALVRLENVVRGTICGAIRHKLIPTPQNLVTSPPLTTTYESFFGLHPLSQVLDRTNPLTQIVHGRKLSYLGPGGLTGRTASFRIRDIHPSHYGRICPIDTSEGINVGLIGSLSIHARIGHWGSLESPFYEISERSTGVRMLYLSPGSDEYYMVAAGNSLALNRDIQEEQVVPARYRQEFLTIAWEQVHLRSIFPFQYFSIGASLIPFIEHNDANRALMSSNMQRQAVPLSRSEKCIVGTGLERQAALDSGALAIAEREGRIVYTNTHKILLAGNGDILSIPLVIYQRSNKNTCMHQKFRVPRGKCIKKGQILADGAATVGGELALGKNVLVAYMPWEGYNSEDAVLISERLVYEDIYTSFHIRKYEIHTHVTSQGPEKVTNEIPHLEAHLLRNLDKKGIVMLGSWVETGDILVGKLTPQVVKESSYAPEDRLLRAILGIQVSTSKETCLKLPIGGRGRVIDVRWIQKRGGSSYNPETIRVYISQKREIKVGDKVAGRHGNKGIISKILPRQDMPYLQDGRSVDMVFNPLGVPSRMNVGQIFECSLGLAGSLLDRHYRIAPFDERYEQEASRKLVFSELYEASKQTANPWVFEPEYPGKSRIFDGRTGNPFEQPVIIGKPYILKLIHQVDDKIHGRSSGHYALVTQQPLRGRAKQGGQRVGEMEVWALEGFGVAHILQEMLTYKSDHIRARQEVLGTTIIGGTIPNPEDAPESFRLLVRELRSLALELNHFLVSEKNFQINRKEA']\n",
      "\n",
      "type: CDS\n",
      "location: [29140:29230](+)\n",
      "qualifiers:\n",
      "    Key: codon_start, Value: ['1']\n",
      "    Key: gene, Value: ['petN']\n",
      "    Key: product, Value: ['cytochrome b6/f complex subunit VIII']\n",
      "    Key: protein_id, Value: ['ABC56293.1']\n",
      "    Key: transl_table, Value: ['11']\n",
      "    Key: translation, Value: ['MDIVSLAWAALMVVFTFSLSLVVWGRSGL']\n",
      "\n",
      "type: CDS\n",
      "location: [30337:30442](-)\n",
      "qualifiers:\n",
      "    Key: codon_start, Value: ['1']\n",
      "    Key: gene, Value: ['psbM']\n",
      "    Key: product, Value: ['photosystem II protein M']\n",
      "    Key: protein_id, Value: ['ABC56294.1']\n",
      "    Key: transl_table, Value: ['11']\n",
      "    Key: translation, Value: ['MEVNILAFIATALFILVPTAFLLIIYVKTVSQND']\n",
      "\n",
      "type: CDS\n",
      "location: [33581:34643](+)\n",
      "qualifiers:\n",
      "    Key: codon_start, Value: ['1']\n",
      "    Key: gene, Value: ['psbD']\n",
      "    Key: product, Value: ['photosystem II protein D2']\n",
      "    Key: protein_id, Value: ['ABC56295.1']\n",
      "    Key: transl_table, Value: ['11']\n",
      "    Key: translation, Value: ['MTIAIGKFTKDENDLFDIMDDWLRRDRFVFVGWSGLLLFPCAYFAVGGWFTGTTFVTSWYTHGLASSYLEGCNFLTAAVSTPANSLAHSLLLLWGPEAQGDFTRWCQLGGLWTFVALHGAFGLIGFMLRQFELARSVQLRPYNAIAFSGPIAVFVSVFLIYPLGQSGWFFAPSFGVAAIFRFILFFQGFHNWTLNPFHMMGVAGVLGAALLCAIHGATVENTLFEDGDGANTFRAFNPTQAEETYSMVTANRFWSQIFGVAFSNKRWLHFFMLFVPVTGLWMSALGVVGLALNLRAYDFVSQEIRAAEDPEFETFYTKNILLNEGIRAWMAAQDQPHENLIFPEEVLPRGNAL']\n",
      "\n",
      "type: CDS\n",
      "location: [34590:36012](+)\n",
      "qualifiers:\n",
      "    Key: codon_start, Value: ['1']\n",
      "    Key: gene, Value: ['psbC']\n",
      "    Key: product, Value: ['photosystem II CP43 chlorophyll apoprotein']\n",
      "    Key: protein_id, Value: ['ABC56296.1']\n",
      "    Key: transl_table, Value: ['11']\n",
      "    Key: translation, Value: ['MKTLYSLRRFYHVETLFNGTLALAGRDQETTGFAWWAGNARLINLSGKLLGAHVAHAGLIVFWAGAMNLFEVAHFVPEKPMYEQGLILLPHLATLGWGVGPGGEVIDTFPYFVSGVLHLISSAVLGFGGIYHALLGPETLEESFPFFGYVWKDRNKMTTILGIHLILLGIGAFLLVFKALYFGGVYDTWAPGGGDVRKITNLTLSPSIIFGYLLKSPFGGEGWIVSVDDLEDIIGGHVWLGSICILGGIWHILTKPFAWARRALVWSGEAYLSYSLGALAVFGFIACCFVWFNNTAYPSEFYGPTGPEASQAQAFTFLVRDQRLGANVGSAQGPTGLGKYLMRSPTGEVIFGGETMRFWDLRAPWLEPLRGPNGLDLSRLKKDIQPWQERRSAEYMTHAPLGSLNSVGGVATEINAVNYVSPRSWLATSHFVLGFFFFVGHLWHAGRARAAAAGFEKGIDRDFEPVLSMTPLN']\n",
      "\n",
      "type: CDS\n",
      "location: [36705:36894](+)\n",
      "qualifiers:\n",
      "    Key: codon_start, Value: ['1']\n",
      "    Key: gene, Value: ['psbZ']\n",
      "    Key: product, Value: ['photosystem II protein Z']\n",
      "    Key: protein_id, Value: ['ABC56297.1']\n",
      "    Key: transl_table, Value: ['11']\n",
      "    Key: translation, Value: ['MTLAFQLAVFALIATSLILLISVPVVFASPDGWSSNKNVVFSGTSLWIGLVFLVGILNSLIS']\n",
      "\n",
      "type: CDS\n",
      "location: [37667:37970](-)\n",
      "qualifiers:\n",
      "    Key: codon_start, Value: ['1']\n",
      "    Key: gene, Value: ['rps14']\n",
      "    Key: product, Value: ['ribosomal protein S14']\n",
      "    Key: protein_id, Value: ['ABC56298.1']\n",
      "    Key: transl_table, Value: ['11']\n",
      "    Key: translation, Value: ['MARKSLIQREKKRQKLEQKYHSIRRSSKKEISKVPSLSDKWEIYGKLQSLPRNSAPTRLHRRCFLTGRPRANYRDFGLSGHILREMVHACLLPGATRSSW']\n",
      "\n",
      "type: CDS\n",
      "location: [38088:40293](-)\n",
      "qualifiers:\n",
      "    Key: codon_start, Value: ['1']\n",
      "    Key: gene, Value: ['psaB']\n",
      "    Key: product, Value: ['photosystem I P700 apoprotein A2']\n",
      "    Key: protein_id, Value: ['ABC56299.1']\n",
      "    Key: transl_table, Value: ['11']\n",
      "    Key: translation, Value: ['MALRFPRFSQGLAQDPTTRRIWFGIATAHDFESHDDITEERLYQNIFASHFGQLAIIFLWTSGNLFHVAWQGNFESWVQDPLHVRPIAHAIWDPHFGQPAVEAFTRGGALGPVNIAYSGVYQWWYTIGLRTNEDLYTGALFLLFLSAISLIAGWLHLQPKWKPSVSWFKNAESRLNHHLSGLFGVSSLAWTGHLVHVAIPASRGEYVRWNNFLDVLPHPQGLGPLFTGQWNLYAQNPDSSSHLFGTAEGAGTAILTLLGGFHPQTQSLWLTDIAHHHLAIAFIFLVAGHMYRTNFGIGHSMKDLLDAHIPPGGRLGRGHKGLYDTINNSLHFQLGLALASLGVITSLVAQHMYSLPAYAFIAQDFTTQAALYTHHQYIAGFIMTGAFAHGAIFFIRDYNPEQNEDNVLARMLDHKEAIISHLSWASLFLGFHTLGLYVHNDVMLAFGTPEKQILIEPIFAQWIQSAHGKTSYGFDVLLSSTTGPAFNAGRSIWLPGWLNAVNENSNSLFLTIGPGDFLVHHAIALGLHTTTLILVKGALDARGSKLMPDKKDFGYSFPCDGPGRGGTCDISAWDAFYLAVFWMLNTIGWVTFYWHWKHITLWQGNVSQFNESSTYLMGWLRDYLWLNSSQLINGYNPFGMNSLSVWAWMFLFGHLVWATGFMFLISWRGYWQELIETLAWAHERTPLANLIRWRDKPVALSIVQARLVGLAHFSVGYIFTYAAFLIASTSGKFG']\n",
      "\n",
      "type: CDS\n",
      "location: [40318:42571](-)\n",
      "qualifiers:\n",
      "    Key: codon_start, Value: ['1']\n",
      "    Key: gene, Value: ['psaA']\n",
      "    Key: product, Value: ['photosystem I P700 apoprotein A1']\n",
      "    Key: protein_id, Value: ['ABC56300.1']\n",
      "    Key: transl_table, Value: ['11']\n",
      "    Key: translation, Value: ['MIIRSPEPEVKILVDRDPVKTSFEEWARPGHFSRTIAKGPDTTTWIWNLHADAHDFDSHTSDLEEISRKVFSAHFGQLSIIFLWLSGMYFHGARFSNYEAWLSDPTHIGPSAQVVWPIVGQEILNGDVGGGFRGIQITSGFFQLWRASGITSELQLYCTAIGALVFAALMLFAGWFHYHKAAPKLAWFQDVESMLNHHLAGLLGLGSLSWAGHQVHVSLPINQFLNAGVDPKEIPLPHEFILNRDLLAQLYPSFAEGATPFFTLNWSKYADFLTFRGGLDPVTGGLWLTDIAHHHLAIAILFLIAGHMYRTNWGIGHGLKDILEAHKGPFTGQGHKGLYEILTTSWHAQLSLNLAMLGSLTIVVAHHMYSMPPYPYLATDYGTQLSLFTHHMWIGGFLIVGAAAHAAIFMVRDYDPTTRYNDLLDRVLRHRDAIISHLNWACIFLGFHSFGLYIHNDTMSALGRPQDMFSDTAIQLQPVFAQWIQNTHALAPGATAPGATASTSLTWGGGDLVAVGGKVALLPIPLGTADFLVHHIHAFTIHVTVLILLKGVLFARSSRLIPDKANLGFRFPCDGPGRGGTCQVSAWDHVFLGLFWMYNSISVVIFHFSWKMQSDVWGSVSDQGVVTHITGGNFAQSSITINGWLRDFLWAQASQVIQSYGSSLSAYGLFFLGAHFVWAFSLMFLFSGRGYWQELIESIVWAHNKLKVAPATQPRALSIIQGRAVGVTHYLLGGIATTWAFFLARIIAVG']\n",
      "\n",
      "type: CDS\n",
      "location: join{[45191:45315](-), [44232:44462](-), [43329:43482](-)}\n",
      "qualifiers:\n",
      "    Key: codon_start, Value: ['1']\n",
      "    Key: gene, Value: ['ycf3']\n",
      "    Key: product, Value: ['photosystem I assembly protein ycf3']\n",
      "    Key: protein_id, Value: ['ABC56301.1']\n",
      "    Key: transl_table, Value: ['11']\n",
      "    Key: translation, Value: ['MPRSRINGNFIDKTFSIVADILLRVIPTTSGEKEAFTYYRDGMSAQSEGNYAEALQNYYEAMRLEIDPYDRSYILYNIGLIHTSNGEHTKALEYYFRALERNPFLPQAFNNMAVICHYRGEQAIQQGDSEIAEAWFDQAAEYWKQAIALTPGNYIEARNWLKITRRFE']\n",
      "\n",
      "type: CDS\n",
      "location: [46605:47211](-)\n",
      "qualifiers:\n",
      "    Key: codon_start, Value: ['1']\n",
      "    Key: gene, Value: ['rps4']\n",
      "    Key: product, Value: ['ribosomal protein S4']\n",
      "    Key: protein_id, Value: ['ABC56302.1']\n",
      "    Key: transl_table, Value: ['11']\n",
      "    Key: translation, Value: ['MSRYRGPRFKKIRRLGALPGLTNKKPRTGSDLRNQSRSGKKSQYRIRLEEKQKLRFHYGLTERQLLKYVRIARKAKGSTGQVLLQLLEMRLDNILFRLGMASTIPAARQLVNHRHILVNGHIVDIPSYRCKPRDIITAKDEQKSRALIQISLDSSPHEELPNHLTLQPFQYKGLVNQIIDSKWVGLKINELLVVEYYSRQT']\n",
      "\n",
      "type: CDS\n",
      "location: [50070:50547](-)\n",
      "qualifiers:\n",
      "    Key: codon_start, Value: ['1']\n",
      "    Key: gene, Value: ['ndhJ']\n",
      "    Key: product, Value: ['NADH-plastoquinone oxidoreductase subunit J']\n",
      "    Key: protein_id, Value: ['ABC56303.1']\n",
      "    Key: transl_table, Value: ['11']\n",
      "    Key: translation, Value: ['MQGRLSAWLVKHGLIHRSLGFDYQGIETLQIKPEDWHSIAVIFYVYGYNYLRSQCAYDVAPGGLLASVYHLTRIEDGVAQPEELCIKVFASRRNPRIPSVFWVWKSVDFQERESYDMLGISYDNHPRLKRILMPESWIGWPLRKDYIAPNFYEIQDAH']\n",
      "\n",
      "type: CDS\n",
      "location: [50652:51507](-)\n",
      "qualifiers:\n",
      "    Key: codon_start, Value: ['1']\n",
      "    Key: gene, Value: ['ndhK']\n",
      "    Key: product, Value: ['NADH-plastoquinone oxidoreductase subunit K']\n",
      "    Key: protein_id, Value: ['ABC56304.1']\n",
      "    Key: transl_table, Value: ['11']\n",
      "    Key: translation, Value: ['MGNEFRRIGCICIYRSFHFRAYLNYWFSLCMAKGGIGMVLAPEYSDNKKKNGKNKIETVMNSIQFPLLDRTAPNSVISTTLNDLSNWSRLSSLWPLLYGTSCCFIEFASLIGSRFDFDRYGLVPRSSPRQSDLILTAGTVTMKMAPSLVRLYEQMPEPKYVIAMGACTITGGMFSTDSYSTVRGVDKLIPVDVYLPGCPPKPEAVIDAITKLRKKISRELYEDRIRSQRANRCFTTNHKFHVRRSIHTGNYDQRVLYQPPSTSEIPTEIFFKYKNSVSSAELVN']\n",
      "\n",
      "type: CDS\n",
      "location: [51386:51749](-)\n",
      "qualifiers:\n",
      "    Key: codon_start, Value: ['1']\n",
      "    Key: gene, Value: ['ndhC']\n",
      "    Key: product, Value: ['NADH-plastoquinone oxidoreductase subunit 3']\n",
      "    Key: protein_id, Value: ['ABC56305.1']\n",
      "    Key: transl_table, Value: ['11']\n",
      "    Key: translation, Value: ['MFLLYEYDFFWAFLIISILVPILAFFISGVLAPISKGPEKLSTYESGIEPMGDAWLQFRIRYYMFALVFVVFDVETVFLYPWAMSFDVLGVSVFIEAFIFVLILIIGLVYAWRKGALEWS']\n",
      "\n",
      "type: CDS\n",
      "location: [53973:54375](-)\n",
      "qualifiers:\n",
      "    Key: codon_start, Value: ['1']\n",
      "    Key: gene, Value: ['atpE']\n",
      "    Key: product, Value: ['ATP synthase CF1 epsilon subunit']\n",
      "    Key: protein_id, Value: ['ABC56306.1']\n",
      "    Key: transl_table, Value: ['11']\n",
      "    Key: translation, Value: ['MTLNLSVLTPNRIVWDSEVEEIVLSTNSGQIGILPNHAPIATAVDIGILRIRLNDQWLTMALMGGFARIGNNEITVLVNDAEKGSDINPQEAQQTLEIAEANVKKAEGRRQKIEANLALRRARTRVEASNPIS']\n",
      "\n",
      "type: CDS\n",
      "location: [54371:55868](-)\n",
      "qualifiers:\n",
      "    Key: codon_start, Value: ['1']\n",
      "    Key: gene, Value: ['atpB']\n",
      "    Key: product, Value: ['ATP synthase CF1 beta subunit']\n",
      "    Key: protein_id, Value: ['ABC56307.1']\n",
      "    Key: transl_table, Value: ['11']\n",
      "    Key: translation, Value: ['MRINPTTSGSGVSTLEKKNPGRVVQIIGPVLDVAFPPGKMPNIYNALVVQGRDSVGQPINVACEVQQLLGNNRVRAVAMSATEGLTRGMAVIDTGAPISVPVGGATLGRIFNVLGEPVDNLGPVDTSTTSPIHRSAPAFIQLDTKLSIFETGIKVVDLLAPYRRGGKIGLFGGAGVGKTVLIMELINNIAKAHGGVSVFGGVGERTREGNDLYMEMKESGVINKENIAESKVALVYGQMNEPPGARMRVGLTALTMAEYFRDVNEQDVLLFIDNIFRFVQAGSEVSALLGRMPSAVGYQPTLSTEMGSLQERITSTKEGSITSIQAVYVPADDLTDPAPATTFAHLDATTVLSRGLAAKGIYPAVDPLDSTSTMLQPRIVGEEHYETAQRVKQTLQRYKELQDIIAILGLDELSEEDRLLVARARKIERFLSQPFFVAEVFTGSPGKYVGLAETIRGFQLILSGELDGLPEQAFYLVGTIDEATAKAMNLEMESNLKK']\n",
      "\n",
      "type: CDS\n",
      "location: [56682:58116](+)\n",
      "qualifiers:\n",
      "    Key: codon_start, Value: ['1']\n",
      "    Key: gene, Value: ['rbcL']\n",
      "    Key: product, Value: ['ribulose-1,5-bisphosphate carboxylase/oxygenase large subunit']\n",
      "    Key: protein_id, Value: ['ABC56308.1']\n",
      "    Key: transl_table, Value: ['11']\n",
      "    Key: translation, Value: ['MSPQTETKASVGFKAGVKEYKLTYYTPEYQTKDTDILAAFRVTPQPGVPPEEAGAAVAAESSTGTWTTVWTDGLTSLDRYKGRCYRIERVVGEKDQYIAYVAYPLDLFEEGSVTNMFTSIVGNVFGFKALRALRLEDLRIPPAYVKTFQGPPHGIQVERDKLNKYGRPLLGCTIKPKLGLSAKNYGRAVYECLRGGLDFTKDDENVNSQPFMRWRDRFLFCAEALFKAQTETGEIKGHYLNATAGTCEEMIKRAVFARELGVPIVMHDYLTGGFTANTTLAHYCRDNGLLLHIHRAMHAVIDRQKNHGIHFRVLAKALRMSGGDHIHSGTVVGKLEGERDITLGFVDLLRDDFVEQDRSRGIYFTQDWVSLPGVLPVASGGIHVWHMPALTEIFGDDSVLQFGGGTLGHPWGNAPGAVANRVALEACVKARNEGRDLAREGNEIIREACKWSPELAAACEVWKEIVFNFAAVDVLDK']\n",
      "\n",
      "type: CDS\n",
      "location: [58875:60399](+)\n",
      "qualifiers:\n",
      "    Key: codon_start, Value: ['1']\n",
      "    Key: gene, Value: ['accD']\n",
      "    Key: product, Value: ['acetyl-CoA carboxylase carboxyltransferase beta subunit']\n",
      "    Key: protein_id, Value: ['ABC56309.1']\n",
      "    Key: transl_table, Value: ['11']\n",
      "    Key: translation, Value: ['MTIHLLYFHANRGQENSMERWWFNSMLFKKEFERRCGLNKSMGSLGPIENTSEDPNLKVKNIHSCSNVDYLFGVKDIWNFISNDTFLVSDRNGDSYSIYFDIENHIFEVDNDHSFLSELESSFYSYRNSSYLNNGFRGEDPYYNSYMSYMYDTQYSWNNHINSCIDNYLQSQICIDTSIISGSESNGDSYIYRAICSGQSLNSSENEGSSRRTRTKDSDLTIRESSNDLEVTQKYKHLWVQCENCYGLNYKKFLKSKMNICEQCGYHLKMSSSDRIELLIDPGTWDPMDEDMVSLDPIEFHSEEEPYKDRIDSYQRKTGLTEAVQTGIGQLNGIPVAIGVMDFQFMGGSMGSVVGEKITRLIEHAANQNLPLMIVCASGGARMQEGSLSLMQMAKISSALYDYQLNKKLFYVSILTSPTTGGVTASFGMLGDIIIAEPNAYIAFAGKRVIEQTLNKTVPEGSQAAEYLFQKGLFDLIVPRNLLKSVLSELFKLHAFFPLNQKSSKIK']\n",
      "\n",
      "type: CDS\n",
      "location: [61145:61256](+)\n",
      "qualifiers:\n",
      "    Key: codon_start, Value: ['1']\n",
      "    Key: gene, Value: ['psaI']\n",
      "    Key: product, Value: ['photosystem I subunit VIII']\n",
      "    Key: protein_id, Value: ['ABC56310.1']\n",
      "    Key: transl_table, Value: ['11']\n",
      "    Key: translation, Value: ['MTNLNLPSIFVPLVGLVFPAIAMASLFLHVQKNKIV']\n",
      "\n",
      "type: CDS\n",
      "location: [61700:62255](+)\n",
      "qualifiers:\n",
      "    Key: codon_start, Value: ['1']\n",
      "    Key: gene, Value: ['ycf4']\n",
      "    Key: product, Value: ['photosystem I assembly protein ycf4']\n",
      "    Key: protein_id, Value: ['ABC56311.1']\n",
      "    Key: transl_table, Value: ['11']\n",
      "    Key: translation, Value: ['MTWRSDDIWIELITGSRKISNFCWALILFLGSLGFLLVGTSSYLGRNLLSFFPPQQIIFFPQGIVMSFYGIAGLFISSYLWCTISWNVGSGYDRFDRKEGIVCIFRWGFPGKNRRIFLRFLIKDIQSVRIEVKEGIYARRVLYMDIRGQGSIPLTRTDENLTPREIEQKAAELAYFLRVPIEVF']\n",
      "\n",
      "type: CDS\n",
      "location: [62984:63674](+)\n",
      "qualifiers:\n",
      "    Key: codon_start, Value: ['1']\n",
      "    Key: gene, Value: ['cemA']\n",
      "    Key: product, Value: ['chloroplast envelope membrane protein']\n",
      "    Key: protein_id, Value: ['ABC56312.1']\n",
      "    Key: transl_table, Value: ['11']\n",
      "    Key: translation, Value: ['MAKKKAFTPLFYLASIVFLPWWISFSVNKWLESWVTNWWNTGQSQIVLNNIQEKSLLEKFRELEELLFLDEMIKEYSETHLEEFGIGIHKETIQLITIQNENRMDTILHFSTNIIWFGILSGYSILGKEKLVILNSWAQEFLYNLSDTAKALCILLVSEFFLGYHSPPGWEFVIRSIYNEVGVVANEQTITILVCILPVIFDTCFKYWLFRYLTSLSPSILLLYDSITE']\n",
      "\n",
      "type: CDS\n",
      "location: [63893:64856](+)\n",
      "qualifiers:\n",
      "    Key: codon_start, Value: ['1']\n",
      "    Key: gene, Value: ['petA']\n",
      "    Key: product, Value: ['cytochrome f']\n",
      "    Key: protein_id, Value: ['ABC56313.1']\n",
      "    Key: transl_table, Value: ['11']\n",
      "    Key: translation, Value: ['MQTRNAFSWLKKQITRSISVSLMIYILTRTSISSAYPIFAQQGYENPREATGRIVCANCHLANKPVEIEVPQAVLPDTVFEAVVRIPYDMQLKQVLANGKKGGLNVGAVLILPEGFELAPPDRISPEMKEKIGNLSFQSYRPNKTNILVVGPVPGKKYSEITFPILSPDPATKKDVHFLKYPIYVGGNRGRGQIYPDGNKSNNTVYNATAAGIVSKIIRKEKGGYEITITDASEGRQVVDIIPPGPELLVSEGESIKFDQPLTSNPNVGGFGQGDAEIVLQDPLRVQGLLFFLASVILAQIFLVLKKKQFEKVQLAEMNF']\n",
      "\n",
      "type: CDS\n",
      "location: [65924:66047](-)\n",
      "qualifiers:\n",
      "    Key: codon_start, Value: ['1']\n",
      "    Key: gene, Value: ['psbJ']\n",
      "    Key: product, Value: ['photosystem II protein J']\n",
      "    Key: protein_id, Value: ['ABC56314.1']\n",
      "    Key: transl_table, Value: ['11']\n",
      "    Key: translation, Value: ['MADTTGRIPLWIIGTVAGILVIGLIGIFFYGSYSGLGSSL']\n",
      "\n",
      "type: CDS\n",
      "location: [66171:>66288](-)\n",
      "qualifiers:\n",
      "    Key: codon_start, Value: ['1']\n",
      "    Key: gene, Value: ['psbL']\n",
      "    Key: note, Value: ['start codon may be formed as a result of RNA editing']\n",
      "    Key: product, Value: ['photosystem II protein L']\n",
      "    Key: protein_id, Value: ['ABC56315.1']\n",
      "    Key: transl_table, Value: ['11']\n",
      "    Key: translation, Value: ['TTQSNPNEQNVELNRTSLYWGLLLIFVLAVLFSNYFFN']\n",
      "\n",
      "type: CDS\n",
      "location: [66310:66430](-)\n",
      "qualifiers:\n",
      "    Key: codon_start, Value: ['1']\n",
      "    Key: gene, Value: ['psbF']\n",
      "    Key: product, Value: ['photosystem II cytochrome b559 beta subunit']\n",
      "    Key: protein_id, Value: ['ABC56316.1']\n",
      "    Key: transl_table, Value: ['11']\n",
      "    Key: translation, Value: ['MTIDRTYPIFTVRWLAVHGLAVPTVFFLGSISAMQFIQR']\n",
      "\n",
      "type: CDS\n",
      "location: [66439:66691](-)\n",
      "qualifiers:\n",
      "    Key: codon_start, Value: ['1']\n",
      "    Key: gene, Value: ['psbE']\n",
      "    Key: product, Value: ['photosystem II cytochrome b559 alpha subunit']\n",
      "    Key: protein_id, Value: ['ABC56317.1']\n",
      "    Key: transl_table, Value: ['11']\n",
      "    Key: translation, Value: ['MSGSTGERSFADIITSIRYWVIHSITIPSLFIAGWLFVSTGLAYDVFGSPRPNEYFTESRQGIPLITGRFDPLEQLDEFSRSF']\n",
      "\n",
      "type: CDS\n",
      "location: [67688:67784](+)\n",
      "qualifiers:\n",
      "    Key: codon_start, Value: ['1']\n",
      "    Key: gene, Value: ['petL']\n",
      "    Key: product, Value: ['cytochrome b6/f complex subunit VI']\n",
      "    Key: protein_id, Value: ['ABC56318.1']\n",
      "    Key: transl_table, Value: ['11']\n",
      "    Key: translation, Value: ['MLTITSYFGFLLAALTITSALFIGLSKIRLI']\n",
      "\n",
      "type: CDS\n",
      "location: [67967:68081](+)\n",
      "qualifiers:\n",
      "    Key: codon_start, Value: ['1']\n",
      "    Key: gene, Value: ['petG']\n",
      "    Key: product, Value: ['cytochrome b6/f complex subunit V']\n",
      "    Key: protein_id, Value: ['ABC56319.1']\n",
      "    Key: transl_table, Value: ['11']\n",
      "    Key: translation, Value: ['MIEVFLFGIVLGLIPITLAGLFVTAYLQYRRGDQLDL']\n",
      "\n",
      "type: CDS\n",
      "location: [68956:69091](+)\n",
      "qualifiers:\n",
      "    Key: codon_start, Value: ['1']\n",
      "    Key: gene, Value: ['psaJ']\n",
      "    Key: product, Value: ['photosystem I subunit IX']\n",
      "    Key: protein_id, Value: ['ABC56320.1']\n",
      "    Key: transl_table, Value: ['11']\n",
      "    Key: translation, Value: ['MRDLKTYLSVAPVLSTLWFGALAGLLIEINRFFPDALTFPFFSF']\n",
      "\n",
      "type: CDS\n",
      "location: [69528:69729](+)\n",
      "qualifiers:\n",
      "    Key: codon_start, Value: ['1']\n",
      "    Key: gene, Value: ['rpl33']\n",
      "    Key: product, Value: ['ribosomal protein L33']\n",
      "    Key: protein_id, Value: ['ABC56321.1']\n",
      "    Key: transl_table, Value: ['11']\n",
      "    Key: translation, Value: ['MAKGKDVRVTVILECTSCVRNSVDKVSRGISRYITQKNRHNTPNRFELKKFCPYCYKHTIHGEIKK']\n",
      "\n",
      "type: CDS\n",
      "location: [69919:70225](+)\n",
      "qualifiers:\n",
      "    Key: codon_start, Value: ['1']\n",
      "    Key: gene, Value: ['rps18']\n",
      "    Key: product, Value: ['ribosomal protein S18']\n",
      "    Key: protein_id, Value: ['ABC56322.1']\n",
      "    Key: transl_table, Value: ['11']\n",
      "    Key: translation, Value: ['MDKSKRPFLKFKRSFRRRLPPIQSGDRIDYRNMSLISRFISEQGKILSRRVNRLTLKQQRLITLAIKQARILSLLPFLNNEKQFERTESTARTTGFKARNK']\n",
      "\n",
      "type: CDS\n",
      "location: [70439:70826](-)\n",
      "qualifiers:\n",
      "    Key: codon_start, Value: ['1']\n",
      "    Key: gene, Value: ['rpl20']\n",
      "    Key: product, Value: ['ribosomal protein L20']\n",
      "    Key: protein_id, Value: ['ABC56323.1']\n",
      "    Key: transl_table, Value: ['11']\n",
      "    Key: translation, Value: ['MTRIKRGYIARRRRTKIRLFASSFRGAHSRLTRTITQQKIRALVSAHRDRDRKKRDFRRLWITRINAVIRERGVSYSYSRLIHDLYKRQLLLNRKILAQIAISNRNCLYMISNEIIKEVDWKESTRII']\n",
      "\n",
      "type: CDS\n",
      "location: join{[71635:71749](-), [141305:141537](+), [142073:142099](+)}\n",
      "qualifiers:\n",
      "    Key: codon_start, Value: ['1']\n",
      "    Key: gene, Value: ['rps12']\n",
      "    Key: product, Value: ['ribosomal protein S12']\n",
      "    Key: protein_id, Value: ['ABC56360.1']\n",
      "    Key: trans_splicing, Value: ['']\n",
      "    Key: transl_table, Value: ['11']\n",
      "    Key: translation, Value: ['MPTIKQLIRNTRQPIRNVTKSPALRGCPQRRGTCTRVYTITPKKPNSALRKVARVRLTSGFEITAYIPGIGHNSQEHSVVLVRGGRVKDLPGVRYHIVRGTLDAVGVKDRQQGRSKYGVKKPK']\n",
      "\n",
      "type: CDS\n",
      "location: join{[73822:73893](-), [72732:73024](-), [71857:72115](-)}\n",
      "qualifiers:\n",
      "    Key: codon_start, Value: ['1']\n",
      "    Key: gene, Value: ['clpP']\n",
      "    Key: product, Value: ['clp protease proteolytic subunit']\n",
      "    Key: protein_id, Value: ['ABC56324.1']\n",
      "    Key: transl_table, Value: ['11']\n",
      "    Key: translation, Value: ['MPIGVPRVVFRNPGDPISSWVDIYNRLYRERLLFLGQGIGTELSNQLIGLMLYLSMEDENKDLYLFVNSPGGWVIPGIAIYDTMQFVRPDIHTICLGLAASMGSFILAGGQLTKRIAFPHARVMIHEPYSGFYMAQVGEFVLEAIEMAKLRETLTRVYAEKTGQPVWVIHEDMERDIFMSATEAQAYGIVDFVAVQGKEHGFHADL']\n",
      "\n",
      "type: CDS\n",
      "location: [74337:75864](+)\n",
      "qualifiers:\n",
      "    Key: codon_start, Value: ['1']\n",
      "    Key: gene, Value: ['psbB']\n",
      "    Key: product, Value: ['photosystem II CP47 chlorophyll apoprotein']\n",
      "    Key: protein_id, Value: ['ABC56325.1']\n",
      "    Key: transl_table, Value: ['11']\n",
      "    Key: translation, Value: ['MGLPWYRVHTVVLNDPGRLLSVHIMHTALVAGWAGSMALYELAVFDPSDPVLDPMWRQGMFVIPFMTRLGITNSWGGWSITGGTVTNPGIWSYEGVAGAHIVFSGLCFLAAIWHWVYWDLEIFCDERTGKPSLDLPKIFGIHLFLSGVACFGFGAFHVTGLYGPGIWVSDPYGLTGKVQPVNPAWGVEGFDPFVPGGIASHHIAAGTLGILAGLFHLSVRPPQRLYKGLRMGNIETVLSSSIAAVFFAAFVVAGTMWYGSATTPIELFGPTRYQWDQGYFQQEIYRRVSAGLAENQSLSEAWSKIPEKLAFYDYIGNNPAKGGLFRAGSMDNGDGIAVGWLGHPIFRDKEGRELFVRRMPTFFETFPVVLVDGDGIVRADVPFRRAESKYSVEQVGVTVEFYGGELNGVSYSDPATVKKYARRAQLGEIFELDRATLKSDGVFRSSPRGWFTFGHASFALLFFFGHIWHGARTLFRDVFAGIDPDLDAQVEFGAFQKLGDPTTKRQAA']\n",
      "\n",
      "type: CDS\n",
      "location: [76065:76170](+)\n",
      "qualifiers:\n",
      "    Key: codon_start, Value: ['1']\n",
      "    Key: gene, Value: ['psbT']\n",
      "    Key: product, Value: ['photosystem II protein T']\n",
      "    Key: protein_id, Value: ['ABC56326.1']\n",
      "    Key: transl_table, Value: ['11']\n",
      "    Key: translation, Value: ['MEALVYTFLLVSTLGIIFFAIFFREPPTIRTKKN']\n",
      "\n",
      "type: CDS\n",
      "location: [76247:76379](-)\n",
      "qualifiers:\n",
      "    Key: codon_start, Value: ['1']\n",
      "    Key: gene, Value: ['psbN']\n",
      "    Key: product, Value: ['photosystem II protein N']\n",
      "    Key: protein_id, Value: ['ABC56327.1']\n",
      "    Key: transl_table, Value: ['11']\n",
      "    Key: translation, Value: ['METATLVAIFISGLLVSFTGYALYTAFGQPSQQLRDPFEEHGD']\n",
      "\n",
      "type: CDS\n",
      "location: [76490:76712](+)\n",
      "qualifiers:\n",
      "    Key: codon_start, Value: ['1']\n",
      "    Key: gene, Value: ['psbH']\n",
      "    Key: product, Value: ['photosystem II phosphoprotein']\n",
      "    Key: protein_id, Value: ['ABC56328.1']\n",
      "    Key: transl_table, Value: ['11']\n",
      "    Key: translation, Value: ['MATQTVENSSRSGPRRTAVGDLLKPLNSEYGKVAPGWGTTPLMGVAMALFAVFLSIILEIYNSSVLLDGISMN']\n",
      "\n",
      "type: CDS\n",
      "location: join{[76841:76847](+), [77594:78236](+)}\n",
      "qualifiers:\n",
      "    Key: codon_start, Value: ['1']\n",
      "    Key: gene, Value: ['petB']\n",
      "    Key: product, Value: ['cytochrome b6']\n",
      "    Key: protein_id, Value: ['ABC56329.1']\n",
      "    Key: transl_table, Value: ['11']\n",
      "    Key: translation, Value: ['MSKVYDWFEERLEIQAIADDITSKYVPPHVNIFYCLGGITLTCFLVQVATGFAMTFYYRPTVTEAFASVQYIMTEANFGWLIRSVHRWSASMMVLMMILHVFRVYLTGGFKKPRELTWVTGVVLAVLTASFGVTGYSLPWDQIGYWAVKIVTGVPDAIPVIGSPLVELLRGSASVGQSTLTRFYSLHTFVLPLLTAVFMLMHFPMIRKQGISGPL']\n",
      "\n",
      "type: CDS\n",
      "location: join{[78430:78436](+), [79174:79651](+)}\n",
      "qualifiers:\n",
      "    Key: codon_start, Value: ['1']\n",
      "    Key: gene, Value: ['petD']\n",
      "    Key: product, Value: ['cytochrome b6/f complex subunit IV']\n",
      "    Key: protein_id, Value: ['ABC56330.1']\n",
      "    Key: transl_table, Value: ['11']\n",
      "    Key: translation, Value: ['MGITKKPDLNDPVLRAKLAKGMGHNYYGEPAWPNDLLYIFPVVILGTIACNVGLAVLEPSMIGEPADPFATPLEILPEWYFFPVFQILRTVPNKLLGVLLMVSVPAGLLTVPFLENVNKFQNPFRRPVATTVFLIGTAVALWLGIGATLPIDKSLTLGLF']\n",
      "\n",
      "type: CDS\n",
      "location: [79842:80856](-)\n",
      "qualifiers:\n",
      "    Key: codon_start, Value: ['1']\n",
      "    Key: gene, Value: ['rpoA']\n",
      "    Key: product, Value: ['RNA polymerase alpha subunit']\n",
      "    Key: protein_id, Value: ['ABC56331.1']\n",
      "    Key: transl_table, Value: ['11']\n",
      "    Key: translation, Value: ['MVREKVTVSTRTLQWKCVESRTDSKRLYYGRFILSPLMKGQADTIGIAMRRALLGEIEGTCITRVKSEKVPHEYSTITGIQESVHEILMNLKEIVLRSNLYGTSEASICVKGPGYVTAQDIILPPYVEIVDNTQHIASLTEPIDFCIGLQIERNRGYLIKTPHNFQDGSYPIDAVFMPVRNANHSIHSYGNGNEKQEILFIEIWTNGSLTPKEALHDASRNLIDLFIPFLHMEEDNLYLQDNQHTVPLSPFTFHDKLAKLIKNKKKIALKSIFIDQSELSSRIYNCLKMSNIYTLLDLLNNSQEDLMKIEHFRSEDIKQILDILEKYFVIDLAKNKF']\n",
      "\n",
      "type: CDS\n",
      "location: [80921:81338](-)\n",
      "qualifiers:\n",
      "    Key: codon_start, Value: ['1']\n",
      "    Key: gene, Value: ['rps11']\n",
      "    Key: product, Value: ['ribosomal protein S11']\n",
      "    Key: protein_id, Value: ['ABC56332.1']\n",
      "    Key: transl_table, Value: ['11']\n",
      "    Key: translation, Value: ['MAKAIPKISSRRNGRISSRKGARRIPKGVIHVQASFNNTIVTVTDVRGRVVSWSSAGTSGFKGTRRGTPFAAQTAAANAIRTVVDQGMQRAEVMIKGPGLGRDAALRAIRRSGILLTFVRDVTPMPHNGCRPPKKRRV']\n",
      "\n",
      "type: CDS\n",
      "location: [81439:81553](-)\n",
      "qualifiers:\n",
      "    Key: codon_start, Value: ['1']\n",
      "    Key: gene, Value: ['rpl36']\n",
      "    Key: product, Value: ['ribosomal protein L36']\n",
      "    Key: protein_id, Value: ['ABC56333.1']\n",
      "    Key: transl_table, Value: ['11']\n",
      "    Key: translation, Value: ['MKIRASVRKICEKCRLIRRRGRIIVICSNPRHKQRQG']\n",
      "\n",
      "type: CDS\n",
      "location: [81664:81769](-)\n",
      "qualifiers:\n",
      "    Key: codon_start, Value: ['1']\n",
      "    Key: gene, Value: ['infA']\n",
      "    Key: product, Value: ['translational initiation factor 1']\n",
      "    Key: protein_id, Value: ['ABC56334.1']\n",
      "    Key: transl_table, Value: ['11']\n",
      "    Key: translation, Value: ['MQILPGDRVKIEVSPYDSTKGHIIYRLHNKDLKD']\n",
      "\n",
      "type: CDS\n",
      "location: [81877:82282](-)\n",
      "qualifiers:\n",
      "    Key: codon_start, Value: ['1']\n",
      "    Key: gene, Value: ['rps8']\n",
      "    Key: product, Value: ['ribosomal protein S8']\n",
      "    Key: protein_id, Value: ['ABC56335.1']\n",
      "    Key: transl_table, Value: ['11']\n",
      "    Key: translation, Value: ['MGRDTIAEIITSIRNADMDRKRVVRIASTNITENIVQILLREGFIENVRKHRENNKYFLVLTLRHRRNRKRPYRNILNLKRISRPGLRIYSNYQRIPRILGGMGIVILSTSRGIMTDREARLEGIGGEILCYIW']\n",
      "\n",
      "type: CDS\n",
      "location: [82449:82818](-)\n",
      "qualifiers:\n",
      "    Key: codon_start, Value: ['1']\n",
      "    Key: gene, Value: ['rpl14']\n",
      "    Key: product, Value: ['ribosomal protein L14']\n",
      "    Key: protein_id, Value: ['ABC56336.1']\n",
      "    Key: transl_table, Value: ['11']\n",
      "    Key: translation, Value: ['MIQPQTHLNVADNSGARELMCIRIIGASNRRYAHIGDVIVAVIKEAVPNMPLERSEVVRAVIVRTCKELKRDNGMIIRYDDNAAVVIDQEGNPKGTRIFGAIARELRELNFTKIVSLAPEVL']\n",
      "\n",
      "type: CDS\n",
      "location: join{[84357:84366](-), [82943:83339](-)}\n",
      "qualifiers:\n",
      "    Key: codon_start, Value: ['1']\n",
      "    Key: gene, Value: ['rpl16']\n",
      "    Key: product, Value: ['ribosomal protein L16']\n",
      "    Key: protein_id, Value: ['ABC56337.1']\n",
      "    Key: transl_table, Value: ['11']\n",
      "    Key: translation, Value: ['MLSPKRTRFRKQHRGRMKGISYRGNRISFGKYALQALEPAWITSRQIEAGRRAMTRNARRGGKIWVRIFPDKPVTLRPAETRMGSGKGSPEYWVAVVKPGRILYEMGGVTENIARRAISLAASKMPIRTQFIIS']\n",
      "\n",
      "type: CDS\n",
      "location: [84527:85184](-)\n",
      "qualifiers:\n",
      "    Key: codon_start, Value: ['1']\n",
      "    Key: gene, Value: ['rps3']\n",
      "    Key: product, Value: ['ribosomal protein S3']\n",
      "    Key: protein_id, Value: ['ABC56338.1']\n",
      "    Key: transl_table, Value: ['11']\n",
      "    Key: translation, Value: ['MGQKINPLGFRLGTTQSHHSLWFSQPKNYSEGLQEDKKIRDCIKNYVQKNMRTSSGIEGIARIEIQKRIDLIQVIIFMGFPKLLIESRPRGIEELQMTLQKEFNCVNRKLNIAVTRIAKPYGNPNILAEFIAGQLKNRVSFRKAMKKAIELTEQADTKGIQIQIAGRIDGKEIARVEWIREGRVPLQTIRAKIDYCSYTVRTIYGILGIKIWIFLDEE']\n",
      "\n",
      "type: CDS\n",
      "location: [85168:85636](-)\n",
      "qualifiers:\n",
      "    Key: codon_start, Value: ['1']\n",
      "    Key: gene, Value: ['rpl22']\n",
      "    Key: product, Value: ['ribosomal protein L22']\n",
      "    Key: protein_id, Value: ['ABC56339.1']\n",
      "    Key: transl_table, Value: ['11']\n",
      "    Key: translation, Value: ['MLKKKKTEVYALGEHISMSADKARRVIDQIRGRSYEETLMILELMPYRACYPILKLVYSAAANASYNMGSSETNLVISKAEVNEGTTVKKLKPRARGRSFPIKRSTCHITIVMKDISLDDEYGEMSSLKKTRWKKKSTAMTYRDMYNSGGLWDKK']\n",
      "\n",
      "type: CDS\n",
      "location: [85688:85967](-)\n",
      "qualifiers:\n",
      "    Key: codon_start, Value: ['1']\n",
      "    Key: gene, Value: ['rps19']\n",
      "    Key: product, Value: ['ribosomal protein S19']\n",
      "    Key: protein_id, Value: ['ABC56340.1']\n",
      "    Key: transl_table, Value: ['11']\n",
      "    Key: translation, Value: ['MTRSLKKNPFVANHLLKKIDKLNTKAEKEIIVTWSRASTIIPTMIGHTIAIHNGKEHLPIYITDSMVGHKLGEFAPTLNFRGHAKSDNRSRR']\n",
      "\n",
      "type: CDS\n",
      "location: join{[87135:87525](-), [86034:86469](-)}\n",
      "qualifiers:\n",
      "    Key: codon_start, Value: ['1']\n",
      "    Key: gene, Value: ['rpl2']\n",
      "    Key: product, Value: ['ribosomal protein L2']\n",
      "    Key: protein_id, Value: ['ABC56341.1']\n",
      "    Key: transl_table, Value: ['11']\n",
      "    Key: translation, Value: ['MAIHLYKTSTPSTRNGTVDSQVKSNPRNNLIYGQRRCGKGRNARGIITARHRGGGHKRLYRKIDFRRNEKDIYGRIVTIEYDPNRNAYICLIHYGDGEKRYILHPRGAIIGDTIVSGTEVPIKMGNALPLTDMPLGTAIHNIEITLGKGGQLARAAGAVAKLIAKEGKSATLKLPSGEVRLISKNCSATVGQVGNVGVNQKSLGRAGSKRWLGKRPVVRGVVMNPVDHPHGGGEGRAPIGRKKPTTPWGYPALGRRSRKRNKYSDNLILRRRSK']\n",
      "\n",
      "type: CDS\n",
      "location: [87543:87825](-)\n",
      "qualifiers:\n",
      "    Key: codon_start, Value: ['1']\n",
      "    Key: gene, Value: ['rpl23']\n",
      "    Key: product, Value: ['ribosomal protein L23']\n",
      "    Key: protein_id, Value: ['ABC56342.1']\n",
      "    Key: transl_table, Value: ['11']\n",
      "    Key: translation, Value: ['MDGIKYAVFTDKSIRLLGKNQYTSNVESGSTRTEIKHWVELFFGVKVIAMNSHRLPGKSRRMGPIMGHTMHYRRMIITLQPGYSIPPLRKKRT']\n",
      "\n",
      "type: CDS\n",
      "location: [88192:95029](+)\n",
      "qualifiers:\n",
      "    Key: codon_start, Value: ['1']\n",
      "    Key: gene, Value: ['ycf2']\n",
      "    Key: product, Value: ['hypothetical chloroplast RF2']\n",
      "    Key: protein_id, Value: ['ABC56343.1']\n",
      "    Key: transl_table, Value: ['11']\n",
      "    Key: translation, Value: ['MRGHQFKSWIFELREILREIKNSHHFLDSWTQFNSVGSFIHIFFHQERFLKLFDPRIWSILLSRNSQGSPSNRYFTIKGVILFVVAVLIYRINNRNMVERKNLYLIGLLPIPMNSIGPRNDTLEESVGSSNINRLIVSLLYLPKGKKISESCFLNPKESTWVLPITKKCSMPESNWGSRWWRNWIGKKRDSSCKISNETVAGIEILFKEKDLKYLEFLFVYYMDDPIRKDHDWELFDRLSLRKSRNRINLNSGPLFEILVKHWISYLMSAFREKIPIEVEGFFKQQGAGSTIQSNDIEHVSHLFSRNKWAISLQNCAQFHMWQFRQDLFVSWGKNPPESDFLRNVSRENWIWLDNVWLVNKDRFFSKVQNVSSNIQYDSTRSSFVQVTDSSQLKGSSDQSRDHLDSISNEDSEYHTLINQREIQQRKERSILWDPSFLQTERKEIESGRFPKCLSGYSSMSRLFTEREKQMINHLFPEEIEEFLGNPTRSVRSFFSDRWSELHLGSNPTERSTRDQKLLKKQQDLSFVPSRRSEKKEMVNIFKIITYLQNTVSIHPISSDPGCDMVPKDEPDMDSSNKISFLNKNPFFDLFHLFHDRNRGGYTLHYDFASEERFQEMADLFTLSITEPDLVYHKGFAFSIDSCGLDQKQFLNEARDESKKKSLLVLPPIFYEENESFSRRIRKKWVRISCGNDLEDPKPKIVVFASNNIMEAVTQYRLIRNLIQIQYSTYGYIRNVLNRFFLMNRSDRNFEYGIQRDQIGKDTLNHRTIMKYTINQYLSNLKKSQKKWFEPLILISRTERSMNRDPDAYRYKWSNGSKSFQEHLEQSVSKQKSRFQVVFDRLRINQYSIDWSEVIDKKDLSKSLRFFLSKSLLFLSKLLLFLSNSLPFFCVSFGNIPIHRSEIYIYEELKGPNDQLCNQLLESIGLQIVHLKKLKPFLLDDHDTSQKSKFLINGGTISPFLFNKIPKWMIDSFHTRNNRRKSFDNPDSYFSMIFHDQDNWLNPVKPFHRSSLISSFYKANRLRFLNNPHHFCFYWNTRFPFSVEKARINNSDFTYGQFLNILFIRNKIFSLCVGKKKHAFWGRDTISPIESQVSNIFIPNDFPQSGDETYNLYKSFHFPSRSDPFVRRAIYSIADISGTPLTEGQIVNFERTYCQPLSDMNLSDSEGKNLHQYLNFNSNMGLIHTPCSEKDLSSEKRKKWSLCLKKCVEKGQTYRTFQRDSAFSTLSKWNLFQTYMPWFLTSTGYKYLNLIFLDTFSDLLPILSSSQKFVSIFPDIMHGSGISWRILQKKLCLPQWNLISEISSKCLHNLLLSEEMIHRNNESPLISTHLRSPNAREFLYSILFLLLVAGYLVRTHLLFVSRASSELQTEFERVKSLMTPSSMIELRKLLDRYPTSEPNSFWLKNLFLVALEQLGDSLEEIRGSASGGNMLGPAYGVKSIRSKKKDWNINLIEIIDLIPNPINRITFSRNTRHLSHTSKEIYSLIRKRKNVNGDWIDEKIESWVANSDSIDDEEREFLVQFSTLTTENRIDQILLSLTHSDHLSKNDSGYQMIEQPGAIYLRYLVDIHKKHLMNYEFNPSCLAERRIFLAHYQTITYSQTSCGENSFHFPSHGKPFSLRLALSPSRGILVIGSIGTGRSYLVKYLATNSYVPFITVFLNKFLDNKSKGFLLDEIDIDDSDDIDDSDNLDASDDIDRDLDTELELLTRMNGLTVDMMPEIDRFYITLQFELAKAMSPCIIWIPNIHDLDVNESNDLSLGLLVNHLSRDCERCSTRNILVIASTHIPQKVDPALIAPNKLNTCIKIRRLLIPQQRKHFFTLSYTRGFHLEKKMFHTNGFGSITMGSNARDLVALTNEVLSISITQKKSIIDTNTIRSALHRQTWDLRSQVRSVQDHGILFYQIGRAVAQNVLLSNCPIDPISIYMKKKSCNEGDSYLYKWYFELGTSMKRLTILLYLLSCSAGSVAQDLWSLSVPDEKNGITSYGLVENDSDLVHGLLEVEGALVGSSRTEKDCSQFDNDRVTLLLRPEPRNPLDMMQKGSWSILDQRFLYEKYESEFEEGEGEGALDPQEDLFNHIVWAPRIWRPWGFLFDCIERPNELGFPYWSRSFRGKRIIYDEEDELQENDSGFLQSGTMQYQTRDRSQGLFRISQFIWDPADPLFFLFKDQPPGSVFSHRELFADEEMSKGLLTSQTDPPTSLYKRWFIKNTQEKHFELLINRQRWLRTNSSLSNGSFRSNTLSESYQYLSNLFLSNGTLLDQMPKTLLRKRWLFPDEMKIGFM']\n",
      "\n",
      "type: CDS\n",
      "location: [95119:95383](+)\n",
      "qualifiers:\n",
      "    Key: codon_start, Value: ['1']\n",
      "    Key: gene, Value: ['ycf15']\n",
      "    Key: product, Value: ['hypothetical chloroplast RF15']\n",
      "    Key: protein_id, Value: ['ABC56344.1']\n",
      "    Key: transl_table, Value: ['11']\n",
      "    Key: translation, Value: ['METLVSSIFWTLAPWKNMLLLKHGRIEILDQNTMYGWYELPKQEFLNSKQPVQIFTTKKYWILFRIGPERRRKAGMPIGVYYIEFTR']\n",
      "\n",
      "type: CDS\n",
      "location: join{[97655:98432](-), [96220:96976](-)}\n",
      "qualifiers:\n",
      "    Key: codon_start, Value: ['1']\n",
      "    Key: gene, Value: ['ndhB']\n",
      "    Key: product, Value: ['NADH-plastoquinone oxidoreductase subunit 2']\n",
      "    Key: protein_id, Value: ['ABC56345.1']\n",
      "    Key: transl_table, Value: ['11']\n",
      "    Key: translation, Value: ['MIWHVQNENFILDSTRIFMKAFHLLLFDGSLIFPECILIFGLILLLMIDSTSDQKDIPWLYFISSTSLVMSITALLFRWREEPMISFSGNFQTNNFNEIFQFLILLCSTLCIPLSVEYIECTEMAITEFLLFVLTATLGGMFLCGANDLITIFVAPECFSLCSYLLSGYTKKDVRSNEATMKYLLMGGASSSILVHGFSWLYGSSGGEIELQEIVNGLINTQMYNSPGISIALIFITVGIGFKLSPAPSHQWTPDVYEGSPTPVVAFLSVTSKVAASASATRIFNIPFYFSSNEWHLLLEILAILSMILGNLIAITQTSMKRMLAYSSIGQIGYVIIGIIVGDSNDGYASMITYMLFYISMNLGTFACIVLFGLRTGTDNIRDYAGLYTKDPFLALSLALCLLSLGGLPPLAGFFGKLYLFWCGWQAGLYFLVLIGLLTSVVSIYYYLKIIKLLMTGRNQEITPHVRNYRRSPLRSNNSIELSMIVCVIASTIPGISMNPIIAIAQDSLF']\n",
      "\n",
      "type: CDS\n",
      "location: [98717:99185](-)\n",
      "qualifiers:\n",
      "    Key: codon_start, Value: ['1']\n",
      "    Key: gene, Value: ['rps7']\n",
      "    Key: product, Value: ['ribosomal protein S7']\n",
      "    Key: protein_id, Value: ['ABC56346.1']\n",
      "    Key: transl_table, Value: ['11']\n",
      "    Key: translation, Value: ['MSRRGTAEKKTAKSDPIYRNRLVNMLVNRILKHGKKSLAYQIIYRAVKKIQQKTETNPLSVLRQAIRGVTPDITVKARRVGGSTHQVPIEIGSTQGKALAIRWLLAASRKRPGRNMAFKLSSELVDAAKGSGDAIRKKEETHRMAEANRAFAHFR']\n",
      "\n",
      "type: CDS\n",
      "location: [111504:113718](-)\n",
      "qualifiers:\n",
      "    Key: codon_start, Value: ['1']\n",
      "    Key: gene, Value: ['ndhF']\n",
      "    Key: product, Value: ['NADH-plastoquinone oxidoreductase subunit 5']\n",
      "    Key: protein_id, Value: ['ABC56348.1']\n",
      "    Key: transl_table, Value: ['11']\n",
      "    Key: translation, Value: ['MEQTYEYAWIIPFIPLPVPMLIGAGLILFPTATKRFRRMWAFQSVLLLSIVMIFSIYLSIQQINSSSVYQYVWSWIINNDFSLDFGYLIDPLTSIMSILITTVGIMVLIYSDNYMAHDQGYLRFFAYMSFFSTSMLGLVTSSNLIQIYIFWELVGLCSYLLIGFWFTRPVAANACQKAFVTNRVGDFGLLLGILGFYWITGSFEFRDLFEIFNNLIYNNELNFLFVTLCAVLLFAGAVAKSAQFPLHVWLPDAMEGPTPISALIHAATMVAAGIFLVARLLPLFRVIPYIMYLISVIGIITVLLGATLALAQKDIKRGLAYSTMSQLGYMMLALGMGSYRSALFHLITHAYSKALLFLGSGSIIHSMETIVGYSPAKSQNMGLMGGLRKHVPITKITFLLGTLSLCGIPPLACFWSKDEILNDSWLYSPIFAIIAWATAGLTAFYMFRIYLLTFEGHLNAHFQNYGGKQKIPFYSISLWGKNGVKKNSCLLTMNNNESTYFLSKTKYPIAKNGRKMTRPFMTIAHFKHKAVSSYPYESDNTMLFPIFVLGLFTLFVGAIGIPFNQEGVNLDILSKWLAPSINLLHPKSNNSLDWNEFLKDAVVSVSIAYFGIFIASFLYKPIYSSLKNLEFINSFVKKGPKRILWDKILNGIYDWSYNRAYIDAFYTRFFVGGIRGLAEFTHFVDRRVIDGMTNGVGVISFIVGEGIKYIGGGRISSYLFLYLAYVSVFLLVYYLLF']\n",
      "\n",
      "type: CDS\n",
      "location: [114500:114668](+)\n",
      "qualifiers:\n",
      "    Key: codon_start, Value: ['1']\n",
      "    Key: gene, Value: ['rpl32']\n",
      "    Key: product, Value: ['ribosomal protein L32']\n",
      "    Key: protein_id, Value: ['ABC56349.1']\n",
      "    Key: transl_table, Value: ['11']\n",
      "    Key: translation, Value: ['MAVPKKRTSTSKKRIRKNIWKRKGYWVALKAFSLAKSLSTGNSKSFFVRQTKINK']\n",
      "\n",
      "type: CDS\n",
      "location: [115761:116703](+)\n",
      "qualifiers:\n",
      "    Key: codon_start, Value: ['1']\n",
      "    Key: gene, Value: ['ccsA']\n",
      "    Key: product, Value: ['cytochrome c heme attachment protein']\n",
      "    Key: protein_id, Value: ['ABC56350.1']\n",
      "    Key: transl_table, Value: ['11']\n",
      "    Key: translation, Value: ['MIFSTLEHILTHISFSIVSIVITIHLITFLVDEIVKLYDSSEKGIIVTFFCITGLLVTRWVSSGHFPLSDLYESLIFLSWSFSLIHIIPYFKKNVLILSKITGPSAILTQGFATSGILTEIHQSGILVPALQSEWLIMHVSMMILGYAALLCGSLLSVALLVITFRKNRKLFSKSNVFLNESFFLGENVVENTSFFCTKNYYRSQLIQQLDYWSYRVISLGFTFLTIGILSGAVWANEAWGSYWNWDPKETWAFITWIVFAIYLHTRTNRNLRGPNSAIVASIGFLIIWICYFGVNLLGIGLHSYGSFPSTFN']\n",
      "\n",
      "type: CDS\n",
      "location: [116940:>118443](-)\n",
      "qualifiers:\n",
      "    Key: codon_start, Value: ['1']\n",
      "    Key: gene, Value: ['ndhD']\n",
      "    Key: note, Value: ['start codon may be formed as a result of RNA editing']\n",
      "    Key: product, Value: ['NADH-plastoquinone oxidoreductase subunit 4']\n",
      "    Key: protein_id, Value: ['ABC56351.1']\n",
      "    Key: transl_table, Value: ['11']\n",
      "    Key: translation, Value: ['TNYFPWLTIIVVFPIFAGSLIFFLPHKGNRVIRWYTICICILELLLTTYAFCYHFQSDDPLIQLVEDYKWIDFFDFHWRLGIDGLSIGPILLTGFITTLATLAAWPVTRDSRLFHFLMLAMYSGQIGLFSSRDLLLFFIMWELELIPVYLLLAMWGGKKRLYSATKFILYTAGGSVFLLMGVLGVALYGSNEPTLNFETSVNQSYPVVLEIIFYIGFFIAFAVKSPIIPLHTWLPDTHGEAHYSTCMLLAGILLKMGAYGLIRINMELLPHAHSIFSPWLMIIGTIQIIYAASTSLGQRNLKKRIAYSSVSHMGFIIIGISSLTDTGLNGALLQIISHGFIGAALFFLAGTTYDRIRLVYLDEMGGIAIPMPKMFTMFSSFSMASLALPGMSGFVAELIVFFGIITGQKYLLMPKLLITFVMAIGIILTPIYSLSMPRQMFYGYKLFNAPKDSFFDSGPRELFLSISIFLPVIGIGIYPDFVLSLAVDKVEVILSNFFYR']\n",
      "\n",
      "type: CDS\n",
      "location: [118560:118806](-)\n",
      "qualifiers:\n",
      "    Key: codon_start, Value: ['1']\n",
      "    Key: gene, Value: ['psaC']\n",
      "    Key: product, Value: ['photosystem I subunit VII']\n",
      "    Key: protein_id, Value: ['ABC56352.1']\n",
      "    Key: transl_table, Value: ['11']\n",
      "    Key: translation, Value: ['MSHSVKIYDTCIGCTQCVRACPTDVLEMIPWDGCKAKQIASAPRTEDCVGCKRCESACPTDFLSVRVYLWHETTRSMGLAY']\n",
      "\n",
      "type: CDS\n",
      "location: [119057:119363](-)\n",
      "qualifiers:\n",
      "    Key: codon_start, Value: ['1']\n",
      "    Key: gene, Value: ['ndhE']\n",
      "    Key: product, Value: ['NADH-plastoquinone oxidoreductase subunit 4L']\n",
      "    Key: protein_id, Value: ['ABC56353.1']\n",
      "    Key: transl_table, Value: ['11']\n",
      "    Key: translation, Value: ['MILEHVLVLSAYLFSIGIYGLITSRNMVRALMCLELILNAVNINFVTFSDFFDNRQLKGDIFSIFVIAIAAAEAAIGLAIVSSIYRNRKSTRINQSNLLNN']\n",
      "\n",
      "type: CDS\n",
      "location: [119586:120117](-)\n",
      "qualifiers:\n",
      "    Key: codon_start, Value: ['1']\n",
      "    Key: gene, Value: ['ndhG']\n",
      "    Key: product, Value: ['NADH-plastoquinone oxidoreductase subunit 6']\n",
      "    Key: protein_id, Value: ['ABC56354.1']\n",
      "    Key: transl_table, Value: ['11']\n",
      "    Key: translation, Value: ['MDLSEPIHDFLLVFLGSGLILGGLGVVLLPNPIYSAFSLGLVLVCTSLFYILSNAYFVAAAQLLIYVGAINVLIIFAVMFMNGSEYYKDFHLWTVGDGITSMVCISLFISLITTISDTSWYGIIWTTRSNQIIEQDFLSNSQQIGIHLSTDFFLPFELISIILLVALIGAIAVARQ']\n",
      "\n",
      "type: CDS\n",
      "location: [120521:121025](-)\n",
      "qualifiers:\n",
      "    Key: codon_start, Value: ['1']\n",
      "    Key: gene, Value: ['ndhI']\n",
      "    Key: product, Value: ['NADH-plastoquinone oxidoreductase subunit I']\n",
      "    Key: protein_id, Value: ['ABC56355.1']\n",
      "    Key: transl_table, Value: ['11']\n",
      "    Key: translation, Value: ['MLPMITEFINYGQQTIRAARYIGQGFMITLSHANRLPVTIQYPYEKLITSERFRGRIHFEFDKCIACEVCVRVCPIDLPVVDWKLETDIRKKRLLNYSIDFGICIFCGNCVEYCPTNCLSMTEEYELSTYDRHELNYNQIALGRLPMSVIDDYTIRTISNLPQINNE']\n",
      "\n",
      "type: CDS\n",
      "location: join{[122782:123334](-), [121109:121649](-)}\n",
      "qualifiers:\n",
      "    Key: codon_start, Value: ['1']\n",
      "    Key: gene, Value: ['ndhA']\n",
      "    Key: product, Value: ['NADH-plastoquinone oxidoreductase subunit 1']\n",
      "    Key: protein_id, Value: ['ABC56356.1']\n",
      "    Key: transl_table, Value: ['11']\n",
      "    Key: translation, Value: ['MIIDTTEIETINSFSKLESLKEVYGIIWMLVPIVTLVLGITIGVLVIVWLEREISAGIQQRIGPEYAGPLGILQALADGTKLLLKENLIPSTGDTRLFSIGPSIAVISIFLSYSVIPFGDHLVLADLSIGVFFWIAISSIAPVGLLMSGYGSNNKYSFLGGLRAAAQSISYEIPLALCVLSISLLSNSLSTVDIVEAQSKYGFWGWNLWRQPIGFIVFLISSLAECERLPFDLPEAEEELVAGYQTEYSGIKFGLFYIASYLNLLVSSLFVTVLYLGGWNLSIPYIFVPDIFGINKGGKVFGTLIGIFITLAKTYLFLFIPIATRWTLPRLRMDQLLNLGWKFLLPISLGNLLLTTSSQLLSL']\n",
      "\n",
      "type: CDS\n",
      "location: [123335:124517](-)\n",
      "qualifiers:\n",
      "    Key: codon_start, Value: ['1']\n",
      "    Key: gene, Value: ['ndhH']\n",
      "    Key: product, Value: ['NADH-plastoquinone oxidoreductase subunit 7']\n",
      "    Key: protein_id, Value: ['ABC56357.1']\n",
      "    Key: transl_table, Value: ['11']\n",
      "    Key: translation, Value: ['MTAPTTRKDLMIVNMGPQHPSMHGVLRLIVTLDGEDVVDCEPILGYLHRGMEKIAENRTIIQYLPYVTRWDYLATMFTEAITINGPEQLGNIQVPKRASYIRVIMLELSRIASHLLWLGPFMADIGAQTPFFYIFRERELIYDLFEAATGMRMMHNYFRIGGVAADLPYGWIDKCLDFCDYFLTGVAEYQKLITRNPIFLERVEGVGIIGRDEALNWGLSGPMLRASGIEWDLRKVDHYESYDEFDWQVQWQREGDSLARYLVRIGEMTESIKIIQQALEGIPGGPYENLEMRRFDRLKDPEWNDFEYRFISKKPSPTFELSKQELYVRVEAPKGELGIFLIGDQSVFPWRWKIRPPGFINLQILPQLVKRMKLADIMTILGSIDIIMGEVDR']\n",
      "\n",
      "type: CDS\n",
      "location: [124628:124892](-)\n",
      "qualifiers:\n",
      "    Key: codon_start, Value: ['1']\n",
      "    Key: gene, Value: ['rps15']\n",
      "    Key: product, Value: ['ribosomal protein S15']\n",
      "    Key: protein_id, Value: ['ABC56358.1']\n",
      "    Key: transl_table, Value: ['11']\n",
      "    Key: translation, Value: ['MVKNSVISVISQEEKKGSVEFQVFNFTNKIRRLTSHLELHKKDYLSQRGLKKILGKRQRLLAYLAKKNRVRYKELINRLDIRETKTR']\n",
      "\n",
      "type: CDS\n",
      "location: [125293:130969](-)\n",
      "qualifiers:\n",
      "    Key: codon_start, Value: ['1']\n",
      "    Key: gene, Value: ['ycf1']\n",
      "    Key: product, Value: ['hypothetical chloroplast RF1']\n",
      "    Key: protein_id, Value: ['ABC56359.1']\n",
      "    Key: transl_table, Value: ['11']\n",
      "    Key: translation, Value: ['MIFQSFLLGNLVSLCMKIINSVVVVGLYYGFLTTFSIGPSYLFLLRALVMEEGTEKKVSATTGFITGQLMMFISIYYAPLHLALGRPHTITVLALPYLLFHFFWNNHKHFFDYGSTTRNSMRNLSIQCVFLNNLIFQLFNHFILPSSMLARLVNIYLFRCNNKILFVTSGFVGWLIGHILFMKWLGLVLVWIRQNHSIRSNKYIRSNKYLVLELRNSMARIFSILLFITCVYYLGRIPSPILTKKLKEASKTEERVESEEERDVEIETASEMKGTKQEQEGSTEEDPYPSPSLFSEEGWDPDKIDETEEIRVNGKDKIKDKFHSHLTETGYNNINTSNSPIYDYQDSYLNNNNTGNLENCKLQLLDKKNENQEQDLFWFQKPLVSLLFDYNRWNRPFRYIKNNRFEQAVRTEMSQYFFDTCKSDGKQKISFTYPPSLSTFWKMIKRKIPLLSLQKTLPNELDTQWVSTNKEKSNNLNKEFLNRLEILDKESLSLDILETRTRFCNDDTKKEYVPKMYDPLLNGLYRGTIKKGVSSSIINNTLLENWEKRVRLNRIHTIFLPNIDYQEFEQKAYTIDKKPLSTEIDEFLTLINELGNEAKSSLNLKGLSLFSDQEQRRANSEKRTKFVKFVFNALDPNETKSGKKSIGIKEISKKVPRWSHKLITELDQQMGEFKDRASMDHQLRSRKAKRVVIFTDNKATKDAEEEVALISYSQQSDFRRGIITGSMRAQRRKTFISKLFQANVHSPLFVDRITPLRLFSFDISELIKPILKNWTDKEGEFKILESREEQTKREEKKEKDKKEDNKRKEQARIAIEEAWDTIPLAQIIRGYMLITQSILRKYILLPALIIAKNIGRMLFLQLPEWSEDLQEWNREMQIKCTYNGVQLSETEFPKNWLRDGIQIKILFPFCLKPWHISKLYPSRRELMKKQKQKDDFCFLTVWGMEAELPFGSPRKRPSFFEPIFKELEKKIGKFKKKYFLTLKILKGKTKLFRKVSKETTKLFIKSIGFLKKIKKELSKVNLIVLFRFKEISESNETKKEKDYLISNQIINESFRQIESGNWPNSSLIETKMKDLTNRTSTIKNKIERITKEKKKVTPEIDINPNKTNNIKKFESPKKIFQILKSRNTRVIWKFHYFLKLFIQRLYINLFLSIINIPRITTQLFLKSTNKLIEKFISNNEINQEKINNQKKIHFMFISTIKKSLYNISKKNSHILCDLSYLSQAYVFYKLSQTQVINFSKFRSVLQYNTTSCFLKTKIKDYFKTLGIFHSELKHKKLQSYRINQWKNWLRWHYQYDLSQIRWSRLMPKKWRTRVNQSCMAQNKNRNLNKWNSYEKDQLLHYKKENDSELYSLSNEKDNFKKCYGYGLLAYKSINYENKSDSFFSRLPFEVQVKKNLEISYNSNTSKHNFVDMPGNLHINNYLRKGNILDRERNLDRKYFDWKIIHFSLRQKGDIEAWVKIDTNSNPNTKIGINNYQIIDKIEKKGVFYLTTHQNPEKTQKNSKKFFFDWMGMNEKIFNRPILNLEFWFFPEFVLLYNVYKIKPWIIPSKFLLFNLNTNKNVSQNKNQNFFLPSNKKIKIKNRSQEAKEPPSQRERGSDIENKGNLSPVFSKHQTDLEKDYVESDTKKGKNKKQYKSNTEAELDLFLKRYLLFQLRWNGALNQRMFENIKVYCLLLRLINPTKITISSIQRREMSLDIMLIQANLPLTDLMKKGVLIIEPIRLSVKDNGQFIMYQTIGISLIHKSKHQTNQRYREQRYVDKKNFDEFILQPQTQRINTEKTHFGLLVPENILWSRRRRELRIRSFFNSWNWNVVDRNSVFCNETNVKNWSQFLGERKPLYKDKNELIKFKFFFWPNYRLEDLACMNRYWFDTNNGSRFSILRIHMYPRLKIN']\n",
      "\n",
      "type: CDS\n",
      "location: [142152:142620](+)\n",
      "qualifiers:\n",
      "    Key: codon_start, Value: ['1']\n",
      "    Key: gene, Value: ['rps7']\n",
      "    Key: product, Value: ['ribosomal protein S7']\n",
      "    Key: protein_id, Value: ['ABC56361.1']\n",
      "    Key: transl_table, Value: ['11']\n",
      "    Key: translation, Value: ['MSRRGTAEKKTAKSDPIYRNRLVNMLVNRILKHGKKSLAYQIIYRAVKKIQQKTETNPLSVLRQAIRGVTPDITVKARRVGGSTHQVPIEIGSTQGKALAIRWLLAASRKRPGRNMAFKLSSELVDAAKGSGDAIRKKEETHRMAEANRAFAHFR']\n",
      "\n",
      "type: CDS\n",
      "location: join{[142905:143682](+), [144361:145117](+)}\n",
      "qualifiers:\n",
      "    Key: codon_start, Value: ['1']\n",
      "    Key: gene, Value: ['ndhB']\n",
      "    Key: product, Value: ['NADH-plastoquinone oxidoreductase subunit 2']\n",
      "    Key: protein_id, Value: ['ABC56362.1']\n",
      "    Key: transl_table, Value: ['11']\n",
      "    Key: translation, Value: ['MIWHVQNENFILDSTRIFMKAFHLLLFDGSLIFPECILIFGLILLLMIDSTSDQKDIPWLYFISSTSLVMSITALLFRWREEPMISFSGNFQTNNFNEIFQFLILLCSTLCIPLSVEYIECTEMAITEFLLFVLTATLGGMFLCGANDLITIFVAPECFSLCSYLLSGYTKKDVRSNEATMKYLLMGGASSSILVHGFSWLYGSSGGEIELQEIVNGLINTQMYNSPGISIALIFITVGIGFKLSPAPSHQWTPDVYEGSPTPVVAFLSVTSKVAASASATRIFNIPFYFSSNEWHLLLEILAILSMILGNLIAITQTSMKRMLAYSSIGQIGYVIIGIIVGDSNDGYASMITYMLFYISMNLGTFACIVLFGLRTGTDNIRDYAGLYTKDPFLALSLALCLLSLGGLPPLAGFFGKLYLFWCGWQAGLYFLVLIGLLTSVVSIYYYLKIIKLLMTGRNQEITPHVRNYRRSPLRSNNSIELSMIVCVIASTIPGISMNPIIAIAQDSLF']\n",
      "\n",
      "type: CDS\n",
      "location: [145954:146218](-)\n",
      "qualifiers:\n",
      "    Key: codon_start, Value: ['1']\n",
      "    Key: gene, Value: ['ycf15']\n",
      "    Key: product, Value: ['hypothetical chloroplast RF15']\n",
      "    Key: protein_id, Value: ['ABC56363.1']\n",
      "    Key: transl_table, Value: ['11']\n",
      "    Key: translation, Value: ['METLVSSIFWTLAPWKNMLLLKHGRIEILDQNTMYGWYELPKQEFLNSKQPVQIFTTKKYWILFRIGPERRRKAGMPIGVYYIEFTR']\n",
      "\n",
      "type: CDS\n",
      "location: [146308:153145](-)\n",
      "qualifiers:\n",
      "    Key: codon_start, Value: ['1']\n",
      "    Key: gene, Value: ['ycf2']\n",
      "    Key: product, Value: ['hypothetical chloroplast RF2']\n",
      "    Key: protein_id, Value: ['ABC56364.1']\n",
      "    Key: transl_table, Value: ['11']\n",
      "    Key: translation, Value: ['MRGHQFKSWIFELREILREIKNSHHFLDSWTQFNSVGSFIHIFFHQERFLKLFDPRIWSILLSRNSQGSPSNRYFTIKGVILFVVAVLIYRINNRNMVERKNLYLIGLLPIPMNSIGPRNDTLEESVGSSNINRLIVSLLYLPKGKKISESCFLNPKESTWVLPITKKCSMPESNWGSRWWRNWIGKKRDSSCKISNETVAGIEILFKEKDLKYLEFLFVYYMDDPIRKDHDWELFDRLSLRKSRNRINLNSGPLFEILVKHWISYLMSAFREKIPIEVEGFFKQQGAGSTIQSNDIEHVSHLFSRNKWAISLQNCAQFHMWQFRQDLFVSWGKNPPESDFLRNVSRENWIWLDNVWLVNKDRFFSKVQNVSSNIQYDSTRSSFVQVTDSSQLKGSSDQSRDHLDSISNEDSEYHTLINQREIQQRKERSILWDPSFLQTERKEIESGRFPKCLSGYSSMSRLFTEREKQMINHLFPEEIEEFLGNPTRSVRSFFSDRWSELHLGSNPTERSTRDQKLLKKQQDLSFVPSRRSEKKEMVNIFKIITYLQNTVSIHPISSDPGCDMVPKDEPDMDSSNKISFLNKNPFFDLFHLFHDRNRGGYTLHYDFASEERFQEMADLFTLSITEPDLVYHKGFAFSIDSCGLDQKQFLNEARDESKKKSLLVLPPIFYEENESFSRRIRKKWVRISCGNDLEDPKPKIVVFASNNIMEAVTQYRLIRNLIQIQYSTYGYIRNVLNRFFLMNRSDRNFEYGIQRDQIGKDTLNHRTIMKYTINQYLSNLKKSQKKWFEPLILISRTERSMNRDPDAYRYKWSNGSKSFQEHLEQSVSKQKSRFQVVFDRLRINQYSIDWSEVIDKKDLSKSLRFFLSKSLLFLSKLLLFLSNSLPFFCVSFGNIPIHRSEIYIYEELKGPNDQLCNQLLESIGLQIVHLKKLKPFLLDDHDTSQKSKFLINGGTISPFLFNKIPKWMIDSFHTRNNRRKSFDNPDSYFSMIFHDQDNWLNPVKPFHRSSLISSFYKANRLRFLNNPHHFCFYWNTRFPFSVEKARINNSDFTYGQFLNILFIRNKIFSLCVGKKKHAFWGRDTISPIESQVSNIFIPNDFPQSGDETYNLYKSFHFPSRSDPFVRRAIYSIADISGTPLTEGQIVNFERTYCQPLSDMNLSDSEGKNLHQYLNFNSNMGLIHTPCSEKDLSSEKRKKWSLCLKKCVEKGQTYRTFQRDSAFSTLSKWNLFQTYMPWFLTSTGYKYLNLIFLDTFSDLLPILSSSQKFVSIFPDIMHGSGISWRILQKKLCLPQWNLISEISSKCLHNLLLSEEMIHRNNESPLISTHLRSPNAREFLYSILFLLLVAGYLVRTHLLFVSRASSELQTEFERVKSLMTPSSMIELRKLLDRYPTSEPNSFWLKNLFLVALEQLGDSLEEIRGSASGGNMLGPAYGVKSIRSKKKDWNINLIEIIDLIPNPINRITFSRNTRHLSHTSKEIYSLIRKRKNVNGDWIDEKIESWVANSDSIDDEEREFLVQFSTLTTENRIDQILLSLTHSDHLSKNDSGYQMIEQPGAIYLRYLVDIHKKHLMNYEFNPSCLAERRIFLAHYQTITYSQTSCGENSFHFPSHGKPFSLRLALSPSRGILVIGSIGTGRSYLVKYLATNSYVPFITVFLNKFLDNKSKGFLLDEIDIDDSDDIDDSDNLDASDDIDRDLDTELELLTRMNGLTVDMMPEIDRFYITLQFELAKAMSPCIIWIPNIHDLDVNESNDLSLGLLVNHLSRDCERCSTRNILVIASTHIPQKVDPALIAPNKLNTCIKIRRLLIPQQRKHFFTLSYTRGFHLEKKMFHTNGFGSITMGSNARDLVALTNEVLSISITQKKSIIDTNTIRSALHRQTWDLRSQVRSVQDHGILFYQIGRAVAQNVLLSNCPIDPISIYMKKKSCNEGDSYLYKWYFELGTSMKRLTILLYLLSCSAGSVAQDLWSLSVPDEKNGITSYGLVENDSDLVHGLLEVEGALVGSSRTEKDCSQFDNDRVTLLLRPEPRNPLDMMQKGSWSILDQRFLYEKYESEFEEGEGEGALDPQEDLFNHIVWAPRIWRPWGFLFDCIERPNELGFPYWSRSFRGKRIIYDEEDELQENDSGFLQSGTMQYQTRDRSQGLFRISQFIWDPADPLFFLFKDQPPGSVFSHRELFADEEMSKGLLTSQTDPPTSLYKRWFIKNTQEKHFELLINRQRWLRTNSSLSNGSFRSNTLSESYQYLSNLFLSNGTLLDQMPKTLLRKRWLFPDEMKIGFM']\n",
      "\n",
      "type: CDS\n",
      "location: [153512:153794](+)\n",
      "qualifiers:\n",
      "    Key: codon_start, Value: ['1']\n",
      "    Key: gene, Value: ['rpl23']\n",
      "    Key: product, Value: ['ribosomal protein L23']\n",
      "    Key: protein_id, Value: ['ABC56365.1']\n",
      "    Key: transl_table, Value: ['11']\n",
      "    Key: translation, Value: ['MDGIKYAVFTDKSIRLLGKNQYTSNVESGSTRTEIKHWVELFFGVKVIAMNSHRLPGKSRRMGPIMGHTMHYRRMIITLQPGYSIPPLRKKRT']\n",
      "\n",
      "type: CDS\n",
      "location: join{[153812:154202](+), [154868:155303](+)}\n",
      "qualifiers:\n",
      "    Key: codon_start, Value: ['1']\n",
      "    Key: gene, Value: ['rpl2']\n",
      "    Key: product, Value: ['ribosomal protein L2']\n",
      "    Key: protein_id, Value: ['ABC56366.1']\n",
      "    Key: transl_table, Value: ['11']\n",
      "    Key: translation, Value: ['MAIHLYKTSTPSTRNGTVDSQVKSNPRNNLIYGQRRCGKGRNARGIITARHRGGGHKRLYRKIDFRRNEKDIYGRIVTIEYDPNRNAYICLIHYGDGEKRYILHPRGAIIGDTIVSGTEVPIKMGNALPLTDMPLGTAIHNIEITLGKGGQLARAAGAVAKLIAKEGKSATLKLPSGEVRLISKNCSATVGQVGNVGVNQKSLGRAGSKRWLGKRPVVRGVVMNPVDHPHGGGEGRAPIGRKKPTTPWGYPALGRRSRKRNKYSDNLILRRRSK']\n",
      "\n"
     ]
    }
   ],
   "source": [
    "# print the CDS sequence feature summary information for each feature in each\n",
    "# sequence record\n",
    "for t_gb in t_gb_parse:\n",
    "    t_feats = [t_feat for t_feat in t_gb.features if t_feat.type == \"CDS\"]\n",
    "    for t_feat in t_feats:\n",
    "        print(t_feat)"
   ]
  },
  {
   "cell_type": "code",
   "execution_count": 7,
   "metadata": {},
   "outputs": [
    {
     "ename": "AttributeError",
     "evalue": "'list' object has no attribute 'seq'",
     "output_type": "error",
     "traceback": [
      "\u001b[0;31m---------------------------------------------------------------------------\u001b[0m",
      "\u001b[0;31mAttributeError\u001b[0m                            Traceback (most recent call last)",
      "\u001b[0;32m<ipython-input-7-3655ff8a6bb3>\u001b[0m in \u001b[0;36m<module>\u001b[0;34m\u001b[0m\n\u001b[0;32m----> 1\u001b[0;31m \u001b[0mt_gb_parse\u001b[0m\u001b[0;34m.\u001b[0m\u001b[0mseq\u001b[0m\u001b[0;34m\u001b[0m\u001b[0;34m\u001b[0m\u001b[0m\n\u001b[0m",
      "\u001b[0;31mAttributeError\u001b[0m: 'list' object has no attribute 'seq'"
     ]
    }
   ],
   "source": [
    "t_gb_parse.seq"
   ]
  },
  {
   "cell_type": "code",
   "execution_count": 8,
   "metadata": {},
   "outputs": [
    {
     "ename": "NameError",
     "evalue": "name 't_file' is not defined",
     "output_type": "error",
     "traceback": [
      "\u001b[0;31m---------------------------------------------------------------------------\u001b[0m",
      "\u001b[0;31mNameError\u001b[0m                                 Traceback (most recent call last)",
      "\u001b[0;32m<ipython-input-8-57340f13a779>\u001b[0m in \u001b[0;36m<module>\u001b[0;34m\u001b[0m\n\u001b[0;32m----> 1\u001b[0;31m \u001b[0mt_file\u001b[0m\u001b[0;34m.\u001b[0m\u001b[0mseq\u001b[0m\u001b[0;34m\u001b[0m\u001b[0;34m\u001b[0m\u001b[0m\n\u001b[0m",
      "\u001b[0;31mNameError\u001b[0m: name 't_file' is not defined"
     ]
    }
   ],
   "source": [
    "t_file.seq"
   ]
  },
  {
   "cell_type": "code",
   "execution_count": 9,
   "metadata": {},
   "outputs": [
    {
     "data": {
      "text/plain": [
       "Seq('TGGGCGAACGACGGGAATTGAACCCGCGCATGGTGGATTCACAATCCACTGCCT...TAA', IUPACAmbiguousDNA())"
      ]
     },
     "execution_count": 9,
     "metadata": {},
     "output_type": "execute_result"
    }
   ],
   "source": [
    "# origin seq 부르는 방법\n",
    "t_gb.seq"
   ]
  },
  {
   "cell_type": "code",
   "execution_count": 10,
   "metadata": {},
   "outputs": [
    {
     "name": "stdout",
     "output_type": "stream",
     "text": [
      "<bound method SeqFeature.extract of SeqFeature(CompoundLocation([FeatureLocation(ExactPosition(71635), ExactPosition(71749), strand=-1), FeatureLocation(ExactPosition(99800), ExactPosition(100032), strand=-1), FeatureLocation(ExactPosition(99238), ExactPosition(99264), strand=-1)], 'join'), type='CDS', location_operator='join')>\n",
      "<bound method SeqFeature.extract of SeqFeature(FeatureLocation(ExactPosition(536), ExactPosition(1598), strand=-1), type='CDS')>\n",
      "<bound method SeqFeature.extract of SeqFeature(FeatureLocation(ExactPosition(2123), ExactPosition(3653), strand=-1), type='CDS')>\n",
      "<bound method SeqFeature.extract of SeqFeature(CompoundLocation([FeatureLocation(ExactPosition(6024), ExactPosition(6064), strand=-1), FeatureLocation(ExactPosition(4933), ExactPosition(5160), strand=-1)], 'join'), type='CDS', location_operator='join')>\n",
      "<bound method SeqFeature.extract of SeqFeature(FeatureLocation(ExactPosition(7583), ExactPosition(7769), strand=1), type='CDS')>\n",
      "<bound method SeqFeature.extract of SeqFeature(FeatureLocation(ExactPosition(8130), ExactPosition(8241), strand=1), type='CDS')>\n",
      "<bound method SeqFeature.extract of SeqFeature(FeatureLocation(ExactPosition(10220), ExactPosition(11744), strand=-1), type='CDS')>\n",
      "<bound method SeqFeature.extract of SeqFeature(CompoundLocation([FeatureLocation(ExactPosition(12896), ExactPosition(13040), strand=-1), FeatureLocation(ExactPosition(11799), ExactPosition(12210), strand=-1)], 'join'), type='CDS', location_operator='join')>\n",
      "<bound method SeqFeature.extract of SeqFeature(FeatureLocation(ExactPosition(13438), ExactPosition(13684), strand=-1), type='CDS')>\n",
      "<bound method SeqFeature.extract of SeqFeature(FeatureLocation(ExactPosition(14841), ExactPosition(15585), strand=-1), type='CDS')>\n",
      "<bound method SeqFeature.extract of SeqFeature(FeatureLocation(ExactPosition(15821), ExactPosition(16532), strand=-1), type='CDS')>\n",
      "<bound method SeqFeature.extract of SeqFeature(FeatureLocation(ExactPosition(16757), ExactPosition(20936), strand=-1), type='CDS')>\n",
      "<bound method SeqFeature.extract of SeqFeature(CompoundLocation([FeatureLocation(ExactPosition(23427), ExactPosition(23880), strand=-1), FeatureLocation(ExactPosition(21076), ExactPosition(22690), strand=-1)], 'join'), type='CDS', location_operator='join')>\n",
      "<bound method SeqFeature.extract of SeqFeature(FeatureLocation(ExactPosition(23885), ExactPosition(27098), strand=-1), type='CDS')>\n",
      "<bound method SeqFeature.extract of SeqFeature(FeatureLocation(ExactPosition(29140), ExactPosition(29230), strand=1), type='CDS')>\n",
      "<bound method SeqFeature.extract of SeqFeature(FeatureLocation(ExactPosition(30337), ExactPosition(30442), strand=-1), type='CDS')>\n",
      "<bound method SeqFeature.extract of SeqFeature(FeatureLocation(ExactPosition(33581), ExactPosition(34643), strand=1), type='CDS')>\n",
      "<bound method SeqFeature.extract of SeqFeature(FeatureLocation(ExactPosition(34590), ExactPosition(36012), strand=1), type='CDS')>\n",
      "<bound method SeqFeature.extract of SeqFeature(FeatureLocation(ExactPosition(36705), ExactPosition(36894), strand=1), type='CDS')>\n",
      "<bound method SeqFeature.extract of SeqFeature(FeatureLocation(ExactPosition(37667), ExactPosition(37970), strand=-1), type='CDS')>\n",
      "<bound method SeqFeature.extract of SeqFeature(FeatureLocation(ExactPosition(38088), ExactPosition(40293), strand=-1), type='CDS')>\n",
      "<bound method SeqFeature.extract of SeqFeature(FeatureLocation(ExactPosition(40318), ExactPosition(42571), strand=-1), type='CDS')>\n",
      "<bound method SeqFeature.extract of SeqFeature(CompoundLocation([FeatureLocation(ExactPosition(45191), ExactPosition(45315), strand=-1), FeatureLocation(ExactPosition(44232), ExactPosition(44462), strand=-1), FeatureLocation(ExactPosition(43329), ExactPosition(43482), strand=-1)], 'join'), type='CDS', location_operator='join')>\n",
      "<bound method SeqFeature.extract of SeqFeature(FeatureLocation(ExactPosition(46605), ExactPosition(47211), strand=-1), type='CDS')>\n",
      "<bound method SeqFeature.extract of SeqFeature(FeatureLocation(ExactPosition(50070), ExactPosition(50547), strand=-1), type='CDS')>\n",
      "<bound method SeqFeature.extract of SeqFeature(FeatureLocation(ExactPosition(50652), ExactPosition(51507), strand=-1), type='CDS')>\n",
      "<bound method SeqFeature.extract of SeqFeature(FeatureLocation(ExactPosition(51386), ExactPosition(51749), strand=-1), type='CDS')>\n",
      "<bound method SeqFeature.extract of SeqFeature(FeatureLocation(ExactPosition(53973), ExactPosition(54375), strand=-1), type='CDS')>\n",
      "<bound method SeqFeature.extract of SeqFeature(FeatureLocation(ExactPosition(54371), ExactPosition(55868), strand=-1), type='CDS')>\n",
      "<bound method SeqFeature.extract of SeqFeature(FeatureLocation(ExactPosition(56682), ExactPosition(58116), strand=1), type='CDS')>\n",
      "<bound method SeqFeature.extract of SeqFeature(FeatureLocation(ExactPosition(58875), ExactPosition(60399), strand=1), type='CDS')>\n",
      "<bound method SeqFeature.extract of SeqFeature(FeatureLocation(ExactPosition(61145), ExactPosition(61256), strand=1), type='CDS')>\n",
      "<bound method SeqFeature.extract of SeqFeature(FeatureLocation(ExactPosition(61700), ExactPosition(62255), strand=1), type='CDS')>\n",
      "<bound method SeqFeature.extract of SeqFeature(FeatureLocation(ExactPosition(62984), ExactPosition(63674), strand=1), type='CDS')>\n",
      "<bound method SeqFeature.extract of SeqFeature(FeatureLocation(ExactPosition(63893), ExactPosition(64856), strand=1), type='CDS')>\n",
      "<bound method SeqFeature.extract of SeqFeature(FeatureLocation(ExactPosition(65924), ExactPosition(66047), strand=-1), type='CDS')>\n",
      "<bound method SeqFeature.extract of SeqFeature(FeatureLocation(ExactPosition(66171), AfterPosition(66288), strand=-1), type='CDS')>\n",
      "<bound method SeqFeature.extract of SeqFeature(FeatureLocation(ExactPosition(66310), ExactPosition(66430), strand=-1), type='CDS')>\n",
      "<bound method SeqFeature.extract of SeqFeature(FeatureLocation(ExactPosition(66439), ExactPosition(66691), strand=-1), type='CDS')>\n",
      "<bound method SeqFeature.extract of SeqFeature(FeatureLocation(ExactPosition(67688), ExactPosition(67784), strand=1), type='CDS')>\n",
      "<bound method SeqFeature.extract of SeqFeature(FeatureLocation(ExactPosition(67967), ExactPosition(68081), strand=1), type='CDS')>\n",
      "<bound method SeqFeature.extract of SeqFeature(FeatureLocation(ExactPosition(68956), ExactPosition(69091), strand=1), type='CDS')>\n",
      "<bound method SeqFeature.extract of SeqFeature(FeatureLocation(ExactPosition(69528), ExactPosition(69729), strand=1), type='CDS')>\n",
      "<bound method SeqFeature.extract of SeqFeature(FeatureLocation(ExactPosition(69919), ExactPosition(70225), strand=1), type='CDS')>\n",
      "<bound method SeqFeature.extract of SeqFeature(FeatureLocation(ExactPosition(70439), ExactPosition(70826), strand=-1), type='CDS')>\n",
      "<bound method SeqFeature.extract of SeqFeature(CompoundLocation([FeatureLocation(ExactPosition(71635), ExactPosition(71749), strand=-1), FeatureLocation(ExactPosition(141305), ExactPosition(141537), strand=1), FeatureLocation(ExactPosition(142073), ExactPosition(142099), strand=1)], 'join'), type='CDS', location_operator='join')>\n",
      "<bound method SeqFeature.extract of SeqFeature(CompoundLocation([FeatureLocation(ExactPosition(73822), ExactPosition(73893), strand=-1), FeatureLocation(ExactPosition(72732), ExactPosition(73024), strand=-1), FeatureLocation(ExactPosition(71857), ExactPosition(72115), strand=-1)], 'join'), type='CDS', location_operator='join')>\n",
      "<bound method SeqFeature.extract of SeqFeature(FeatureLocation(ExactPosition(74337), ExactPosition(75864), strand=1), type='CDS')>\n",
      "<bound method SeqFeature.extract of SeqFeature(FeatureLocation(ExactPosition(76065), ExactPosition(76170), strand=1), type='CDS')>\n",
      "<bound method SeqFeature.extract of SeqFeature(FeatureLocation(ExactPosition(76247), ExactPosition(76379), strand=-1), type='CDS')>\n",
      "<bound method SeqFeature.extract of SeqFeature(FeatureLocation(ExactPosition(76490), ExactPosition(76712), strand=1), type='CDS')>\n",
      "<bound method SeqFeature.extract of SeqFeature(CompoundLocation([FeatureLocation(ExactPosition(76841), ExactPosition(76847), strand=1), FeatureLocation(ExactPosition(77594), ExactPosition(78236), strand=1)], 'join'), type='CDS', location_operator='join')>\n",
      "<bound method SeqFeature.extract of SeqFeature(CompoundLocation([FeatureLocation(ExactPosition(78430), ExactPosition(78436), strand=1), FeatureLocation(ExactPosition(79174), ExactPosition(79651), strand=1)], 'join'), type='CDS', location_operator='join')>\n",
      "<bound method SeqFeature.extract of SeqFeature(FeatureLocation(ExactPosition(79842), ExactPosition(80856), strand=-1), type='CDS')>\n",
      "<bound method SeqFeature.extract of SeqFeature(FeatureLocation(ExactPosition(80921), ExactPosition(81338), strand=-1), type='CDS')>\n",
      "<bound method SeqFeature.extract of SeqFeature(FeatureLocation(ExactPosition(81439), ExactPosition(81553), strand=-1), type='CDS')>\n",
      "<bound method SeqFeature.extract of SeqFeature(FeatureLocation(ExactPosition(81664), ExactPosition(81769), strand=-1), type='CDS')>\n",
      "<bound method SeqFeature.extract of SeqFeature(FeatureLocation(ExactPosition(81877), ExactPosition(82282), strand=-1), type='CDS')>\n",
      "<bound method SeqFeature.extract of SeqFeature(FeatureLocation(ExactPosition(82449), ExactPosition(82818), strand=-1), type='CDS')>\n",
      "<bound method SeqFeature.extract of SeqFeature(CompoundLocation([FeatureLocation(ExactPosition(84357), ExactPosition(84366), strand=-1), FeatureLocation(ExactPosition(82943), ExactPosition(83339), strand=-1)], 'join'), type='CDS', location_operator='join')>\n",
      "<bound method SeqFeature.extract of SeqFeature(FeatureLocation(ExactPosition(84527), ExactPosition(85184), strand=-1), type='CDS')>\n",
      "<bound method SeqFeature.extract of SeqFeature(FeatureLocation(ExactPosition(85168), ExactPosition(85636), strand=-1), type='CDS')>\n",
      "<bound method SeqFeature.extract of SeqFeature(FeatureLocation(ExactPosition(85688), ExactPosition(85967), strand=-1), type='CDS')>\n",
      "<bound method SeqFeature.extract of SeqFeature(CompoundLocation([FeatureLocation(ExactPosition(87135), ExactPosition(87525), strand=-1), FeatureLocation(ExactPosition(86034), ExactPosition(86469), strand=-1)], 'join'), type='CDS', location_operator='join')>\n",
      "<bound method SeqFeature.extract of SeqFeature(FeatureLocation(ExactPosition(87543), ExactPosition(87825), strand=-1), type='CDS')>\n",
      "<bound method SeqFeature.extract of SeqFeature(FeatureLocation(ExactPosition(88192), ExactPosition(95029), strand=1), type='CDS')>\n",
      "<bound method SeqFeature.extract of SeqFeature(FeatureLocation(ExactPosition(95119), ExactPosition(95383), strand=1), type='CDS')>\n",
      "<bound method SeqFeature.extract of SeqFeature(CompoundLocation([FeatureLocation(ExactPosition(97655), ExactPosition(98432), strand=-1), FeatureLocation(ExactPosition(96220), ExactPosition(96976), strand=-1)], 'join'), type='CDS', location_operator='join')>\n",
      "<bound method SeqFeature.extract of SeqFeature(FeatureLocation(ExactPosition(98717), ExactPosition(99185), strand=-1), type='CDS')>\n",
      "<bound method SeqFeature.extract of SeqFeature(FeatureLocation(ExactPosition(111504), ExactPosition(113718), strand=-1), type='CDS')>\n",
      "<bound method SeqFeature.extract of SeqFeature(FeatureLocation(ExactPosition(114500), ExactPosition(114668), strand=1), type='CDS')>\n",
      "<bound method SeqFeature.extract of SeqFeature(FeatureLocation(ExactPosition(115761), ExactPosition(116703), strand=1), type='CDS')>\n",
      "<bound method SeqFeature.extract of SeqFeature(FeatureLocation(ExactPosition(116940), AfterPosition(118443), strand=-1), type='CDS')>\n",
      "<bound method SeqFeature.extract of SeqFeature(FeatureLocation(ExactPosition(118560), ExactPosition(118806), strand=-1), type='CDS')>\n",
      "<bound method SeqFeature.extract of SeqFeature(FeatureLocation(ExactPosition(119057), ExactPosition(119363), strand=-1), type='CDS')>\n",
      "<bound method SeqFeature.extract of SeqFeature(FeatureLocation(ExactPosition(119586), ExactPosition(120117), strand=-1), type='CDS')>\n",
      "<bound method SeqFeature.extract of SeqFeature(FeatureLocation(ExactPosition(120521), ExactPosition(121025), strand=-1), type='CDS')>\n",
      "<bound method SeqFeature.extract of SeqFeature(CompoundLocation([FeatureLocation(ExactPosition(122782), ExactPosition(123334), strand=-1), FeatureLocation(ExactPosition(121109), ExactPosition(121649), strand=-1)], 'join'), type='CDS', location_operator='join')>\n",
      "<bound method SeqFeature.extract of SeqFeature(FeatureLocation(ExactPosition(123335), ExactPosition(124517), strand=-1), type='CDS')>\n",
      "<bound method SeqFeature.extract of SeqFeature(FeatureLocation(ExactPosition(124628), ExactPosition(124892), strand=-1), type='CDS')>\n",
      "<bound method SeqFeature.extract of SeqFeature(FeatureLocation(ExactPosition(125293), ExactPosition(130969), strand=-1), type='CDS')>\n",
      "<bound method SeqFeature.extract of SeqFeature(FeatureLocation(ExactPosition(142152), ExactPosition(142620), strand=1), type='CDS')>\n",
      "<bound method SeqFeature.extract of SeqFeature(CompoundLocation([FeatureLocation(ExactPosition(142905), ExactPosition(143682), strand=1), FeatureLocation(ExactPosition(144361), ExactPosition(145117), strand=1)], 'join'), type='CDS', location_operator='join')>\n",
      "<bound method SeqFeature.extract of SeqFeature(FeatureLocation(ExactPosition(145954), ExactPosition(146218), strand=-1), type='CDS')>\n",
      "<bound method SeqFeature.extract of SeqFeature(FeatureLocation(ExactPosition(146308), ExactPosition(153145), strand=-1), type='CDS')>\n",
      "<bound method SeqFeature.extract of SeqFeature(FeatureLocation(ExactPosition(153512), ExactPosition(153794), strand=1), type='CDS')>\n",
      "<bound method SeqFeature.extract of SeqFeature(CompoundLocation([FeatureLocation(ExactPosition(153812), ExactPosition(154202), strand=1), FeatureLocation(ExactPosition(154868), ExactPosition(155303), strand=1)], 'join'), type='CDS', location_operator='join')>\n"
     ]
    }
   ],
   "source": [
    "# feat information extract\n",
    "for t_gb in t_gb_parse:\n",
    "    t_feats = [t_feat for t_feat in t_gb.features if t_feat.type == \"CDS\"]\n",
    "    for t_feat in t_feats:\n",
    "        print(t_feat.extract) \n",
    "\n",
    "# feat.extract 대신 feat.strand를 하면 extract의 각각에 있는 strand 정보만 나옴\n",
    "# 그 이외의 type, location 등도 가능"
   ]
  },
  {
   "cell_type": "code",
   "execution_count": 11,
   "metadata": {},
   "outputs": [
    {
     "name": "stdout",
     "output_type": "stream",
     "text": [
      "Name DQ347959, 307 features\n",
      "Seq('TGGGCGAACGACGGGAATTGAACCCGCGCATGGTGGATTCACAATCCACTGCCT...TAA', IUPACAmbiguousDNA())\n",
      "155461\n"
     ]
    }
   ],
   "source": [
    "for t_gb in t_gb_parse :\n",
    "    print((\"Name %s, %i features\")%((t_gb.name), len(t_gb.features)))\n",
    "    print(repr(t_gb.seq))\n",
    "    print(len(t_gb.seq))\n",
    "    #print(t_gb.seq)하면 sequence 전체가 그대로 print"
   ]
  },
  {
   "cell_type": "code",
   "execution_count": 12,
   "metadata": {},
   "outputs": [],
   "source": [
    "# tomato.gb file을 열었을 때, 한 뭉텅이씩 묶여있는 것들 중 0번째부터 시작하여 6번째에 있는 부분을 gb_feature6라는 변수에 지정\n",
    "gb_feature6 = t_gb.features[6]"
   ]
  },
  {
   "cell_type": "code",
   "execution_count": 13,
   "metadata": {},
   "outputs": [
    {
     "name": "stdout",
     "output_type": "stream",
     "text": [
      "type: CDS\n",
      "location: [536:1598](-)\n",
      "qualifiers:\n",
      "    Key: codon_start, Value: ['1']\n",
      "    Key: gene, Value: ['psbA']\n",
      "    Key: product, Value: ['photosystem II protein D1']\n",
      "    Key: protein_id, Value: ['ABC56280.1']\n",
      "    Key: transl_table, Value: ['11']\n",
      "    Key: translation, Value: ['MTAILERRESESLWGRFCNWITSTENRLYIGWFGVLMIPTLLTATSVFIIAFIAAPPVDIDGIREPVSGSLLYGNNIISGAIIPTSAAIGLHFYPIWEAASVDEWLYNGGPYELIVLHFLLGVACYMGREWELSFRLGMRPWIAVAYSAPVAAATAVFLIYPIGQGSFSDGMPLGISGTFNFMIVFQAEHNILMHPFHMLGVAGVFGGSLFSAMHGSLVTSSLIRETTENESANEGYRFGQEEETYNIVAAHGYFGRLIFQYASFNNSRSLHFFLAAWPVVGIWFTALGISTMAFNLNGFNFNQSVVDSQGRVINTWADIINRANLGMEVMHERNAHNFPLDLAAIEAPSTNG']\n",
      "\n"
     ]
    }
   ],
   "source": [
    "print(gb_feature6)"
   ]
  },
  {
   "cell_type": "code",
   "execution_count": 14,
   "metadata": {},
   "outputs": [
    {
     "data": {
      "text/plain": [
       "FeatureLocation(ExactPosition(536), ExactPosition(1598), strand=-1)"
      ]
     },
     "execution_count": 14,
     "metadata": {},
     "output_type": "execute_result"
    }
   ],
   "source": [
    "# 위의 내용 중 location 부분만 추출되어짐\n",
    "gb_feature6.location"
   ]
  },
  {
   "cell_type": "code",
   "execution_count": 15,
   "metadata": {},
   "outputs": [
    {
     "data": {
      "text/plain": [
       "ExactPosition(536)"
      ]
     },
     "execution_count": 15,
     "metadata": {},
     "output_type": "execute_result"
    }
   ],
   "source": [
    "# FeatureLocation으로 묶여있는 position 부분 중 앞부분만을 뜯어와줌\n",
    "gb_feature6.location.start"
   ]
  },
  {
   "cell_type": "code",
   "execution_count": 16,
   "metadata": {},
   "outputs": [
    {
     "data": {
      "text/plain": [
       "ExactPosition(1598)"
      ]
     },
     "execution_count": 16,
     "metadata": {},
     "output_type": "execute_result"
    }
   ],
   "source": [
    "# FeatureLocation으로 묶여있는 position 부분 중 뒷부분만을 뜯어와줌\n",
    "gb_feature6.location.end"
   ]
  },
  {
   "cell_type": "code",
   "execution_count": 17,
   "metadata": {},
   "outputs": [
    {
     "data": {
      "text/plain": [
       "536"
      ]
     },
     "execution_count": 17,
     "metadata": {},
     "output_type": "execute_result"
    }
   ],
   "source": [
    "# position 부분 중 앞부분의 position만을 뜯어와줌\n",
    "gb_feature6.location.nofuzzy_start"
   ]
  },
  {
   "cell_type": "code",
   "execution_count": 18,
   "metadata": {},
   "outputs": [
    {
     "data": {
      "text/plain": [
       "1598"
      ]
     },
     "execution_count": 18,
     "metadata": {},
     "output_type": "execute_result"
    }
   ],
   "source": [
    "# position 부분 중 뒷부분의 position만을 뜯어와줌\n",
    "gb_feature6.location.nofuzzy_end"
   ]
  },
  {
   "cell_type": "markdown",
   "metadata": {},
   "source": [
    "## ++ 단점 ++"
   ]
  },
  {
   "cell_type": "code",
   "execution_count": 19,
   "metadata": {},
   "outputs": [],
   "source": [
    "gb_feature2 = t_gb.features[2]"
   ]
  },
  {
   "cell_type": "code",
   "execution_count": 20,
   "metadata": {},
   "outputs": [
    {
     "name": "stdout",
     "output_type": "stream",
     "text": [
      "type: CDS\n",
      "location: join{[71635:71749](-), [99800:100032](-), [99238:99264](-)}\n",
      "qualifiers:\n",
      "    Key: codon_start, Value: ['1']\n",
      "    Key: gene, Value: ['rps12']\n",
      "    Key: product, Value: ['ribosomal protein S12']\n",
      "    Key: protein_id, Value: ['ABC56347.1']\n",
      "    Key: trans_splicing, Value: ['']\n",
      "    Key: transl_table, Value: ['11']\n",
      "    Key: translation, Value: ['MPTIKQLIRNTRQPIRNVTKSPALRGCPQRRGTCTRVYTITPKKPNSALRKVARVRLTSGFEITAYIPGIGHNSQEHSVVLVRGGRVKDLPGVRYHIVRGTLDAVGVKDRQQGRSKYGVKKPK']\n",
      "\n"
     ]
    }
   ],
   "source": [
    "print(gb_feature2)"
   ]
  },
  {
   "cell_type": "code",
   "execution_count": 21,
   "metadata": {},
   "outputs": [
    {
     "data": {
      "text/plain": [
       "[FeatureLocation(ExactPosition(71635), ExactPosition(71749), strand=-1),\n",
       " FeatureLocation(ExactPosition(99800), ExactPosition(100032), strand=-1),\n",
       " FeatureLocation(ExactPosition(99238), ExactPosition(99264), strand=-1)]"
      ]
     },
     "execution_count": 21,
     "metadata": {},
     "output_type": "execute_result"
    }
   ],
   "source": [
    "gb_feature2.location.parts"
   ]
  },
  {
   "cell_type": "code",
   "execution_count": 22,
   "metadata": {},
   "outputs": [
    {
     "data": {
      "text/plain": [
       "ExactPosition(71635)"
      ]
     },
     "execution_count": 22,
     "metadata": {},
     "output_type": "execute_result"
    }
   ],
   "source": [
    "gb_feature2.location.start"
   ]
  },
  {
   "cell_type": "code",
   "execution_count": 23,
   "metadata": {},
   "outputs": [
    {
     "data": {
      "text/plain": [
       "ExactPosition(100032)"
      ]
     },
     "execution_count": 23,
     "metadata": {},
     "output_type": "execute_result"
    }
   ],
   "source": [
    "gb_feature2.location.end"
   ]
  },
  {
   "cell_type": "code",
   "execution_count": 24,
   "metadata": {},
   "outputs": [
    {
     "data": {
      "text/plain": [
       "71635"
      ]
     },
     "execution_count": 24,
     "metadata": {},
     "output_type": "execute_result"
    }
   ],
   "source": [
    "gb_feature2.location.nofuzzy_start"
   ]
  },
  {
   "cell_type": "code",
   "execution_count": 25,
   "metadata": {},
   "outputs": [
    {
     "data": {
      "text/plain": [
       "100032"
      ]
     },
     "execution_count": 25,
     "metadata": {},
     "output_type": "execute_result"
    }
   ],
   "source": [
    "gb_feature2.location.nofuzzy_end"
   ]
  },
  {
   "cell_type": "markdown",
   "metadata": {},
   "source": [
    "<br />\n",
    "<br />\n",
    "이처럼 Location이 두개 이상이면 FeatureLocation 한 묶음씩을 불러오지 못하여 가장 앞에 있는 position 번호와 가장 뒤에 있는 position 번호를 불러온다.\n",
    "\n",
    "## --단점--"
   ]
  },
  {
   "cell_type": "markdown",
   "metadata": {},
   "source": [
    "<br />\n",
    "<br />\n",
    "\n",
    "\n",
    "## ++해당 position내의 sequence 만을 추출하는 방법 3가지++"
   ]
  },
  {
   "cell_type": "markdown",
   "metadata": {},
   "source": [
    "**1) rec.seq으로 origin seq을 불러와 position을 지정해주고, strand가 -1, reverse이므로 sequence를 뒤집어줌**"
   ]
  },
  {
   "cell_type": "code",
   "execution_count": 26,
   "metadata": {},
   "outputs": [
    {
     "data": {
      "text/plain": [
       "Seq('ATGACTGCAATTTTAGAGAGACGCGAAAGCGAAAGCCTATGGGGTCGCTTCTGT...TAA', IUPACAmbiguousDNA())"
      ]
     },
     "execution_count": 26,
     "metadata": {},
     "output_type": "execute_result"
    }
   ],
   "source": [
    "t_gb.seq[536:1598].reverse_complement()"
   ]
  },
  {
   "cell_type": "markdown",
   "metadata": {},
   "source": [
    "**2) nofuzzy가 각 position의 숫자만 뽑아와주는 것을 이용해 변수에 지정하여 위 코드 대신 사용가능**"
   ]
  },
  {
   "cell_type": "code",
   "execution_count": 27,
   "metadata": {},
   "outputs": [
    {
     "data": {
      "text/plain": [
       "Seq('ATGACTGCAATTTTAGAGAGACGCGAAAGCGAAAGCCTATGGGGTCGCTTCTGT...TAA', IUPACAmbiguousDNA())"
      ]
     },
     "execution_count": 27,
     "metadata": {},
     "output_type": "execute_result"
    }
   ],
   "source": [
    "start = gb_feature6.location.nofuzzy_start\n",
    "end = gb_feature6.location.nofuzzy_end\n",
    "t_gb.seq[start:end].reverse_complement()"
   ]
  },
  {
   "cell_type": "code",
   "execution_count": 28,
   "metadata": {},
   "outputs": [
    {
     "data": {
      "text/plain": [
       "True"
      ]
     },
     "execution_count": 28,
     "metadata": {},
     "output_type": "execute_result"
    }
   ],
   "source": [
    "# 1번과 2번 방법의 추출 서열이 동일함을 알 수 있음\n",
    "str(t_gb.seq[536:1598].reverse_complement()) == str(t_gb.seq[start:end].reverse_complement())"
   ]
  },
  {
   "cell_type": "markdown",
   "metadata": {},
   "source": [
    "**3-1) 위 코드들처럼 position을 직접 지정해주지 않아도 해당하는 sequence를 뽑아와주는 방법**"
   ]
  },
  {
   "cell_type": "code",
   "execution_count": 29,
   "metadata": {},
   "outputs": [
    {
     "data": {
      "text/plain": [
       "Seq('ATGACTGCAATTTTAGAGAGACGCGAAAGCGAAAGCCTATGGGGTCGCTTCTGT...TAA', IUPACAmbiguousDNA())"
      ]
     },
     "execution_count": 29,
     "metadata": {},
     "output_type": "execute_result"
    }
   ],
   "source": [
    "gb_feature6.extract(t_gb.seq)"
   ]
  },
  {
   "cell_type": "markdown",
   "metadata": {},
   "source": [
    "**3-2) 동일한 방법**"
   ]
  },
  {
   "cell_type": "code",
   "execution_count": 30,
   "metadata": {},
   "outputs": [
    {
     "data": {
      "text/plain": [
       "Seq('ATGACTGCAATTTTAGAGAGACGCGAAAGCGAAAGCCTATGGGGTCGCTTCTGT...TAA', IUPACAmbiguousDNA())"
      ]
     },
     "execution_count": 30,
     "metadata": {},
     "output_type": "execute_result"
    }
   ],
   "source": [
    "gb_feature6.location.extract(parent_sequence = t_gb.seq)"
   ]
  },
  {
   "cell_type": "code",
   "execution_count": 31,
   "metadata": {},
   "outputs": [
    {
     "data": {
      "text/plain": [
       "True"
      ]
     },
     "execution_count": 31,
     "metadata": {},
     "output_type": "execute_result"
    }
   ],
   "source": [
    "# 3번 방법끼리 동일함을 알 수 있음\n",
    "str(gb_feature6.extract(t_gb.seq)) == str(gb_feature6.location.extract(parent_sequence = t_gb.seq))"
   ]
  },
  {
   "cell_type": "code",
   "execution_count": 32,
   "metadata": {},
   "outputs": [
    {
     "data": {
      "text/plain": [
       "True"
      ]
     },
     "execution_count": 32,
     "metadata": {},
     "output_type": "execute_result"
    }
   ],
   "source": [
    "# 1번 방법처럼 직접 추출한 서열과 3번 방법처럼 기능을 사용한 추출 서열이 동일함을 알 수 있음\n",
    "# 이때, 1번 방법은 'location: [536:1598](-)' 으로 표현되어 있었기 때문에 reverse도 직접 해주어야하나, 3번 방법은 strand도 고려해주는 기능임을 알 수 있음\n",
    "str(t_gb.seq[536:1598].reverse_complement()) == str(gb_feature6.extract(t_gb.seq))"
   ]
  },
  {
   "cell_type": "markdown",
   "metadata": {},
   "source": [
    "## --해당 position내의 sequence 만을 추출하는 방법 3가지--"
   ]
  },
  {
   "cell_type": "markdown",
   "metadata": {},
   "source": [
    "<br />\n",
    "<br />\n",
    "\n",
    "## ++translation하는 방법 4가지++"
   ]
  },
  {
   "cell_type": "markdown",
   "metadata": {},
   "source": [
    "**1-1) sequence 추출 1,2 방법 이용하며 stop codon까지 보이도록 translation**"
   ]
  },
  {
   "cell_type": "code",
   "execution_count": 33,
   "metadata": {},
   "outputs": [
    {
     "data": {
      "text/plain": [
       "Seq('MTAILERRESESLWGRFCNWITSTENRLYIGWFGVLMIPTLLTATSVFIIAFIA...NG*', HasStopCodon(ExtendedIUPACProtein(), '*'))"
      ]
     },
     "execution_count": 33,
     "metadata": {},
     "output_type": "execute_result"
    }
   ],
   "source": [
    "t_gb.seq[start:end].reverse_complement().translate()"
   ]
  },
  {
   "cell_type": "code",
   "execution_count": 34,
   "metadata": {},
   "outputs": [],
   "source": [
    "protein = t_gb.seq[start:end].reverse_complement().translate()"
   ]
  },
  {
   "cell_type": "code",
   "execution_count": 35,
   "metadata": {},
   "outputs": [
    {
     "data": {
      "text/plain": [
       "'MTAILERRESESLWGRFCNWITSTENRLYIGWFGVLMIPTLLTATSVFIIAFIAAPPVDIDGIREPVSGSLLYGNNIISGAIIPTSAAIGLHFYPIWEAASVDEWLYNGGPYELIVLHFLLGVACYMGREWELSFRLGMRPWIAVAYSAPVAAATAVFLIYPIGQGSFSDGMPLGISGTFNFMIVFQAEHNILMHPFHMLGVAGVFGGSLFSAMHGSLVTSSLIRETTENESANEGYRFGQEEETYNIVAAHGYFGRLIFQYASFNNSRSLHFFLAAWPVVGIWFTALGISTMAFNLNGFNFNQSVVDSQGRVINTWADIINRANLGMEVMHERNAHNFPLDLAAIEAPSTNG*'"
      ]
     },
     "execution_count": 35,
     "metadata": {},
     "output_type": "execute_result"
    }
   ],
   "source": [
    "str(protein)"
   ]
  },
  {
   "cell_type": "markdown",
   "metadata": {},
   "source": [
    "**1-2) 동일한 방법**"
   ]
  },
  {
   "cell_type": "code",
   "execution_count": 36,
   "metadata": {},
   "outputs": [
    {
     "data": {
      "text/plain": [
       "Seq('MTAILERRESESLWGRFCNWITSTENRLYIGWFGVLMIPTLLTATSVFIIAFIA...NG*', HasStopCodon(ExtendedIUPACProtein(), '*'))"
      ]
     },
     "execution_count": 36,
     "metadata": {},
     "output_type": "execute_result"
    }
   ],
   "source": [
    "t_gb.seq[start:end].reverse_complement().translate(table=11)"
   ]
  },
  {
   "cell_type": "code",
   "execution_count": 37,
   "metadata": {},
   "outputs": [],
   "source": [
    "protein_table = t_gb.seq[start:end].reverse_complement().translate(table=11)"
   ]
  },
  {
   "cell_type": "code",
   "execution_count": 38,
   "metadata": {},
   "outputs": [
    {
     "data": {
      "text/plain": [
       "'MTAILERRESESLWGRFCNWITSTENRLYIGWFGVLMIPTLLTATSVFIIAFIAAPPVDIDGIREPVSGSLLYGNNIISGAIIPTSAAIGLHFYPIWEAASVDEWLYNGGPYELIVLHFLLGVACYMGREWELSFRLGMRPWIAVAYSAPVAAATAVFLIYPIGQGSFSDGMPLGISGTFNFMIVFQAEHNILMHPFHMLGVAGVFGGSLFSAMHGSLVTSSLIRETTENESANEGYRFGQEEETYNIVAAHGYFGRLIFQYASFNNSRSLHFFLAAWPVVGIWFTALGISTMAFNLNGFNFNQSVVDSQGRVINTWADIINRANLGMEVMHERNAHNFPLDLAAIEAPSTNG*'"
      ]
     },
     "execution_count": 38,
     "metadata": {},
     "output_type": "execute_result"
    }
   ],
   "source": [
    "str(protein_table)"
   ]
  },
  {
   "cell_type": "code",
   "execution_count": 39,
   "metadata": {},
   "outputs": [
    {
     "data": {
      "text/plain": [
       "True"
      ]
     },
     "execution_count": 39,
     "metadata": {},
     "output_type": "execute_result"
    }
   ],
   "source": [
    "# 1번 방법끼리 동일함을 알 수 있음\n",
    "str(protein) == str(protein_table)"
   ]
  },
  {
   "cell_type": "markdown",
   "metadata": {},
   "source": [
    "**2-1) sequence 추출 1,2 방법 이용하며 stop codon은 빼도록 translation**"
   ]
  },
  {
   "cell_type": "code",
   "execution_count": 40,
   "metadata": {},
   "outputs": [],
   "source": [
    "protein_stop = t_gb.seq[start:end].reverse_complement().translate(table=11, to_stop=True)"
   ]
  },
  {
   "cell_type": "code",
   "execution_count": 41,
   "metadata": {},
   "outputs": [
    {
     "data": {
      "text/plain": [
       "'MTAILERRESESLWGRFCNWITSTENRLYIGWFGVLMIPTLLTATSVFIIAFIAAPPVDIDGIREPVSGSLLYGNNIISGAIIPTSAAIGLHFYPIWEAASVDEWLYNGGPYELIVLHFLLGVACYMGREWELSFRLGMRPWIAVAYSAPVAAATAVFLIYPIGQGSFSDGMPLGISGTFNFMIVFQAEHNILMHPFHMLGVAGVFGGSLFSAMHGSLVTSSLIRETTENESANEGYRFGQEEETYNIVAAHGYFGRLIFQYASFNNSRSLHFFLAAWPVVGIWFTALGISTMAFNLNGFNFNQSVVDSQGRVINTWADIINRANLGMEVMHERNAHNFPLDLAAIEAPSTNG'"
      ]
     },
     "execution_count": 41,
     "metadata": {},
     "output_type": "execute_result"
    }
   ],
   "source": [
    "str(protein_stop)"
   ]
  },
  {
   "cell_type": "markdown",
   "metadata": {},
   "source": [
    "**2-2) 동일한 방법**"
   ]
  },
  {
   "cell_type": "code",
   "execution_count": 42,
   "metadata": {},
   "outputs": [],
   "source": [
    "protein_cds = t_gb.seq[start:end].reverse_complement().translate(table=11, cds=True)"
   ]
  },
  {
   "cell_type": "code",
   "execution_count": 43,
   "metadata": {},
   "outputs": [
    {
     "data": {
      "text/plain": [
       "'MTAILERRESESLWGRFCNWITSTENRLYIGWFGVLMIPTLLTATSVFIIAFIAAPPVDIDGIREPVSGSLLYGNNIISGAIIPTSAAIGLHFYPIWEAASVDEWLYNGGPYELIVLHFLLGVACYMGREWELSFRLGMRPWIAVAYSAPVAAATAVFLIYPIGQGSFSDGMPLGISGTFNFMIVFQAEHNILMHPFHMLGVAGVFGGSLFSAMHGSLVTSSLIRETTENESANEGYRFGQEEETYNIVAAHGYFGRLIFQYASFNNSRSLHFFLAAWPVVGIWFTALGISTMAFNLNGFNFNQSVVDSQGRVINTWADIINRANLGMEVMHERNAHNFPLDLAAIEAPSTNG'"
      ]
     },
     "execution_count": 43,
     "metadata": {},
     "output_type": "execute_result"
    }
   ],
   "source": [
    "str(protein_cds)"
   ]
  },
  {
   "cell_type": "code",
   "execution_count": 44,
   "metadata": {},
   "outputs": [
    {
     "data": {
      "text/plain": [
       "True"
      ]
     },
     "execution_count": 44,
     "metadata": {},
     "output_type": "execute_result"
    }
   ],
   "source": [
    "# 2번 방법끼리 동일함을 알 수 있음\n",
    "str(protein_stop) == str(protein_cds)"
   ]
  },
  {
   "cell_type": "markdown",
   "metadata": {},
   "source": [
    "**3-1) sequence 추출 3-1 방법 이용하며 stop codon은 빼도록 translation**"
   ]
  },
  {
   "cell_type": "code",
   "execution_count": 45,
   "metadata": {},
   "outputs": [
    {
     "data": {
      "text/plain": [
       "'MTAILERRESESLWGRFCNWITSTENRLYIGWFGVLMIPTLLTATSVFIIAFIAAPPVDIDGIREPVSGSLLYGNNIISGAIIPTSAAIGLHFYPIWEAASVDEWLYNGGPYELIVLHFLLGVACYMGREWELSFRLGMRPWIAVAYSAPVAAATAVFLIYPIGQGSFSDGMPLGISGTFNFMIVFQAEHNILMHPFHMLGVAGVFGGSLFSAMHGSLVTSSLIRETTENESANEGYRFGQEEETYNIVAAHGYFGRLIFQYASFNNSRSLHFFLAAWPVVGIWFTALGISTMAFNLNGFNFNQSVVDSQGRVINTWADIINRANLGMEVMHERNAHNFPLDLAAIEAPSTNG'"
      ]
     },
     "execution_count": 45,
     "metadata": {},
     "output_type": "execute_result"
    }
   ],
   "source": [
    "protein_ext_cds = gb_feature6.extract(t_gb.seq).translate(table=11, cds=True)\n",
    "str(protein_ext_cds)"
   ]
  },
  {
   "cell_type": "code",
   "execution_count": 46,
   "metadata": {},
   "outputs": [
    {
     "data": {
      "text/plain": [
       "True"
      ]
     },
     "execution_count": 46,
     "metadata": {},
     "output_type": "execute_result"
    }
   ],
   "source": [
    "# 2번과 3번 방법의 추출 서열이 동일함을 알 수 있음\n",
    "str(protein_cds) == str(protein_ext_cds)"
   ]
  },
  {
   "cell_type": "markdown",
   "metadata": {},
   "source": [
    "**3-2) sequence 추출 3-2 방법 이용하며 stop codon은 빼도록 translation**"
   ]
  },
  {
   "cell_type": "code",
   "execution_count": 47,
   "metadata": {},
   "outputs": [],
   "source": [
    "protein_loc_ext_cds = gb_feature6.location.extract(parent_sequence = t_gb.seq).translate(table=11, cds=True)"
   ]
  },
  {
   "cell_type": "code",
   "execution_count": 48,
   "metadata": {},
   "outputs": [
    {
     "data": {
      "text/plain": [
       "True"
      ]
     },
     "execution_count": 48,
     "metadata": {},
     "output_type": "execute_result"
    }
   ],
   "source": [
    "# 3번 방법끼리 동일함을 알 수 있음\n",
    "str(protein_ext_cds) == str(protein_loc_ext_cds)"
   ]
  },
  {
   "cell_type": "markdown",
   "metadata": {},
   "source": [
    "**4) genbank file에 명시되어있는 translation 정보를 추출해오는 방법**"
   ]
  },
  {
   "cell_type": "code",
   "execution_count": 49,
   "metadata": {},
   "outputs": [
    {
     "data": {
      "text/plain": [
       "['MTAILERRESESLWGRFCNWITSTENRLYIGWFGVLMIPTLLTATSVFIIAFIAAPPVDIDGIREPVSGSLLYGNNIISGAIIPTSAAIGLHFYPIWEAASVDEWLYNGGPYELIVLHFLLGVACYMGREWELSFRLGMRPWIAVAYSAPVAAATAVFLIYPIGQGSFSDGMPLGISGTFNFMIVFQAEHNILMHPFHMLGVAGVFGGSLFSAMHGSLVTSSLIRETTENESANEGYRFGQEEETYNIVAAHGYFGRLIFQYASFNNSRSLHFFLAAWPVVGIWFTALGISTMAFNLNGFNFNQSVVDSQGRVINTWADIINRANLGMEVMHERNAHNFPLDLAAIEAPSTNG']"
      ]
     },
     "execution_count": 49,
     "metadata": {},
     "output_type": "execute_result"
    }
   ],
   "source": [
    "gb_feature6.qualifiers['translation']"
   ]
  },
  {
   "cell_type": "code",
   "execution_count": 50,
   "metadata": {},
   "outputs": [
    {
     "data": {
      "text/plain": [
       "'MTAILERRESESLWGRFCNWITSTENRLYIGWFGVLMIPTLLTATSVFIIAFIAAPPVDIDGIREPVSGSLLYGNNIISGAIIPTSAAIGLHFYPIWEAASVDEWLYNGGPYELIVLHFLLGVACYMGREWELSFRLGMRPWIAVAYSAPVAAATAVFLIYPIGQGSFSDGMPLGISGTFNFMIVFQAEHNILMHPFHMLGVAGVFGGSLFSAMHGSLVTSSLIRETTENESANEGYRFGQEEETYNIVAAHGYFGRLIFQYASFNNSRSLHFFLAAWPVVGIWFTALGISTMAFNLNGFNFNQSVVDSQGRVINTWADIINRANLGMEVMHERNAHNFPLDLAAIEAPSTNG'"
      ]
     },
     "execution_count": 50,
     "metadata": {},
     "output_type": "execute_result"
    }
   ],
   "source": [
    "gb_feature6.qualifiers['translation'][0]"
   ]
  },
  {
   "cell_type": "code",
   "execution_count": 51,
   "metadata": {},
   "outputs": [],
   "source": [
    "protein_qual = gb_feature6.qualifiers['translation'][0]"
   ]
  },
  {
   "cell_type": "code",
   "execution_count": 52,
   "metadata": {},
   "outputs": [
    {
     "data": {
      "text/plain": [
       "True"
      ]
     },
     "execution_count": 52,
     "metadata": {},
     "output_type": "execute_result"
    }
   ],
   "source": [
    "# 3번과 4번 방법의 추출 서열이 동일함을 알 수 있음\n",
    "protein_qual == str(protein_ext_cds)"
   ]
  },
  {
   "cell_type": "markdown",
   "metadata": {},
   "source": [
    "## --translation하는 방법 4가지--"
   ]
  },
  {
   "cell_type": "markdown",
   "metadata": {},
   "source": [
    "<br />\n",
    "<br />\n",
    "\n",
    "## ++오점++\n",
    "응용하여 gene name이 key, 그 gene의 sequence가 value인 각 종에 대한 dictionary를 만드는 중, translation하는 방법의 1,2,3번 방법과 4번 방법의 translation 결과값이 다름을 발견"
   ]
  },
  {
   "cell_type": "code",
   "execution_count": 53,
   "metadata": {},
   "outputs": [],
   "source": [
    "# translation 3-2번 방법을 value값으로 이용\n",
    "t_3_2_CDS_dic = {}\n",
    "\n",
    "for t_gb in t_gb_parse :\n",
    "    t_feats = [t_feat for t_feat in t_gb.features if t_feat.type == \"CDS\"]\n",
    "    for t_feat in t_feats :\n",
    "        key = t_feat.qualifiers['gene'][0]\n",
    "        value = str(t_feat.location.extract(parent_sequence = t_gb.seq).translate(table=11, to_stop=True))\n",
    "        t_3_2_CDS_dic[key] = value"
   ]
  },
  {
   "cell_type": "code",
   "execution_count": 54,
   "metadata": {},
   "outputs": [],
   "source": [
    "# translation 3-1번 방법을 value값으로 이용\n",
    "t_3_1_CDS_dic = {}\n",
    "\n",
    "for t_gb in t_gb_parse :\n",
    "    t_feats = [t_feat for t_feat in t_gb.features if t_feat.type == \"CDS\"]\n",
    "    for t_feat in t_feats :\n",
    "        key = t_feat.qualifiers['gene'][0]\n",
    "        value = str(t_feat.extract(t_gb.seq).translate(table=11, to_stop=True))\n",
    "        t_3_1_CDS_dic[key] = value"
   ]
  },
  {
   "cell_type": "code",
   "execution_count": 55,
   "metadata": {},
   "outputs": [
    {
     "data": {
      "text/plain": [
       "True"
      ]
     },
     "execution_count": 55,
     "metadata": {},
     "output_type": "execute_result"
    }
   ],
   "source": [
    "t_3_2_CDS_dic == t_3_1_CDS_dic\n",
    "\n",
    "# 3번 방법끼리의 translation 결과는 동일하다"
   ]
  },
  {
   "cell_type": "code",
   "execution_count": 56,
   "metadata": {},
   "outputs": [],
   "source": [
    "# translation 4번 방법을 value값으로 이용\n",
    "t_4_CDS_dic = {}\n",
    "\n",
    "for t_gb in t_gb_parse :\n",
    "    t_feats = [t_feat for t_feat in t_gb.features if t_feat.type == \"CDS\"]\n",
    "    for t_feat in t_feats :\n",
    "        key = t_feat.qualifiers['gene'][0]\n",
    "        value = str(t_feat.qualifiers['translation'][0])\n",
    "        t_4_CDS_dic[key] = value"
   ]
  },
  {
   "cell_type": "code",
   "execution_count": 57,
   "metadata": {},
   "outputs": [
    {
     "data": {
      "text/plain": [
       "False"
      ]
     },
     "execution_count": 57,
     "metadata": {},
     "output_type": "execute_result"
    }
   ],
   "source": [
    "t_3_2_CDS_dic == t_4_CDS_dic\n",
    "\n",
    "# translation 결과가 일정부분 달라졌다"
   ]
  },
  {
   "cell_type": "code",
   "execution_count": 58,
   "metadata": {},
   "outputs": [
    {
     "data": {
      "text/plain": [
       "True"
      ]
     },
     "execution_count": 58,
     "metadata": {},
     "output_type": "execute_result"
    }
   ],
   "source": [
    "t_3_2_CDS_dic.keys() == t_4_CDS_dic.keys()\n",
    "\n",
    "# 우선 key값은 동일함을 확인"
   ]
  },
  {
   "cell_type": "code",
   "execution_count": 59,
   "metadata": {},
   "outputs": [
    {
     "name": "stdout",
     "output_type": "stream",
     "text": [
      "infA\n",
      "rps19\n",
      "ycf15\n"
     ]
    }
   ],
   "source": [
    "from operator import eq\n",
    "\n",
    "for x in t_3_2_CDS_dic :\n",
    "    if eq(t_3_2_CDS_dic[x], t_4_CDS_dic[x]) == False :\n",
    "        print(x)\n",
    "        \n",
    "# key값은 동일하니 value를 비교해보고, 다른 value를 지닌 key값을 print 해보았다"
   ]
  },
  {
   "cell_type": "code",
   "execution_count": 60,
   "metadata": {},
   "outputs": [
    {
     "name": "stdout",
     "output_type": "stream",
     "text": [
      "type: CDS\n",
      "location: [81664:81769](-)\n",
      "qualifiers:\n",
      "    Key: codon_start, Value: ['1']\n",
      "    Key: gene, Value: ['infA']\n",
      "    Key: product, Value: ['translational initiation factor 1']\n",
      "    Key: protein_id, Value: ['ABC56334.1']\n",
      "    Key: transl_table, Value: ['11']\n",
      "    Key: translation, Value: ['MQILPGDRVKIEVSPYDSTKGHIIYRLHNKDLKD']\n",
      "\n",
      "type: CDS\n",
      "location: [85688:85967](-)\n",
      "qualifiers:\n",
      "    Key: codon_start, Value: ['1']\n",
      "    Key: gene, Value: ['rps19']\n",
      "    Key: product, Value: ['ribosomal protein S19']\n",
      "    Key: protein_id, Value: ['ABC56340.1']\n",
      "    Key: transl_table, Value: ['11']\n",
      "    Key: translation, Value: ['MTRSLKKNPFVANHLLKKIDKLNTKAEKEIIVTWSRASTIIPTMIGHTIAIHNGKEHLPIYITDSMVGHKLGEFAPTLNFRGHAKSDNRSRR']\n",
      "\n",
      "type: CDS\n",
      "location: [95119:95383](+)\n",
      "qualifiers:\n",
      "    Key: codon_start, Value: ['1']\n",
      "    Key: gene, Value: ['ycf15']\n",
      "    Key: product, Value: ['hypothetical chloroplast RF15']\n",
      "    Key: protein_id, Value: ['ABC56344.1']\n",
      "    Key: transl_table, Value: ['11']\n",
      "    Key: translation, Value: ['METLVSSIFWTLAPWKNMLLLKHGRIEILDQNTMYGWYELPKQEFLNSKQPVQIFTTKKYWILFRIGPERRRKAGMPIGVYYIEFTR']\n",
      "\n",
      "type: CDS\n",
      "location: [145954:146218](-)\n",
      "qualifiers:\n",
      "    Key: codon_start, Value: ['1']\n",
      "    Key: gene, Value: ['ycf15']\n",
      "    Key: product, Value: ['hypothetical chloroplast RF15']\n",
      "    Key: protein_id, Value: ['ABC56363.1']\n",
      "    Key: transl_table, Value: ['11']\n",
      "    Key: translation, Value: ['METLVSSIFWTLAPWKNMLLLKHGRIEILDQNTMYGWYELPKQEFLNSKQPVQIFTTKKYWILFRIGPERRRKAGMPIGVYYIEFTR']\n",
      "\n"
     ]
    }
   ],
   "source": [
    "# 다른 value를 지닌 key값의 features\n",
    "\n",
    "for t_gb in t_gb_parse:\n",
    "    t_feats = [t_feat for t_feat in t_gb.features if t_feat.type == \"CDS\"]\n",
    "    for t_feat in t_feats:\n",
    "        for key in t_3_2_CDS_dic :\n",
    "            if eq(t_3_2_CDS_dic[key], t_4_CDS_dic[key]) == False :\n",
    "                if t_feat.qualifiers['gene'][0] == key :\n",
    "                    print(t_feat)"
   ]
  },
  {
   "cell_type": "markdown",
   "metadata": {},
   "source": [
    "<br /><br />\n",
    "**++**<br />\n",
    "우선 다르게 translation된 key들 중 하나인 infA에 대해 분석해보았다"
   ]
  },
  {
   "cell_type": "code",
   "execution_count": 61,
   "metadata": {},
   "outputs": [
    {
     "data": {
      "text/plain": [
       "Seq('IQILPGDRVKIEVSPYDSTKGHIIYRLHNKDLKD', ExtendedIUPACProtein())"
      ]
     },
     "execution_count": 61,
     "metadata": {},
     "output_type": "execute_result"
    }
   ],
   "source": [
    "# 위의 features에서 보고 start와 end를 이용한 translation 2번 방법\n",
    "\n",
    "t_gb.seq[81664:81769].reverse_complement().translate(table=11, to_stop=True)"
   ]
  },
  {
   "cell_type": "code",
   "execution_count": 62,
   "metadata": {},
   "outputs": [],
   "source": [
    "infA_protein_2 = str(t_gb.seq[81664:81769].reverse_complement().translate(table=11, to_stop=True))"
   ]
  },
  {
   "cell_type": "code",
   "execution_count": 63,
   "metadata": {},
   "outputs": [
    {
     "data": {
      "text/plain": [
       "'IQILPGDRVKIEVSPYDSTKGHIIYRLHNKDLKD'"
      ]
     },
     "execution_count": 63,
     "metadata": {},
     "output_type": "execute_result"
    }
   ],
   "source": [
    "infA_protein_2"
   ]
  },
  {
   "cell_type": "code",
   "execution_count": 64,
   "metadata": {},
   "outputs": [
    {
     "data": {
      "text/plain": [
       "'IQILPGDRVKIEVSPYDSTKGHIIYRLHNKDLKD'"
      ]
     },
     "execution_count": 64,
     "metadata": {},
     "output_type": "execute_result"
    }
   ],
   "source": [
    "# translation 3번 방법\n",
    "\n",
    "t_3_2_CDS_dic['infA']"
   ]
  },
  {
   "cell_type": "code",
   "execution_count": 65,
   "metadata": {},
   "outputs": [],
   "source": [
    "infA_protein_3 = t_3_2_CDS_dic['infA']"
   ]
  },
  {
   "cell_type": "code",
   "execution_count": 66,
   "metadata": {},
   "outputs": [
    {
     "data": {
      "text/plain": [
       "'MQILPGDRVKIEVSPYDSTKGHIIYRLHNKDLKD'"
      ]
     },
     "execution_count": 66,
     "metadata": {},
     "output_type": "execute_result"
    }
   ],
   "source": [
    "# translation 4번 방법\n",
    "\n",
    "t_4_CDS_dic['infA']"
   ]
  },
  {
   "cell_type": "code",
   "execution_count": 67,
   "metadata": {},
   "outputs": [],
   "source": [
    "infA_protein_4 = t_4_CDS_dic['infA']"
   ]
  },
  {
   "cell_type": "code",
   "execution_count": 68,
   "metadata": {},
   "outputs": [
    {
     "data": {
      "text/plain": [
       "True"
      ]
     },
     "execution_count": 68,
     "metadata": {},
     "output_type": "execute_result"
    }
   ],
   "source": [
    "# translation 2번방법과 3번방법은 동일하게 되었다\n",
    "\n",
    "infA_protein_2 == infA_protein_3"
   ]
  },
  {
   "cell_type": "code",
   "execution_count": 69,
   "metadata": {},
   "outputs": [
    {
     "data": {
      "text/plain": [
       "False"
      ]
     },
     "execution_count": 69,
     "metadata": {},
     "output_type": "execute_result"
    }
   ],
   "source": [
    "# translation 2번방법과 4번방법의 protein sequence 결과값은 달라졌다\n",
    "\n",
    "infA_protein_2 == infA_protein_4"
   ]
  },
  {
   "cell_type": "code",
   "execution_count": 70,
   "metadata": {},
   "outputs": [
    {
     "name": "stdout",
     "output_type": "stream",
     "text": [
      "I M\n"
     ]
    }
   ],
   "source": [
    "# 어느 sequence가 달라서 False를 뜨게 했는지 확인 (다른 부분 모두를 print해줌, 여기선 한쌍만 다른듯)\n",
    "\n",
    "for infA2, infA4 in zip(infA_protein_2, infA_protein_4) :\n",
    "    if infA2 != infA4 :\n",
    "        print(infA2, infA4)"
   ]
  },
  {
   "cell_type": "code",
   "execution_count": 71,
   "metadata": {},
   "outputs": [
    {
     "name": "stdout",
     "output_type": "stream",
     "text": [
      "0 0\n"
     ]
    }
   ],
   "source": [
    "# False를 뜨게 한 원인의 sequence의 위치\n",
    "\n",
    "for infA2, infA4 in zip(infA_protein_2, infA_protein_4) :\n",
    "    if infA2 != infA4 :\n",
    "        infA_result_2 = infA_protein_2.find(infA2)\n",
    "        infA_result_4 = infA_protein_4.find(infA4)\n",
    "        print(infA_result_2, infA_result_4)\n",
    "        \n",
    "# I와 M이 제일 처음 나오는 index만 print, 그 뒤의 같은 서열이 있어도 알려주지 않다는 오점"
   ]
  },
  {
   "cell_type": "code",
   "execution_count": 72,
   "metadata": {},
   "outputs": [
    {
     "name": "stdout",
     "output_type": "stream",
     "text": [
      "[0, 2, 10, 22, 23]\n",
      "[0]\n"
     ]
    }
   ],
   "source": [
    "# I와 M이 나오는 index를 모두 printing해줌\n",
    "\n",
    "for infA2, infA4 in zip(infA_protein_2, infA_protein_4) :\n",
    "    if infA2 != infA4 :\n",
    "        print([pos for pos, char in enumerate(infA_protein_2) if char == infA2])\n",
    "        print([pos for pos, char in enumerate(infA_protein_4) if char == infA4])"
   ]
  },
  {
   "cell_type": "code",
   "execution_count": 80,
   "metadata": {},
   "outputs": [
    {
     "name": "stdout",
     "output_type": "stream",
     "text": [
      "0\n"
     ]
    }
   ],
   "source": [
    "for infA2, infA4 in zip(infA_protein_2, infA_protein_4) :\n",
    "    if infA2 != infA4 :\n",
    "        diff_ix_list_i2 = [pos for pos, char in enumerate(infA_protein_2) if char == infA2]\n",
    "        diff_ix_list_i4 = [pos for pos, char in enumerate(infA_protein_4) if char == infA4]\n",
    "        for in2 in diff_ix_list_i2 :\n",
    "            if in2 in diff_ix_list_i4 :\n",
    "                print(in2)\n",
    "                    \n",
    "# I와 M이 나오는 각각의 index를 비교해 동일한 index가 바뀐 서열이므로, 그 index만 불러와줌"
   ]
  },
  {
   "cell_type": "markdown",
   "metadata": {},
   "source": [
    "<br /><br />\n",
    "translation 2번 방법, 3번 방법의 결과값은 동일한데 translation 4번 방법의 결과값은 맨 앞의 한 protein을 제외하곤 모두 같음을 확인했다 <br />\n",
    "이에 value값이 다르다고 print된 나머지 두 gene도 그런가 확인해보았다 <br />\n",
    "**--**"
   ]
  },
  {
   "cell_type": "code",
   "execution_count": 74,
   "metadata": {},
   "outputs": [
    {
     "data": {
      "text/plain": [
       "'VTRSLKKNPFVANHLLKKIDKLNTKAEKEIIVTWSRASTIIPTMIGHTIAIHNGKEHLPIYITDSMVGHKLGEFAPTLNFRGHAKSDNRSRR'"
      ]
     },
     "execution_count": 74,
     "metadata": {},
     "output_type": "execute_result"
    }
   ],
   "source": [
    "t_3_2_CDS_dic['rps19']"
   ]
  },
  {
   "cell_type": "code",
   "execution_count": 75,
   "metadata": {},
   "outputs": [],
   "source": [
    "rps19_protein_3 = t_3_2_CDS_dic['rps19']"
   ]
  },
  {
   "cell_type": "code",
   "execution_count": 76,
   "metadata": {},
   "outputs": [
    {
     "data": {
      "text/plain": [
       "'MTRSLKKNPFVANHLLKKIDKLNTKAEKEIIVTWSRASTIIPTMIGHTIAIHNGKEHLPIYITDSMVGHKLGEFAPTLNFRGHAKSDNRSRR'"
      ]
     },
     "execution_count": 76,
     "metadata": {},
     "output_type": "execute_result"
    }
   ],
   "source": [
    "t_4_CDS_dic['rps19']"
   ]
  },
  {
   "cell_type": "code",
   "execution_count": 77,
   "metadata": {},
   "outputs": [],
   "source": [
    "rps19_protein_4 = t_4_CDS_dic['rps19']"
   ]
  },
  {
   "cell_type": "code",
   "execution_count": 78,
   "metadata": {},
   "outputs": [
    {
     "data": {
      "text/plain": [
       "False"
      ]
     },
     "execution_count": 78,
     "metadata": {},
     "output_type": "execute_result"
    }
   ],
   "source": [
    "rps19_protein_3 == rps19_protein_4"
   ]
  },
  {
   "cell_type": "code",
   "execution_count": 79,
   "metadata": {},
   "outputs": [
    {
     "name": "stdout",
     "output_type": "stream",
     "text": [
      "V M\n"
     ]
    }
   ],
   "source": [
    "for rps3, rps4 in zip(rps19_protein_3, rps19_protein_4) :\n",
    "    if rps3 != rps4 :\n",
    "        print(rps3, rps4)"
   ]
  },
  {
   "cell_type": "code",
   "execution_count": 81,
   "metadata": {},
   "outputs": [
    {
     "name": "stdout",
     "output_type": "stream",
     "text": [
      "0\n"
     ]
    }
   ],
   "source": [
    "for rps3, rps4 in zip(rps19_protein_3, rps19_protein_4) :\n",
    "    if rps3 != rps4 :\n",
    "        diff_ix_list_r3 = [pos for pos, char in enumerate(rps19_protein_3) if char == rps3]\n",
    "        diff_ix_list_r4 = [pos for pos, char in enumerate(rps19_protein_4) if char == rps4]\n",
    "        for r3 in diff_ix_list_r3 :\n",
    "            if r3 in diff_ix_list_r4 :\n",
    "                    print(r3)"
   ]
  },
  {
   "cell_type": "code",
   "execution_count": 82,
   "metadata": {},
   "outputs": [
    {
     "data": {
      "text/plain": [
       "'VETLVSSIFWTLAPWKNMLLLKHGRIEILDQNTMYGWYELPKQEFLNSKQPVQIFTTKKYWILFRIGPERRRKAGMPIGVYYIEFTR'"
      ]
     },
     "execution_count": 82,
     "metadata": {},
     "output_type": "execute_result"
    }
   ],
   "source": [
    "t_3_2_CDS_dic['ycf15']"
   ]
  },
  {
   "cell_type": "code",
   "execution_count": 83,
   "metadata": {},
   "outputs": [],
   "source": [
    "ycf15_protein_3 = t_3_2_CDS_dic['ycf15']"
   ]
  },
  {
   "cell_type": "code",
   "execution_count": 84,
   "metadata": {},
   "outputs": [
    {
     "data": {
      "text/plain": [
       "'METLVSSIFWTLAPWKNMLLLKHGRIEILDQNTMYGWYELPKQEFLNSKQPVQIFTTKKYWILFRIGPERRRKAGMPIGVYYIEFTR'"
      ]
     },
     "execution_count": 84,
     "metadata": {},
     "output_type": "execute_result"
    }
   ],
   "source": [
    "t_4_CDS_dic['ycf15']"
   ]
  },
  {
   "cell_type": "code",
   "execution_count": 85,
   "metadata": {},
   "outputs": [],
   "source": [
    "ycf15_protein_4 = t_4_CDS_dic['ycf15']"
   ]
  },
  {
   "cell_type": "code",
   "execution_count": 86,
   "metadata": {},
   "outputs": [
    {
     "data": {
      "text/plain": [
       "False"
      ]
     },
     "execution_count": 86,
     "metadata": {},
     "output_type": "execute_result"
    }
   ],
   "source": [
    "ycf15_protein_3 == ycf15_protein_4"
   ]
  },
  {
   "cell_type": "code",
   "execution_count": 87,
   "metadata": {},
   "outputs": [
    {
     "name": "stdout",
     "output_type": "stream",
     "text": [
      "V M\n"
     ]
    }
   ],
   "source": [
    "for ycf3, ycf4 in zip(ycf15_protein_3, ycf15_protein_4) :\n",
    "    if ycf3 != ycf4 :\n",
    "        print(ycf3, ycf4)"
   ]
  },
  {
   "cell_type": "code",
   "execution_count": 88,
   "metadata": {},
   "outputs": [
    {
     "name": "stdout",
     "output_type": "stream",
     "text": [
      "0\n"
     ]
    }
   ],
   "source": [
    "for ycf3, ycf4 in zip(ycf15_protein_3, ycf15_protein_4) :\n",
    "    if ycf3 != ycf4 :\n",
    "        diff_ix_list_y3 = [pos for pos, char in enumerate(ycf15_protein_3) if char == ycf3]\n",
    "        diff_ix_list_y4 = [pos for pos, char in enumerate(ycf15_protein_4) if char == ycf4]\n",
    "        for y3 in diff_ix_list_y3 :\n",
    "            if y3 in diff_ix_list_y4 :\n",
    "                print(y3)"
   ]
  },
  {
   "cell_type": "markdown",
   "metadata": {},
   "source": [
    "<br /><br />\n",
    "translation 2번 방법과 3번 방법의 결과값은 동일했으므로 3번 방법과 4번 방법의 결과값으로 비교해보았더니 모두 맨 앞의 protein을 제외한 protein sequence가 동일함을 확인했다 <br />\n",
    "이에 맨 앞의 origin sequence를 확인해 무엇이 맞는지 판별해보기로 했다"
   ]
  },
  {
   "cell_type": "markdown",
   "metadata": {},
   "source": [
    "![codon_table](https://i.pinimg.com/originals/2c/09/44/2c0944772f1ecbcc0e2068f342d5aa90.jpg)"
   ]
  },
  {
   "cell_type": "code",
   "execution_count": 89,
   "metadata": {},
   "outputs": [
    {
     "data": {
      "text/plain": [
       "Seq('ATACAGATACTGCCAGGAGATAGAGTCAAAATTGAAGTAAGTCCTTATGATTCA...TAG', IUPACAmbiguousDNA())"
      ]
     },
     "execution_count": 89,
     "metadata": {},
     "output_type": "execute_result"
    }
   ],
   "source": [
    "# infA, 위의 features에서 보고 start와 end를 이용한 sequence 추출 2번 방법\n",
    "\n",
    "t_gb.seq[81664:81769].reverse_complement()"
   ]
  },
  {
   "cell_type": "code",
   "execution_count": 90,
   "metadata": {},
   "outputs": [
    {
     "data": {
      "text/plain": [
       "'ATACAGATACTGCCAGGAGATAGAGTCAAAATTGAAGTAAGTCCTTATGATTCAACCAAAGGACATATAATTTATCGACTCCACAACAAAGATTTGAAGGATTAG'"
      ]
     },
     "execution_count": 90,
     "metadata": {},
     "output_type": "execute_result"
    }
   ],
   "source": [
    "str(t_gb.seq[81664:81769].reverse_complement())"
   ]
  },
  {
   "cell_type": "code",
   "execution_count": 91,
   "metadata": {},
   "outputs": [
    {
     "data": {
      "text/plain": [
       "'ATA'"
      ]
     },
     "execution_count": 91,
     "metadata": {},
     "output_type": "execute_result"
    }
   ],
   "source": [
    "str(t_gb.seq[81664:81769].reverse_complement())[0:3]"
   ]
  },
  {
   "cell_type": "code",
   "execution_count": 92,
   "metadata": {},
   "outputs": [
    {
     "data": {
      "text/plain": [
       "Seq('GTGACACGTTCACTAAAAAAAAATCCCTTTGTAGCCAATCATTTATTAAAAAAA...TAA', IUPACAmbiguousDNA())"
      ]
     },
     "execution_count": 92,
     "metadata": {},
     "output_type": "execute_result"
    }
   ],
   "source": [
    "# rps19\n",
    "\n",
    "t_gb.seq[85688:85967].reverse_complement()"
   ]
  },
  {
   "cell_type": "code",
   "execution_count": 93,
   "metadata": {},
   "outputs": [
    {
     "data": {
      "text/plain": [
       "'GTGACACGTTCACTAAAAAAAAATCCCTTTGTAGCCAATCATTTATTAAAAAAAATTGATAAGCTTAACACAAAAGCAGAAAAAGAAATAATAGTAACTTGGTCCCGGGCATCTACCATTATACCCACAATGATCGGTCATACTATTGCTATCCATAATGGAAAAGAGCATTTGCCTATTTATATAACGGATAGTATGGTAGGCCACAAATTGGGAGAATTTGCACCTACATTAAATTTTAGAGGACATGCAAAAAGCGATAATAGATCTCGTCGTTAA'"
      ]
     },
     "execution_count": 93,
     "metadata": {},
     "output_type": "execute_result"
    }
   ],
   "source": [
    "str(t_gb.seq[85688:85967].reverse_complement())"
   ]
  },
  {
   "cell_type": "code",
   "execution_count": 94,
   "metadata": {},
   "outputs": [
    {
     "data": {
      "text/plain": [
       "'GTG'"
      ]
     },
     "execution_count": 94,
     "metadata": {},
     "output_type": "execute_result"
    }
   ],
   "source": [
    "str(t_gb.seq[85688:85967].reverse_complement())[0:3]"
   ]
  },
  {
   "cell_type": "code",
   "execution_count": 95,
   "metadata": {},
   "outputs": [
    {
     "data": {
      "text/plain": [
       "Seq('GTGGAAACGCTTGTTTCTTCCATATTTTGGACCTTAGCTCCATGGAAGAATATG...TAG', IUPACAmbiguousDNA())"
      ]
     },
     "execution_count": 95,
     "metadata": {},
     "output_type": "execute_result"
    }
   ],
   "source": [
    "# ycf15, strand가 -인 것을 사용\n",
    "\n",
    "t_gb.seq[145954:146218].reverse_complement()"
   ]
  },
  {
   "cell_type": "code",
   "execution_count": 96,
   "metadata": {},
   "outputs": [
    {
     "data": {
      "text/plain": [
       "'GTGGAAACGCTTGTTTCTTCCATATTTTGGACCTTAGCTCCATGGAAGAATATGTTACTGCTGAAACACGGAAGAATTGAAATCTTAGATCAAAACACTATGTATGGATGGTATGAACTGCCTAAACAAGAATTCTTGAACAGCAAACAACCAGTTCAGATATTCACGACCAAGAAGTACTGGATTCTCTTTCGGATAGGCCCTGAAAGGAGAAGGAAGGCTGGAATGCCAATAGGCGTCTATTATATTGAATTTACCCGATAG'"
      ]
     },
     "execution_count": 96,
     "metadata": {},
     "output_type": "execute_result"
    }
   ],
   "source": [
    "str(t_gb.seq[145954:146218].reverse_complement())"
   ]
  },
  {
   "cell_type": "code",
   "execution_count": 97,
   "metadata": {},
   "outputs": [
    {
     "data": {
      "text/plain": [
       "'GTG'"
      ]
     },
     "execution_count": 97,
     "metadata": {},
     "output_type": "execute_result"
    }
   ],
   "source": [
    "str(t_gb.seq[145954:146218].reverse_complement())[0:3]"
   ]
  },
  {
   "cell_type": "markdown",
   "metadata": {},
   "source": [
    "<br /><br />\n",
    "infA의 맨 첫 codon은 ATA로, codon table을 참조하면 I(isoleucine), rps19와 ycf15의 시작 codon은 GTG로, V(valine)임을 알 수 있다. <br />\n",
    "이에 교수님과의 논의 끝에 1,2,3번 translation 방법을 사용하여 translation 값을 이용하기로 하였다. <br />\n",
    "genbank file upload 당시 sequence 시작이 M이어야 가능하기때문에 수작업으로 첫 protein 서열을 M으로 바꾸었을 것이라는 추측이 있다"
   ]
  },
  {
   "cell_type": "markdown",
   "metadata": {},
   "source": [
    "## --오점--"
   ]
  }
 ],
 "metadata": {
  "kernelspec": {
   "display_name": "Python 3",
   "language": "python",
   "name": "python3"
  },
  "language_info": {
   "codemirror_mode": {
    "name": "ipython",
    "version": 3
   },
   "file_extension": ".py",
   "mimetype": "text/x-python",
   "name": "python",
   "nbconvert_exporter": "python",
   "pygments_lexer": "ipython3",
   "version": "3.6.7"
  }
 },
 "nbformat": 4,
 "nbformat_minor": 2
}
