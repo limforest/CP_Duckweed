{
 "cells": [
  {
   "cell_type": "markdown",
   "metadata": {},
   "source": [
    "### about genbank file 2"
   ]
  },
  {
   "cell_type": "code",
   "execution_count": 1,
   "metadata": {},
   "outputs": [],
   "source": [
    "from Bio.Seq import Seq #pip3 install biopython\n",
    "from Bio.SeqRecord import SeqRecord\n",
    "#from Bio.SeqFeature import SeqFeature, FeatureLocation\n",
    "from Bio import SeqIO"
   ]
  },
  {
   "cell_type": "markdown",
   "metadata": {},
   "source": [
    "<br /><br />\n",
    "\n",
    "**Get all sequence records for the specified genbank file**\n",
    "\n",
    "```\n",
    "$ t_gb_parse = [t_file for t_file in SeqIO.parse(\"gb file/tomato.gb\", \"genbank\")]\n",
    "```"
   ]
  },
  {
   "cell_type": "code",
   "execution_count": 2,
   "metadata": {},
   "outputs": [],
   "source": [
    "gb_open = SeqIO.read(open(\"gb file/tomato.gb\", \"r\"), \"genbank\")"
   ]
  },
  {
   "cell_type": "markdown",
   "metadata": {},
   "source": [
    "<br /><br />\n",
    "**Print header for each record**\n",
    "\n",
    "```\n",
    "$ print(t_gb_parse)\n",
    "```\n",
    "```\n",
    "[SeqRecord(seq=Seq('TGGGCGAACGACGGGAATTGAACCCGCGCATGGTGGATTCACAATCCACTGCCT...TAA', IUPACAmbiguousDNA()), id='DQ347959.1', name='DQ347959', description='Solanum lycopersicum cultivar LA3023 chloroplast, complete genome', dbxrefs=[])]\n",
    "```\n",
    "\n",
    "<br />\n",
    "\n",
    "```\n",
    "$ for t_gb in t_gb_parse :\n",
    "    print(t_gb)\n",
    "```\n",
    "```\n",
    "ID: DQ347959.1\n",
    "Name: DQ347959\n",
    "Description: Solanum lycopersicum cultivar LA3023 chloroplast, complete genome\n",
    "Number of features: 307\n",
    "/molecule_type=DNA\n",
    "/topology=circular\n",
    "/data_file_division=PLN\n",
    "/date=13-JAN-2014\n",
    "/accessions=['DQ347959']\n",
    "/sequence_version=1\n",
    "/keywords=['']\n",
    "/source=chloroplast Solanum lycopersicum (tomato)\n",
    "/organism=Solanum lycopersicum\n",
    "/taxonomy=['Eukaryota', 'Viridiplantae', 'Streptophyta', 'Embryophyta', 'Tracheophyta', 'Spermatophyta', 'Magnoliophyta', 'eudicotyledons', 'Gunneridae', 'Pentapetalae', 'asterids', 'lamiids', 'Solanales', 'Solanaceae', 'Solanoideae', 'Solaneae', 'Solanum', 'Lycopersicon']\n",
    "/references=[Reference(title='Complete chloroplast genome sequences of Solanum tuberosum, Solanum lycopersicum and comparative analyses with other Solanaceae genomes', ...), Reference(title='Direct Submission', ...)]\n",
    "Seq('TGGGCGAACGACGGGAATTGAACCCGCGCATGGTGGATTCACAATCCACTGCCT...TAA', IUPACAmbiguousDNA())\n",
    "```"
   ]
  },
  {
   "cell_type": "code",
   "execution_count": 5,
   "metadata": {},
   "outputs": [
    {
     "name": "stdout",
     "output_type": "stream",
     "text": [
      "ID: DQ347959.1\n",
      "Name: DQ347959\n",
      "Description: Solanum lycopersicum cultivar LA3023 chloroplast, complete genome\n",
      "Number of features: 307\n",
      "/molecule_type=DNA\n",
      "/topology=circular\n",
      "/data_file_division=PLN\n",
      "/date=13-JAN-2014\n",
      "/accessions=['DQ347959']\n",
      "/sequence_version=1\n",
      "/keywords=['']\n",
      "/source=chloroplast Solanum lycopersicum (tomato)\n",
      "/organism=Solanum lycopersicum\n",
      "/taxonomy=['Eukaryota', 'Viridiplantae', 'Streptophyta', 'Embryophyta', 'Tracheophyta', 'Spermatophyta', 'Magnoliophyta', 'eudicotyledons', 'Gunneridae', 'Pentapetalae', 'asterids', 'lamiids', 'Solanales', 'Solanaceae', 'Solanoideae', 'Solaneae', 'Solanum', 'Lycopersicon']\n",
      "/references=[Reference(title='Complete chloroplast genome sequences of Solanum tuberosum, Solanum lycopersicum and comparative analyses with other Solanaceae genomes', ...), Reference(title='Direct Submission', ...)]\n",
      "Seq('TGGGCGAACGACGGGAATTGAACCCGCGCATGGTGGATTCACAATCCACTGCCT...TAA', IUPACAmbiguousDNA())\n"
     ]
    }
   ],
   "source": [
    "print(gb_open)"
   ]
  },
  {
   "cell_type": "markdown",
   "metadata": {},
   "source": [
    "<br />header를 보여주는 모습이 조금씩 다름, 위쪽 코드는 간략하게 보여줬다면 아래쪽 코드는 header의 모든 부분을 보여줌<br /> 위쪽 코드도 아래쪽 코드와 동일한 결과를 내놓게 하기 위해선 for문을 사용해야 함 <br />\n",
    "<br /><br />\n",
    "**Print annotations for each sequence record**\n",
    "\n",
    "```\n",
    "$ for t_gb in t_gb_parse:\n",
    "    print(t_gb.annotations)\n",
    "```\n",
    "```\n",
    "{'molecule_type': 'DNA', 'topology': 'circular', 'data_file_division': 'PLN', 'date': '13-JAN-2014', 'accessions': ['DQ347959'], 'sequence_version': 1, 'keywords': [''], 'source': 'chloroplast Solanum lycopersicum (tomato)', 'organism': 'Solanum lycopersicum', 'taxonomy': ['Eukaryota', 'Viridiplantae', 'Streptophyta', 'Embryophyta', 'Tracheophyta', 'Spermatophyta', 'Magnoliophyta', 'eudicotyledons', 'Gunneridae', 'Pentapetalae', 'asterids', 'lamiids', 'Solanales', 'Solanaceae', 'Solanoideae', 'Solaneae', 'Solanum', 'Lycopersicon'], 'references': [Reference(title='Complete chloroplast genome sequences of Solanum tuberosum, Solanum lycopersicum and comparative analyses with other Solanaceae genomes', ...), Reference(title='Direct Submission', ...)]}\n",
    "```"
   ]
  },
  {
   "cell_type": "code",
   "execution_count": 6,
   "metadata": {},
   "outputs": [
    {
     "name": "stdout",
     "output_type": "stream",
     "text": [
      "{'molecule_type': 'DNA', 'topology': 'circular', 'data_file_division': 'PLN', 'date': '13-JAN-2014', 'accessions': ['DQ347959'], 'sequence_version': 1, 'keywords': [''], 'source': 'chloroplast Solanum lycopersicum (tomato)', 'organism': 'Solanum lycopersicum', 'taxonomy': ['Eukaryota', 'Viridiplantae', 'Streptophyta', 'Embryophyta', 'Tracheophyta', 'Spermatophyta', 'Magnoliophyta', 'eudicotyledons', 'Gunneridae', 'Pentapetalae', 'asterids', 'lamiids', 'Solanales', 'Solanaceae', 'Solanoideae', 'Solaneae', 'Solanum', 'Lycopersicon'], 'references': [Reference(title='Complete chloroplast genome sequences of Solanum tuberosum, Solanum lycopersicum and comparative analyses with other Solanaceae genomes', ...), Reference(title='Direct Submission', ...)]}\n"
     ]
    }
   ],
   "source": [
    "print(gb_open.annotations)"
   ]
  },
  {
   "cell_type": "markdown",
   "metadata": {},
   "source": [
    "<br />annotations 정보는 동일하게 보여줌<br />\n",
    "<br /><br />\n",
    "**Print the information what I want**\n",
    "```\n",
    "$ for t_gb in t_gb_parse :\n",
    "    print((\"Name %s, %i features\")%((t_gb.name), len(t_gb.features)))\n",
    "    print(repr(t_gb.seq))\n",
    "    print(len(t_gb.seq))\n",
    "```\n",
    "```\n",
    "Name DQ347959, 307 features\n",
    "Seq('TGGGCGAACGACGGGAATTGAACCCGCGCATGGTGGATTCACAATCCACTGCCT...TAA', IUPACAmbiguousDNA())\n",
    "155461\n",
    "```"
   ]
  },
  {
   "cell_type": "code",
   "execution_count": 9,
   "metadata": {},
   "outputs": [
    {
     "name": "stdout",
     "output_type": "stream",
     "text": [
      "Name DQ347959, 307 features\n",
      "Seq('TGGGCGAACGACGGGAATTGAACCCGCGCATGGTGGATTCACAATCCACTGCCT...TAA', IUPACAmbiguousDNA())\n",
      "155461\n"
     ]
    }
   ],
   "source": [
    "print((\"Name %s, %i features\")%((gb_open.name), len(gb_open.features)))\n",
    "print(repr(gb_open.seq))\n",
    "print(len(gb_open.seq))"
   ]
  },
  {
   "cell_type": "markdown",
   "metadata": {},
   "source": [
    "<br />for 문을 돌리지 않고도 바로 원하는 정보를 얻어낼 수 있음 <br />\n",
    "<br /><br />\n",
    "\n",
    "**Print the number of sequence records that were extracted**\n",
    "\n",
    "```\n",
    "$ print(len(t_gb_parse))\n",
    "```\n",
    "```\n",
    "1\n",
    "```\n",
    "\n",
    "<br />\n",
    "\n",
    "```\n",
    "$ for t_gb in t_gb_parse :\n",
    "    print(len(t_gb))\n",
    "```\n",
    "```\n",
    "155461\n",
    "```"
   ]
  },
  {
   "cell_type": "code",
   "execution_count": 3,
   "metadata": {},
   "outputs": [
    {
     "name": "stdout",
     "output_type": "stream",
     "text": [
      "155461\n"
     ]
    }
   ],
   "source": [
    "print(len(gb_open))"
   ]
  },
  {
   "cell_type": "markdown",
   "metadata": {},
   "source": [
    "<br /> 아래 코드는 origin seq의 길이를 바로 알려주지만 위 코드는 for문을 돌려야함 <br />\n",
    "<br /><br />\n",
    "**Print origin sequence**\n",
    "```\n",
    "$ t_gb.seq\n",
    "```\n",
    "```\n",
    "Seq('TGGGCGAACGACGGGAATTGAACCCGCGCATGGTGGATTCACAATCCACTGCCT...TAA', IUPACAmbiguousDNA())\n",
    "```"
   ]
  },
  {
   "cell_type": "code",
   "execution_count": 8,
   "metadata": {},
   "outputs": [
    {
     "data": {
      "text/plain": [
       "Seq('TGGGCGAACGACGGGAATTGAACCCGCGCATGGTGGATTCACAATCCACTGCCT...TAA', IUPACAmbiguousDNA())"
      ]
     },
     "execution_count": 8,
     "metadata": {},
     "output_type": "execute_result"
    }
   ],
   "source": [
    "gb_open.seq"
   ]
  },
  {
   "cell_type": "markdown",
   "metadata": {},
   "source": [
    "<br /> origin seq 길이 얻듯이 sequence 전체를 얻을 때도 위 코드는 for문을 돌린 후, 아래 코드는 돌리지않고도 바로 얻어낼 수 있음 (위 코드들에 print나 str을 씌우면 sequence 전체를 받을 수도 있음)<br />\n",
    "<br /><br />\n",
    "**Print features of sequence records**\n",
    "```\n",
    "$ for t_gb in t_gb_parse :\n",
    "    print(t_gb.features[0:5])\n",
    "```\n",
    "```\n",
    "[SeqFeature(FeatureLocation(ExactPosition(0), ExactPosition(155461), strand=1), type='source'), SeqFeature(CompoundLocation([FeatureLocation(ExactPosition(71635), ExactPosition(71749), strand=-1), FeatureLocation(ExactPosition(99238), ExactPosition(100032), strand=-1)], 'join'), type='gene', location_operator='join'), SeqFeature(CompoundLocation([FeatureLocation(ExactPosition(71635), ExactPosition(71749), strand=-1), FeatureLocation(ExactPosition(99800), ExactPosition(100032), strand=-1), FeatureLocation(ExactPosition(99238), ExactPosition(99264), strand=-1)], 'join'), type='CDS', location_operator='join'), SeqFeature(FeatureLocation(ExactPosition(2), ExactPosition(77), strand=-1), type='gene'), SeqFeature(FeatureLocation(ExactPosition(2), ExactPosition(77), strand=-1), type='tRNA')]\n",
    " ```"
   ]
  },
  {
   "cell_type": "code",
   "execution_count": 10,
   "metadata": {},
   "outputs": [
    {
     "data": {
      "text/plain": [
       "[SeqFeature(FeatureLocation(ExactPosition(0), ExactPosition(155461), strand=1), type='source'),\n",
       " SeqFeature(CompoundLocation([FeatureLocation(ExactPosition(71635), ExactPosition(71749), strand=-1), FeatureLocation(ExactPosition(99238), ExactPosition(100032), strand=-1)], 'join'), type='gene', location_operator='join'),\n",
       " SeqFeature(CompoundLocation([FeatureLocation(ExactPosition(71635), ExactPosition(71749), strand=-1), FeatureLocation(ExactPosition(99800), ExactPosition(100032), strand=-1), FeatureLocation(ExactPosition(99238), ExactPosition(99264), strand=-1)], 'join'), type='CDS', location_operator='join'),\n",
       " SeqFeature(FeatureLocation(ExactPosition(2), ExactPosition(77), strand=-1), type='gene'),\n",
       " SeqFeature(FeatureLocation(ExactPosition(2), ExactPosition(77), strand=-1), type='tRNA')]"
      ]
     },
     "execution_count": 10,
     "metadata": {},
     "output_type": "execute_result"
    }
   ],
   "source": [
    "gb_open.features[0:5]"
   ]
  },
  {
   "cell_type": "markdown",
   "metadata": {},
   "source": [
    "<br />features를 얻는 것도 for문을 돌려야 얻을 수 있는 위 코드와 달리, 아래 코드는 바로 얻을 수 있음 ([0:5] 범위 지정해준걸 풀면 전체를 얻을 수 있음)<br />\n",
    "<br /><br />\n",
    "**Feat information extract**\n",
    "```\n",
    "$ for t_gb in t_gb_parse:\n",
    "    t_feats = [t_feat for t_feat in t_gb.features if t_feat.type == \"CDS\"]\n",
    "    for t_feat in t_feats:\n",
    "        print(t_feat.extract) \n",
    "```\n",
    "```\n",
    "<bound method SeqFeature.extract of SeqFeature(CompoundLocation([FeatureLocation(ExactPosition(71635), ExactPosition(71749), strand=-1), FeatureLocation(ExactPosition(99800), ExactPosition(100032), strand=-1), FeatureLocation(ExactPosition(99238), ExactPosition(99264), strand=-1)], 'join'), type='CDS', location_operator='join')>\n",
    "<bound method SeqFeature.extract of SeqFeature(FeatureLocation(ExactPosition(536), ExactPosition(1598), strand=-1), type='CDS')>\n",
    "<bound method SeqFeature.extract of SeqFeature(FeatureLocation(ExactPosition(2123), ExactPosition(3653), strand=-1), type='CDS')>\n",
    "...\n",
    "```"
   ]
  },
  {
   "cell_type": "code",
   "execution_count": 11,
   "metadata": {},
   "outputs": [
    {
     "name": "stdout",
     "output_type": "stream",
     "text": [
      "<bound method SeqFeature.extract of SeqFeature(CompoundLocation([FeatureLocation(ExactPosition(71635), ExactPosition(71749), strand=-1), FeatureLocation(ExactPosition(99800), ExactPosition(100032), strand=-1), FeatureLocation(ExactPosition(99238), ExactPosition(99264), strand=-1)], 'join'), type='CDS', location_operator='join')>\n",
      "<bound method SeqFeature.extract of SeqFeature(FeatureLocation(ExactPosition(536), ExactPosition(1598), strand=-1), type='CDS')>\n",
      "<bound method SeqFeature.extract of SeqFeature(FeatureLocation(ExactPosition(2123), ExactPosition(3653), strand=-1), type='CDS')>\n",
      "<bound method SeqFeature.extract of SeqFeature(CompoundLocation([FeatureLocation(ExactPosition(6024), ExactPosition(6064), strand=-1), FeatureLocation(ExactPosition(4933), ExactPosition(5160), strand=-1)], 'join'), type='CDS', location_operator='join')>\n",
      "<bound method SeqFeature.extract of SeqFeature(FeatureLocation(ExactPosition(7583), ExactPosition(7769), strand=1), type='CDS')>\n",
      "<bound method SeqFeature.extract of SeqFeature(FeatureLocation(ExactPosition(8130), ExactPosition(8241), strand=1), type='CDS')>\n",
      "<bound method SeqFeature.extract of SeqFeature(FeatureLocation(ExactPosition(10220), ExactPosition(11744), strand=-1), type='CDS')>\n",
      "<bound method SeqFeature.extract of SeqFeature(CompoundLocation([FeatureLocation(ExactPosition(12896), ExactPosition(13040), strand=-1), FeatureLocation(ExactPosition(11799), ExactPosition(12210), strand=-1)], 'join'), type='CDS', location_operator='join')>\n",
      "<bound method SeqFeature.extract of SeqFeature(FeatureLocation(ExactPosition(13438), ExactPosition(13684), strand=-1), type='CDS')>\n",
      "<bound method SeqFeature.extract of SeqFeature(FeatureLocation(ExactPosition(14841), ExactPosition(15585), strand=-1), type='CDS')>\n",
      "<bound method SeqFeature.extract of SeqFeature(FeatureLocation(ExactPosition(15821), ExactPosition(16532), strand=-1), type='CDS')>\n",
      "<bound method SeqFeature.extract of SeqFeature(FeatureLocation(ExactPosition(16757), ExactPosition(20936), strand=-1), type='CDS')>\n",
      "<bound method SeqFeature.extract of SeqFeature(CompoundLocation([FeatureLocation(ExactPosition(23427), ExactPosition(23880), strand=-1), FeatureLocation(ExactPosition(21076), ExactPosition(22690), strand=-1)], 'join'), type='CDS', location_operator='join')>\n",
      "<bound method SeqFeature.extract of SeqFeature(FeatureLocation(ExactPosition(23885), ExactPosition(27098), strand=-1), type='CDS')>\n",
      "<bound method SeqFeature.extract of SeqFeature(FeatureLocation(ExactPosition(29140), ExactPosition(29230), strand=1), type='CDS')>\n",
      "<bound method SeqFeature.extract of SeqFeature(FeatureLocation(ExactPosition(30337), ExactPosition(30442), strand=-1), type='CDS')>\n",
      "<bound method SeqFeature.extract of SeqFeature(FeatureLocation(ExactPosition(33581), ExactPosition(34643), strand=1), type='CDS')>\n",
      "<bound method SeqFeature.extract of SeqFeature(FeatureLocation(ExactPosition(34590), ExactPosition(36012), strand=1), type='CDS')>\n",
      "<bound method SeqFeature.extract of SeqFeature(FeatureLocation(ExactPosition(36705), ExactPosition(36894), strand=1), type='CDS')>\n",
      "<bound method SeqFeature.extract of SeqFeature(FeatureLocation(ExactPosition(37667), ExactPosition(37970), strand=-1), type='CDS')>\n",
      "<bound method SeqFeature.extract of SeqFeature(FeatureLocation(ExactPosition(38088), ExactPosition(40293), strand=-1), type='CDS')>\n",
      "<bound method SeqFeature.extract of SeqFeature(FeatureLocation(ExactPosition(40318), ExactPosition(42571), strand=-1), type='CDS')>\n",
      "<bound method SeqFeature.extract of SeqFeature(CompoundLocation([FeatureLocation(ExactPosition(45191), ExactPosition(45315), strand=-1), FeatureLocation(ExactPosition(44232), ExactPosition(44462), strand=-1), FeatureLocation(ExactPosition(43329), ExactPosition(43482), strand=-1)], 'join'), type='CDS', location_operator='join')>\n",
      "<bound method SeqFeature.extract of SeqFeature(FeatureLocation(ExactPosition(46605), ExactPosition(47211), strand=-1), type='CDS')>\n",
      "<bound method SeqFeature.extract of SeqFeature(FeatureLocation(ExactPosition(50070), ExactPosition(50547), strand=-1), type='CDS')>\n",
      "<bound method SeqFeature.extract of SeqFeature(FeatureLocation(ExactPosition(50652), ExactPosition(51507), strand=-1), type='CDS')>\n",
      "<bound method SeqFeature.extract of SeqFeature(FeatureLocation(ExactPosition(51386), ExactPosition(51749), strand=-1), type='CDS')>\n",
      "<bound method SeqFeature.extract of SeqFeature(FeatureLocation(ExactPosition(53973), ExactPosition(54375), strand=-1), type='CDS')>\n",
      "<bound method SeqFeature.extract of SeqFeature(FeatureLocation(ExactPosition(54371), ExactPosition(55868), strand=-1), type='CDS')>\n",
      "<bound method SeqFeature.extract of SeqFeature(FeatureLocation(ExactPosition(56682), ExactPosition(58116), strand=1), type='CDS')>\n",
      "<bound method SeqFeature.extract of SeqFeature(FeatureLocation(ExactPosition(58875), ExactPosition(60399), strand=1), type='CDS')>\n",
      "<bound method SeqFeature.extract of SeqFeature(FeatureLocation(ExactPosition(61145), ExactPosition(61256), strand=1), type='CDS')>\n",
      "<bound method SeqFeature.extract of SeqFeature(FeatureLocation(ExactPosition(61700), ExactPosition(62255), strand=1), type='CDS')>\n",
      "<bound method SeqFeature.extract of SeqFeature(FeatureLocation(ExactPosition(62984), ExactPosition(63674), strand=1), type='CDS')>\n",
      "<bound method SeqFeature.extract of SeqFeature(FeatureLocation(ExactPosition(63893), ExactPosition(64856), strand=1), type='CDS')>\n",
      "<bound method SeqFeature.extract of SeqFeature(FeatureLocation(ExactPosition(65924), ExactPosition(66047), strand=-1), type='CDS')>\n",
      "<bound method SeqFeature.extract of SeqFeature(FeatureLocation(ExactPosition(66171), AfterPosition(66288), strand=-1), type='CDS')>\n",
      "<bound method SeqFeature.extract of SeqFeature(FeatureLocation(ExactPosition(66310), ExactPosition(66430), strand=-1), type='CDS')>\n",
      "<bound method SeqFeature.extract of SeqFeature(FeatureLocation(ExactPosition(66439), ExactPosition(66691), strand=-1), type='CDS')>\n",
      "<bound method SeqFeature.extract of SeqFeature(FeatureLocation(ExactPosition(67688), ExactPosition(67784), strand=1), type='CDS')>\n",
      "<bound method SeqFeature.extract of SeqFeature(FeatureLocation(ExactPosition(67967), ExactPosition(68081), strand=1), type='CDS')>\n",
      "<bound method SeqFeature.extract of SeqFeature(FeatureLocation(ExactPosition(68956), ExactPosition(69091), strand=1), type='CDS')>\n",
      "<bound method SeqFeature.extract of SeqFeature(FeatureLocation(ExactPosition(69528), ExactPosition(69729), strand=1), type='CDS')>\n",
      "<bound method SeqFeature.extract of SeqFeature(FeatureLocation(ExactPosition(69919), ExactPosition(70225), strand=1), type='CDS')>\n",
      "<bound method SeqFeature.extract of SeqFeature(FeatureLocation(ExactPosition(70439), ExactPosition(70826), strand=-1), type='CDS')>\n",
      "<bound method SeqFeature.extract of SeqFeature(CompoundLocation([FeatureLocation(ExactPosition(71635), ExactPosition(71749), strand=-1), FeatureLocation(ExactPosition(141305), ExactPosition(141537), strand=1), FeatureLocation(ExactPosition(142073), ExactPosition(142099), strand=1)], 'join'), type='CDS', location_operator='join')>\n",
      "<bound method SeqFeature.extract of SeqFeature(CompoundLocation([FeatureLocation(ExactPosition(73822), ExactPosition(73893), strand=-1), FeatureLocation(ExactPosition(72732), ExactPosition(73024), strand=-1), FeatureLocation(ExactPosition(71857), ExactPosition(72115), strand=-1)], 'join'), type='CDS', location_operator='join')>\n",
      "<bound method SeqFeature.extract of SeqFeature(FeatureLocation(ExactPosition(74337), ExactPosition(75864), strand=1), type='CDS')>\n",
      "<bound method SeqFeature.extract of SeqFeature(FeatureLocation(ExactPosition(76065), ExactPosition(76170), strand=1), type='CDS')>\n",
      "<bound method SeqFeature.extract of SeqFeature(FeatureLocation(ExactPosition(76247), ExactPosition(76379), strand=-1), type='CDS')>\n",
      "<bound method SeqFeature.extract of SeqFeature(FeatureLocation(ExactPosition(76490), ExactPosition(76712), strand=1), type='CDS')>\n",
      "<bound method SeqFeature.extract of SeqFeature(CompoundLocation([FeatureLocation(ExactPosition(76841), ExactPosition(76847), strand=1), FeatureLocation(ExactPosition(77594), ExactPosition(78236), strand=1)], 'join'), type='CDS', location_operator='join')>\n",
      "<bound method SeqFeature.extract of SeqFeature(CompoundLocation([FeatureLocation(ExactPosition(78430), ExactPosition(78436), strand=1), FeatureLocation(ExactPosition(79174), ExactPosition(79651), strand=1)], 'join'), type='CDS', location_operator='join')>\n",
      "<bound method SeqFeature.extract of SeqFeature(FeatureLocation(ExactPosition(79842), ExactPosition(80856), strand=-1), type='CDS')>\n",
      "<bound method SeqFeature.extract of SeqFeature(FeatureLocation(ExactPosition(80921), ExactPosition(81338), strand=-1), type='CDS')>\n",
      "<bound method SeqFeature.extract of SeqFeature(FeatureLocation(ExactPosition(81439), ExactPosition(81553), strand=-1), type='CDS')>\n",
      "<bound method SeqFeature.extract of SeqFeature(FeatureLocation(ExactPosition(81664), ExactPosition(81769), strand=-1), type='CDS')>\n",
      "<bound method SeqFeature.extract of SeqFeature(FeatureLocation(ExactPosition(81877), ExactPosition(82282), strand=-1), type='CDS')>\n",
      "<bound method SeqFeature.extract of SeqFeature(FeatureLocation(ExactPosition(82449), ExactPosition(82818), strand=-1), type='CDS')>\n",
      "<bound method SeqFeature.extract of SeqFeature(CompoundLocation([FeatureLocation(ExactPosition(84357), ExactPosition(84366), strand=-1), FeatureLocation(ExactPosition(82943), ExactPosition(83339), strand=-1)], 'join'), type='CDS', location_operator='join')>\n",
      "<bound method SeqFeature.extract of SeqFeature(FeatureLocation(ExactPosition(84527), ExactPosition(85184), strand=-1), type='CDS')>\n",
      "<bound method SeqFeature.extract of SeqFeature(FeatureLocation(ExactPosition(85168), ExactPosition(85636), strand=-1), type='CDS')>\n",
      "<bound method SeqFeature.extract of SeqFeature(FeatureLocation(ExactPosition(85688), ExactPosition(85967), strand=-1), type='CDS')>\n",
      "<bound method SeqFeature.extract of SeqFeature(CompoundLocation([FeatureLocation(ExactPosition(87135), ExactPosition(87525), strand=-1), FeatureLocation(ExactPosition(86034), ExactPosition(86469), strand=-1)], 'join'), type='CDS', location_operator='join')>\n",
      "<bound method SeqFeature.extract of SeqFeature(FeatureLocation(ExactPosition(87543), ExactPosition(87825), strand=-1), type='CDS')>\n",
      "<bound method SeqFeature.extract of SeqFeature(FeatureLocation(ExactPosition(88192), ExactPosition(95029), strand=1), type='CDS')>\n",
      "<bound method SeqFeature.extract of SeqFeature(FeatureLocation(ExactPosition(95119), ExactPosition(95383), strand=1), type='CDS')>\n",
      "<bound method SeqFeature.extract of SeqFeature(CompoundLocation([FeatureLocation(ExactPosition(97655), ExactPosition(98432), strand=-1), FeatureLocation(ExactPosition(96220), ExactPosition(96976), strand=-1)], 'join'), type='CDS', location_operator='join')>\n",
      "<bound method SeqFeature.extract of SeqFeature(FeatureLocation(ExactPosition(98717), ExactPosition(99185), strand=-1), type='CDS')>\n",
      "<bound method SeqFeature.extract of SeqFeature(FeatureLocation(ExactPosition(111504), ExactPosition(113718), strand=-1), type='CDS')>\n",
      "<bound method SeqFeature.extract of SeqFeature(FeatureLocation(ExactPosition(114500), ExactPosition(114668), strand=1), type='CDS')>\n",
      "<bound method SeqFeature.extract of SeqFeature(FeatureLocation(ExactPosition(115761), ExactPosition(116703), strand=1), type='CDS')>\n",
      "<bound method SeqFeature.extract of SeqFeature(FeatureLocation(ExactPosition(116940), AfterPosition(118443), strand=-1), type='CDS')>\n",
      "<bound method SeqFeature.extract of SeqFeature(FeatureLocation(ExactPosition(118560), ExactPosition(118806), strand=-1), type='CDS')>\n",
      "<bound method SeqFeature.extract of SeqFeature(FeatureLocation(ExactPosition(119057), ExactPosition(119363), strand=-1), type='CDS')>\n",
      "<bound method SeqFeature.extract of SeqFeature(FeatureLocation(ExactPosition(119586), ExactPosition(120117), strand=-1), type='CDS')>\n",
      "<bound method SeqFeature.extract of SeqFeature(FeatureLocation(ExactPosition(120521), ExactPosition(121025), strand=-1), type='CDS')>\n",
      "<bound method SeqFeature.extract of SeqFeature(CompoundLocation([FeatureLocation(ExactPosition(122782), ExactPosition(123334), strand=-1), FeatureLocation(ExactPosition(121109), ExactPosition(121649), strand=-1)], 'join'), type='CDS', location_operator='join')>\n",
      "<bound method SeqFeature.extract of SeqFeature(FeatureLocation(ExactPosition(123335), ExactPosition(124517), strand=-1), type='CDS')>\n",
      "<bound method SeqFeature.extract of SeqFeature(FeatureLocation(ExactPosition(124628), ExactPosition(124892), strand=-1), type='CDS')>\n",
      "<bound method SeqFeature.extract of SeqFeature(FeatureLocation(ExactPosition(125293), ExactPosition(130969), strand=-1), type='CDS')>\n",
      "<bound method SeqFeature.extract of SeqFeature(FeatureLocation(ExactPosition(142152), ExactPosition(142620), strand=1), type='CDS')>\n",
      "<bound method SeqFeature.extract of SeqFeature(CompoundLocation([FeatureLocation(ExactPosition(142905), ExactPosition(143682), strand=1), FeatureLocation(ExactPosition(144361), ExactPosition(145117), strand=1)], 'join'), type='CDS', location_operator='join')>\n",
      "<bound method SeqFeature.extract of SeqFeature(FeatureLocation(ExactPosition(145954), ExactPosition(146218), strand=-1), type='CDS')>\n",
      "<bound method SeqFeature.extract of SeqFeature(FeatureLocation(ExactPosition(146308), ExactPosition(153145), strand=-1), type='CDS')>\n",
      "<bound method SeqFeature.extract of SeqFeature(FeatureLocation(ExactPosition(153512), ExactPosition(153794), strand=1), type='CDS')>\n",
      "<bound method SeqFeature.extract of SeqFeature(CompoundLocation([FeatureLocation(ExactPosition(153812), ExactPosition(154202), strand=1), FeatureLocation(ExactPosition(154868), ExactPosition(155303), strand=1)], 'join'), type='CDS', location_operator='join')>\n"
     ]
    }
   ],
   "source": [
    "feats = [feat for feat in gb_open.features if feat.type == 'CDS']\n",
    "for feat in feats :\n",
    "    print(feat.extract)"
   ]
  },
  {
   "cell_type": "markdown",
   "metadata": {},
   "source": [
    "<br /> 동일한 결과<br />\n",
    "<br /><br />\n",
    "**Get one feature**\n",
    "```\n",
    "$ gb_feature6 = t_gb.features[6]\n",
    "$ print(gb_feature6)\n",
    "```\n",
    "```\n",
    "type: CDS\n",
    "location: [536:1598](-)\n",
    "qualifiers:\n",
    "    Key: codon_start, Value: ['1']\n",
    "    Key: gene, Value: ['psbA']\n",
    "    Key: product, Value: ['photosystem II protein D1']\n",
    "    Key: protein_id, Value: ['ABC56280.1']\n",
    "    Key: transl_table, Value: ['11']\n",
    "    Key: translation, Value: ['MTAILERRESESLWGRFCNWITSTENRLYIGWFGVLMIPTLLTATSVFIIAFIAAPPVDIDGIREPVSGSLLYGNNIISGAIIPTSAAIGLHFYPIWEAASVDEWLYNGGPYELIVLHFLLGVACYMGREWELSFRLGMRPWIAVAYSAPVAAATAVFLIYPIGQGSFSDGMPLGISGTFNFMIVFQAEHNILMHPFHMLGVAGVFGGSLFSAMHGSLVTSSLIRETTENESANEGYRFGQEEETYNIVAAHGYFGRLIFQYASFNNSRSLHFFLAAWPVVGIWFTALGISTMAFNLNGFNFNQSVVDSQGRVINTWADIINRANLGMEVMHERNAHNFPLDLAAIEAPSTNG']\n",
    "```"
   ]
  },
  {
   "cell_type": "code",
   "execution_count": 12,
   "metadata": {},
   "outputs": [],
   "source": [
    "gb_open_feature = gb_open.features[6]"
   ]
  },
  {
   "cell_type": "code",
   "execution_count": 13,
   "metadata": {},
   "outputs": [
    {
     "name": "stdout",
     "output_type": "stream",
     "text": [
      "type: CDS\n",
      "location: [536:1598](-)\n",
      "qualifiers:\n",
      "    Key: codon_start, Value: ['1']\n",
      "    Key: gene, Value: ['psbA']\n",
      "    Key: product, Value: ['photosystem II protein D1']\n",
      "    Key: protein_id, Value: ['ABC56280.1']\n",
      "    Key: transl_table, Value: ['11']\n",
      "    Key: translation, Value: ['MTAILERRESESLWGRFCNWITSTENRLYIGWFGVLMIPTLLTATSVFIIAFIAAPPVDIDGIREPVSGSLLYGNNIISGAIIPTSAAIGLHFYPIWEAASVDEWLYNGGPYELIVLHFLLGVACYMGREWELSFRLGMRPWIAVAYSAPVAAATAVFLIYPIGQGSFSDGMPLGISGTFNFMIVFQAEHNILMHPFHMLGVAGVFGGSLFSAMHGSLVTSSLIRETTENESANEGYRFGQEEETYNIVAAHGYFGRLIFQYASFNNSRSLHFFLAAWPVVGIWFTALGISTMAFNLNGFNFNQSVVDSQGRVINTWADIINRANLGMEVMHERNAHNFPLDLAAIEAPSTNG']\n",
      "\n"
     ]
    }
   ],
   "source": [
    "print(gb_open_feature)"
   ]
  },
  {
   "cell_type": "markdown",
   "metadata": {},
   "source": [
    "-- for문을 한단계 줄일 수 있음을 알 수 있음 --"
   ]
  }
 ],
 "metadata": {
  "kernelspec": {
   "display_name": "Python 3",
   "language": "python",
   "name": "python3"
  },
  "language_info": {
   "codemirror_mode": {
    "name": "ipython",
    "version": 3
   },
   "file_extension": ".py",
   "mimetype": "text/x-python",
   "name": "python",
   "nbconvert_exporter": "python",
   "pygments_lexer": "ipython3",
   "version": "3.6.7"
  }
 },
 "nbformat": 4,
 "nbformat_minor": 2
}
