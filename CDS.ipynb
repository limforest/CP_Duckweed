{
 "cells": [
  {
   "cell_type": "markdown",
   "metadata": {},
   "source": [
    "# Genomics 준비"
   ]
  },
  {
   "cell_type": "markdown",
   "metadata": {},
   "source": [
    "Google에 phytozome 이라고 검색하고 제일 처음 뜨는 사이트에 들어간다.\n",
    ">https://phytozome.jgi.doe.gov/pz/portal.html"
   ]
  },
  {
   "cell_type": "markdown",
   "metadata": {},
   "source": [
    "처음 사용한다면, 가입이 필요하므로 Log In에 들어가서 아래쪽 resister로 가입을 해준다.\n",
    "> Funding Sources : NA , Primary Funding Source : Other - (Specify) , Primary Funding Source comment : study , Institution Name : PMBBRC , Institution Street Address : Jinju-daero , Postal Code : 52828 이런식으로 채워주었다.\n",
    "\n",
    "Email을 보냈다는 창이 뜨면 입력했던 email에 들어가 JGI에서 보낸 email을 읽고, password를 설정한다."
   ]
  },
  {
   "cell_type": "markdown",
   "metadata": {},
   "source": [
    "로그인을 했다면, 제일 처음 보았던 페이지의 상단에서 Species를 클릭, Arabidopsis thaliana Araport11에 들어간다.\n",
    "> https://phytozome.jgi.doe.gov/pz/portal.html#!info?alias=Org_Athaliana_er"
   ]
  },
  {
   "cell_type": "markdown",
   "metadata": {},
   "source": [
    "Info 창이 뜨는데, 초록색 부분들 중 Bulk data에 들어간다.\n",
    "\n",
    "그럼 자료들을 사용할 때 이 논문들을 인용해달라는 창이 뜨게 되는데, OK, proceed to data를 누르고 넘어간다."
   ]
  },
  {
   "cell_type": "markdown",
   "metadata": {},
   "source": [
    "Download를 할 수 있는 창이 뜨며 여러 파일이 나타는데, 이 중 araport11 폴더를 연다.\n",
    "\n",
    "그럼 annotation과 assembly 파일이 뜬다.\n",
    "\n",
    "우선, annotation 파일을 열어본다. 여러 파일들이 뜨는데, 이 중  'Athaliana: Athaliana_447_Araport11.gene.gff3.gz' , 'Athaliana: Athaliana_447_Araport11.gene_exons.gff3.gz' 두 가지 파일을 선택한다.\n",
    "        \n",
    "그리고 assembly 파일도 열어 하나 있는 Athaliana: Athaliana_447_TAIR10.fa.gz 파일도 선택한다.\n",
    "    \n",
    "다운받을 것을 다 선택했다면 상단의 Download Selected Files를 클릭하여 다운받아준다.\n",
    "\n",
    "![cds_preparation](./photo/cds_preparation.PNG)"
   ]
  },
  {
   "cell_type": "markdown",
   "metadata": {},
   "source": [
    "컴퓨터에 설치해뒀던 bash를 실행시켜준다.\n",
    "\n",
    "> /c/Users/ATIV# cd..\n",
    ">\n",
    "> /c/Users# cd..\n",
    "\n",
    "C드라이브에 만들어두었던 ubuntu_download 폴더로 들어간다.\n",
    "\n",
    "> /c# cd ubuntu_download\n",
    "\n"
   ]
  },
  {
   "cell_type": "markdown",
   "metadata": {},
   "source": [
    "다운받았던 파일들을 ubuntu bash에서 사용할 수 있도록 ubuntu_download폴더로 옮겨준다.\n",
    "\n",
    "압축되어 있는 파일(Athaliana_download)을 bash창에서 압축해제 해준다.\n",
    "\n",
    ">/c/ubuntu_download# unzip Athaliana_download\n",
    "\n",
    "압축해제가 끝나면 풀어진 폴더로 들어간다.\n",
    "\n",
    ">/c/ubuntu_download# cd Athaliana\n",
    "\n",
    "폴더내의 파일들도 하나하나 압축해제 해준다.\n",
    "\n",
    "-Assembly\n",
    "\n",
    ">/c/ubuntu_download/Athaliana# cd Araport11\n",
    ">\n",
    ">/c/ubuntu_download/Athaliana/Araport11# cd assembly\n",
    ">\n",
    ">/c/ubuntu_download/Athaliana/Araport11/assembly# gzip -d Athaliana_447_TAIR10.fa.gz\n",
    "\n",
    "-Annotation\n",
    "\n",
    ">/c/ubuntu_download/Athaliana/Araport11/assembly# cd ..\n",
    ">\n",
    ">/c/ubuntu_download/Athaliana/Araport11# cd annotation\n",
    ">\n",
    ">/c/ubuntu_download/Athaliana/Araport11/annotation# gzip -d Athaliana_447_Araport11.gene.gff3\n",
    ">\n",
    ">/c/ubuntu_download/Athaliana/Araport11/annotation# gzip -d Athaliana_447_Araport11.gene_exons.gff3\n",
    "\n",
    "그리고 Athaliana 폴더에서 jupyter notebook을 열어준다.\n",
    "\n",
    ">/c/ubuntu_download/Athaliana/Araport11/annotation# cd ..\n",
    ">\n",
    ">/c/ubuntu_download/Athaliana/Araport11# sudo jupyter notebook --allow-root"
   ]
  },
  {
   "cell_type": "markdown",
   "metadata": {},
   "source": [
    "# Genomics\n",
    "\n",
    "### gff file과 assembly 이용하여 coding sequence(cds) 끌어내기"
   ]
  },
  {
   "cell_type": "markdown",
   "metadata": {},
   "source": [
    "* coding sequence(cds)로 만들 자료를 dataframe형태로 만들기"
   ]
  },
  {
   "cell_type": "code",
   "execution_count": 1,
   "metadata": {},
   "outputs": [],
   "source": [
    "import pandas as pd"
   ]
  },
  {
   "cell_type": "code",
   "execution_count": 2,
   "metadata": {},
   "outputs": [],
   "source": [
    "df_ld = pd.read_csv('./annotation/Athaliana_447_Araport11.gene.gff3'\n",
    "                    ,sep='\\t',comment='#',header=None)"
   ]
  },
  {
   "cell_type": "code",
   "execution_count": 3,
   "metadata": {},
   "outputs": [
    {
     "data": {
      "text/html": [
       "<div>\n",
       "<style scoped>\n",
       "    .dataframe tbody tr th:only-of-type {\n",
       "        vertical-align: middle;\n",
       "    }\n",
       "\n",
       "    .dataframe tbody tr th {\n",
       "        vertical-align: top;\n",
       "    }\n",
       "\n",
       "    .dataframe thead th {\n",
       "        text-align: right;\n",
       "    }\n",
       "</style>\n",
       "<table border=\"1\" class=\"dataframe\">\n",
       "  <thead>\n",
       "    <tr style=\"text-align: right;\">\n",
       "      <th></th>\n",
       "      <th>0</th>\n",
       "      <th>1</th>\n",
       "      <th>2</th>\n",
       "      <th>3</th>\n",
       "      <th>4</th>\n",
       "      <th>5</th>\n",
       "      <th>6</th>\n",
       "      <th>7</th>\n",
       "      <th>8</th>\n",
       "    </tr>\n",
       "  </thead>\n",
       "  <tbody>\n",
       "    <tr>\n",
       "      <th>0</th>\n",
       "      <td>Chr1</td>\n",
       "      <td>phytozomev12</td>\n",
       "      <td>gene</td>\n",
       "      <td>3631</td>\n",
       "      <td>5899</td>\n",
       "      <td>.</td>\n",
       "      <td>+</td>\n",
       "      <td>.</td>\n",
       "      <td>ID=AT1G01010.Araport11.447;Name=AT1G01010</td>\n",
       "    </tr>\n",
       "    <tr>\n",
       "      <th>1</th>\n",
       "      <td>Chr1</td>\n",
       "      <td>phytozomev12</td>\n",
       "      <td>mRNA</td>\n",
       "      <td>3631</td>\n",
       "      <td>5899</td>\n",
       "      <td>.</td>\n",
       "      <td>+</td>\n",
       "      <td>.</td>\n",
       "      <td>ID=AT1G01010.1.Araport11.447;Name=AT1G01010.1;...</td>\n",
       "    </tr>\n",
       "    <tr>\n",
       "      <th>2</th>\n",
       "      <td>Chr1</td>\n",
       "      <td>phytozomev12</td>\n",
       "      <td>five_prime_UTR</td>\n",
       "      <td>3631</td>\n",
       "      <td>3759</td>\n",
       "      <td>.</td>\n",
       "      <td>+</td>\n",
       "      <td>.</td>\n",
       "      <td>ID=AT1G01010.1.Araport11.447.five_prime_UTR.1;...</td>\n",
       "    </tr>\n",
       "    <tr>\n",
       "      <th>3</th>\n",
       "      <td>Chr1</td>\n",
       "      <td>phytozomev12</td>\n",
       "      <td>CDS</td>\n",
       "      <td>3760</td>\n",
       "      <td>3913</td>\n",
       "      <td>.</td>\n",
       "      <td>+</td>\n",
       "      <td>0</td>\n",
       "      <td>ID=AT1G01010.1.Araport11.447.CDS.1;Parent=AT1G...</td>\n",
       "    </tr>\n",
       "    <tr>\n",
       "      <th>4</th>\n",
       "      <td>Chr1</td>\n",
       "      <td>phytozomev12</td>\n",
       "      <td>CDS</td>\n",
       "      <td>3996</td>\n",
       "      <td>4276</td>\n",
       "      <td>.</td>\n",
       "      <td>+</td>\n",
       "      <td>2</td>\n",
       "      <td>ID=AT1G01010.1.Araport11.447.CDS.2;Parent=AT1G...</td>\n",
       "    </tr>\n",
       "  </tbody>\n",
       "</table>\n",
       "</div>"
      ],
      "text/plain": [
       "      0             1               2     3     4  5  6  7  \\\n",
       "0  Chr1  phytozomev12            gene  3631  5899  .  +  .   \n",
       "1  Chr1  phytozomev12            mRNA  3631  5899  .  +  .   \n",
       "2  Chr1  phytozomev12  five_prime_UTR  3631  3759  .  +  .   \n",
       "3  Chr1  phytozomev12             CDS  3760  3913  .  +  0   \n",
       "4  Chr1  phytozomev12             CDS  3996  4276  .  +  2   \n",
       "\n",
       "                                                   8  \n",
       "0          ID=AT1G01010.Araport11.447;Name=AT1G01010  \n",
       "1  ID=AT1G01010.1.Araport11.447;Name=AT1G01010.1;...  \n",
       "2  ID=AT1G01010.1.Araport11.447.five_prime_UTR.1;...  \n",
       "3  ID=AT1G01010.1.Araport11.447.CDS.1;Parent=AT1G...  \n",
       "4  ID=AT1G01010.1.Araport11.447.CDS.2;Parent=AT1G...  "
      ]
     },
     "execution_count": 3,
     "metadata": {},
     "output_type": "execute_result"
    }
   ],
   "source": [
    "df_ld.head()"
   ]
  },
  {
   "cell_type": "markdown",
   "metadata": {},
   "source": [
    "* cds의 sequence 서열을 알아낼 때 사용할 reference를 불러오기"
   ]
  },
  {
   "cell_type": "code",
   "execution_count": 4,
   "metadata": {},
   "outputs": [],
   "source": [
    "ref_file = open('./assembly/Athaliana_447_TAIR10.fa')"
   ]
  },
  {
   "cell_type": "code",
   "execution_count": 5,
   "metadata": {},
   "outputs": [],
   "source": [
    "ref_read = ref_file.read()"
   ]
  },
  {
   "cell_type": "code",
   "execution_count": 6,
   "metadata": {},
   "outputs": [
    {
     "data": {
      "text/plain": [
       "'>Chr1 CHROMOSOME dumped from ADB: Jun/20/09 14:53; last updated: 2009-02-02\\nCCCTAAACCCTAAACCCTAAACCCTAAACCTCTGAATCCTTAATCCCTAAATCCCTAAATCTTTAAATCCTACATCCAT\\nGAATCCCTAAATACCTAATTCCCTAAACCCGAAACCGGTTTCTCTGGTTGAAAATCATTGTGTATATAATGATAATTTT\\nATCGTTTTTATGTAATTGCTTATTGTTGTGTGTAGATTTTTTAAAAATATCATTTGAGGTCAATACAAATCCTATTTCT\\nTGTGGTTTTCTTTCCTTCACTTAGCTATGGATGGTTTATCTTCATTTGTTATATTGGATACAAGCTTTGCTACGATCTA\\nCATTTGGGAATGTGAGTCTCTTATTGTAACCTTAGGGTTGGTTTATCTCAAGAATCTTATTAATTGTTTGGACTGTTTA\\nTGTTTGGACATTTATTGTCATTCT'"
      ]
     },
     "execution_count": 6,
     "metadata": {},
     "output_type": "execute_result"
    }
   ],
   "source": [
    "ref_read[0:500] #reference에는 gene의 이름과 그의 sequence가 있음"
   ]
  },
  {
   "cell_type": "code",
   "execution_count": 7,
   "metadata": {},
   "outputs": [],
   "source": [
    "ref_list = ref_read.split('>')"
   ]
  },
  {
   "cell_type": "code",
   "execution_count": 8,
   "metadata": {},
   "outputs": [
    {
     "data": {
      "text/plain": [
       "''"
      ]
     },
     "execution_count": 8,
     "metadata": {},
     "output_type": "execute_result"
    }
   ],
   "source": [
    "ref_list[0] "
   ]
  },
  {
   "cell_type": "code",
   "execution_count": 9,
   "metadata": {},
   "outputs": [
    {
     "data": {
      "text/plain": [
       "'Chr1 CHROMOSOME dumped from ADB: Jun/20/09 14:53; last updated: 2009-02-02\\nCCCTAAACCCTAAACCCTAAACCCTAAACCTCTGAATCCTTAATCCCTAAATCCCTAAATCTTTAAATCCTACATCCAT\\nGAATCCCTAAATACCTAATTCCCTAAACCCGAAACCGGTTTCTCTGGTTGAAAATCATTGTGTATATAATGATAATTTT\\nATCGTTTTTATGTAATTGCTTATTGTTGTGTGTAGATTTTTTAAAAATATCATTTGAGGTCAATACAAATCCTATTTCT\\nTGTGGTTTTCTTTCCTTCACTTAGCTATGGATGGTTTATCTTCATTTGTTATATTGGATACAAGCTTTGCTACGATCTA\\nCATTTGGGAATGTGAGTCTCTTATTGTAACCTTAGGGTTGGTTTATCTCAAGAATCTTATTAATTGTTTGGACTGTTTA\\nTGTTTGGACATTTATTGTCATTCTT'"
      ]
     },
     "execution_count": 9,
     "metadata": {},
     "output_type": "execute_result"
    }
   ],
   "source": [
    "ref_list[1][0:500]"
   ]
  },
  {
   "cell_type": "code",
   "execution_count": 10,
   "metadata": {},
   "outputs": [
    {
     "data": {
      "text/plain": [
       "30812907"
      ]
     },
     "execution_count": 10,
     "metadata": {},
     "output_type": "execute_result"
    }
   ],
   "source": [
    "len(ref_list[1]) #Chr1 original sequence의 길이"
   ]
  },
  {
   "cell_type": "markdown",
   "metadata": {},
   "source": [
    "* dictionary를 하나 만들어, gene의 이름과 그에 알맞은 original sequence 넣기"
   ]
  },
  {
   "cell_type": "code",
   "execution_count": 11,
   "metadata": {},
   "outputs": [],
   "source": [
    "dicfa = {}\n",
    "for geneinfo in ref_list[1:] :\n",
    "    title        = geneinfo.split('\\n')[0].split()[0]\n",
    "    seq          = ''.join(geneinfo.split('\\n')[1:])\n",
    "    dicfa[title] = seq"
   ]
  },
  {
   "cell_type": "code",
   "execution_count": 12,
   "metadata": {},
   "outputs": [
    {
     "data": {
      "text/plain": [
       "dict_keys(['Chr4', 'Chr2', 'Chr3', 'Chr5', 'Chr1', 'ChrM', 'ChrC'])"
      ]
     },
     "execution_count": 12,
     "metadata": {},
     "output_type": "execute_result"
    }
   ],
   "source": [
    "dicfa.keys()"
   ]
  },
  {
   "cell_type": "code",
   "execution_count": 13,
   "metadata": {},
   "outputs": [
    {
     "data": {
      "text/plain": [
       "247226"
      ]
     },
     "execution_count": 13,
     "metadata": {},
     "output_type": "execute_result"
    }
   ],
   "source": [
    "len(dicfa['Chr1'].split('TTAA'))"
   ]
  },
  {
   "cell_type": "markdown",
   "metadata": {},
   "source": [
    "* cds의 dataframe인 df_ld에 각 gene의 유전자서열 중 cds가 되는 부분의 번호들(column의 3과 4)을 참조해 reference dictionary인 dicfa에서 찾아내고 df_ld에 넣기"
   ]
  },
  {
   "cell_type": "code",
   "execution_count": 14,
   "metadata": {},
   "outputs": [
    {
     "data": {
      "text/plain": [
       "'AAATTATTAGATATACCAAACCAGAGAAAACAAATACATAATCGGAGAAATACAGATTACAGAGAGCGAGAGAGATCGACGGCGAAGCTCTTTACCCGGAAACCATTGAAATCGGACGGTTTAGTGAAAATGGAGGATCAAGTTGGGTTTGGGTTCCGTCCGAACGACGAGGAGCTCGTTGGTCACTATCTCCGTAACAAAATCGAAGGAAACACTAGCCGCGACGTTGAAGTAGCCATCAGCGAGGTCAACATCTGTAGCTACGATCCTTGGAACTTGCGCTGTAAGTTCCGAATTTTCTGAATTTCATTTGCAAGTAATCGATTTAGGTTTTTGATTTTAGGGTTTTTTTTTGTTTTGAACAGTCCAGTCAAAGTACAAATCGAGAGATGCTATGTGGTACTTCTTCTCTCGTAGAGAAAACAACAAAGGGAATCGACAGAGCAGGACAACGGTTTCTGGTAAATGGAAGCTTACCGGAGAATCTGTTGAGGTCAAGGACCAGTGGGGATTTTGTAGTGAGGGCTTTCGTGGTAAGATTGGTCATAAAAGGGTTTTGGTGTTCCTCGATGGAAGATACCCTGACAAAACCAAATCTGATTGGGTTATCCACGAGTTCCACTACGACCTCTTACCAGAACATCAGGTTTTCTTCTATTCATATATATATATATATATATATGTGGATATATATATATGTGGTTTCTGCTGATTCATAGTTAGAATTTGAGTTATGCAAATTAGAAACTATGTAATGTAACTCTATTTAGGTTCAGCAGCTATTTTAGGCTTAGCTTACTCTCACCAATGTTTTATACTGATGAACTTATGTGCTTACCTCCGGAAATTTTACAGAGGACATATGTCATCTGCAGACTTGAGTACAAGGGTGATGATGCGGACATTCTATCTGCTTATGCAATAGATCCCACTCCCGCTTTTGTCCCCAATATGACTAGTAGTGCAGGTTCTGTGGTGAGTCTTTCTCCATATACACTTAGCTTTGAGTAGGCAGATCAAAAAAGAGCTTGTGTCTACTGATTTGATGTTTTCCTAAACTGTTGATTCGTTTCAGGTCAACCAATCACGTCAACGAAATTCAGGATCTTACAACACTTACTCTGAGTATGATTCAGCAAATCATGGCCAGCAGTTTAATGAAAACTCTAACATTATGCAGCAGCAACCACTTCAAGGATCATTCAACCCTCTCCTTGAGTATGATTTTGCAAATCACGGCGGTCAGTGGCTGAGTGACTATATCGACCTGCAACAGCAAGTTCCTTACTTGGCACCTTATGAAAATGAGTCGGAGATGATTTGGAAGCATGTGATTGAAGAAAATTTTGAGTTTTTGGTAGATGAAAGGACATCTATGCAACAGCATTACAGTGATCACCGGCCCAAAAAACCTGTGTCTGGGGTTTTGCCTGATGATAGCAGTGATACTGAAACTGGATCAATGGTAAGCTTTTTTTACTCATATATAATCACAACCTATATCGCTTCTATATCTCACACGCTGAATTTTGGCTTTTAACAGATTTTCGAAGACACTTCGAGCTCCACTGATAGTGTTGGTAGTTCAGATGAACCGGGCCATACTCGTATAGATGATATTCCATCATTGAACATTATTGAGCCTTTGCACAATTATAAGGCACAAGAGCAACCAAAGCAGCAGAGCAAAGAAAAGGTTTAACACTCTCACTGAGAAACATGACTTTGATACGAAATCTGAATCAACATTTCATCAAAAAGATTTAGTCAAATGACCTCTAAATTATGAGCTATGGGTCTGCTTTCAGGTGATAAGTTCGCAGAAAAGCGAATGCGAGTGGAAAATGGCTGAAGACTCGATCAAGATACCTCCATCCACCAACACGGTGAAGCAGAGCTGGATTGTTTTGGAGAATGCACAGTGGAACTATCTCAAGAACATGATCATTGGTGTCTTGTTGTTCATCTCCGTCATTAGTTGGATCATTCTTGTTGGTTAAGAGGTCAAATCGGATTCTTGCTCAAAATTTGTATTTCTTAGAATGTGTGTTTTTTTTTGTTTTTTTTTCTTTGCTCTGTTTTCTCGCTCCGGAAAAGTTTGAAGTTATATTTTATTAGTATGTAAAGAAGAGAAAAAGGGGGAAAGAAGAGAGAAGAAAAATGCAGAAAATCATATATATGAATTGGAAAAAAGTATATGTAATAATAATTAGTGCATCGTTTTGTGGTGTAGTTTATATAAATAAAGTGATATATAGTCTTGTATAAG'"
      ]
     },
     "execution_count": 14,
     "metadata": {},
     "output_type": "execute_result"
    }
   ],
   "source": [
    "dicfa['Chr1'][3631-1:5899] #이 방법을 통해 유전자서열 알수있음"
   ]
  },
  {
   "cell_type": "code",
   "execution_count": 15,
   "metadata": {},
   "outputs": [],
   "source": [
    "df_ld['seq'] = df_ld.apply(lambda x : dicfa[x[0]][x[3]-1:x[4]],axis=1)"
   ]
  },
  {
   "cell_type": "markdown",
   "metadata": {},
   "source": [
    "*df_ld['seq'] : df_ld에 seq라는 이름의 column을 df_ld의 제일 끝에 만들어 cds가 되는 부분의 번호들 범위에 해당하는 서열을 dicfa에서 따와 집어넣기위함*\n",
    "\n",
    "*df_ld['seq'] = df_ld.apply(lambda x : x .... axis=1) : apply는 df값을 가지고 값을 만들겠다는 뜻, axis=1이므로 각 row로 사용되어 짐*"
   ]
  },
  {
   "cell_type": "code",
   "execution_count": 16,
   "metadata": {},
   "outputs": [
    {
     "data": {
      "text/html": [
       "<div>\n",
       "<style scoped>\n",
       "    .dataframe tbody tr th:only-of-type {\n",
       "        vertical-align: middle;\n",
       "    }\n",
       "\n",
       "    .dataframe tbody tr th {\n",
       "        vertical-align: top;\n",
       "    }\n",
       "\n",
       "    .dataframe thead th {\n",
       "        text-align: right;\n",
       "    }\n",
       "</style>\n",
       "<table border=\"1\" class=\"dataframe\">\n",
       "  <thead>\n",
       "    <tr style=\"text-align: right;\">\n",
       "      <th></th>\n",
       "      <th>0</th>\n",
       "      <th>1</th>\n",
       "      <th>2</th>\n",
       "      <th>3</th>\n",
       "      <th>4</th>\n",
       "      <th>5</th>\n",
       "      <th>6</th>\n",
       "      <th>7</th>\n",
       "      <th>8</th>\n",
       "      <th>seq</th>\n",
       "    </tr>\n",
       "  </thead>\n",
       "  <tbody>\n",
       "    <tr>\n",
       "      <th>0</th>\n",
       "      <td>Chr1</td>\n",
       "      <td>phytozomev12</td>\n",
       "      <td>gene</td>\n",
       "      <td>3631</td>\n",
       "      <td>5899</td>\n",
       "      <td>.</td>\n",
       "      <td>+</td>\n",
       "      <td>.</td>\n",
       "      <td>ID=AT1G01010.Araport11.447;Name=AT1G01010</td>\n",
       "      <td>AAATTATTAGATATACCAAACCAGAGAAAACAAATACATAATCGGA...</td>\n",
       "    </tr>\n",
       "    <tr>\n",
       "      <th>1</th>\n",
       "      <td>Chr1</td>\n",
       "      <td>phytozomev12</td>\n",
       "      <td>mRNA</td>\n",
       "      <td>3631</td>\n",
       "      <td>5899</td>\n",
       "      <td>.</td>\n",
       "      <td>+</td>\n",
       "      <td>.</td>\n",
       "      <td>ID=AT1G01010.1.Araport11.447;Name=AT1G01010.1;...</td>\n",
       "      <td>AAATTATTAGATATACCAAACCAGAGAAAACAAATACATAATCGGA...</td>\n",
       "    </tr>\n",
       "    <tr>\n",
       "      <th>2</th>\n",
       "      <td>Chr1</td>\n",
       "      <td>phytozomev12</td>\n",
       "      <td>five_prime_UTR</td>\n",
       "      <td>3631</td>\n",
       "      <td>3759</td>\n",
       "      <td>.</td>\n",
       "      <td>+</td>\n",
       "      <td>.</td>\n",
       "      <td>ID=AT1G01010.1.Araport11.447.five_prime_UTR.1;...</td>\n",
       "      <td>AAATTATTAGATATACCAAACCAGAGAAAACAAATACATAATCGGA...</td>\n",
       "    </tr>\n",
       "    <tr>\n",
       "      <th>3</th>\n",
       "      <td>Chr1</td>\n",
       "      <td>phytozomev12</td>\n",
       "      <td>CDS</td>\n",
       "      <td>3760</td>\n",
       "      <td>3913</td>\n",
       "      <td>.</td>\n",
       "      <td>+</td>\n",
       "      <td>0</td>\n",
       "      <td>ID=AT1G01010.1.Araport11.447.CDS.1;Parent=AT1G...</td>\n",
       "      <td>ATGGAGGATCAAGTTGGGTTTGGGTTCCGTCCGAACGACGAGGAGC...</td>\n",
       "    </tr>\n",
       "    <tr>\n",
       "      <th>4</th>\n",
       "      <td>Chr1</td>\n",
       "      <td>phytozomev12</td>\n",
       "      <td>CDS</td>\n",
       "      <td>3996</td>\n",
       "      <td>4276</td>\n",
       "      <td>.</td>\n",
       "      <td>+</td>\n",
       "      <td>2</td>\n",
       "      <td>ID=AT1G01010.1.Araport11.447.CDS.2;Parent=AT1G...</td>\n",
       "      <td>TCCAGTCAAAGTACAAATCGAGAGATGCTATGTGGTACTTCTTCTC...</td>\n",
       "    </tr>\n",
       "  </tbody>\n",
       "</table>\n",
       "</div>"
      ],
      "text/plain": [
       "      0             1               2     3     4  5  6  7  \\\n",
       "0  Chr1  phytozomev12            gene  3631  5899  .  +  .   \n",
       "1  Chr1  phytozomev12            mRNA  3631  5899  .  +  .   \n",
       "2  Chr1  phytozomev12  five_prime_UTR  3631  3759  .  +  .   \n",
       "3  Chr1  phytozomev12             CDS  3760  3913  .  +  0   \n",
       "4  Chr1  phytozomev12             CDS  3996  4276  .  +  2   \n",
       "\n",
       "                                                   8  \\\n",
       "0          ID=AT1G01010.Araport11.447;Name=AT1G01010   \n",
       "1  ID=AT1G01010.1.Araport11.447;Name=AT1G01010.1;...   \n",
       "2  ID=AT1G01010.1.Araport11.447.five_prime_UTR.1;...   \n",
       "3  ID=AT1G01010.1.Araport11.447.CDS.1;Parent=AT1G...   \n",
       "4  ID=AT1G01010.1.Araport11.447.CDS.2;Parent=AT1G...   \n",
       "\n",
       "                                                 seq  \n",
       "0  AAATTATTAGATATACCAAACCAGAGAAAACAAATACATAATCGGA...  \n",
       "1  AAATTATTAGATATACCAAACCAGAGAAAACAAATACATAATCGGA...  \n",
       "2  AAATTATTAGATATACCAAACCAGAGAAAACAAATACATAATCGGA...  \n",
       "3  ATGGAGGATCAAGTTGGGTTTGGGTTCCGTCCGAACGACGAGGAGC...  \n",
       "4  TCCAGTCAAAGTACAAATCGAGAGATGCTATGTGGTACTTCTTCTC...  "
      ]
     },
     "execution_count": 16,
     "metadata": {},
     "output_type": "execute_result"
    }
   ],
   "source": [
    "df_ld.head()"
   ]
  },
  {
   "cell_type": "markdown",
   "metadata": {},
   "source": [
    "* df_ld 에서 필요한 부분만을 걸러내기"
   ]
  },
  {
   "cell_type": "markdown",
   "metadata": {},
   "source": [
    "> CDS만 걸러내기"
   ]
  },
  {
   "cell_type": "code",
   "execution_count": 17,
   "metadata": {},
   "outputs": [],
   "source": [
    "m_cds=df_ld[2]=='CDS'"
   ]
  },
  {
   "cell_type": "code",
   "execution_count": 18,
   "metadata": {},
   "outputs": [
    {
     "data": {
      "text/html": [
       "<div>\n",
       "<style scoped>\n",
       "    .dataframe tbody tr th:only-of-type {\n",
       "        vertical-align: middle;\n",
       "    }\n",
       "\n",
       "    .dataframe tbody tr th {\n",
       "        vertical-align: top;\n",
       "    }\n",
       "\n",
       "    .dataframe thead th {\n",
       "        text-align: right;\n",
       "    }\n",
       "</style>\n",
       "<table border=\"1\" class=\"dataframe\">\n",
       "  <thead>\n",
       "    <tr style=\"text-align: right;\">\n",
       "      <th></th>\n",
       "      <th>0</th>\n",
       "      <th>1</th>\n",
       "      <th>2</th>\n",
       "      <th>3</th>\n",
       "      <th>4</th>\n",
       "      <th>5</th>\n",
       "      <th>6</th>\n",
       "      <th>7</th>\n",
       "      <th>8</th>\n",
       "      <th>seq</th>\n",
       "    </tr>\n",
       "  </thead>\n",
       "  <tbody>\n",
       "    <tr>\n",
       "      <th>3</th>\n",
       "      <td>Chr1</td>\n",
       "      <td>phytozomev12</td>\n",
       "      <td>CDS</td>\n",
       "      <td>3760</td>\n",
       "      <td>3913</td>\n",
       "      <td>.</td>\n",
       "      <td>+</td>\n",
       "      <td>0</td>\n",
       "      <td>ID=AT1G01010.1.Araport11.447.CDS.1;Parent=AT1G...</td>\n",
       "      <td>ATGGAGGATCAAGTTGGGTTTGGGTTCCGTCCGAACGACGAGGAGC...</td>\n",
       "    </tr>\n",
       "    <tr>\n",
       "      <th>4</th>\n",
       "      <td>Chr1</td>\n",
       "      <td>phytozomev12</td>\n",
       "      <td>CDS</td>\n",
       "      <td>3996</td>\n",
       "      <td>4276</td>\n",
       "      <td>.</td>\n",
       "      <td>+</td>\n",
       "      <td>2</td>\n",
       "      <td>ID=AT1G01010.1.Araport11.447.CDS.2;Parent=AT1G...</td>\n",
       "      <td>TCCAGTCAAAGTACAAATCGAGAGATGCTATGTGGTACTTCTTCTC...</td>\n",
       "    </tr>\n",
       "    <tr>\n",
       "      <th>5</th>\n",
       "      <td>Chr1</td>\n",
       "      <td>phytozomev12</td>\n",
       "      <td>CDS</td>\n",
       "      <td>4486</td>\n",
       "      <td>4605</td>\n",
       "      <td>.</td>\n",
       "      <td>+</td>\n",
       "      <td>0</td>\n",
       "      <td>ID=AT1G01010.1.Araport11.447.CDS.3;Parent=AT1G...</td>\n",
       "      <td>AGGACATATGTCATCTGCAGACTTGAGTACAAGGGTGATGATGCGG...</td>\n",
       "    </tr>\n",
       "    <tr>\n",
       "      <th>6</th>\n",
       "      <td>Chr1</td>\n",
       "      <td>phytozomev12</td>\n",
       "      <td>CDS</td>\n",
       "      <td>4706</td>\n",
       "      <td>5095</td>\n",
       "      <td>.</td>\n",
       "      <td>+</td>\n",
       "      <td>0</td>\n",
       "      <td>ID=AT1G01010.1.Araport11.447.CDS.4;Parent=AT1G...</td>\n",
       "      <td>GTCAACCAATCACGTCAACGAAATTCAGGATCTTACAACACTTACT...</td>\n",
       "    </tr>\n",
       "    <tr>\n",
       "      <th>7</th>\n",
       "      <td>Chr1</td>\n",
       "      <td>phytozomev12</td>\n",
       "      <td>CDS</td>\n",
       "      <td>5174</td>\n",
       "      <td>5326</td>\n",
       "      <td>.</td>\n",
       "      <td>+</td>\n",
       "      <td>0</td>\n",
       "      <td>ID=AT1G01010.1.Araport11.447.CDS.5;Parent=AT1G...</td>\n",
       "      <td>ATTTTCGAAGACACTTCGAGCTCCACTGATAGTGTTGGTAGTTCAG...</td>\n",
       "    </tr>\n",
       "    <tr>\n",
       "      <th>8</th>\n",
       "      <td>Chr1</td>\n",
       "      <td>phytozomev12</td>\n",
       "      <td>CDS</td>\n",
       "      <td>5439</td>\n",
       "      <td>5630</td>\n",
       "      <td>.</td>\n",
       "      <td>+</td>\n",
       "      <td>0</td>\n",
       "      <td>ID=AT1G01010.1.Araport11.447.CDS.6;Parent=AT1G...</td>\n",
       "      <td>GTGATAAGTTCGCAGAAAAGCGAATGCGAGTGGAAAATGGCTGAAG...</td>\n",
       "    </tr>\n",
       "    <tr>\n",
       "      <th>12</th>\n",
       "      <td>Chr1</td>\n",
       "      <td>phytozomev12</td>\n",
       "      <td>CDS</td>\n",
       "      <td>8571</td>\n",
       "      <td>8666</td>\n",
       "      <td>.</td>\n",
       "      <td>-</td>\n",
       "      <td>0</td>\n",
       "      <td>ID=AT1G01020.1.Araport11.447.CDS.1;Parent=AT1G...</td>\n",
       "      <td>GCATTTCATGAGACGAATGTTACCCGGAGAGTATTGAATGAACAAT...</td>\n",
       "    </tr>\n",
       "    <tr>\n",
       "      <th>14</th>\n",
       "      <td>Chr1</td>\n",
       "      <td>phytozomev12</td>\n",
       "      <td>CDS</td>\n",
       "      <td>8417</td>\n",
       "      <td>8464</td>\n",
       "      <td>.</td>\n",
       "      <td>-</td>\n",
       "      <td>0</td>\n",
       "      <td>ID=AT1G01020.1.Araport11.447.CDS.2;Parent=AT1G...</td>\n",
       "      <td>CATGCGTTCACACTCGATGTACTCATCTGCTACTTCCTTGCAATTTCC</td>\n",
       "    </tr>\n",
       "    <tr>\n",
       "      <th>15</th>\n",
       "      <td>Chr1</td>\n",
       "      <td>phytozomev12</td>\n",
       "      <td>CDS</td>\n",
       "      <td>8236</td>\n",
       "      <td>8325</td>\n",
       "      <td>.</td>\n",
       "      <td>-</td>\n",
       "      <td>0</td>\n",
       "      <td>ID=AT1G01020.1.Araport11.447.CDS.3;Parent=AT1G...</td>\n",
       "      <td>CTGAATATTGACAGTTGCTGGATTAATTGCATTGTAGAGGACGTGT...</td>\n",
       "    </tr>\n",
       "    <tr>\n",
       "      <th>16</th>\n",
       "      <td>Chr1</td>\n",
       "      <td>phytozomev12</td>\n",
       "      <td>CDS</td>\n",
       "      <td>7942</td>\n",
       "      <td>7987</td>\n",
       "      <td>.</td>\n",
       "      <td>-</td>\n",
       "      <td>0</td>\n",
       "      <td>ID=AT1G01020.1.Araport11.447.CDS.4;Parent=AT1G...</td>\n",
       "      <td>AACAGTCTAGAAGAAGATAGGCGAAGACCAACTTCCACAACAGATG</td>\n",
       "    </tr>\n",
       "  </tbody>\n",
       "</table>\n",
       "</div>"
      ],
      "text/plain": [
       "       0             1    2     3     4  5  6  7  \\\n",
       "3   Chr1  phytozomev12  CDS  3760  3913  .  +  0   \n",
       "4   Chr1  phytozomev12  CDS  3996  4276  .  +  2   \n",
       "5   Chr1  phytozomev12  CDS  4486  4605  .  +  0   \n",
       "6   Chr1  phytozomev12  CDS  4706  5095  .  +  0   \n",
       "7   Chr1  phytozomev12  CDS  5174  5326  .  +  0   \n",
       "8   Chr1  phytozomev12  CDS  5439  5630  .  +  0   \n",
       "12  Chr1  phytozomev12  CDS  8571  8666  .  -  0   \n",
       "14  Chr1  phytozomev12  CDS  8417  8464  .  -  0   \n",
       "15  Chr1  phytozomev12  CDS  8236  8325  .  -  0   \n",
       "16  Chr1  phytozomev12  CDS  7942  7987  .  -  0   \n",
       "\n",
       "                                                    8  \\\n",
       "3   ID=AT1G01010.1.Araport11.447.CDS.1;Parent=AT1G...   \n",
       "4   ID=AT1G01010.1.Araport11.447.CDS.2;Parent=AT1G...   \n",
       "5   ID=AT1G01010.1.Araport11.447.CDS.3;Parent=AT1G...   \n",
       "6   ID=AT1G01010.1.Araport11.447.CDS.4;Parent=AT1G...   \n",
       "7   ID=AT1G01010.1.Araport11.447.CDS.5;Parent=AT1G...   \n",
       "8   ID=AT1G01010.1.Araport11.447.CDS.6;Parent=AT1G...   \n",
       "12  ID=AT1G01020.1.Araport11.447.CDS.1;Parent=AT1G...   \n",
       "14  ID=AT1G01020.1.Araport11.447.CDS.2;Parent=AT1G...   \n",
       "15  ID=AT1G01020.1.Araport11.447.CDS.3;Parent=AT1G...   \n",
       "16  ID=AT1G01020.1.Araport11.447.CDS.4;Parent=AT1G...   \n",
       "\n",
       "                                                  seq  \n",
       "3   ATGGAGGATCAAGTTGGGTTTGGGTTCCGTCCGAACGACGAGGAGC...  \n",
       "4   TCCAGTCAAAGTACAAATCGAGAGATGCTATGTGGTACTTCTTCTC...  \n",
       "5   AGGACATATGTCATCTGCAGACTTGAGTACAAGGGTGATGATGCGG...  \n",
       "6   GTCAACCAATCACGTCAACGAAATTCAGGATCTTACAACACTTACT...  \n",
       "7   ATTTTCGAAGACACTTCGAGCTCCACTGATAGTGTTGGTAGTTCAG...  \n",
       "8   GTGATAAGTTCGCAGAAAAGCGAATGCGAGTGGAAAATGGCTGAAG...  \n",
       "12  GCATTTCATGAGACGAATGTTACCCGGAGAGTATTGAATGAACAAT...  \n",
       "14   CATGCGTTCACACTCGATGTACTCATCTGCTACTTCCTTGCAATTTCC  \n",
       "15  CTGAATATTGACAGTTGCTGGATTAATTGCATTGTAGAGGACGTGT...  \n",
       "16     AACAGTCTAGAAGAAGATAGGCGAAGACCAACTTCCACAACAGATG  "
      ]
     },
     "execution_count": 18,
     "metadata": {},
     "output_type": "execute_result"
    }
   ],
   "source": [
    "df_ld[m_cds][0:10]"
   ]
  },
  {
   "cell_type": "code",
   "execution_count": 19,
   "metadata": {},
   "outputs": [],
   "source": [
    "df_ld_cds = df_ld[m_cds]"
   ]
  },
  {
   "cell_type": "markdown",
   "metadata": {},
   "source": [
    "> sense와 antisense 구분하여 sense부터 걸러내기"
   ]
  },
  {
   "cell_type": "code",
   "execution_count": 20,
   "metadata": {},
   "outputs": [],
   "source": [
    "m_plus = df_ld_cds[6] == '+'"
   ]
  },
  {
   "cell_type": "code",
   "execution_count": 21,
   "metadata": {},
   "outputs": [
    {
     "data": {
      "text/html": [
       "<div>\n",
       "<style scoped>\n",
       "    .dataframe tbody tr th:only-of-type {\n",
       "        vertical-align: middle;\n",
       "    }\n",
       "\n",
       "    .dataframe tbody tr th {\n",
       "        vertical-align: top;\n",
       "    }\n",
       "\n",
       "    .dataframe thead th {\n",
       "        text-align: right;\n",
       "    }\n",
       "</style>\n",
       "<table border=\"1\" class=\"dataframe\">\n",
       "  <thead>\n",
       "    <tr style=\"text-align: right;\">\n",
       "      <th></th>\n",
       "      <th>0</th>\n",
       "      <th>1</th>\n",
       "      <th>2</th>\n",
       "      <th>3</th>\n",
       "      <th>4</th>\n",
       "      <th>5</th>\n",
       "      <th>6</th>\n",
       "      <th>7</th>\n",
       "      <th>8</th>\n",
       "      <th>seq</th>\n",
       "    </tr>\n",
       "  </thead>\n",
       "  <tbody>\n",
       "    <tr>\n",
       "      <th>3</th>\n",
       "      <td>Chr1</td>\n",
       "      <td>phytozomev12</td>\n",
       "      <td>CDS</td>\n",
       "      <td>3760</td>\n",
       "      <td>3913</td>\n",
       "      <td>.</td>\n",
       "      <td>+</td>\n",
       "      <td>0</td>\n",
       "      <td>ID=AT1G01010.1.Araport11.447.CDS.1;Parent=AT1G...</td>\n",
       "      <td>ATGGAGGATCAAGTTGGGTTTGGGTTCCGTCCGAACGACGAGGAGC...</td>\n",
       "    </tr>\n",
       "    <tr>\n",
       "      <th>4</th>\n",
       "      <td>Chr1</td>\n",
       "      <td>phytozomev12</td>\n",
       "      <td>CDS</td>\n",
       "      <td>3996</td>\n",
       "      <td>4276</td>\n",
       "      <td>.</td>\n",
       "      <td>+</td>\n",
       "      <td>2</td>\n",
       "      <td>ID=AT1G01010.1.Araport11.447.CDS.2;Parent=AT1G...</td>\n",
       "      <td>TCCAGTCAAAGTACAAATCGAGAGATGCTATGTGGTACTTCTTCTC...</td>\n",
       "    </tr>\n",
       "    <tr>\n",
       "      <th>5</th>\n",
       "      <td>Chr1</td>\n",
       "      <td>phytozomev12</td>\n",
       "      <td>CDS</td>\n",
       "      <td>4486</td>\n",
       "      <td>4605</td>\n",
       "      <td>.</td>\n",
       "      <td>+</td>\n",
       "      <td>0</td>\n",
       "      <td>ID=AT1G01010.1.Araport11.447.CDS.3;Parent=AT1G...</td>\n",
       "      <td>AGGACATATGTCATCTGCAGACTTGAGTACAAGGGTGATGATGCGG...</td>\n",
       "    </tr>\n",
       "    <tr>\n",
       "      <th>6</th>\n",
       "      <td>Chr1</td>\n",
       "      <td>phytozomev12</td>\n",
       "      <td>CDS</td>\n",
       "      <td>4706</td>\n",
       "      <td>5095</td>\n",
       "      <td>.</td>\n",
       "      <td>+</td>\n",
       "      <td>0</td>\n",
       "      <td>ID=AT1G01010.1.Araport11.447.CDS.4;Parent=AT1G...</td>\n",
       "      <td>GTCAACCAATCACGTCAACGAAATTCAGGATCTTACAACACTTACT...</td>\n",
       "    </tr>\n",
       "    <tr>\n",
       "      <th>7</th>\n",
       "      <td>Chr1</td>\n",
       "      <td>phytozomev12</td>\n",
       "      <td>CDS</td>\n",
       "      <td>5174</td>\n",
       "      <td>5326</td>\n",
       "      <td>.</td>\n",
       "      <td>+</td>\n",
       "      <td>0</td>\n",
       "      <td>ID=AT1G01010.1.Araport11.447.CDS.5;Parent=AT1G...</td>\n",
       "      <td>ATTTTCGAAGACACTTCGAGCTCCACTGATAGTGTTGGTAGTTCAG...</td>\n",
       "    </tr>\n",
       "    <tr>\n",
       "      <th>8</th>\n",
       "      <td>Chr1</td>\n",
       "      <td>phytozomev12</td>\n",
       "      <td>CDS</td>\n",
       "      <td>5439</td>\n",
       "      <td>5630</td>\n",
       "      <td>.</td>\n",
       "      <td>+</td>\n",
       "      <td>0</td>\n",
       "      <td>ID=AT1G01010.1.Araport11.447.CDS.6;Parent=AT1G...</td>\n",
       "      <td>GTGATAAGTTCGCAGAAAAGCGAATGCGAGTGGAAAATGGCTGAAG...</td>\n",
       "    </tr>\n",
       "    <tr>\n",
       "      <th>92</th>\n",
       "      <td>Chr1</td>\n",
       "      <td>phytozomev12</td>\n",
       "      <td>CDS</td>\n",
       "      <td>23519</td>\n",
       "      <td>24451</td>\n",
       "      <td>.</td>\n",
       "      <td>+</td>\n",
       "      <td>0</td>\n",
       "      <td>ID=AT1G01040.2.Araport11.447.CDS.1;Parent=AT1G...</td>\n",
       "      <td>ATGGTAATGGAGGATGAGCCTAGAGAAGCCACAATAAAGCCTTCTT...</td>\n",
       "    </tr>\n",
       "    <tr>\n",
       "      <th>93</th>\n",
       "      <td>Chr1</td>\n",
       "      <td>phytozomev12</td>\n",
       "      <td>CDS</td>\n",
       "      <td>24542</td>\n",
       "      <td>24655</td>\n",
       "      <td>.</td>\n",
       "      <td>+</td>\n",
       "      <td>0</td>\n",
       "      <td>ID=AT1G01040.2.Araport11.447.CDS.2;Parent=AT1G...</td>\n",
       "      <td>CAAGCAGAAGTGATCCGTAATCAAACTTGTTTTCAAGTTGGACATT...</td>\n",
       "    </tr>\n",
       "    <tr>\n",
       "      <th>94</th>\n",
       "      <td>Chr1</td>\n",
       "      <td>phytozomev12</td>\n",
       "      <td>CDS</td>\n",
       "      <td>24752</td>\n",
       "      <td>24962</td>\n",
       "      <td>.</td>\n",
       "      <td>+</td>\n",
       "      <td>0</td>\n",
       "      <td>ID=AT1G01040.2.Araport11.447.CDS.3;Parent=AT1G...</td>\n",
       "      <td>GTTCTAGTTATGACAGCACAAATTCTGTTGAATATACTGAGACACA...</td>\n",
       "    </tr>\n",
       "    <tr>\n",
       "      <th>95</th>\n",
       "      <td>Chr1</td>\n",
       "      <td>phytozomev12</td>\n",
       "      <td>CDS</td>\n",
       "      <td>25041</td>\n",
       "      <td>25435</td>\n",
       "      <td>.</td>\n",
       "      <td>+</td>\n",
       "      <td>2</td>\n",
       "      <td>ID=AT1G01040.2.Araport11.447.CDS.4;Parent=AT1G...</td>\n",
       "      <td>GTGTTTCAAGCCAAGTAGATTGTGCGATAAAGATACGTAACCTCGA...</td>\n",
       "    </tr>\n",
       "  </tbody>\n",
       "</table>\n",
       "</div>"
      ],
      "text/plain": [
       "       0             1    2      3      4  5  6  7  \\\n",
       "3   Chr1  phytozomev12  CDS   3760   3913  .  +  0   \n",
       "4   Chr1  phytozomev12  CDS   3996   4276  .  +  2   \n",
       "5   Chr1  phytozomev12  CDS   4486   4605  .  +  0   \n",
       "6   Chr1  phytozomev12  CDS   4706   5095  .  +  0   \n",
       "7   Chr1  phytozomev12  CDS   5174   5326  .  +  0   \n",
       "8   Chr1  phytozomev12  CDS   5439   5630  .  +  0   \n",
       "92  Chr1  phytozomev12  CDS  23519  24451  .  +  0   \n",
       "93  Chr1  phytozomev12  CDS  24542  24655  .  +  0   \n",
       "94  Chr1  phytozomev12  CDS  24752  24962  .  +  0   \n",
       "95  Chr1  phytozomev12  CDS  25041  25435  .  +  2   \n",
       "\n",
       "                                                    8  \\\n",
       "3   ID=AT1G01010.1.Araport11.447.CDS.1;Parent=AT1G...   \n",
       "4   ID=AT1G01010.1.Araport11.447.CDS.2;Parent=AT1G...   \n",
       "5   ID=AT1G01010.1.Araport11.447.CDS.3;Parent=AT1G...   \n",
       "6   ID=AT1G01010.1.Araport11.447.CDS.4;Parent=AT1G...   \n",
       "7   ID=AT1G01010.1.Araport11.447.CDS.5;Parent=AT1G...   \n",
       "8   ID=AT1G01010.1.Araport11.447.CDS.6;Parent=AT1G...   \n",
       "92  ID=AT1G01040.2.Araport11.447.CDS.1;Parent=AT1G...   \n",
       "93  ID=AT1G01040.2.Araport11.447.CDS.2;Parent=AT1G...   \n",
       "94  ID=AT1G01040.2.Araport11.447.CDS.3;Parent=AT1G...   \n",
       "95  ID=AT1G01040.2.Araport11.447.CDS.4;Parent=AT1G...   \n",
       "\n",
       "                                                  seq  \n",
       "3   ATGGAGGATCAAGTTGGGTTTGGGTTCCGTCCGAACGACGAGGAGC...  \n",
       "4   TCCAGTCAAAGTACAAATCGAGAGATGCTATGTGGTACTTCTTCTC...  \n",
       "5   AGGACATATGTCATCTGCAGACTTGAGTACAAGGGTGATGATGCGG...  \n",
       "6   GTCAACCAATCACGTCAACGAAATTCAGGATCTTACAACACTTACT...  \n",
       "7   ATTTTCGAAGACACTTCGAGCTCCACTGATAGTGTTGGTAGTTCAG...  \n",
       "8   GTGATAAGTTCGCAGAAAAGCGAATGCGAGTGGAAAATGGCTGAAG...  \n",
       "92  ATGGTAATGGAGGATGAGCCTAGAGAAGCCACAATAAAGCCTTCTT...  \n",
       "93  CAAGCAGAAGTGATCCGTAATCAAACTTGTTTTCAAGTTGGACATT...  \n",
       "94  GTTCTAGTTATGACAGCACAAATTCTGTTGAATATACTGAGACACA...  \n",
       "95  GTGTTTCAAGCCAAGTAGATTGTGCGATAAAGATACGTAACCTCGA...  "
      ]
     },
     "execution_count": 21,
     "metadata": {},
     "output_type": "execute_result"
    }
   ],
   "source": [
    "df_ld_cds[m_plus][0:10]"
   ]
  },
  {
   "cell_type": "code",
   "execution_count": 22,
   "metadata": {},
   "outputs": [],
   "source": [
    "df_ld_cds_plus = df_ld_cds[m_plus]"
   ]
  },
  {
   "cell_type": "markdown",
   "metadata": {},
   "source": [
    "* gene의 전체 protein 서열 얻으려면 cds만 얻어야하므로, 하나의 gene에 대한 cds를 얻어낼 수 있도록 df_ld_cds_plus의 column 8에 있는 ID를 참조해 같은 ID끼리 df_ld_cds_plus의 column seq에 있는 sequence 모아 붙이기"
   ]
  },
  {
   "cell_type": "markdown",
   "metadata": {},
   "source": [
    "> ID 얻어내기"
   ]
  },
  {
   "cell_type": "code",
   "execution_count": 26,
   "metadata": {},
   "outputs": [
    {
     "data": {
      "text/plain": [
       "'ID=AT1G01010.Araport11.447;Name=AT1G01010'"
      ]
     },
     "execution_count": 26,
     "metadata": {},
     "output_type": "execute_result"
    }
   ],
   "source": [
    "df_ld[8][0] "
   ]
  },
  {
   "cell_type": "markdown",
   "metadata": {},
   "source": [
    "*df의 column 8엔 gene에 대한 정보들이 있음*"
   ]
  },
  {
   "cell_type": "code",
   "execution_count": 36,
   "metadata": {},
   "outputs": [
    {
     "data": {
      "text/plain": [
       "['ID=AT1G01010',\n",
       " '1',\n",
       " 'Araport11',\n",
       " '447',\n",
       " 'CDS',\n",
       " '1;Parent=AT1G01010',\n",
       " '1',\n",
       " 'Araport11',\n",
       " '447;pacid=37401853']"
      ]
     },
     "execution_count": 36,
     "metadata": {},
     "output_type": "execute_result"
    }
   ],
   "source": [
    "df_ld_cds_plus[8][3].split('.')"
   ]
  },
  {
   "cell_type": "code",
   "execution_count": 37,
   "metadata": {},
   "outputs": [
    {
     "data": {
      "text/plain": [
       "'AT1G01010'"
      ]
     },
     "execution_count": 37,
     "metadata": {},
     "output_type": "execute_result"
    }
   ],
   "source": [
    "df_ld_cds_plus[8][3].split('.')[0].split('=')[1]"
   ]
  },
  {
   "cell_type": "markdown",
   "metadata": {},
   "source": [
    "> df_ld_cds_plus에 ID라는 이름의 column을 만들고 각각의 ID만을 얻어 넣기"
   ]
  },
  {
   "cell_type": "code",
   "execution_count": 38,
   "metadata": {},
   "outputs": [
    {
     "name": "stderr",
     "output_type": "stream",
     "text": [
      "/usr/local/lib/python3.5/dist-packages/ipykernel_launcher.py:1: SettingWithCopyWarning: \n",
      "A value is trying to be set on a copy of a slice from a DataFrame.\n",
      "Try using .loc[row_indexer,col_indexer] = value instead\n",
      "\n",
      "See the caveats in the documentation: http://pandas.pydata.org/pandas-docs/stable/indexing.html#indexing-view-versus-copy\n",
      "  \"\"\"Entry point for launching an IPython kernel.\n"
     ]
    }
   ],
   "source": [
    "df_ld_cds_plus['ID'] = [ID.split('.')[0].split('=')[1] for ID in df_ld_cds_plus[8]]"
   ]
  },
  {
   "cell_type": "code",
   "execution_count": 39,
   "metadata": {},
   "outputs": [
    {
     "data": {
      "text/html": [
       "<div>\n",
       "<style scoped>\n",
       "    .dataframe tbody tr th:only-of-type {\n",
       "        vertical-align: middle;\n",
       "    }\n",
       "\n",
       "    .dataframe tbody tr th {\n",
       "        vertical-align: top;\n",
       "    }\n",
       "\n",
       "    .dataframe thead th {\n",
       "        text-align: right;\n",
       "    }\n",
       "</style>\n",
       "<table border=\"1\" class=\"dataframe\">\n",
       "  <thead>\n",
       "    <tr style=\"text-align: right;\">\n",
       "      <th></th>\n",
       "      <th>0</th>\n",
       "      <th>1</th>\n",
       "      <th>2</th>\n",
       "      <th>3</th>\n",
       "      <th>4</th>\n",
       "      <th>5</th>\n",
       "      <th>6</th>\n",
       "      <th>7</th>\n",
       "      <th>8</th>\n",
       "      <th>seq</th>\n",
       "      <th>ID</th>\n",
       "    </tr>\n",
       "  </thead>\n",
       "  <tbody>\n",
       "    <tr>\n",
       "      <th>3</th>\n",
       "      <td>Chr1</td>\n",
       "      <td>phytozomev12</td>\n",
       "      <td>CDS</td>\n",
       "      <td>3760</td>\n",
       "      <td>3913</td>\n",
       "      <td>.</td>\n",
       "      <td>+</td>\n",
       "      <td>0</td>\n",
       "      <td>ID=AT1G01010.1.Araport11.447.CDS.1;Parent=AT1G...</td>\n",
       "      <td>ATGGAGGATCAAGTTGGGTTTGGGTTCCGTCCGAACGACGAGGAGC...</td>\n",
       "      <td>AT1G01010</td>\n",
       "    </tr>\n",
       "    <tr>\n",
       "      <th>4</th>\n",
       "      <td>Chr1</td>\n",
       "      <td>phytozomev12</td>\n",
       "      <td>CDS</td>\n",
       "      <td>3996</td>\n",
       "      <td>4276</td>\n",
       "      <td>.</td>\n",
       "      <td>+</td>\n",
       "      <td>2</td>\n",
       "      <td>ID=AT1G01010.1.Araport11.447.CDS.2;Parent=AT1G...</td>\n",
       "      <td>TCCAGTCAAAGTACAAATCGAGAGATGCTATGTGGTACTTCTTCTC...</td>\n",
       "      <td>AT1G01010</td>\n",
       "    </tr>\n",
       "    <tr>\n",
       "      <th>5</th>\n",
       "      <td>Chr1</td>\n",
       "      <td>phytozomev12</td>\n",
       "      <td>CDS</td>\n",
       "      <td>4486</td>\n",
       "      <td>4605</td>\n",
       "      <td>.</td>\n",
       "      <td>+</td>\n",
       "      <td>0</td>\n",
       "      <td>ID=AT1G01010.1.Araport11.447.CDS.3;Parent=AT1G...</td>\n",
       "      <td>AGGACATATGTCATCTGCAGACTTGAGTACAAGGGTGATGATGCGG...</td>\n",
       "      <td>AT1G01010</td>\n",
       "    </tr>\n",
       "    <tr>\n",
       "      <th>6</th>\n",
       "      <td>Chr1</td>\n",
       "      <td>phytozomev12</td>\n",
       "      <td>CDS</td>\n",
       "      <td>4706</td>\n",
       "      <td>5095</td>\n",
       "      <td>.</td>\n",
       "      <td>+</td>\n",
       "      <td>0</td>\n",
       "      <td>ID=AT1G01010.1.Araport11.447.CDS.4;Parent=AT1G...</td>\n",
       "      <td>GTCAACCAATCACGTCAACGAAATTCAGGATCTTACAACACTTACT...</td>\n",
       "      <td>AT1G01010</td>\n",
       "    </tr>\n",
       "    <tr>\n",
       "      <th>7</th>\n",
       "      <td>Chr1</td>\n",
       "      <td>phytozomev12</td>\n",
       "      <td>CDS</td>\n",
       "      <td>5174</td>\n",
       "      <td>5326</td>\n",
       "      <td>.</td>\n",
       "      <td>+</td>\n",
       "      <td>0</td>\n",
       "      <td>ID=AT1G01010.1.Araport11.447.CDS.5;Parent=AT1G...</td>\n",
       "      <td>ATTTTCGAAGACACTTCGAGCTCCACTGATAGTGTTGGTAGTTCAG...</td>\n",
       "      <td>AT1G01010</td>\n",
       "    </tr>\n",
       "    <tr>\n",
       "      <th>8</th>\n",
       "      <td>Chr1</td>\n",
       "      <td>phytozomev12</td>\n",
       "      <td>CDS</td>\n",
       "      <td>5439</td>\n",
       "      <td>5630</td>\n",
       "      <td>.</td>\n",
       "      <td>+</td>\n",
       "      <td>0</td>\n",
       "      <td>ID=AT1G01010.1.Araport11.447.CDS.6;Parent=AT1G...</td>\n",
       "      <td>GTGATAAGTTCGCAGAAAAGCGAATGCGAGTGGAAAATGGCTGAAG...</td>\n",
       "      <td>AT1G01010</td>\n",
       "    </tr>\n",
       "    <tr>\n",
       "      <th>92</th>\n",
       "      <td>Chr1</td>\n",
       "      <td>phytozomev12</td>\n",
       "      <td>CDS</td>\n",
       "      <td>23519</td>\n",
       "      <td>24451</td>\n",
       "      <td>.</td>\n",
       "      <td>+</td>\n",
       "      <td>0</td>\n",
       "      <td>ID=AT1G01040.2.Araport11.447.CDS.1;Parent=AT1G...</td>\n",
       "      <td>ATGGTAATGGAGGATGAGCCTAGAGAAGCCACAATAAAGCCTTCTT...</td>\n",
       "      <td>AT1G01040</td>\n",
       "    </tr>\n",
       "    <tr>\n",
       "      <th>93</th>\n",
       "      <td>Chr1</td>\n",
       "      <td>phytozomev12</td>\n",
       "      <td>CDS</td>\n",
       "      <td>24542</td>\n",
       "      <td>24655</td>\n",
       "      <td>.</td>\n",
       "      <td>+</td>\n",
       "      <td>0</td>\n",
       "      <td>ID=AT1G01040.2.Araport11.447.CDS.2;Parent=AT1G...</td>\n",
       "      <td>CAAGCAGAAGTGATCCGTAATCAAACTTGTTTTCAAGTTGGACATT...</td>\n",
       "      <td>AT1G01040</td>\n",
       "    </tr>\n",
       "    <tr>\n",
       "      <th>94</th>\n",
       "      <td>Chr1</td>\n",
       "      <td>phytozomev12</td>\n",
       "      <td>CDS</td>\n",
       "      <td>24752</td>\n",
       "      <td>24962</td>\n",
       "      <td>.</td>\n",
       "      <td>+</td>\n",
       "      <td>0</td>\n",
       "      <td>ID=AT1G01040.2.Araport11.447.CDS.3;Parent=AT1G...</td>\n",
       "      <td>GTTCTAGTTATGACAGCACAAATTCTGTTGAATATACTGAGACACA...</td>\n",
       "      <td>AT1G01040</td>\n",
       "    </tr>\n",
       "    <tr>\n",
       "      <th>95</th>\n",
       "      <td>Chr1</td>\n",
       "      <td>phytozomev12</td>\n",
       "      <td>CDS</td>\n",
       "      <td>25041</td>\n",
       "      <td>25435</td>\n",
       "      <td>.</td>\n",
       "      <td>+</td>\n",
       "      <td>2</td>\n",
       "      <td>ID=AT1G01040.2.Araport11.447.CDS.4;Parent=AT1G...</td>\n",
       "      <td>GTGTTTCAAGCCAAGTAGATTGTGCGATAAAGATACGTAACCTCGA...</td>\n",
       "      <td>AT1G01040</td>\n",
       "    </tr>\n",
       "  </tbody>\n",
       "</table>\n",
       "</div>"
      ],
      "text/plain": [
       "       0             1    2      3      4  5  6  7  \\\n",
       "3   Chr1  phytozomev12  CDS   3760   3913  .  +  0   \n",
       "4   Chr1  phytozomev12  CDS   3996   4276  .  +  2   \n",
       "5   Chr1  phytozomev12  CDS   4486   4605  .  +  0   \n",
       "6   Chr1  phytozomev12  CDS   4706   5095  .  +  0   \n",
       "7   Chr1  phytozomev12  CDS   5174   5326  .  +  0   \n",
       "8   Chr1  phytozomev12  CDS   5439   5630  .  +  0   \n",
       "92  Chr1  phytozomev12  CDS  23519  24451  .  +  0   \n",
       "93  Chr1  phytozomev12  CDS  24542  24655  .  +  0   \n",
       "94  Chr1  phytozomev12  CDS  24752  24962  .  +  0   \n",
       "95  Chr1  phytozomev12  CDS  25041  25435  .  +  2   \n",
       "\n",
       "                                                    8  \\\n",
       "3   ID=AT1G01010.1.Araport11.447.CDS.1;Parent=AT1G...   \n",
       "4   ID=AT1G01010.1.Araport11.447.CDS.2;Parent=AT1G...   \n",
       "5   ID=AT1G01010.1.Araport11.447.CDS.3;Parent=AT1G...   \n",
       "6   ID=AT1G01010.1.Araport11.447.CDS.4;Parent=AT1G...   \n",
       "7   ID=AT1G01010.1.Araport11.447.CDS.5;Parent=AT1G...   \n",
       "8   ID=AT1G01010.1.Araport11.447.CDS.6;Parent=AT1G...   \n",
       "92  ID=AT1G01040.2.Araport11.447.CDS.1;Parent=AT1G...   \n",
       "93  ID=AT1G01040.2.Araport11.447.CDS.2;Parent=AT1G...   \n",
       "94  ID=AT1G01040.2.Araport11.447.CDS.3;Parent=AT1G...   \n",
       "95  ID=AT1G01040.2.Araport11.447.CDS.4;Parent=AT1G...   \n",
       "\n",
       "                                                  seq         ID  \n",
       "3   ATGGAGGATCAAGTTGGGTTTGGGTTCCGTCCGAACGACGAGGAGC...  AT1G01010  \n",
       "4   TCCAGTCAAAGTACAAATCGAGAGATGCTATGTGGTACTTCTTCTC...  AT1G01010  \n",
       "5   AGGACATATGTCATCTGCAGACTTGAGTACAAGGGTGATGATGCGG...  AT1G01010  \n",
       "6   GTCAACCAATCACGTCAACGAAATTCAGGATCTTACAACACTTACT...  AT1G01010  \n",
       "7   ATTTTCGAAGACACTTCGAGCTCCACTGATAGTGTTGGTAGTTCAG...  AT1G01010  \n",
       "8   GTGATAAGTTCGCAGAAAAGCGAATGCGAGTGGAAAATGGCTGAAG...  AT1G01010  \n",
       "92  ATGGTAATGGAGGATGAGCCTAGAGAAGCCACAATAAAGCCTTCTT...  AT1G01040  \n",
       "93  CAAGCAGAAGTGATCCGTAATCAAACTTGTTTTCAAGTTGGACATT...  AT1G01040  \n",
       "94  GTTCTAGTTATGACAGCACAAATTCTGTTGAATATACTGAGACACA...  AT1G01040  \n",
       "95  GTGTTTCAAGCCAAGTAGATTGTGCGATAAAGATACGTAACCTCGA...  AT1G01040  "
      ]
     },
     "execution_count": 39,
     "metadata": {},
     "output_type": "execute_result"
    }
   ],
   "source": [
    "df_ld_cds_plus[0:10]"
   ]
  },
  {
   "cell_type": "markdown",
   "metadata": {},
   "source": [
    "* cds를 넣을 dictionary를 만들어, 각각의 ID와 그에 해당하는 sequence들을 이어붙이기"
   ]
  },
  {
   "cell_type": "code",
   "execution_count": 41,
   "metadata": {},
   "outputs": [],
   "source": [
    "dic_cds = {}\n",
    "for x in df_ld_cds_plus.values :\n",
    "    try : \n",
    "        dic_cds[x[10]] += x[9]\n",
    "    except KeyError :\n",
    "        dic_cds[x[10]] = x[9]"
   ]
  },
  {
   "cell_type": "markdown",
   "metadata": {},
   "source": [
    "*df_ld_cds_plus의 value값들을 x로 부르면 각 row들이 한 줄 씩 array형태로 불러진다. 이에 x[10]은 ID, x[9]는 seq의 값들이 해당되어진다.*\n",
    "\n",
    "*try를 하면 dic_cds에 key값으로 존재하는 알맞은 ID의 원래 있던 value값 뒤로 sequence를 계속 붙여넣는 작업이 수행되는데, 새로운 ID가 처음으로 dic_cds에 들어가면 key값으로 없었던 ID이기 때문에 keyerror가 난다. 이에 except로 keyerror가 날 때의 작업으로 dic_cds의 key값으로는 새로 들어온 ID가, value값으로는 그 ID에 해당하는 sequence가 들어가도록 수행시켜준다. *"
   ]
  },
  {
   "cell_type": "markdown",
   "metadata": {},
   "source": [
    "* df_ld 에서 필요한 부분만을 걸러내기"
   ]
  },
  {
   "cell_type": "markdown",
   "metadata": {},
   "source": [
    "> sense와 antisense 구분하여 antisense 걸러내기"
   ]
  },
  {
   "cell_type": "code",
   "execution_count": 47,
   "metadata": {},
   "outputs": [
    {
     "data": {
      "text/html": [
       "<div>\n",
       "<style scoped>\n",
       "    .dataframe tbody tr th:only-of-type {\n",
       "        vertical-align: middle;\n",
       "    }\n",
       "\n",
       "    .dataframe tbody tr th {\n",
       "        vertical-align: top;\n",
       "    }\n",
       "\n",
       "    .dataframe thead th {\n",
       "        text-align: right;\n",
       "    }\n",
       "</style>\n",
       "<table border=\"1\" class=\"dataframe\">\n",
       "  <thead>\n",
       "    <tr style=\"text-align: right;\">\n",
       "      <th></th>\n",
       "      <th>0</th>\n",
       "      <th>1</th>\n",
       "      <th>2</th>\n",
       "      <th>3</th>\n",
       "      <th>4</th>\n",
       "      <th>5</th>\n",
       "      <th>6</th>\n",
       "      <th>7</th>\n",
       "      <th>8</th>\n",
       "      <th>seq</th>\n",
       "    </tr>\n",
       "  </thead>\n",
       "  <tbody>\n",
       "    <tr>\n",
       "      <th>0</th>\n",
       "      <td>Chr1</td>\n",
       "      <td>phytozomev12</td>\n",
       "      <td>gene</td>\n",
       "      <td>3631</td>\n",
       "      <td>5899</td>\n",
       "      <td>.</td>\n",
       "      <td>+</td>\n",
       "      <td>.</td>\n",
       "      <td>ID=AT1G01010.Araport11.447;Name=AT1G01010</td>\n",
       "      <td>AAATTATTAGATATACCAAACCAGAGAAAACAAATACATAATCGGA...</td>\n",
       "    </tr>\n",
       "    <tr>\n",
       "      <th>1</th>\n",
       "      <td>Chr1</td>\n",
       "      <td>phytozomev12</td>\n",
       "      <td>mRNA</td>\n",
       "      <td>3631</td>\n",
       "      <td>5899</td>\n",
       "      <td>.</td>\n",
       "      <td>+</td>\n",
       "      <td>.</td>\n",
       "      <td>ID=AT1G01010.1.Araport11.447;Name=AT1G01010.1;...</td>\n",
       "      <td>AAATTATTAGATATACCAAACCAGAGAAAACAAATACATAATCGGA...</td>\n",
       "    </tr>\n",
       "    <tr>\n",
       "      <th>2</th>\n",
       "      <td>Chr1</td>\n",
       "      <td>phytozomev12</td>\n",
       "      <td>five_prime_UTR</td>\n",
       "      <td>3631</td>\n",
       "      <td>3759</td>\n",
       "      <td>.</td>\n",
       "      <td>+</td>\n",
       "      <td>.</td>\n",
       "      <td>ID=AT1G01010.1.Araport11.447.five_prime_UTR.1;...</td>\n",
       "      <td>AAATTATTAGATATACCAAACCAGAGAAAACAAATACATAATCGGA...</td>\n",
       "    </tr>\n",
       "    <tr>\n",
       "      <th>3</th>\n",
       "      <td>Chr1</td>\n",
       "      <td>phytozomev12</td>\n",
       "      <td>CDS</td>\n",
       "      <td>3760</td>\n",
       "      <td>3913</td>\n",
       "      <td>.</td>\n",
       "      <td>+</td>\n",
       "      <td>0</td>\n",
       "      <td>ID=AT1G01010.1.Araport11.447.CDS.1;Parent=AT1G...</td>\n",
       "      <td>ATGGAGGATCAAGTTGGGTTTGGGTTCCGTCCGAACGACGAGGAGC...</td>\n",
       "    </tr>\n",
       "    <tr>\n",
       "      <th>4</th>\n",
       "      <td>Chr1</td>\n",
       "      <td>phytozomev12</td>\n",
       "      <td>CDS</td>\n",
       "      <td>3996</td>\n",
       "      <td>4276</td>\n",
       "      <td>.</td>\n",
       "      <td>+</td>\n",
       "      <td>2</td>\n",
       "      <td>ID=AT1G01010.1.Araport11.447.CDS.2;Parent=AT1G...</td>\n",
       "      <td>TCCAGTCAAAGTACAAATCGAGAGATGCTATGTGGTACTTCTTCTC...</td>\n",
       "    </tr>\n",
       "  </tbody>\n",
       "</table>\n",
       "</div>"
      ],
      "text/plain": [
       "      0             1               2     3     4  5  6  7  \\\n",
       "0  Chr1  phytozomev12            gene  3631  5899  .  +  .   \n",
       "1  Chr1  phytozomev12            mRNA  3631  5899  .  +  .   \n",
       "2  Chr1  phytozomev12  five_prime_UTR  3631  3759  .  +  .   \n",
       "3  Chr1  phytozomev12             CDS  3760  3913  .  +  0   \n",
       "4  Chr1  phytozomev12             CDS  3996  4276  .  +  2   \n",
       "\n",
       "                                                   8  \\\n",
       "0          ID=AT1G01010.Araport11.447;Name=AT1G01010   \n",
       "1  ID=AT1G01010.1.Araport11.447;Name=AT1G01010.1;...   \n",
       "2  ID=AT1G01010.1.Araport11.447.five_prime_UTR.1;...   \n",
       "3  ID=AT1G01010.1.Araport11.447.CDS.1;Parent=AT1G...   \n",
       "4  ID=AT1G01010.1.Araport11.447.CDS.2;Parent=AT1G...   \n",
       "\n",
       "                                                 seq  \n",
       "0  AAATTATTAGATATACCAAACCAGAGAAAACAAATACATAATCGGA...  \n",
       "1  AAATTATTAGATATACCAAACCAGAGAAAACAAATACATAATCGGA...  \n",
       "2  AAATTATTAGATATACCAAACCAGAGAAAACAAATACATAATCGGA...  \n",
       "3  ATGGAGGATCAAGTTGGGTTTGGGTTCCGTCCGAACGACGAGGAGC...  \n",
       "4  TCCAGTCAAAGTACAAATCGAGAGATGCTATGTGGTACTTCTTCTC...  "
      ]
     },
     "execution_count": 47,
     "metadata": {},
     "output_type": "execute_result"
    }
   ],
   "source": [
    "df_ld.head()"
   ]
  },
  {
   "cell_type": "code",
   "execution_count": 48,
   "metadata": {},
   "outputs": [
    {
     "data": {
      "text/html": [
       "<div>\n",
       "<style scoped>\n",
       "    .dataframe tbody tr th:only-of-type {\n",
       "        vertical-align: middle;\n",
       "    }\n",
       "\n",
       "    .dataframe tbody tr th {\n",
       "        vertical-align: top;\n",
       "    }\n",
       "\n",
       "    .dataframe thead th {\n",
       "        text-align: right;\n",
       "    }\n",
       "</style>\n",
       "<table border=\"1\" class=\"dataframe\">\n",
       "  <thead>\n",
       "    <tr style=\"text-align: right;\">\n",
       "      <th></th>\n",
       "      <th>0</th>\n",
       "      <th>1</th>\n",
       "      <th>2</th>\n",
       "      <th>3</th>\n",
       "      <th>4</th>\n",
       "      <th>5</th>\n",
       "      <th>6</th>\n",
       "      <th>7</th>\n",
       "      <th>8</th>\n",
       "      <th>seq</th>\n",
       "    </tr>\n",
       "  </thead>\n",
       "  <tbody>\n",
       "    <tr>\n",
       "      <th>3</th>\n",
       "      <td>Chr1</td>\n",
       "      <td>phytozomev12</td>\n",
       "      <td>CDS</td>\n",
       "      <td>3760</td>\n",
       "      <td>3913</td>\n",
       "      <td>.</td>\n",
       "      <td>+</td>\n",
       "      <td>0</td>\n",
       "      <td>ID=AT1G01010.1.Araport11.447.CDS.1;Parent=AT1G...</td>\n",
       "      <td>ATGGAGGATCAAGTTGGGTTTGGGTTCCGTCCGAACGACGAGGAGC...</td>\n",
       "    </tr>\n",
       "    <tr>\n",
       "      <th>4</th>\n",
       "      <td>Chr1</td>\n",
       "      <td>phytozomev12</td>\n",
       "      <td>CDS</td>\n",
       "      <td>3996</td>\n",
       "      <td>4276</td>\n",
       "      <td>.</td>\n",
       "      <td>+</td>\n",
       "      <td>2</td>\n",
       "      <td>ID=AT1G01010.1.Araport11.447.CDS.2;Parent=AT1G...</td>\n",
       "      <td>TCCAGTCAAAGTACAAATCGAGAGATGCTATGTGGTACTTCTTCTC...</td>\n",
       "    </tr>\n",
       "    <tr>\n",
       "      <th>5</th>\n",
       "      <td>Chr1</td>\n",
       "      <td>phytozomev12</td>\n",
       "      <td>CDS</td>\n",
       "      <td>4486</td>\n",
       "      <td>4605</td>\n",
       "      <td>.</td>\n",
       "      <td>+</td>\n",
       "      <td>0</td>\n",
       "      <td>ID=AT1G01010.1.Araport11.447.CDS.3;Parent=AT1G...</td>\n",
       "      <td>AGGACATATGTCATCTGCAGACTTGAGTACAAGGGTGATGATGCGG...</td>\n",
       "    </tr>\n",
       "    <tr>\n",
       "      <th>6</th>\n",
       "      <td>Chr1</td>\n",
       "      <td>phytozomev12</td>\n",
       "      <td>CDS</td>\n",
       "      <td>4706</td>\n",
       "      <td>5095</td>\n",
       "      <td>.</td>\n",
       "      <td>+</td>\n",
       "      <td>0</td>\n",
       "      <td>ID=AT1G01010.1.Araport11.447.CDS.4;Parent=AT1G...</td>\n",
       "      <td>GTCAACCAATCACGTCAACGAAATTCAGGATCTTACAACACTTACT...</td>\n",
       "    </tr>\n",
       "    <tr>\n",
       "      <th>7</th>\n",
       "      <td>Chr1</td>\n",
       "      <td>phytozomev12</td>\n",
       "      <td>CDS</td>\n",
       "      <td>5174</td>\n",
       "      <td>5326</td>\n",
       "      <td>.</td>\n",
       "      <td>+</td>\n",
       "      <td>0</td>\n",
       "      <td>ID=AT1G01010.1.Araport11.447.CDS.5;Parent=AT1G...</td>\n",
       "      <td>ATTTTCGAAGACACTTCGAGCTCCACTGATAGTGTTGGTAGTTCAG...</td>\n",
       "    </tr>\n",
       "  </tbody>\n",
       "</table>\n",
       "</div>"
      ],
      "text/plain": [
       "      0             1    2     3     4  5  6  7  \\\n",
       "3  Chr1  phytozomev12  CDS  3760  3913  .  +  0   \n",
       "4  Chr1  phytozomev12  CDS  3996  4276  .  +  2   \n",
       "5  Chr1  phytozomev12  CDS  4486  4605  .  +  0   \n",
       "6  Chr1  phytozomev12  CDS  4706  5095  .  +  0   \n",
       "7  Chr1  phytozomev12  CDS  5174  5326  .  +  0   \n",
       "\n",
       "                                                   8  \\\n",
       "3  ID=AT1G01010.1.Araport11.447.CDS.1;Parent=AT1G...   \n",
       "4  ID=AT1G01010.1.Araport11.447.CDS.2;Parent=AT1G...   \n",
       "5  ID=AT1G01010.1.Araport11.447.CDS.3;Parent=AT1G...   \n",
       "6  ID=AT1G01010.1.Araport11.447.CDS.4;Parent=AT1G...   \n",
       "7  ID=AT1G01010.1.Araport11.447.CDS.5;Parent=AT1G...   \n",
       "\n",
       "                                                 seq  \n",
       "3  ATGGAGGATCAAGTTGGGTTTGGGTTCCGTCCGAACGACGAGGAGC...  \n",
       "4  TCCAGTCAAAGTACAAATCGAGAGATGCTATGTGGTACTTCTTCTC...  \n",
       "5  AGGACATATGTCATCTGCAGACTTGAGTACAAGGGTGATGATGCGG...  \n",
       "6  GTCAACCAATCACGTCAACGAAATTCAGGATCTTACAACACTTACT...  \n",
       "7  ATTTTCGAAGACACTTCGAGCTCCACTGATAGTGTTGGTAGTTCAG...  "
      ]
     },
     "execution_count": 48,
     "metadata": {},
     "output_type": "execute_result"
    }
   ],
   "source": [
    "df_ld_cds.head()"
   ]
  },
  {
   "cell_type": "code",
   "execution_count": 49,
   "metadata": {},
   "outputs": [],
   "source": [
    "mi = df_ld_cds[6] == '-'"
   ]
  },
  {
   "cell_type": "code",
   "execution_count": 50,
   "metadata": {},
   "outputs": [],
   "source": [
    "df_ld_cds_minus = df_ld_cds[mi]"
   ]
  },
  {
   "cell_type": "code",
   "execution_count": 51,
   "metadata": {},
   "outputs": [
    {
     "data": {
      "text/html": [
       "<div>\n",
       "<style scoped>\n",
       "    .dataframe tbody tr th:only-of-type {\n",
       "        vertical-align: middle;\n",
       "    }\n",
       "\n",
       "    .dataframe tbody tr th {\n",
       "        vertical-align: top;\n",
       "    }\n",
       "\n",
       "    .dataframe thead th {\n",
       "        text-align: right;\n",
       "    }\n",
       "</style>\n",
       "<table border=\"1\" class=\"dataframe\">\n",
       "  <thead>\n",
       "    <tr style=\"text-align: right;\">\n",
       "      <th></th>\n",
       "      <th>0</th>\n",
       "      <th>1</th>\n",
       "      <th>2</th>\n",
       "      <th>3</th>\n",
       "      <th>4</th>\n",
       "      <th>5</th>\n",
       "      <th>6</th>\n",
       "      <th>7</th>\n",
       "      <th>8</th>\n",
       "      <th>seq</th>\n",
       "    </tr>\n",
       "  </thead>\n",
       "  <tbody>\n",
       "    <tr>\n",
       "      <th>12</th>\n",
       "      <td>Chr1</td>\n",
       "      <td>phytozomev12</td>\n",
       "      <td>CDS</td>\n",
       "      <td>8571</td>\n",
       "      <td>8666</td>\n",
       "      <td>.</td>\n",
       "      <td>-</td>\n",
       "      <td>0</td>\n",
       "      <td>ID=AT1G01020.1.Araport11.447.CDS.1;Parent=AT1G...</td>\n",
       "      <td>GCATTTCATGAGACGAATGTTACCCGGAGAGTATTGAATGAACAAT...</td>\n",
       "    </tr>\n",
       "    <tr>\n",
       "      <th>14</th>\n",
       "      <td>Chr1</td>\n",
       "      <td>phytozomev12</td>\n",
       "      <td>CDS</td>\n",
       "      <td>8417</td>\n",
       "      <td>8464</td>\n",
       "      <td>.</td>\n",
       "      <td>-</td>\n",
       "      <td>0</td>\n",
       "      <td>ID=AT1G01020.1.Araport11.447.CDS.2;Parent=AT1G...</td>\n",
       "      <td>CATGCGTTCACACTCGATGTACTCATCTGCTACTTCCTTGCAATTTCC</td>\n",
       "    </tr>\n",
       "    <tr>\n",
       "      <th>15</th>\n",
       "      <td>Chr1</td>\n",
       "      <td>phytozomev12</td>\n",
       "      <td>CDS</td>\n",
       "      <td>8236</td>\n",
       "      <td>8325</td>\n",
       "      <td>.</td>\n",
       "      <td>-</td>\n",
       "      <td>0</td>\n",
       "      <td>ID=AT1G01020.1.Araport11.447.CDS.3;Parent=AT1G...</td>\n",
       "      <td>CTGAATATTGACAGTTGCTGGATTAATTGCATTGTAGAGGACGTGT...</td>\n",
       "    </tr>\n",
       "    <tr>\n",
       "      <th>16</th>\n",
       "      <td>Chr1</td>\n",
       "      <td>phytozomev12</td>\n",
       "      <td>CDS</td>\n",
       "      <td>7942</td>\n",
       "      <td>7987</td>\n",
       "      <td>.</td>\n",
       "      <td>-</td>\n",
       "      <td>0</td>\n",
       "      <td>ID=AT1G01020.1.Araport11.447.CDS.4;Parent=AT1G...</td>\n",
       "      <td>AACAGTCTAGAAGAAGATAGGCGAAGACCAACTTCCACAACAGATG</td>\n",
       "    </tr>\n",
       "    <tr>\n",
       "      <th>17</th>\n",
       "      <td>Chr1</td>\n",
       "      <td>phytozomev12</td>\n",
       "      <td>CDS</td>\n",
       "      <td>7762</td>\n",
       "      <td>7835</td>\n",
       "      <td>.</td>\n",
       "      <td>-</td>\n",
       "      <td>2</td>\n",
       "      <td>ID=AT1G01020.1.Araport11.447.CDS.5;Parent=AT1G...</td>\n",
       "      <td>CTTTATAGATAGAAGAACAGGGCTATCAGAAAAGCTCGATTCTTCA...</td>\n",
       "    </tr>\n",
       "  </tbody>\n",
       "</table>\n",
       "</div>"
      ],
      "text/plain": [
       "       0             1    2     3     4  5  6  7  \\\n",
       "12  Chr1  phytozomev12  CDS  8571  8666  .  -  0   \n",
       "14  Chr1  phytozomev12  CDS  8417  8464  .  -  0   \n",
       "15  Chr1  phytozomev12  CDS  8236  8325  .  -  0   \n",
       "16  Chr1  phytozomev12  CDS  7942  7987  .  -  0   \n",
       "17  Chr1  phytozomev12  CDS  7762  7835  .  -  2   \n",
       "\n",
       "                                                    8  \\\n",
       "12  ID=AT1G01020.1.Araport11.447.CDS.1;Parent=AT1G...   \n",
       "14  ID=AT1G01020.1.Araport11.447.CDS.2;Parent=AT1G...   \n",
       "15  ID=AT1G01020.1.Araport11.447.CDS.3;Parent=AT1G...   \n",
       "16  ID=AT1G01020.1.Araport11.447.CDS.4;Parent=AT1G...   \n",
       "17  ID=AT1G01020.1.Araport11.447.CDS.5;Parent=AT1G...   \n",
       "\n",
       "                                                  seq  \n",
       "12  GCATTTCATGAGACGAATGTTACCCGGAGAGTATTGAATGAACAAT...  \n",
       "14   CATGCGTTCACACTCGATGTACTCATCTGCTACTTCCTTGCAATTTCC  \n",
       "15  CTGAATATTGACAGTTGCTGGATTAATTGCATTGTAGAGGACGTGT...  \n",
       "16     AACAGTCTAGAAGAAGATAGGCGAAGACCAACTTCCACAACAGATG  \n",
       "17  CTTTATAGATAGAAGAACAGGGCTATCAGAAAAGCTCGATTCTTCA...  "
      ]
     },
     "execution_count": 51,
     "metadata": {},
     "output_type": "execute_result"
    }
   ],
   "source": [
    "df_ld_cds_minus.head()"
   ]
  },
  {
   "cell_type": "markdown",
   "metadata": {},
   "source": [
    "* 하나의 gene에 대한 cds를 얻어낼 수 있도록 df_ld_cds_minus의 column 8에 있는 ID를 참조해 같은 ID끼리 df_ld_cds_plus의 column seq에 있는 sequence 모아 붙이기"
   ]
  },
  {
   "cell_type": "markdown",
   "metadata": {},
   "source": [
    "> df_ld_cds_minus에 ID라는 이름의 column을 만들고 각각의 ID만을 얻어 넣기"
   ]
  },
  {
   "cell_type": "code",
   "execution_count": 52,
   "metadata": {},
   "outputs": [
    {
     "name": "stderr",
     "output_type": "stream",
     "text": [
      "/usr/local/lib/python3.5/dist-packages/ipykernel_launcher.py:1: SettingWithCopyWarning: \n",
      "A value is trying to be set on a copy of a slice from a DataFrame.\n",
      "Try using .loc[row_indexer,col_indexer] = value instead\n",
      "\n",
      "See the caveats in the documentation: http://pandas.pydata.org/pandas-docs/stable/indexing.html#indexing-view-versus-copy\n",
      "  \"\"\"Entry point for launching an IPython kernel.\n"
     ]
    }
   ],
   "source": [
    "df_ld_cds_minus['ID'] = [x.split(';')[0].split('.')[0].split('=')[1] for x in df_ld_cds_minus[8]]"
   ]
  },
  {
   "cell_type": "code",
   "execution_count": 53,
   "metadata": {},
   "outputs": [
    {
     "data": {
      "text/html": [
       "<div>\n",
       "<style scoped>\n",
       "    .dataframe tbody tr th:only-of-type {\n",
       "        vertical-align: middle;\n",
       "    }\n",
       "\n",
       "    .dataframe tbody tr th {\n",
       "        vertical-align: top;\n",
       "    }\n",
       "\n",
       "    .dataframe thead th {\n",
       "        text-align: right;\n",
       "    }\n",
       "</style>\n",
       "<table border=\"1\" class=\"dataframe\">\n",
       "  <thead>\n",
       "    <tr style=\"text-align: right;\">\n",
       "      <th></th>\n",
       "      <th>0</th>\n",
       "      <th>1</th>\n",
       "      <th>2</th>\n",
       "      <th>3</th>\n",
       "      <th>4</th>\n",
       "      <th>5</th>\n",
       "      <th>6</th>\n",
       "      <th>7</th>\n",
       "      <th>8</th>\n",
       "      <th>seq</th>\n",
       "      <th>ID</th>\n",
       "    </tr>\n",
       "  </thead>\n",
       "  <tbody>\n",
       "    <tr>\n",
       "      <th>12</th>\n",
       "      <td>Chr1</td>\n",
       "      <td>phytozomev12</td>\n",
       "      <td>CDS</td>\n",
       "      <td>8571</td>\n",
       "      <td>8666</td>\n",
       "      <td>.</td>\n",
       "      <td>-</td>\n",
       "      <td>0</td>\n",
       "      <td>ID=AT1G01020.1.Araport11.447.CDS.1;Parent=AT1G...</td>\n",
       "      <td>GCATTTCATGAGACGAATGTTACCCGGAGAGTATTGAATGAACAAT...</td>\n",
       "      <td>AT1G01020</td>\n",
       "    </tr>\n",
       "    <tr>\n",
       "      <th>14</th>\n",
       "      <td>Chr1</td>\n",
       "      <td>phytozomev12</td>\n",
       "      <td>CDS</td>\n",
       "      <td>8417</td>\n",
       "      <td>8464</td>\n",
       "      <td>.</td>\n",
       "      <td>-</td>\n",
       "      <td>0</td>\n",
       "      <td>ID=AT1G01020.1.Araport11.447.CDS.2;Parent=AT1G...</td>\n",
       "      <td>CATGCGTTCACACTCGATGTACTCATCTGCTACTTCCTTGCAATTTCC</td>\n",
       "      <td>AT1G01020</td>\n",
       "    </tr>\n",
       "    <tr>\n",
       "      <th>15</th>\n",
       "      <td>Chr1</td>\n",
       "      <td>phytozomev12</td>\n",
       "      <td>CDS</td>\n",
       "      <td>8236</td>\n",
       "      <td>8325</td>\n",
       "      <td>.</td>\n",
       "      <td>-</td>\n",
       "      <td>0</td>\n",
       "      <td>ID=AT1G01020.1.Araport11.447.CDS.3;Parent=AT1G...</td>\n",
       "      <td>CTGAATATTGACAGTTGCTGGATTAATTGCATTGTAGAGGACGTGT...</td>\n",
       "      <td>AT1G01020</td>\n",
       "    </tr>\n",
       "    <tr>\n",
       "      <th>16</th>\n",
       "      <td>Chr1</td>\n",
       "      <td>phytozomev12</td>\n",
       "      <td>CDS</td>\n",
       "      <td>7942</td>\n",
       "      <td>7987</td>\n",
       "      <td>.</td>\n",
       "      <td>-</td>\n",
       "      <td>0</td>\n",
       "      <td>ID=AT1G01020.1.Araport11.447.CDS.4;Parent=AT1G...</td>\n",
       "      <td>AACAGTCTAGAAGAAGATAGGCGAAGACCAACTTCCACAACAGATG</td>\n",
       "      <td>AT1G01020</td>\n",
       "    </tr>\n",
       "    <tr>\n",
       "      <th>17</th>\n",
       "      <td>Chr1</td>\n",
       "      <td>phytozomev12</td>\n",
       "      <td>CDS</td>\n",
       "      <td>7762</td>\n",
       "      <td>7835</td>\n",
       "      <td>.</td>\n",
       "      <td>-</td>\n",
       "      <td>2</td>\n",
       "      <td>ID=AT1G01020.1.Araport11.447.CDS.5;Parent=AT1G...</td>\n",
       "      <td>CTTTATAGATAGAAGAACAGGGCTATCAGAAAAGCTCGATTCTTCA...</td>\n",
       "      <td>AT1G01020</td>\n",
       "    </tr>\n",
       "  </tbody>\n",
       "</table>\n",
       "</div>"
      ],
      "text/plain": [
       "       0             1    2     3     4  5  6  7  \\\n",
       "12  Chr1  phytozomev12  CDS  8571  8666  .  -  0   \n",
       "14  Chr1  phytozomev12  CDS  8417  8464  .  -  0   \n",
       "15  Chr1  phytozomev12  CDS  8236  8325  .  -  0   \n",
       "16  Chr1  phytozomev12  CDS  7942  7987  .  -  0   \n",
       "17  Chr1  phytozomev12  CDS  7762  7835  .  -  2   \n",
       "\n",
       "                                                    8  \\\n",
       "12  ID=AT1G01020.1.Araport11.447.CDS.1;Parent=AT1G...   \n",
       "14  ID=AT1G01020.1.Araport11.447.CDS.2;Parent=AT1G...   \n",
       "15  ID=AT1G01020.1.Araport11.447.CDS.3;Parent=AT1G...   \n",
       "16  ID=AT1G01020.1.Araport11.447.CDS.4;Parent=AT1G...   \n",
       "17  ID=AT1G01020.1.Araport11.447.CDS.5;Parent=AT1G...   \n",
       "\n",
       "                                                  seq         ID  \n",
       "12  GCATTTCATGAGACGAATGTTACCCGGAGAGTATTGAATGAACAAT...  AT1G01020  \n",
       "14   CATGCGTTCACACTCGATGTACTCATCTGCTACTTCCTTGCAATTTCC  AT1G01020  \n",
       "15  CTGAATATTGACAGTTGCTGGATTAATTGCATTGTAGAGGACGTGT...  AT1G01020  \n",
       "16     AACAGTCTAGAAGAAGATAGGCGAAGACCAACTTCCACAACAGATG  AT1G01020  \n",
       "17  CTTTATAGATAGAAGAACAGGGCTATCAGAAAAGCTCGATTCTTCA...  AT1G01020  "
      ]
     },
     "execution_count": 53,
     "metadata": {},
     "output_type": "execute_result"
    }
   ],
   "source": [
    "df_ld_cds_minus.head()"
   ]
  },
  {
   "cell_type": "markdown",
   "metadata": {},
   "source": [
    "**antisense는 reverse complementary를 고려해주어야 한다.**"
   ]
  },
  {
   "cell_type": "code",
   "execution_count": 42,
   "metadata": {},
   "outputs": [],
   "source": [
    "#dic하나 열어서 \n",
    "dicC = {'A':'T','G':'C','T':'A','C':'G'}"
   ]
  },
  {
   "cell_type": "code",
   "execution_count": 43,
   "metadata": {},
   "outputs": [
    {
     "data": {
      "text/plain": [
       "'T'"
      ]
     },
     "execution_count": 43,
     "metadata": {},
     "output_type": "execute_result"
    }
   ],
   "source": [
    "dicC['A']"
   ]
  },
  {
   "cell_type": "code",
   "execution_count": 44,
   "metadata": {},
   "outputs": [],
   "source": [
    "d = 'ATGC'"
   ]
  },
  {
   "cell_type": "code",
   "execution_count": 45,
   "metadata": {},
   "outputs": [
    {
     "name": "stdout",
     "output_type": "stream",
     "text": [
      "TACG\n"
     ]
    }
   ],
   "source": [
    "print(''.join([dicC[x] for x in d]))"
   ]
  },
  {
   "cell_type": "markdown",
   "metadata": {},
   "source": [
    "**antisense이므로, 각 가닥의 서열들을 뒤집어주어야 하는데, 염기서열을 seq이란 변수에 넣으면 seq[::-1]하면 뒤집어짐**"
   ]
  },
  {
   "cell_type": "code",
   "execution_count": 46,
   "metadata": {},
   "outputs": [
    {
     "name": "stdout",
     "output_type": "stream",
     "text": [
      "GCAT\n"
     ]
    }
   ],
   "source": [
    "print(''.join([dicC[x] for x in d][::-1]))"
   ]
  },
  {
   "cell_type": "markdown",
   "metadata": {},
   "source": [
    "* cds를 넣을 dictionary를 만들어, 각각의 ID와 그에 해당하는 sequence들을 antisense임을 고려하고 reverse complementary를 하여 이어붙이기"
   ]
  },
  {
   "cell_type": "code",
   "execution_count": 110,
   "metadata": {},
   "outputs": [],
   "source": [
    "for x in df_ld_cds_minus.values :\n",
    "    value = ''.join(dicC[xx] for xx in x[9][::-1])\n",
    "    try :\n",
    "        dic_cds[x[10]] += value\n",
    "    except KeyError :\n",
    "        dic_cds[x[10]] = value"
   ]
  },
  {
   "cell_type": "code",
   "execution_count": 111,
   "metadata": {},
   "outputs": [
    {
     "data": {
      "text/plain": [
       "'ATGGCGGCGAGTGAACACAGATGCGTGGGATGTGGTTTTAGGGTAAAGTCATTGTTCATTCAATACTCTCCGGGTAACATTCGTCTCATGAAATGCGGAAATTGCAAGGAAGTAGCAGATGAGTACATCGAGTGTGAACGCATGATTATTTTCATCGATTTAATCCTTCACAGACCAAAGGTATATAGACACGTCCTCTACAATGCAATTAATCCAGCAACTGTCAATATTCAGCATCTGTTGTGGAAGTTGGTCTTCGCCTATCTTCTTCTAGACTGTTATAGAAGCTTGCTACTGAGAAAAAGTGATGAAGAATCGAGCTTTTCTGATAGCCCTGTTCTTCTATCTATAAAGGTTCTGATTGGTGTCTTATCTGCAAACGCTGCATTTATCATCTCTTTTGCCATTGCGACTAAGGGTTTGCTAAATGAAGTTTCCAGAAGAAGAGAGATTATGTTGGGGATATTCATCTCTAGTTACTTCAAGATATTTCTGCTTGCGATGTTGGTATGGGAATTCCCAATGTCAGTGATTTTTTTTGTCGATATACTTCTCTTAACATCAAACTCCATGGCTCTTAAAGTGATGACTGAATCAACAATGACCAGATGCATAGCCGTATGCTTAATCGCGCACTTGATTAGATTCTTGGTGGGTCAGATTTTTGAGCCGACAATATTTTTGATACAAATTGGATCTCTGTTGCAATATATGTCTTATTTTTTCAGAATCGTATGAATGAGTACATCGAGTGTGAACGCATGGTCTGTTTTAATCACTTTCTTTCCCTTTTTGGGTGTTTCCCTATTTCTTTCCAATTTTGGTTTTTGGTTCTTTAATTGTTTTCTTTGGCAGATTATTTTCATCGATTTAATCCTTCACAGACCAAAGGTATATAGACACGTCCTCTACAATGCAATTAATCCAGCAACTGTCAATATTCAGCATCTGTTGTGGAAGTTGGTCTTCGCCTATCTTCTTCTAGACTGTTATAGAAGCTTGCTACTGAGAAAAAGTGATGAAGAATCGAGCTTTTCTGATAGCCCTGTTCTTCTATCTATAAAGGTTCTGATTGGTGTCTTATCTGCAAACGCTGCATTTATCATCTCTTTTGCCATTGCGACTAAGGGTTTGCTAAATGAAGTTTCCAGAAGAAGAGAGATTATGTTGGGGATATTCATCTCTAGTTACTTCAAGATATTTCTGCTTGCGATGTTGGTATGGGAATTCCCAATGTCAGTGATTTTTTTTGTCGATATACTTCTCTTAACATCAAACTCCATGGCTCTTAAAGTGATGACTGAATCAACAATGACCAGATGCATAGCCGTATGCTTAATCGCGCACTTGATTAGATTCTTGGTGGGTCAGATTTTTGAGCCGACAATATTTTTGATACAAATTGGATCTCTGTTGCAATATATGTCTTATTTTTTCAGAATCGTATGAATGAGTACATCGAGTGTGAACGCATGGTCTGTTTTAATCACTTTCTTTCCCTTTTTGGGTGTTTCCCTATTTCTTTCCAATTTTGGTTTTTGGTTCTTTAATTGTTTTCTTTGGCAGATTATTTTCATCGATTTAATCCTTCACAGACCAAAGGTATATAGACACGTCCTCTACAATGCAATTAATCCAGCAACTGTCAATATTCAGCATCTGTTGTGGAAGTTGGTCTTCGCCTATCTTCTTCTAGACTGTTATAGAAGCTTGCTACTGAGAAAAAGTGATGAAGAATCGAGCTTTTCTGATAGCCCTGTTCTTCTATCTATAAAGGTTCTGATTGGTGTCTTATCTGCAAACGCTGCATTTATCATCTCTTTTGCCATTGCGACTAAGGGTTTGCTAAATGAAGTTTCCAGAAGAAGAGAGATTATGTTGGGGATATTCATCTCTAGTTACTTCAAGATATTTCTGCTTGCGATGTTGGTATGGGAATTCCCAATGTCAGTGATTTTTTTTGTCGATATACTTCTCTTAACATCAAACTCCATGGCTCTTAAAGTGATGACTGAATCAACAATGACCAGATGCATAGCCGTATGCTTAATCGCGCACTTGATTAGATTCTTGGTGGGTCAGATTTTTGAGCCGACAATATTTTTGATACAAATTGGATCTCTGTTGCAATATATGTCTTATTTTTTCAGAATCGTATGAATGATTATTTTCATCGATTTAATCCTTCACAGACCAAAGGTATATAGACACGTCCTCTACAATGCAATTAATCCAGCAACTGTCAATATTCAGCATCTGTTGTGGAAGTTGGTCTTCGCCTATCTTCTTCTAGACTGTTATAGAAGCTTGCTACTGAGAAAAAGTGATGAAGAATCGAGCTTTTCTGATAGCCCTGTTCTTCTATCTATAAAGGTTCTGATTGGTGTCTTATCTGCAAACGCTGCATTTATCATCTCTTTTGCCATTGCGACTAAGGGTTTGCTAAATGAAGTTTCCAGAAGAAGAGAGATTATGTTGGGGATATTCATCTCTAGTTACTTCAAGATATTTCTGCTTGCGATGTTGGTATGGGAATTCCCAATGTCAGTGATTTTTTTTGTCGATATACTTCTCTTAACATCAAACTCCATGGCTCTTAAAGTGATGACTGAATCAACAATGACCAGATGCATAGCCGTATGCTTAATCGCGCACTTGATTAGATTCTTGGTGGGTCAGATTTTTGAGCCGACAATATTTTTGATACAAATTGGATCTCTGTTGCAATATATGTCTTATTTTTTCAGAATCGTATGAATGGCGGCGAGTGAACACAGATGCGTGGGATGTGGTTTTAGGGTAAAGTCATTGTTCATTCAATACTCTCCGGGTAACATTCGTCTCATGAAATGCGGAAATTGCAAGGAAGTAGCAGATGAGTACATCGAGTGTGAACGCATGATTATTTTCATCGATTTAATCCTTCACAGACCAAAGGTATATAGACACGTCCTCTACAATGCAATTAATCCAGCAACTGTCAATATTCAGCATCTGTTGTGGAAGTTGGTCTTCGCCTATCTTCTTCTAGACTGTTATAGAAGCTTGCTACTGAGAAAAAGTGATGAAGAATCGAGCTTTTCTGATAGCCCTGTTCTTCTATCTATAAAGGTTCTGATTGGTGTCTTATCTGCAAACGCTGCATTTATCATCTCTTTTGCCATTGCGACTAAGGGTTTGCTAAATGAAGTTTCCAGAAGAAGAGAGATTATGTTGGGGATATTCATCTCTAGTTACTTCAAGATATTTCTGCTTGCGATGTTGGTATGTTGTAGCTTTACCTCTCACTTAATTCCTAATATTGAAGTTCCAAACTTCTTAAGCATTCCATAAATGATTATTTTCATCGATTTAATCCTTCACAGACCAAAGGTATATAGACACGTCCTCTACAATGCAATTAATCCAGCAACTGTCAATATTCAGGTTCTGATTGGTGTCTTATCTGCAAACGCTGCATTTATCATCTCTTTTGCCATTGCGACTAAGGGTTTGCTAAATGAAGTTTCCAGAAGAAGAGAGATTATGTTGGGGATATTCATCTCTAGTTACTTCAAGATATTTCTGCTTGCGATGTTGGTATGTTGTAGCTTTACCTCTCACTTAATTCCTAATATTGAAGTTCCAAACTTCTTAAGCATTCCATAA'"
      ]
     },
     "execution_count": 111,
     "metadata": {},
     "output_type": "execute_result"
    }
   ],
   "source": [
    "dic_cds['AT1G01020']"
   ]
  },
  {
   "cell_type": "markdown",
   "metadata": {},
   "source": [
    "* df의 sense와 antisense를 고려해 cds만을 골라 알맞은 서열로 만들었다면, protein으로 바꿔보기"
   ]
  },
  {
   "cell_type": "code",
   "execution_count": 112,
   "metadata": {},
   "outputs": [],
   "source": [
    "gencode = {\n",
    "    'ATA':'I', 'ATC':'I', 'ATT':'I', 'ATG':'M',\n",
    "    'ACA':'T', 'ACC':'T', 'ACG':'T', 'ACT':'T',\n",
    "    'AAC':'N', 'AAT':'N', 'AAA':'K', 'AAG':'K',\n",
    "    'AGC':'S', 'AGT':'S', 'AGA':'R', 'AGG':'R',\n",
    "    'CTA':'L', 'CTC':'L', 'CTG':'L', 'CTT':'L',\n",
    "    'CCA':'P', 'CCC':'P', 'CCG':'P', 'CCT':'P',\n",
    "    'CAC':'H', 'CAT':'H', 'CAA':'Q', 'CAG':'Q',\n",
    "    'CGA':'R', 'CGC':'R', 'CGG':'R', 'CGT':'R',\n",
    "    'GTA':'V', 'GTC':'V', 'GTG':'V', 'GTT':'V',\n",
    "    'GCA':'A', 'GCC':'A', 'GCG':'A', 'GCT':'A',\n",
    "    'GAC':'D', 'GAT':'D', 'GAA':'E', 'GAG':'E',\n",
    "    'GGA':'G', 'GGC':'G', 'GGG':'G', 'GGT':'G',\n",
    "    'TCA':'S', 'TCC':'S', 'TCG':'S', 'TCT':'S',\n",
    "    'TTC':'F', 'TTT':'F', 'TTA':'L', 'TTG':'L',\n",
    "    'TAC':'Y', 'TAT':'Y', 'TAA':'*', 'TAG':'*',\n",
    "    'TGC':'C', 'TGT':'C', 'TGA':'*', 'TGG':'W',\n",
    "    'CMC':'P', 'CMC':'H', 'GYG':''}"
   ]
  },
  {
   "cell_type": "code",
   "execution_count": 118,
   "metadata": {},
   "outputs": [
    {
     "ename": "KeyError",
     "evalue": "'GCM'",
     "output_type": "error",
     "traceback": [
      "\u001b[0;31m---------------------------------------------------------------------------\u001b[0m",
      "\u001b[0;31mKeyError\u001b[0m                                  Traceback (most recent call last)",
      "\u001b[0;32m<ipython-input-118-d4e47f0cfd0a>\u001b[0m in \u001b[0;36m<module>\u001b[0;34m()\u001b[0m\n\u001b[1;32m      4\u001b[0m     \u001b[0mprotein\u001b[0m \u001b[0;34m=\u001b[0m \u001b[0;34m''\u001b[0m\u001b[0;34m\u001b[0m\u001b[0m\n\u001b[1;32m      5\u001b[0m     \u001b[0;32mfor\u001b[0m \u001b[0mx\u001b[0m \u001b[0;32min\u001b[0m \u001b[0mrange\u001b[0m\u001b[0;34m(\u001b[0m\u001b[0mint\u001b[0m\u001b[0;34m(\u001b[0m\u001b[0mlen\u001b[0m\u001b[0;34m(\u001b[0m\u001b[0mcds\u001b[0m\u001b[0;34m)\u001b[0m\u001b[0;34m/\u001b[0m\u001b[0;36m3\u001b[0m\u001b[0;34m)\u001b[0m\u001b[0;34m)\u001b[0m\u001b[0;34m:\u001b[0m\u001b[0;34m\u001b[0m\u001b[0m\n\u001b[0;32m----> 6\u001b[0;31m         \u001b[0mprotein\u001b[0m \u001b[0;34m+=\u001b[0m \u001b[0mgencode\u001b[0m\u001b[0;34m[\u001b[0m\u001b[0mcds\u001b[0m\u001b[0;34m[\u001b[0m\u001b[0;36m3\u001b[0m\u001b[0;34m*\u001b[0m\u001b[0mx\u001b[0m\u001b[0;34m:\u001b[0m\u001b[0;36m3\u001b[0m\u001b[0;34m*\u001b[0m\u001b[0mx\u001b[0m\u001b[0;34m+\u001b[0m\u001b[0;36m3\u001b[0m\u001b[0;34m]\u001b[0m\u001b[0;34m.\u001b[0m\u001b[0mupper\u001b[0m\u001b[0;34m(\u001b[0m\u001b[0;34m)\u001b[0m\u001b[0;34m]\u001b[0m\u001b[0;34m\u001b[0m\u001b[0m\n\u001b[0m\u001b[1;32m      7\u001b[0m     \u001b[0mdic_protein\u001b[0m\u001b[0;34m[\u001b[0m\u001b[0mkey\u001b[0m\u001b[0;34m]\u001b[0m \u001b[0;34m=\u001b[0m \u001b[0mprotein\u001b[0m\u001b[0;34m\u001b[0m\u001b[0m\n",
      "\u001b[0;31mKeyError\u001b[0m: 'GCM'"
     ]
    }
   ],
   "source": [
    "dic_protein = {}\n",
    "for key in dic_cds :\n",
    "    cds = dic_cds[key]\n",
    "    protein = ''\n",
    "    for x in range(int(len(cds)/3)):\n",
    "        protein += gencode[cds[3*x:3*x+3].upper()]\n",
    "    dic_protein[key] = protein"
   ]
  },
  {
   "cell_type": "markdown",
   "metadata": {},
   "source": [
    "*KeyError가 나게 된 이유는 sequence내에 genecode에 등록되지 않은 서열이 있기 때문이다. 하지만 이 서열의 genecode는 알 수 없으므로, N처리를 해서 표시하도록 해준다.*"
   ]
  },
  {
   "cell_type": "code",
   "execution_count": 116,
   "metadata": {},
   "outputs": [],
   "source": [
    "dic_protein = {}\n",
    "for key in dic_cds :\n",
    "    cds = dic_cds[key]\n",
    "    protein = ''\n",
    "    for x in range(int(len(cds)/3)):\n",
    "        try :\n",
    "            protein += gencode[cds[3*x:3*x+3].upper()]\n",
    "        except KeyError:\n",
    "            protein += 'N'\n",
    "    dic_protein[key] = protein"
   ]
  },
  {
   "cell_type": "code",
   "execution_count": 117,
   "metadata": {},
   "outputs": [
    {
     "data": {
      "text/plain": [
       "'MAASEHRCVGCGFRVKSLFIQYSPGNIRLMKCGNCKEVADEYIECERMIIFIDLILHRPKVYRHVLYNAINPATVNIQHLLWKLVFAYLLLDCYRSLLLRKSDEESSFSDSPVLLSIKVLIGVLSANAAFIISFAIATKGLLNEVSRRREIMLGIFISSYFKIFLLAMLVWEFPMSVIFFVDILLLTSNSMALKVMTESTMTRCIAVCLIAHLIRFLVGQIFEPTIFLIQIGSLLQYMSYFFRIV*MSTSSVNAWSVLITFFPFLGVSLFLSNFGFWFFNCFLWQIIFIDLILHRPKVYRHVLYNAINPATVNIQHLLWKLVFAYLLLDCYRSLLLRKSDEESSFSDSPVLLSIKVLIGVLSANAAFIISFAIATKGLLNEVSRRREIMLGIFISSYFKIFLLAMLVWEFPMSVIFFVDILLLTSNSMALKVMTESTMTRCIAVCLIAHLIRFLVGQIFEPTIFLIQIGSLLQYMSYFFRIV*MSTSSVNAWSVLITFFPFLGVSLFLSNFGFWFFNCFLWQIIFIDLILHRPKVYRHVLYNAINPATVNIQHLLWKLVFAYLLLDCYRSLLLRKSDEESSFSDSPVLLSIKVLIGVLSANAAFIISFAIATKGLLNEVSRRREIMLGIFISSYFKIFLLAMLVWEFPMSVIFFVDILLLTSNSMALKVMTESTMTRCIAVCLIAHLIRFLVGQIFEPTIFLIQIGSLLQYMSYFFRIV*MIIFIDLILHRPKVYRHVLYNAINPATVNIQHLLWKLVFAYLLLDCYRSLLLRKSDEESSFSDSPVLLSIKVLIGVLSANAAFIISFAIATKGLLNEVSRRREIMLGIFISSYFKIFLLAMLVWEFPMSVIFFVDILLLTSNSMALKVMTESTMTRCIAVCLIAHLIRFLVGQIFEPTIFLIQIGSLLQYMSYFFRIV*MAASEHRCVGCGFRVKSLFIQYSPGNIRLMKCGNCKEVADEYIECERMIIFIDLILHRPKVYRHVLYNAINPATVNIQHLLWKLVFAYLLLDCYRSLLLRKSDEESSFSDSPVLLSIKVLIGVLSANAAFIISFAIATKGLLNEVSRRREIMLGIFISSYFKIFLLAMLVCCSFTSHLIPNIEVPNFLSIP*MIIFIDLILHRPKVYRHVLYNAINPATVNIQVLIGVLSANAAFIISFAIATKGLLNEVSRRREIMLGIFISSYFKIFLLAMLVCCSFTSHLIPNIEVPNFLSIP*'"
      ]
     },
     "execution_count": 117,
     "metadata": {},
     "output_type": "execute_result"
    }
   ],
   "source": [
    "dic_protein['AT1G01020']"
   ]
  },
  {
   "cell_type": "markdown",
   "metadata": {},
   "source": [
    "----------------------------------------------------------------"
   ]
  }
 ],
 "metadata": {
  "kernelspec": {
   "display_name": "Python 3",
   "language": "python",
   "name": "python3"
  },
  "language_info": {
   "codemirror_mode": {
    "name": "ipython",
    "version": 3
   },
   "file_extension": ".py",
   "mimetype": "text/x-python",
   "name": "python",
   "nbconvert_exporter": "python",
   "pygments_lexer": "ipython3",
   "version": "3.5.2"
  }
 },
 "nbformat": 4,
 "nbformat_minor": 2
}
